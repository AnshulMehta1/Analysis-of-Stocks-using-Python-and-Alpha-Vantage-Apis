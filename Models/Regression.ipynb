{
  "nbformat": 4,
  "nbformat_minor": 0,
  "metadata": {
    "colab": {
      "name": "Untitled5.ipynb",
      "provenance": []
    },
    "kernelspec": {
      "name": "python3",
      "display_name": "Python 3"
    },
    "language_info": {
      "name": "python"
    }
  },
  "cells": [
    {
      "cell_type": "code",
      "metadata": {
        "id": "RN_rgnCXBxKj",
        "colab": {
          "base_uri": "https://localhost:8080/"
        },
        "outputId": "86eaf418-8a99-4741-a397-9398bb3bdb3e"
      },
      "source": [
        "from google.colab import drive\n",
        "drive.mount('/content/drive')"
      ],
      "execution_count": 1,
      "outputs": [
        {
          "output_type": "stream",
          "text": [
            "Mounted at /content/drive\n"
          ],
          "name": "stdout"
        }
      ]
    },
    {
      "cell_type": "code",
      "metadata": {
        "id": "mFML_klGZQcX"
      },
      "source": [
        "import pandas as pd\n",
        "import plotly.express as px\n",
        "from copy import copy\n",
        "from scipy import stats\n",
        "import matplotlib.pyplot as plt\n",
        "import numpy as np\n",
        "import plotly.figure_factory as ff\n",
        "from sklearn.linear_model import LinearRegression\n",
        "from sklearn.svm import SVR\n",
        "from sklearn.model_selection import train_test_split\n",
        "from sklearn.metrics import r2_score\n",
        "from tensorflow import keras"
      ],
      "execution_count": 2,
      "outputs": []
    },
    {
      "cell_type": "code",
      "metadata": {
        "colab": {
          "base_uri": "https://localhost:8080/",
          "height": 617
        },
        "id": "3GP0UFNRZV4m",
        "outputId": "bfed6363-8061-4761-d733-b928f50328d1"
      },
      "source": [
        "# Read stock prices data\n",
        "stock_price_df = pd.read_csv('/content/drive/MyDrive/DataSets/stocks.csv')\n",
        "stock_price_df"
      ],
      "execution_count": 4,
      "outputs": [
        {
          "output_type": "execute_result",
          "data": {
            "text/html": [
              "<div>\n",
              "<style scoped>\n",
              "    .dataframe tbody tr th:only-of-type {\n",
              "        vertical-align: middle;\n",
              "    }\n",
              "\n",
              "    .dataframe tbody tr th {\n",
              "        vertical-align: top;\n",
              "    }\n",
              "\n",
              "    .dataframe thead th {\n",
              "        text-align: right;\n",
              "    }\n",
              "</style>\n",
              "<table border=\"1\" class=\"dataframe\">\n",
              "  <thead>\n",
              "    <tr style=\"text-align: right;\">\n",
              "      <th></th>\n",
              "      <th>Date</th>\n",
              "      <th>AAPL</th>\n",
              "      <th>BA</th>\n",
              "      <th>T</th>\n",
              "      <th>MGM</th>\n",
              "      <th>AMZN</th>\n",
              "      <th>IBM</th>\n",
              "      <th>TSLA</th>\n",
              "      <th>GOOG</th>\n",
              "      <th>sp500</th>\n",
              "    </tr>\n",
              "  </thead>\n",
              "  <tbody>\n",
              "    <tr>\n",
              "      <th>0</th>\n",
              "      <td>2012-01-12</td>\n",
              "      <td>60.198570</td>\n",
              "      <td>75.510002</td>\n",
              "      <td>30.120001</td>\n",
              "      <td>12.130000</td>\n",
              "      <td>175.929993</td>\n",
              "      <td>180.550003</td>\n",
              "      <td>28.250000</td>\n",
              "      <td>313.644379</td>\n",
              "      <td>1295.500000</td>\n",
              "    </tr>\n",
              "    <tr>\n",
              "      <th>1</th>\n",
              "      <td>2012-01-13</td>\n",
              "      <td>59.972858</td>\n",
              "      <td>74.599998</td>\n",
              "      <td>30.070000</td>\n",
              "      <td>12.350000</td>\n",
              "      <td>178.419998</td>\n",
              "      <td>179.160004</td>\n",
              "      <td>22.790001</td>\n",
              "      <td>311.328064</td>\n",
              "      <td>1289.089966</td>\n",
              "    </tr>\n",
              "    <tr>\n",
              "      <th>2</th>\n",
              "      <td>2012-01-17</td>\n",
              "      <td>60.671429</td>\n",
              "      <td>75.239998</td>\n",
              "      <td>30.250000</td>\n",
              "      <td>12.250000</td>\n",
              "      <td>181.660004</td>\n",
              "      <td>180.000000</td>\n",
              "      <td>26.600000</td>\n",
              "      <td>313.116364</td>\n",
              "      <td>1293.670044</td>\n",
              "    </tr>\n",
              "    <tr>\n",
              "      <th>3</th>\n",
              "      <td>2012-01-18</td>\n",
              "      <td>61.301430</td>\n",
              "      <td>75.059998</td>\n",
              "      <td>30.330000</td>\n",
              "      <td>12.730000</td>\n",
              "      <td>189.440002</td>\n",
              "      <td>181.070007</td>\n",
              "      <td>26.809999</td>\n",
              "      <td>315.273285</td>\n",
              "      <td>1308.040039</td>\n",
              "    </tr>\n",
              "    <tr>\n",
              "      <th>4</th>\n",
              "      <td>2012-01-19</td>\n",
              "      <td>61.107143</td>\n",
              "      <td>75.559998</td>\n",
              "      <td>30.420000</td>\n",
              "      <td>12.800000</td>\n",
              "      <td>194.449997</td>\n",
              "      <td>180.520004</td>\n",
              "      <td>26.760000</td>\n",
              "      <td>318.590851</td>\n",
              "      <td>1314.500000</td>\n",
              "    </tr>\n",
              "    <tr>\n",
              "      <th>...</th>\n",
              "      <td>...</td>\n",
              "      <td>...</td>\n",
              "      <td>...</td>\n",
              "      <td>...</td>\n",
              "      <td>...</td>\n",
              "      <td>...</td>\n",
              "      <td>...</td>\n",
              "      <td>...</td>\n",
              "      <td>...</td>\n",
              "      <td>...</td>\n",
              "    </tr>\n",
              "    <tr>\n",
              "      <th>2154</th>\n",
              "      <td>2020-08-05</td>\n",
              "      <td>440.250000</td>\n",
              "      <td>174.279999</td>\n",
              "      <td>29.850000</td>\n",
              "      <td>16.719999</td>\n",
              "      <td>3205.030029</td>\n",
              "      <td>125.449997</td>\n",
              "      <td>1485.020020</td>\n",
              "      <td>1473.609985</td>\n",
              "      <td>3327.770020</td>\n",
              "    </tr>\n",
              "    <tr>\n",
              "      <th>2155</th>\n",
              "      <td>2020-08-06</td>\n",
              "      <td>455.609985</td>\n",
              "      <td>172.199997</td>\n",
              "      <td>29.840000</td>\n",
              "      <td>18.459999</td>\n",
              "      <td>3225.000000</td>\n",
              "      <td>126.120003</td>\n",
              "      <td>1489.579956</td>\n",
              "      <td>1500.099976</td>\n",
              "      <td>3349.159912</td>\n",
              "    </tr>\n",
              "    <tr>\n",
              "      <th>2156</th>\n",
              "      <td>2020-08-07</td>\n",
              "      <td>444.450012</td>\n",
              "      <td>170.020004</td>\n",
              "      <td>30.020000</td>\n",
              "      <td>19.030001</td>\n",
              "      <td>3167.459961</td>\n",
              "      <td>124.959999</td>\n",
              "      <td>1452.709961</td>\n",
              "      <td>1494.489990</td>\n",
              "      <td>3351.280029</td>\n",
              "    </tr>\n",
              "    <tr>\n",
              "      <th>2157</th>\n",
              "      <td>2020-08-10</td>\n",
              "      <td>450.910004</td>\n",
              "      <td>179.410004</td>\n",
              "      <td>30.200001</td>\n",
              "      <td>21.650000</td>\n",
              "      <td>3148.159912</td>\n",
              "      <td>127.110001</td>\n",
              "      <td>1418.569946</td>\n",
              "      <td>1496.099976</td>\n",
              "      <td>3360.469971</td>\n",
              "    </tr>\n",
              "    <tr>\n",
              "      <th>2158</th>\n",
              "      <td>2020-08-11</td>\n",
              "      <td>437.500000</td>\n",
              "      <td>180.130005</td>\n",
              "      <td>30.200001</td>\n",
              "      <td>21.500000</td>\n",
              "      <td>3080.669922</td>\n",
              "      <td>126.750000</td>\n",
              "      <td>1374.390015</td>\n",
              "      <td>1480.319946</td>\n",
              "      <td>3333.689941</td>\n",
              "    </tr>\n",
              "  </tbody>\n",
              "</table>\n",
              "<p>2159 rows × 10 columns</p>\n",
              "</div>"
            ],
            "text/plain": [
              "            Date        AAPL          BA  ...         TSLA         GOOG        sp500\n",
              "0     2012-01-12   60.198570   75.510002  ...    28.250000   313.644379  1295.500000\n",
              "1     2012-01-13   59.972858   74.599998  ...    22.790001   311.328064  1289.089966\n",
              "2     2012-01-17   60.671429   75.239998  ...    26.600000   313.116364  1293.670044\n",
              "3     2012-01-18   61.301430   75.059998  ...    26.809999   315.273285  1308.040039\n",
              "4     2012-01-19   61.107143   75.559998  ...    26.760000   318.590851  1314.500000\n",
              "...          ...         ...         ...  ...          ...          ...          ...\n",
              "2154  2020-08-05  440.250000  174.279999  ...  1485.020020  1473.609985  3327.770020\n",
              "2155  2020-08-06  455.609985  172.199997  ...  1489.579956  1500.099976  3349.159912\n",
              "2156  2020-08-07  444.450012  170.020004  ...  1452.709961  1494.489990  3351.280029\n",
              "2157  2020-08-10  450.910004  179.410004  ...  1418.569946  1496.099976  3360.469971\n",
              "2158  2020-08-11  437.500000  180.130005  ...  1374.390015  1480.319946  3333.689941\n",
              "\n",
              "[2159 rows x 10 columns]"
            ]
          },
          "metadata": {
            "tags": []
          },
          "execution_count": 4
        }
      ]
    },
    {
      "cell_type": "code",
      "metadata": {
        "colab": {
          "base_uri": "https://localhost:8080/",
          "height": 423
        },
        "id": "if6n-vA_ZlyA",
        "outputId": "ec037f02-c003-45a9-c0e7-cf10c4193cc8"
      },
      "source": [
        "# Read the stocks volume data\n",
        "stock_vol_df = pd.read_csv('/content/drive/MyDrive/DataSets/stock_volume.csv')\n",
        "stock_vol_df"
      ],
      "execution_count": 5,
      "outputs": [
        {
          "output_type": "execute_result",
          "data": {
            "text/html": [
              "<div>\n",
              "<style scoped>\n",
              "    .dataframe tbody tr th:only-of-type {\n",
              "        vertical-align: middle;\n",
              "    }\n",
              "\n",
              "    .dataframe tbody tr th {\n",
              "        vertical-align: top;\n",
              "    }\n",
              "\n",
              "    .dataframe thead th {\n",
              "        text-align: right;\n",
              "    }\n",
              "</style>\n",
              "<table border=\"1\" class=\"dataframe\">\n",
              "  <thead>\n",
              "    <tr style=\"text-align: right;\">\n",
              "      <th></th>\n",
              "      <th>Date</th>\n",
              "      <th>AAPL</th>\n",
              "      <th>BA</th>\n",
              "      <th>T</th>\n",
              "      <th>MGM</th>\n",
              "      <th>AMZN</th>\n",
              "      <th>IBM</th>\n",
              "      <th>TSLA</th>\n",
              "      <th>GOOG</th>\n",
              "      <th>sp500</th>\n",
              "    </tr>\n",
              "  </thead>\n",
              "  <tbody>\n",
              "    <tr>\n",
              "      <th>0</th>\n",
              "      <td>2012-01-12</td>\n",
              "      <td>53146800</td>\n",
              "      <td>3934500</td>\n",
              "      <td>26511100</td>\n",
              "      <td>17891100</td>\n",
              "      <td>5385800</td>\n",
              "      <td>6881000</td>\n",
              "      <td>729300</td>\n",
              "      <td>3764400</td>\n",
              "      <td>4019890000</td>\n",
              "    </tr>\n",
              "    <tr>\n",
              "      <th>1</th>\n",
              "      <td>2012-01-13</td>\n",
              "      <td>56505400</td>\n",
              "      <td>4641100</td>\n",
              "      <td>22096800</td>\n",
              "      <td>16621800</td>\n",
              "      <td>4753500</td>\n",
              "      <td>5279200</td>\n",
              "      <td>5500400</td>\n",
              "      <td>4631800</td>\n",
              "      <td>3692370000</td>\n",
              "    </tr>\n",
              "    <tr>\n",
              "      <th>2</th>\n",
              "      <td>2012-01-17</td>\n",
              "      <td>60724300</td>\n",
              "      <td>3700100</td>\n",
              "      <td>23500200</td>\n",
              "      <td>15480800</td>\n",
              "      <td>5644500</td>\n",
              "      <td>6003400</td>\n",
              "      <td>4651600</td>\n",
              "      <td>3832800</td>\n",
              "      <td>4010490000</td>\n",
              "    </tr>\n",
              "    <tr>\n",
              "      <th>3</th>\n",
              "      <td>2012-01-18</td>\n",
              "      <td>69197800</td>\n",
              "      <td>4189500</td>\n",
              "      <td>22015000</td>\n",
              "      <td>18387600</td>\n",
              "      <td>7473500</td>\n",
              "      <td>4600600</td>\n",
              "      <td>1260200</td>\n",
              "      <td>5544000</td>\n",
              "      <td>4096160000</td>\n",
              "    </tr>\n",
              "    <tr>\n",
              "      <th>4</th>\n",
              "      <td>2012-01-19</td>\n",
              "      <td>65434600</td>\n",
              "      <td>5397300</td>\n",
              "      <td>25524000</td>\n",
              "      <td>14022900</td>\n",
              "      <td>7096000</td>\n",
              "      <td>8567200</td>\n",
              "      <td>1246300</td>\n",
              "      <td>12657800</td>\n",
              "      <td>4465890000</td>\n",
              "    </tr>\n",
              "    <tr>\n",
              "      <th>...</th>\n",
              "      <td>...</td>\n",
              "      <td>...</td>\n",
              "      <td>...</td>\n",
              "      <td>...</td>\n",
              "      <td>...</td>\n",
              "      <td>...</td>\n",
              "      <td>...</td>\n",
              "      <td>...</td>\n",
              "      <td>...</td>\n",
              "      <td>...</td>\n",
              "    </tr>\n",
              "    <tr>\n",
              "      <th>2154</th>\n",
              "      <td>2020-08-05</td>\n",
              "      <td>30498000</td>\n",
              "      <td>46551000</td>\n",
              "      <td>22991700</td>\n",
              "      <td>18914200</td>\n",
              "      <td>3930000</td>\n",
              "      <td>3675400</td>\n",
              "      <td>4978000</td>\n",
              "      <td>1979500</td>\n",
              "      <td>4732220000</td>\n",
              "    </tr>\n",
              "    <tr>\n",
              "      <th>2155</th>\n",
              "      <td>2020-08-06</td>\n",
              "      <td>50607200</td>\n",
              "      <td>32921600</td>\n",
              "      <td>21908700</td>\n",
              "      <td>35867700</td>\n",
              "      <td>3940600</td>\n",
              "      <td>3417100</td>\n",
              "      <td>5992300</td>\n",
              "      <td>1995400</td>\n",
              "      <td>4267490000</td>\n",
              "    </tr>\n",
              "    <tr>\n",
              "      <th>2156</th>\n",
              "      <td>2020-08-07</td>\n",
              "      <td>49453300</td>\n",
              "      <td>19301600</td>\n",
              "      <td>30398500</td>\n",
              "      <td>34530300</td>\n",
              "      <td>3929600</td>\n",
              "      <td>3651000</td>\n",
              "      <td>8883500</td>\n",
              "      <td>1576600</td>\n",
              "      <td>4104860000</td>\n",
              "    </tr>\n",
              "    <tr>\n",
              "      <th>2157</th>\n",
              "      <td>2020-08-10</td>\n",
              "      <td>53100900</td>\n",
              "      <td>35857700</td>\n",
              "      <td>35514400</td>\n",
              "      <td>71219700</td>\n",
              "      <td>3167300</td>\n",
              "      <td>3968300</td>\n",
              "      <td>7522300</td>\n",
              "      <td>1289300</td>\n",
              "      <td>4318570000</td>\n",
              "    </tr>\n",
              "    <tr>\n",
              "      <th>2158</th>\n",
              "      <td>2020-08-11</td>\n",
              "      <td>46871100</td>\n",
              "      <td>60966900</td>\n",
              "      <td>30978300</td>\n",
              "      <td>34357900</td>\n",
              "      <td>3706600</td>\n",
              "      <td>4998500</td>\n",
              "      <td>8356000</td>\n",
              "      <td>1452000</td>\n",
              "      <td>5087650000</td>\n",
              "    </tr>\n",
              "  </tbody>\n",
              "</table>\n",
              "<p>2159 rows × 10 columns</p>\n",
              "</div>"
            ],
            "text/plain": [
              "            Date      AAPL        BA  ...     TSLA      GOOG       sp500\n",
              "0     2012-01-12  53146800   3934500  ...   729300   3764400  4019890000\n",
              "1     2012-01-13  56505400   4641100  ...  5500400   4631800  3692370000\n",
              "2     2012-01-17  60724300   3700100  ...  4651600   3832800  4010490000\n",
              "3     2012-01-18  69197800   4189500  ...  1260200   5544000  4096160000\n",
              "4     2012-01-19  65434600   5397300  ...  1246300  12657800  4465890000\n",
              "...          ...       ...       ...  ...      ...       ...         ...\n",
              "2154  2020-08-05  30498000  46551000  ...  4978000   1979500  4732220000\n",
              "2155  2020-08-06  50607200  32921600  ...  5992300   1995400  4267490000\n",
              "2156  2020-08-07  49453300  19301600  ...  8883500   1576600  4104860000\n",
              "2157  2020-08-10  53100900  35857700  ...  7522300   1289300  4318570000\n",
              "2158  2020-08-11  46871100  60966900  ...  8356000   1452000  5087650000\n",
              "\n",
              "[2159 rows x 10 columns]"
            ]
          },
          "metadata": {
            "tags": []
          },
          "execution_count": 5
        }
      ]
    },
    {
      "cell_type": "code",
      "metadata": {
        "colab": {
          "base_uri": "https://localhost:8080/",
          "height": 617
        },
        "id": "9CqGzhe7ZyG5",
        "outputId": "976fd577-8133-4889-b9df-f990d26f4fe7"
      },
      "source": [
        "# Sort the data based on Date\n",
        "stock_price_df = stock_price_df.sort_values(by = ['Date'])\n",
        "stock_price_df"
      ],
      "execution_count": 6,
      "outputs": [
        {
          "output_type": "execute_result",
          "data": {
            "text/html": [
              "<div>\n",
              "<style scoped>\n",
              "    .dataframe tbody tr th:only-of-type {\n",
              "        vertical-align: middle;\n",
              "    }\n",
              "\n",
              "    .dataframe tbody tr th {\n",
              "        vertical-align: top;\n",
              "    }\n",
              "\n",
              "    .dataframe thead th {\n",
              "        text-align: right;\n",
              "    }\n",
              "</style>\n",
              "<table border=\"1\" class=\"dataframe\">\n",
              "  <thead>\n",
              "    <tr style=\"text-align: right;\">\n",
              "      <th></th>\n",
              "      <th>Date</th>\n",
              "      <th>AAPL</th>\n",
              "      <th>BA</th>\n",
              "      <th>T</th>\n",
              "      <th>MGM</th>\n",
              "      <th>AMZN</th>\n",
              "      <th>IBM</th>\n",
              "      <th>TSLA</th>\n",
              "      <th>GOOG</th>\n",
              "      <th>sp500</th>\n",
              "    </tr>\n",
              "  </thead>\n",
              "  <tbody>\n",
              "    <tr>\n",
              "      <th>0</th>\n",
              "      <td>2012-01-12</td>\n",
              "      <td>60.198570</td>\n",
              "      <td>75.510002</td>\n",
              "      <td>30.120001</td>\n",
              "      <td>12.130000</td>\n",
              "      <td>175.929993</td>\n",
              "      <td>180.550003</td>\n",
              "      <td>28.250000</td>\n",
              "      <td>313.644379</td>\n",
              "      <td>1295.500000</td>\n",
              "    </tr>\n",
              "    <tr>\n",
              "      <th>1</th>\n",
              "      <td>2012-01-13</td>\n",
              "      <td>59.972858</td>\n",
              "      <td>74.599998</td>\n",
              "      <td>30.070000</td>\n",
              "      <td>12.350000</td>\n",
              "      <td>178.419998</td>\n",
              "      <td>179.160004</td>\n",
              "      <td>22.790001</td>\n",
              "      <td>311.328064</td>\n",
              "      <td>1289.089966</td>\n",
              "    </tr>\n",
              "    <tr>\n",
              "      <th>2</th>\n",
              "      <td>2012-01-17</td>\n",
              "      <td>60.671429</td>\n",
              "      <td>75.239998</td>\n",
              "      <td>30.250000</td>\n",
              "      <td>12.250000</td>\n",
              "      <td>181.660004</td>\n",
              "      <td>180.000000</td>\n",
              "      <td>26.600000</td>\n",
              "      <td>313.116364</td>\n",
              "      <td>1293.670044</td>\n",
              "    </tr>\n",
              "    <tr>\n",
              "      <th>3</th>\n",
              "      <td>2012-01-18</td>\n",
              "      <td>61.301430</td>\n",
              "      <td>75.059998</td>\n",
              "      <td>30.330000</td>\n",
              "      <td>12.730000</td>\n",
              "      <td>189.440002</td>\n",
              "      <td>181.070007</td>\n",
              "      <td>26.809999</td>\n",
              "      <td>315.273285</td>\n",
              "      <td>1308.040039</td>\n",
              "    </tr>\n",
              "    <tr>\n",
              "      <th>4</th>\n",
              "      <td>2012-01-19</td>\n",
              "      <td>61.107143</td>\n",
              "      <td>75.559998</td>\n",
              "      <td>30.420000</td>\n",
              "      <td>12.800000</td>\n",
              "      <td>194.449997</td>\n",
              "      <td>180.520004</td>\n",
              "      <td>26.760000</td>\n",
              "      <td>318.590851</td>\n",
              "      <td>1314.500000</td>\n",
              "    </tr>\n",
              "    <tr>\n",
              "      <th>...</th>\n",
              "      <td>...</td>\n",
              "      <td>...</td>\n",
              "      <td>...</td>\n",
              "      <td>...</td>\n",
              "      <td>...</td>\n",
              "      <td>...</td>\n",
              "      <td>...</td>\n",
              "      <td>...</td>\n",
              "      <td>...</td>\n",
              "      <td>...</td>\n",
              "    </tr>\n",
              "    <tr>\n",
              "      <th>2154</th>\n",
              "      <td>2020-08-05</td>\n",
              "      <td>440.250000</td>\n",
              "      <td>174.279999</td>\n",
              "      <td>29.850000</td>\n",
              "      <td>16.719999</td>\n",
              "      <td>3205.030029</td>\n",
              "      <td>125.449997</td>\n",
              "      <td>1485.020020</td>\n",
              "      <td>1473.609985</td>\n",
              "      <td>3327.770020</td>\n",
              "    </tr>\n",
              "    <tr>\n",
              "      <th>2155</th>\n",
              "      <td>2020-08-06</td>\n",
              "      <td>455.609985</td>\n",
              "      <td>172.199997</td>\n",
              "      <td>29.840000</td>\n",
              "      <td>18.459999</td>\n",
              "      <td>3225.000000</td>\n",
              "      <td>126.120003</td>\n",
              "      <td>1489.579956</td>\n",
              "      <td>1500.099976</td>\n",
              "      <td>3349.159912</td>\n",
              "    </tr>\n",
              "    <tr>\n",
              "      <th>2156</th>\n",
              "      <td>2020-08-07</td>\n",
              "      <td>444.450012</td>\n",
              "      <td>170.020004</td>\n",
              "      <td>30.020000</td>\n",
              "      <td>19.030001</td>\n",
              "      <td>3167.459961</td>\n",
              "      <td>124.959999</td>\n",
              "      <td>1452.709961</td>\n",
              "      <td>1494.489990</td>\n",
              "      <td>3351.280029</td>\n",
              "    </tr>\n",
              "    <tr>\n",
              "      <th>2157</th>\n",
              "      <td>2020-08-10</td>\n",
              "      <td>450.910004</td>\n",
              "      <td>179.410004</td>\n",
              "      <td>30.200001</td>\n",
              "      <td>21.650000</td>\n",
              "      <td>3148.159912</td>\n",
              "      <td>127.110001</td>\n",
              "      <td>1418.569946</td>\n",
              "      <td>1496.099976</td>\n",
              "      <td>3360.469971</td>\n",
              "    </tr>\n",
              "    <tr>\n",
              "      <th>2158</th>\n",
              "      <td>2020-08-11</td>\n",
              "      <td>437.500000</td>\n",
              "      <td>180.130005</td>\n",
              "      <td>30.200001</td>\n",
              "      <td>21.500000</td>\n",
              "      <td>3080.669922</td>\n",
              "      <td>126.750000</td>\n",
              "      <td>1374.390015</td>\n",
              "      <td>1480.319946</td>\n",
              "      <td>3333.689941</td>\n",
              "    </tr>\n",
              "  </tbody>\n",
              "</table>\n",
              "<p>2159 rows × 10 columns</p>\n",
              "</div>"
            ],
            "text/plain": [
              "            Date        AAPL          BA  ...         TSLA         GOOG        sp500\n",
              "0     2012-01-12   60.198570   75.510002  ...    28.250000   313.644379  1295.500000\n",
              "1     2012-01-13   59.972858   74.599998  ...    22.790001   311.328064  1289.089966\n",
              "2     2012-01-17   60.671429   75.239998  ...    26.600000   313.116364  1293.670044\n",
              "3     2012-01-18   61.301430   75.059998  ...    26.809999   315.273285  1308.040039\n",
              "4     2012-01-19   61.107143   75.559998  ...    26.760000   318.590851  1314.500000\n",
              "...          ...         ...         ...  ...          ...          ...          ...\n",
              "2154  2020-08-05  440.250000  174.279999  ...  1485.020020  1473.609985  3327.770020\n",
              "2155  2020-08-06  455.609985  172.199997  ...  1489.579956  1500.099976  3349.159912\n",
              "2156  2020-08-07  444.450012  170.020004  ...  1452.709961  1494.489990  3351.280029\n",
              "2157  2020-08-10  450.910004  179.410004  ...  1418.569946  1496.099976  3360.469971\n",
              "2158  2020-08-11  437.500000  180.130005  ...  1374.390015  1480.319946  3333.689941\n",
              "\n",
              "[2159 rows x 10 columns]"
            ]
          },
          "metadata": {
            "tags": []
          },
          "execution_count": 6
        }
      ]
    },
    {
      "cell_type": "code",
      "metadata": {
        "colab": {
          "base_uri": "https://localhost:8080/",
          "height": 423
        },
        "id": "cl2PeUb3Z12J",
        "outputId": "36c50af5-b419-40d2-a706-bf6db0b89a2e"
      },
      "source": [
        "# Sort the data based on Date\n",
        "stock_vol_df = stock_vol_df.sort_values(by = ['Date'])\n",
        "stock_vol_df"
      ],
      "execution_count": 7,
      "outputs": [
        {
          "output_type": "execute_result",
          "data": {
            "text/html": [
              "<div>\n",
              "<style scoped>\n",
              "    .dataframe tbody tr th:only-of-type {\n",
              "        vertical-align: middle;\n",
              "    }\n",
              "\n",
              "    .dataframe tbody tr th {\n",
              "        vertical-align: top;\n",
              "    }\n",
              "\n",
              "    .dataframe thead th {\n",
              "        text-align: right;\n",
              "    }\n",
              "</style>\n",
              "<table border=\"1\" class=\"dataframe\">\n",
              "  <thead>\n",
              "    <tr style=\"text-align: right;\">\n",
              "      <th></th>\n",
              "      <th>Date</th>\n",
              "      <th>AAPL</th>\n",
              "      <th>BA</th>\n",
              "      <th>T</th>\n",
              "      <th>MGM</th>\n",
              "      <th>AMZN</th>\n",
              "      <th>IBM</th>\n",
              "      <th>TSLA</th>\n",
              "      <th>GOOG</th>\n",
              "      <th>sp500</th>\n",
              "    </tr>\n",
              "  </thead>\n",
              "  <tbody>\n",
              "    <tr>\n",
              "      <th>0</th>\n",
              "      <td>2012-01-12</td>\n",
              "      <td>53146800</td>\n",
              "      <td>3934500</td>\n",
              "      <td>26511100</td>\n",
              "      <td>17891100</td>\n",
              "      <td>5385800</td>\n",
              "      <td>6881000</td>\n",
              "      <td>729300</td>\n",
              "      <td>3764400</td>\n",
              "      <td>4019890000</td>\n",
              "    </tr>\n",
              "    <tr>\n",
              "      <th>1</th>\n",
              "      <td>2012-01-13</td>\n",
              "      <td>56505400</td>\n",
              "      <td>4641100</td>\n",
              "      <td>22096800</td>\n",
              "      <td>16621800</td>\n",
              "      <td>4753500</td>\n",
              "      <td>5279200</td>\n",
              "      <td>5500400</td>\n",
              "      <td>4631800</td>\n",
              "      <td>3692370000</td>\n",
              "    </tr>\n",
              "    <tr>\n",
              "      <th>2</th>\n",
              "      <td>2012-01-17</td>\n",
              "      <td>60724300</td>\n",
              "      <td>3700100</td>\n",
              "      <td>23500200</td>\n",
              "      <td>15480800</td>\n",
              "      <td>5644500</td>\n",
              "      <td>6003400</td>\n",
              "      <td>4651600</td>\n",
              "      <td>3832800</td>\n",
              "      <td>4010490000</td>\n",
              "    </tr>\n",
              "    <tr>\n",
              "      <th>3</th>\n",
              "      <td>2012-01-18</td>\n",
              "      <td>69197800</td>\n",
              "      <td>4189500</td>\n",
              "      <td>22015000</td>\n",
              "      <td>18387600</td>\n",
              "      <td>7473500</td>\n",
              "      <td>4600600</td>\n",
              "      <td>1260200</td>\n",
              "      <td>5544000</td>\n",
              "      <td>4096160000</td>\n",
              "    </tr>\n",
              "    <tr>\n",
              "      <th>4</th>\n",
              "      <td>2012-01-19</td>\n",
              "      <td>65434600</td>\n",
              "      <td>5397300</td>\n",
              "      <td>25524000</td>\n",
              "      <td>14022900</td>\n",
              "      <td>7096000</td>\n",
              "      <td>8567200</td>\n",
              "      <td>1246300</td>\n",
              "      <td>12657800</td>\n",
              "      <td>4465890000</td>\n",
              "    </tr>\n",
              "    <tr>\n",
              "      <th>...</th>\n",
              "      <td>...</td>\n",
              "      <td>...</td>\n",
              "      <td>...</td>\n",
              "      <td>...</td>\n",
              "      <td>...</td>\n",
              "      <td>...</td>\n",
              "      <td>...</td>\n",
              "      <td>...</td>\n",
              "      <td>...</td>\n",
              "      <td>...</td>\n",
              "    </tr>\n",
              "    <tr>\n",
              "      <th>2154</th>\n",
              "      <td>2020-08-05</td>\n",
              "      <td>30498000</td>\n",
              "      <td>46551000</td>\n",
              "      <td>22991700</td>\n",
              "      <td>18914200</td>\n",
              "      <td>3930000</td>\n",
              "      <td>3675400</td>\n",
              "      <td>4978000</td>\n",
              "      <td>1979500</td>\n",
              "      <td>4732220000</td>\n",
              "    </tr>\n",
              "    <tr>\n",
              "      <th>2155</th>\n",
              "      <td>2020-08-06</td>\n",
              "      <td>50607200</td>\n",
              "      <td>32921600</td>\n",
              "      <td>21908700</td>\n",
              "      <td>35867700</td>\n",
              "      <td>3940600</td>\n",
              "      <td>3417100</td>\n",
              "      <td>5992300</td>\n",
              "      <td>1995400</td>\n",
              "      <td>4267490000</td>\n",
              "    </tr>\n",
              "    <tr>\n",
              "      <th>2156</th>\n",
              "      <td>2020-08-07</td>\n",
              "      <td>49453300</td>\n",
              "      <td>19301600</td>\n",
              "      <td>30398500</td>\n",
              "      <td>34530300</td>\n",
              "      <td>3929600</td>\n",
              "      <td>3651000</td>\n",
              "      <td>8883500</td>\n",
              "      <td>1576600</td>\n",
              "      <td>4104860000</td>\n",
              "    </tr>\n",
              "    <tr>\n",
              "      <th>2157</th>\n",
              "      <td>2020-08-10</td>\n",
              "      <td>53100900</td>\n",
              "      <td>35857700</td>\n",
              "      <td>35514400</td>\n",
              "      <td>71219700</td>\n",
              "      <td>3167300</td>\n",
              "      <td>3968300</td>\n",
              "      <td>7522300</td>\n",
              "      <td>1289300</td>\n",
              "      <td>4318570000</td>\n",
              "    </tr>\n",
              "    <tr>\n",
              "      <th>2158</th>\n",
              "      <td>2020-08-11</td>\n",
              "      <td>46871100</td>\n",
              "      <td>60966900</td>\n",
              "      <td>30978300</td>\n",
              "      <td>34357900</td>\n",
              "      <td>3706600</td>\n",
              "      <td>4998500</td>\n",
              "      <td>8356000</td>\n",
              "      <td>1452000</td>\n",
              "      <td>5087650000</td>\n",
              "    </tr>\n",
              "  </tbody>\n",
              "</table>\n",
              "<p>2159 rows × 10 columns</p>\n",
              "</div>"
            ],
            "text/plain": [
              "            Date      AAPL        BA  ...     TSLA      GOOG       sp500\n",
              "0     2012-01-12  53146800   3934500  ...   729300   3764400  4019890000\n",
              "1     2012-01-13  56505400   4641100  ...  5500400   4631800  3692370000\n",
              "2     2012-01-17  60724300   3700100  ...  4651600   3832800  4010490000\n",
              "3     2012-01-18  69197800   4189500  ...  1260200   5544000  4096160000\n",
              "4     2012-01-19  65434600   5397300  ...  1246300  12657800  4465890000\n",
              "...          ...       ...       ...  ...      ...       ...         ...\n",
              "2154  2020-08-05  30498000  46551000  ...  4978000   1979500  4732220000\n",
              "2155  2020-08-06  50607200  32921600  ...  5992300   1995400  4267490000\n",
              "2156  2020-08-07  49453300  19301600  ...  8883500   1576600  4104860000\n",
              "2157  2020-08-10  53100900  35857700  ...  7522300   1289300  4318570000\n",
              "2158  2020-08-11  46871100  60966900  ...  8356000   1452000  5087650000\n",
              "\n",
              "[2159 rows x 10 columns]"
            ]
          },
          "metadata": {
            "tags": []
          },
          "execution_count": 7
        }
      ]
    },
    {
      "cell_type": "code",
      "metadata": {
        "colab": {
          "base_uri": "https://localhost:8080/"
        },
        "id": "1xSSvZDxZ4-Y",
        "outputId": "8c13df47-3a50-4dd9-a905-abd49f7d8a45"
      },
      "source": [
        "stock_price_df.isnull().sum()"
      ],
      "execution_count": 8,
      "outputs": [
        {
          "output_type": "execute_result",
          "data": {
            "text/plain": [
              "Date     0\n",
              "AAPL     0\n",
              "BA       0\n",
              "T        0\n",
              "MGM      0\n",
              "AMZN     0\n",
              "IBM      0\n",
              "TSLA     0\n",
              "GOOG     0\n",
              "sp500    0\n",
              "dtype: int64"
            ]
          },
          "metadata": {
            "tags": []
          },
          "execution_count": 8
        }
      ]
    },
    {
      "cell_type": "code",
      "metadata": {
        "colab": {
          "base_uri": "https://localhost:8080/"
        },
        "id": "SernWIvEZ8yf",
        "outputId": "b567dfa9-de75-4831-aeaa-50d437f1b8dc"
      },
      "source": [
        "# Checking Null\n",
        "stock_vol_df.isnull().sum()"
      ],
      "execution_count": 9,
      "outputs": [
        {
          "output_type": "execute_result",
          "data": {
            "text/plain": [
              "Date     0\n",
              "AAPL     0\n",
              "BA       0\n",
              "T        0\n",
              "MGM      0\n",
              "AMZN     0\n",
              "IBM      0\n",
              "TSLA     0\n",
              "GOOG     0\n",
              "sp500    0\n",
              "dtype: int64"
            ]
          },
          "metadata": {
            "tags": []
          },
          "execution_count": 9
        }
      ]
    },
    {
      "cell_type": "code",
      "metadata": {
        "colab": {
          "base_uri": "https://localhost:8080/"
        },
        "id": "25uSUD87aBas",
        "outputId": "39498357-5709-4dae-98c1-f8af9bfe2f22"
      },
      "source": [
        "# Info on Data-Types and cols \n",
        "stock_price_df.info()"
      ],
      "execution_count": 10,
      "outputs": [
        {
          "output_type": "stream",
          "text": [
            "<class 'pandas.core.frame.DataFrame'>\n",
            "Int64Index: 2159 entries, 0 to 2158\n",
            "Data columns (total 10 columns):\n",
            " #   Column  Non-Null Count  Dtype  \n",
            "---  ------  --------------  -----  \n",
            " 0   Date    2159 non-null   object \n",
            " 1   AAPL    2159 non-null   float64\n",
            " 2   BA      2159 non-null   float64\n",
            " 3   T       2159 non-null   float64\n",
            " 4   MGM     2159 non-null   float64\n",
            " 5   AMZN    2159 non-null   float64\n",
            " 6   IBM     2159 non-null   float64\n",
            " 7   TSLA    2159 non-null   float64\n",
            " 8   GOOG    2159 non-null   float64\n",
            " 9   sp500   2159 non-null   float64\n",
            "dtypes: float64(9), object(1)\n",
            "memory usage: 185.5+ KB\n"
          ],
          "name": "stdout"
        }
      ]
    },
    {
      "cell_type": "code",
      "metadata": {
        "colab": {
          "base_uri": "https://localhost:8080/"
        },
        "id": "iVJZYTAuaIli",
        "outputId": "2ba34319-15f7-4ad4-e455-a883284249c2"
      },
      "source": [
        "# Info on Data-Types and cols \n",
        "stock_vol_df.info()"
      ],
      "execution_count": 11,
      "outputs": [
        {
          "output_type": "stream",
          "text": [
            "<class 'pandas.core.frame.DataFrame'>\n",
            "Int64Index: 2159 entries, 0 to 2158\n",
            "Data columns (total 10 columns):\n",
            " #   Column  Non-Null Count  Dtype \n",
            "---  ------  --------------  ----- \n",
            " 0   Date    2159 non-null   object\n",
            " 1   AAPL    2159 non-null   int64 \n",
            " 2   BA      2159 non-null   int64 \n",
            " 3   T       2159 non-null   int64 \n",
            " 4   MGM     2159 non-null   int64 \n",
            " 5   AMZN    2159 non-null   int64 \n",
            " 6   IBM     2159 non-null   int64 \n",
            " 7   TSLA    2159 non-null   int64 \n",
            " 8   GOOG    2159 non-null   int64 \n",
            " 9   sp500   2159 non-null   int64 \n",
            "dtypes: int64(9), object(1)\n",
            "memory usage: 185.5+ KB\n"
          ],
          "name": "stdout"
        }
      ]
    },
    {
      "cell_type": "code",
      "metadata": {
        "colab": {
          "base_uri": "https://localhost:8080/",
          "height": 320
        },
        "id": "nQZub-TAaN4M",
        "outputId": "ffc892f3-8969-481c-e2a0-9606790da7d8"
      },
      "source": [
        "#  Descriptive Statistics\n",
        "stock_vol_df.describe()"
      ],
      "execution_count": 13,
      "outputs": [
        {
          "output_type": "execute_result",
          "data": {
            "text/html": [
              "<div>\n",
              "<style scoped>\n",
              "    .dataframe tbody tr th:only-of-type {\n",
              "        vertical-align: middle;\n",
              "    }\n",
              "\n",
              "    .dataframe tbody tr th {\n",
              "        vertical-align: top;\n",
              "    }\n",
              "\n",
              "    .dataframe thead th {\n",
              "        text-align: right;\n",
              "    }\n",
              "</style>\n",
              "<table border=\"1\" class=\"dataframe\">\n",
              "  <thead>\n",
              "    <tr style=\"text-align: right;\">\n",
              "      <th></th>\n",
              "      <th>AAPL</th>\n",
              "      <th>BA</th>\n",
              "      <th>T</th>\n",
              "      <th>MGM</th>\n",
              "      <th>AMZN</th>\n",
              "      <th>IBM</th>\n",
              "      <th>TSLA</th>\n",
              "      <th>GOOG</th>\n",
              "      <th>sp500</th>\n",
              "    </tr>\n",
              "  </thead>\n",
              "  <tbody>\n",
              "    <tr>\n",
              "      <th>count</th>\n",
              "      <td>2.159000e+03</td>\n",
              "      <td>2.159000e+03</td>\n",
              "      <td>2.159000e+03</td>\n",
              "      <td>2.159000e+03</td>\n",
              "      <td>2.159000e+03</td>\n",
              "      <td>2.159000e+03</td>\n",
              "      <td>2.159000e+03</td>\n",
              "      <td>2.159000e+03</td>\n",
              "      <td>2.159000e+03</td>\n",
              "    </tr>\n",
              "    <tr>\n",
              "      <th>mean</th>\n",
              "      <td>5.820332e+07</td>\n",
              "      <td>6.419916e+06</td>\n",
              "      <td>2.832131e+07</td>\n",
              "      <td>9.845582e+06</td>\n",
              "      <td>4.102673e+06</td>\n",
              "      <td>4.453090e+06</td>\n",
              "      <td>7.001302e+06</td>\n",
              "      <td>2.498238e+06</td>\n",
              "      <td>3.680732e+09</td>\n",
              "    </tr>\n",
              "    <tr>\n",
              "      <th>std</th>\n",
              "      <td>4.568141e+07</td>\n",
              "      <td>9.711873e+06</td>\n",
              "      <td>1.428911e+07</td>\n",
              "      <td>7.295753e+06</td>\n",
              "      <td>2.290722e+06</td>\n",
              "      <td>2.462811e+06</td>\n",
              "      <td>5.781208e+06</td>\n",
              "      <td>1.928407e+06</td>\n",
              "      <td>8.622717e+08</td>\n",
              "    </tr>\n",
              "    <tr>\n",
              "      <th>min</th>\n",
              "      <td>1.136200e+07</td>\n",
              "      <td>7.889000e+05</td>\n",
              "      <td>6.862400e+06</td>\n",
              "      <td>9.507000e+05</td>\n",
              "      <td>8.813000e+05</td>\n",
              "      <td>1.193000e+06</td>\n",
              "      <td>3.649000e+05</td>\n",
              "      <td>7.900000e+03</td>\n",
              "      <td>1.248960e+09</td>\n",
              "    </tr>\n",
              "    <tr>\n",
              "      <th>25%</th>\n",
              "      <td>2.769930e+07</td>\n",
              "      <td>3.031850e+06</td>\n",
              "      <td>2.002150e+07</td>\n",
              "      <td>5.796450e+06</td>\n",
              "      <td>2.675700e+06</td>\n",
              "      <td>3.111250e+06</td>\n",
              "      <td>3.433450e+06</td>\n",
              "      <td>1.325400e+06</td>\n",
              "      <td>3.211890e+09</td>\n",
              "    </tr>\n",
              "    <tr>\n",
              "      <th>50%</th>\n",
              "      <td>4.209420e+07</td>\n",
              "      <td>3.991000e+06</td>\n",
              "      <td>2.485930e+07</td>\n",
              "      <td>7.899800e+06</td>\n",
              "      <td>3.494800e+06</td>\n",
              "      <td>3.825000e+06</td>\n",
              "      <td>5.581100e+06</td>\n",
              "      <td>1.813900e+06</td>\n",
              "      <td>3.526890e+09</td>\n",
              "    </tr>\n",
              "    <tr>\n",
              "      <th>75%</th>\n",
              "      <td>7.182480e+07</td>\n",
              "      <td>5.325900e+06</td>\n",
              "      <td>3.210565e+07</td>\n",
              "      <td>1.104055e+07</td>\n",
              "      <td>4.768150e+06</td>\n",
              "      <td>4.937300e+06</td>\n",
              "      <td>8.619550e+06</td>\n",
              "      <td>3.245350e+06</td>\n",
              "      <td>3.933290e+09</td>\n",
              "    </tr>\n",
              "    <tr>\n",
              "      <th>max</th>\n",
              "      <td>3.765300e+08</td>\n",
              "      <td>1.032128e+08</td>\n",
              "      <td>1.950827e+08</td>\n",
              "      <td>9.009820e+07</td>\n",
              "      <td>2.385610e+07</td>\n",
              "      <td>3.049020e+07</td>\n",
              "      <td>6.093880e+07</td>\n",
              "      <td>2.497790e+07</td>\n",
              "      <td>9.044690e+09</td>\n",
              "    </tr>\n",
              "  </tbody>\n",
              "</table>\n",
              "</div>"
            ],
            "text/plain": [
              "               AAPL            BA  ...          GOOG         sp500\n",
              "count  2.159000e+03  2.159000e+03  ...  2.159000e+03  2.159000e+03\n",
              "mean   5.820332e+07  6.419916e+06  ...  2.498238e+06  3.680732e+09\n",
              "std    4.568141e+07  9.711873e+06  ...  1.928407e+06  8.622717e+08\n",
              "min    1.136200e+07  7.889000e+05  ...  7.900000e+03  1.248960e+09\n",
              "25%    2.769930e+07  3.031850e+06  ...  1.325400e+06  3.211890e+09\n",
              "50%    4.209420e+07  3.991000e+06  ...  1.813900e+06  3.526890e+09\n",
              "75%    7.182480e+07  5.325900e+06  ...  3.245350e+06  3.933290e+09\n",
              "max    3.765300e+08  1.032128e+08  ...  2.497790e+07  9.044690e+09\n",
              "\n",
              "[8 rows x 9 columns]"
            ]
          },
          "metadata": {
            "tags": []
          },
          "execution_count": 13
        }
      ]
    },
    {
      "cell_type": "code",
      "metadata": {
        "id": "x_-_FIqHaUam"
      },
      "source": [
        "# EDA \n",
        "\n",
        "# Function to normalize stock prices based on their initial price\n",
        "def normalize(df):\n",
        "  x = df.copy()\n",
        "  for i in x.columns[1:]:\n",
        "    x[i] = x[i]/x[i][0]\n",
        "  return x"
      ],
      "execution_count": 14,
      "outputs": []
    },
    {
      "cell_type": "code",
      "metadata": {
        "id": "UC661kgdfNjT"
      },
      "source": [
        "#  Model Training and Evaluation of different models\n",
        "#  Function to concatenate the date, stock price, and volume in one dataframe\n",
        "def individual_stock(price_df, vol_df, name):\n",
        "    return pd.DataFrame({'Date': price_df['Date'], 'Close': price_df[name], 'Volume': vol_df[name]})"
      ],
      "execution_count": 16,
      "outputs": []
    },
    {
      "cell_type": "code",
      "metadata": {
        "id": "DMXnvZPDfrLp"
      },
      "source": [
        "# Function to return the input/output (target) data for AI/ML Model\n",
        "# Note that our goal is to predict the future stock price \n",
        "# Target stock price today will be tomorrow's price \n",
        "def trading_window(data):\n",
        "  \n",
        "  # 1 day window \n",
        "  n = 1\n",
        "\n",
        "  # Create a column containing the prices for the next 1 days\n",
        "  data['Target'] = data[['Close']].shift(-n)\n",
        "  \n",
        "  # return the new dataset \n",
        "  return data"
      ],
      "execution_count": 17,
      "outputs": []
    },
    {
      "cell_type": "code",
      "metadata": {
        "colab": {
          "base_uri": "https://localhost:8080/",
          "height": 423
        },
        "id": "xe6QPRXpfurV",
        "outputId": "fd4592e3-cad5-4b0b-f605-e3a3d9657600"
      },
      "source": [
        "price_volume_df = individual_stock(stock_price_df, stock_vol_df, 'AAPL')\n",
        "price_volume_df"
      ],
      "execution_count": 19,
      "outputs": [
        {
          "output_type": "execute_result",
          "data": {
            "text/html": [
              "<div>\n",
              "<style scoped>\n",
              "    .dataframe tbody tr th:only-of-type {\n",
              "        vertical-align: middle;\n",
              "    }\n",
              "\n",
              "    .dataframe tbody tr th {\n",
              "        vertical-align: top;\n",
              "    }\n",
              "\n",
              "    .dataframe thead th {\n",
              "        text-align: right;\n",
              "    }\n",
              "</style>\n",
              "<table border=\"1\" class=\"dataframe\">\n",
              "  <thead>\n",
              "    <tr style=\"text-align: right;\">\n",
              "      <th></th>\n",
              "      <th>Date</th>\n",
              "      <th>Close</th>\n",
              "      <th>Volume</th>\n",
              "    </tr>\n",
              "  </thead>\n",
              "  <tbody>\n",
              "    <tr>\n",
              "      <th>0</th>\n",
              "      <td>2012-01-12</td>\n",
              "      <td>60.198570</td>\n",
              "      <td>53146800</td>\n",
              "    </tr>\n",
              "    <tr>\n",
              "      <th>1</th>\n",
              "      <td>2012-01-13</td>\n",
              "      <td>59.972858</td>\n",
              "      <td>56505400</td>\n",
              "    </tr>\n",
              "    <tr>\n",
              "      <th>2</th>\n",
              "      <td>2012-01-17</td>\n",
              "      <td>60.671429</td>\n",
              "      <td>60724300</td>\n",
              "    </tr>\n",
              "    <tr>\n",
              "      <th>3</th>\n",
              "      <td>2012-01-18</td>\n",
              "      <td>61.301430</td>\n",
              "      <td>69197800</td>\n",
              "    </tr>\n",
              "    <tr>\n",
              "      <th>4</th>\n",
              "      <td>2012-01-19</td>\n",
              "      <td>61.107143</td>\n",
              "      <td>65434600</td>\n",
              "    </tr>\n",
              "    <tr>\n",
              "      <th>...</th>\n",
              "      <td>...</td>\n",
              "      <td>...</td>\n",
              "      <td>...</td>\n",
              "    </tr>\n",
              "    <tr>\n",
              "      <th>2154</th>\n",
              "      <td>2020-08-05</td>\n",
              "      <td>440.250000</td>\n",
              "      <td>30498000</td>\n",
              "    </tr>\n",
              "    <tr>\n",
              "      <th>2155</th>\n",
              "      <td>2020-08-06</td>\n",
              "      <td>455.609985</td>\n",
              "      <td>50607200</td>\n",
              "    </tr>\n",
              "    <tr>\n",
              "      <th>2156</th>\n",
              "      <td>2020-08-07</td>\n",
              "      <td>444.450012</td>\n",
              "      <td>49453300</td>\n",
              "    </tr>\n",
              "    <tr>\n",
              "      <th>2157</th>\n",
              "      <td>2020-08-10</td>\n",
              "      <td>450.910004</td>\n",
              "      <td>53100900</td>\n",
              "    </tr>\n",
              "    <tr>\n",
              "      <th>2158</th>\n",
              "      <td>2020-08-11</td>\n",
              "      <td>437.500000</td>\n",
              "      <td>46871100</td>\n",
              "    </tr>\n",
              "  </tbody>\n",
              "</table>\n",
              "<p>2159 rows × 3 columns</p>\n",
              "</div>"
            ],
            "text/plain": [
              "            Date       Close    Volume\n",
              "0     2012-01-12   60.198570  53146800\n",
              "1     2012-01-13   59.972858  56505400\n",
              "2     2012-01-17   60.671429  60724300\n",
              "3     2012-01-18   61.301430  69197800\n",
              "4     2012-01-19   61.107143  65434600\n",
              "...          ...         ...       ...\n",
              "2154  2020-08-05  440.250000  30498000\n",
              "2155  2020-08-06  455.609985  50607200\n",
              "2156  2020-08-07  444.450012  49453300\n",
              "2157  2020-08-10  450.910004  53100900\n",
              "2158  2020-08-11  437.500000  46871100\n",
              "\n",
              "[2159 rows x 3 columns]"
            ]
          },
          "metadata": {
            "tags": []
          },
          "execution_count": 19
        }
      ]
    },
    {
      "cell_type": "code",
      "metadata": {
        "colab": {
          "base_uri": "https://localhost:8080/",
          "height": 423
        },
        "id": "DVyo8GL0fyyW",
        "outputId": "c0c6bc32-906c-4a1d-a150-3b7ea6b55b89"
      },
      "source": [
        "price_volume_target_df = trading_window(price_volume_df)\n",
        "price_volume_target_df"
      ],
      "execution_count": 20,
      "outputs": [
        {
          "output_type": "execute_result",
          "data": {
            "text/html": [
              "<div>\n",
              "<style scoped>\n",
              "    .dataframe tbody tr th:only-of-type {\n",
              "        vertical-align: middle;\n",
              "    }\n",
              "\n",
              "    .dataframe tbody tr th {\n",
              "        vertical-align: top;\n",
              "    }\n",
              "\n",
              "    .dataframe thead th {\n",
              "        text-align: right;\n",
              "    }\n",
              "</style>\n",
              "<table border=\"1\" class=\"dataframe\">\n",
              "  <thead>\n",
              "    <tr style=\"text-align: right;\">\n",
              "      <th></th>\n",
              "      <th>Date</th>\n",
              "      <th>Close</th>\n",
              "      <th>Volume</th>\n",
              "      <th>Target</th>\n",
              "    </tr>\n",
              "  </thead>\n",
              "  <tbody>\n",
              "    <tr>\n",
              "      <th>0</th>\n",
              "      <td>2012-01-12</td>\n",
              "      <td>60.198570</td>\n",
              "      <td>53146800</td>\n",
              "      <td>59.972858</td>\n",
              "    </tr>\n",
              "    <tr>\n",
              "      <th>1</th>\n",
              "      <td>2012-01-13</td>\n",
              "      <td>59.972858</td>\n",
              "      <td>56505400</td>\n",
              "      <td>60.671429</td>\n",
              "    </tr>\n",
              "    <tr>\n",
              "      <th>2</th>\n",
              "      <td>2012-01-17</td>\n",
              "      <td>60.671429</td>\n",
              "      <td>60724300</td>\n",
              "      <td>61.301430</td>\n",
              "    </tr>\n",
              "    <tr>\n",
              "      <th>3</th>\n",
              "      <td>2012-01-18</td>\n",
              "      <td>61.301430</td>\n",
              "      <td>69197800</td>\n",
              "      <td>61.107143</td>\n",
              "    </tr>\n",
              "    <tr>\n",
              "      <th>4</th>\n",
              "      <td>2012-01-19</td>\n",
              "      <td>61.107143</td>\n",
              "      <td>65434600</td>\n",
              "      <td>60.042858</td>\n",
              "    </tr>\n",
              "    <tr>\n",
              "      <th>...</th>\n",
              "      <td>...</td>\n",
              "      <td>...</td>\n",
              "      <td>...</td>\n",
              "      <td>...</td>\n",
              "    </tr>\n",
              "    <tr>\n",
              "      <th>2154</th>\n",
              "      <td>2020-08-05</td>\n",
              "      <td>440.250000</td>\n",
              "      <td>30498000</td>\n",
              "      <td>455.609985</td>\n",
              "    </tr>\n",
              "    <tr>\n",
              "      <th>2155</th>\n",
              "      <td>2020-08-06</td>\n",
              "      <td>455.609985</td>\n",
              "      <td>50607200</td>\n",
              "      <td>444.450012</td>\n",
              "    </tr>\n",
              "    <tr>\n",
              "      <th>2156</th>\n",
              "      <td>2020-08-07</td>\n",
              "      <td>444.450012</td>\n",
              "      <td>49453300</td>\n",
              "      <td>450.910004</td>\n",
              "    </tr>\n",
              "    <tr>\n",
              "      <th>2157</th>\n",
              "      <td>2020-08-10</td>\n",
              "      <td>450.910004</td>\n",
              "      <td>53100900</td>\n",
              "      <td>437.500000</td>\n",
              "    </tr>\n",
              "    <tr>\n",
              "      <th>2158</th>\n",
              "      <td>2020-08-11</td>\n",
              "      <td>437.500000</td>\n",
              "      <td>46871100</td>\n",
              "      <td>NaN</td>\n",
              "    </tr>\n",
              "  </tbody>\n",
              "</table>\n",
              "<p>2159 rows × 4 columns</p>\n",
              "</div>"
            ],
            "text/plain": [
              "            Date       Close    Volume      Target\n",
              "0     2012-01-12   60.198570  53146800   59.972858\n",
              "1     2012-01-13   59.972858  56505400   60.671429\n",
              "2     2012-01-17   60.671429  60724300   61.301430\n",
              "3     2012-01-18   61.301430  69197800   61.107143\n",
              "4     2012-01-19   61.107143  65434600   60.042858\n",
              "...          ...         ...       ...         ...\n",
              "2154  2020-08-05  440.250000  30498000  455.609985\n",
              "2155  2020-08-06  455.609985  50607200  444.450012\n",
              "2156  2020-08-07  444.450012  49453300  450.910004\n",
              "2157  2020-08-10  450.910004  53100900  437.500000\n",
              "2158  2020-08-11  437.500000  46871100         NaN\n",
              "\n",
              "[2159 rows x 4 columns]"
            ]
          },
          "metadata": {
            "tags": []
          },
          "execution_count": 20
        }
      ]
    },
    {
      "cell_type": "code",
      "metadata": {
        "colab": {
          "base_uri": "https://localhost:8080/",
          "height": 423
        },
        "id": "noCyDOORgEJG",
        "outputId": "c6ca7450-72d1-4bf1-ade9-2cc96c2f2c64"
      },
      "source": [
        "# Removing the Null Value \n",
        "price_volume_target_df = price_volume_target_df[:-1]\n",
        "price_volume_target_df"
      ],
      "execution_count": 21,
      "outputs": [
        {
          "output_type": "execute_result",
          "data": {
            "text/html": [
              "<div>\n",
              "<style scoped>\n",
              "    .dataframe tbody tr th:only-of-type {\n",
              "        vertical-align: middle;\n",
              "    }\n",
              "\n",
              "    .dataframe tbody tr th {\n",
              "        vertical-align: top;\n",
              "    }\n",
              "\n",
              "    .dataframe thead th {\n",
              "        text-align: right;\n",
              "    }\n",
              "</style>\n",
              "<table border=\"1\" class=\"dataframe\">\n",
              "  <thead>\n",
              "    <tr style=\"text-align: right;\">\n",
              "      <th></th>\n",
              "      <th>Date</th>\n",
              "      <th>Close</th>\n",
              "      <th>Volume</th>\n",
              "      <th>Target</th>\n",
              "    </tr>\n",
              "  </thead>\n",
              "  <tbody>\n",
              "    <tr>\n",
              "      <th>0</th>\n",
              "      <td>2012-01-12</td>\n",
              "      <td>60.198570</td>\n",
              "      <td>53146800</td>\n",
              "      <td>59.972858</td>\n",
              "    </tr>\n",
              "    <tr>\n",
              "      <th>1</th>\n",
              "      <td>2012-01-13</td>\n",
              "      <td>59.972858</td>\n",
              "      <td>56505400</td>\n",
              "      <td>60.671429</td>\n",
              "    </tr>\n",
              "    <tr>\n",
              "      <th>2</th>\n",
              "      <td>2012-01-17</td>\n",
              "      <td>60.671429</td>\n",
              "      <td>60724300</td>\n",
              "      <td>61.301430</td>\n",
              "    </tr>\n",
              "    <tr>\n",
              "      <th>3</th>\n",
              "      <td>2012-01-18</td>\n",
              "      <td>61.301430</td>\n",
              "      <td>69197800</td>\n",
              "      <td>61.107143</td>\n",
              "    </tr>\n",
              "    <tr>\n",
              "      <th>4</th>\n",
              "      <td>2012-01-19</td>\n",
              "      <td>61.107143</td>\n",
              "      <td>65434600</td>\n",
              "      <td>60.042858</td>\n",
              "    </tr>\n",
              "    <tr>\n",
              "      <th>...</th>\n",
              "      <td>...</td>\n",
              "      <td>...</td>\n",
              "      <td>...</td>\n",
              "      <td>...</td>\n",
              "    </tr>\n",
              "    <tr>\n",
              "      <th>2153</th>\n",
              "      <td>2020-08-04</td>\n",
              "      <td>438.660004</td>\n",
              "      <td>43267900</td>\n",
              "      <td>440.250000</td>\n",
              "    </tr>\n",
              "    <tr>\n",
              "      <th>2154</th>\n",
              "      <td>2020-08-05</td>\n",
              "      <td>440.250000</td>\n",
              "      <td>30498000</td>\n",
              "      <td>455.609985</td>\n",
              "    </tr>\n",
              "    <tr>\n",
              "      <th>2155</th>\n",
              "      <td>2020-08-06</td>\n",
              "      <td>455.609985</td>\n",
              "      <td>50607200</td>\n",
              "      <td>444.450012</td>\n",
              "    </tr>\n",
              "    <tr>\n",
              "      <th>2156</th>\n",
              "      <td>2020-08-07</td>\n",
              "      <td>444.450012</td>\n",
              "      <td>49453300</td>\n",
              "      <td>450.910004</td>\n",
              "    </tr>\n",
              "    <tr>\n",
              "      <th>2157</th>\n",
              "      <td>2020-08-10</td>\n",
              "      <td>450.910004</td>\n",
              "      <td>53100900</td>\n",
              "      <td>437.500000</td>\n",
              "    </tr>\n",
              "  </tbody>\n",
              "</table>\n",
              "<p>2158 rows × 4 columns</p>\n",
              "</div>"
            ],
            "text/plain": [
              "            Date       Close    Volume      Target\n",
              "0     2012-01-12   60.198570  53146800   59.972858\n",
              "1     2012-01-13   59.972858  56505400   60.671429\n",
              "2     2012-01-17   60.671429  60724300   61.301430\n",
              "3     2012-01-18   61.301430  69197800   61.107143\n",
              "4     2012-01-19   61.107143  65434600   60.042858\n",
              "...          ...         ...       ...         ...\n",
              "2153  2020-08-04  438.660004  43267900  440.250000\n",
              "2154  2020-08-05  440.250000  30498000  455.609985\n",
              "2155  2020-08-06  455.609985  50607200  444.450012\n",
              "2156  2020-08-07  444.450012  49453300  450.910004\n",
              "2157  2020-08-10  450.910004  53100900  437.500000\n",
              "\n",
              "[2158 rows x 4 columns]"
            ]
          },
          "metadata": {
            "tags": []
          },
          "execution_count": 21
        }
      ]
    },
    {
      "cell_type": "code",
      "metadata": {
        "id": "Z-rciSujgKmf"
      },
      "source": [
        "# Scale the Data\n",
        "from sklearn.preprocessing import MinMaxScaler\n",
        "sc = MinMaxScaler(feature_range = (0, 1))\n",
        "price_volume_target_scaled_df = sc.fit_transform(price_volume_target_df.drop(columns = ['Date']))"
      ],
      "execution_count": 22,
      "outputs": []
    },
    {
      "cell_type": "code",
      "metadata": {
        "colab": {
          "base_uri": "https://localhost:8080/"
        },
        "id": "w5xySCptgSgt",
        "outputId": "a523553d-d92b-4faf-b7b5-1ea1a079d1f9"
      },
      "source": [
        "price_volume_target_scaled_df"
      ],
      "execution_count": 23,
      "outputs": [
        {
          "output_type": "execute_result",
          "data": {
            "text/plain": [
              "array([[0.01102638, 0.11442624, 0.01046185],\n",
              "       [0.01046185, 0.12362365, 0.01220906],\n",
              "       [0.01220906, 0.13517696, 0.01378478],\n",
              "       ...,\n",
              "       [1.        , 0.10747163, 0.97208751],\n",
              "       [0.97208751, 0.10431171, 0.98824476],\n",
              "       [0.98824476, 0.11430054, 0.95470465]])"
            ]
          },
          "metadata": {
            "tags": []
          },
          "execution_count": 23
        }
      ]
    },
    {
      "cell_type": "code",
      "metadata": {
        "colab": {
          "base_uri": "https://localhost:8080/"
        },
        "id": "OA_S-EYjgiZ8",
        "outputId": "eebc9779-4503-4309-eefe-16476ab0e8a7"
      },
      "source": [
        "price_volume_target_scaled_df.shape"
      ],
      "execution_count": 24,
      "outputs": [
        {
          "output_type": "execute_result",
          "data": {
            "text/plain": [
              "(2158, 3)"
            ]
          },
          "metadata": {
            "tags": []
          },
          "execution_count": 24
        }
      ]
    },
    {
      "cell_type": "code",
      "metadata": {
        "id": "cnSen49nglQ5"
      },
      "source": [
        "# Creating Feature and Target\n",
        "X = price_volume_target_scaled_df[:,:2]\n",
        "y = price_volume_target_scaled_df[:,2:]"
      ],
      "execution_count": 25,
      "outputs": []
    },
    {
      "cell_type": "code",
      "metadata": {
        "colab": {
          "base_uri": "https://localhost:8080/"
        },
        "id": "IfITG1MRgrNg",
        "outputId": "9ce8cc22-19ff-4d7e-fc6e-765c841ef17d"
      },
      "source": [
        "# Converting dataframe to arrays\n",
        "# X = np.asarray(X)\n",
        "# y = np.asarray(y)\n",
        "X.shape, y.shape"
      ],
      "execution_count": 26,
      "outputs": [
        {
          "output_type": "execute_result",
          "data": {
            "text/plain": [
              "((2158, 2), (2158, 1))"
            ]
          },
          "metadata": {
            "tags": []
          },
          "execution_count": 26
        }
      ]
    },
    {
      "cell_type": "code",
      "metadata": {
        "id": "l5BcY1P8guAP"
      },
      "source": [
        "# Spliting the data this way, since order is important in time-series\n",
        "# Note that we did not use train test split with it's default settings since it shuffles the data\n",
        "split = int(0.65 * len(X))\n",
        "X_train = X[:split]\n",
        "y_train = y[:split]\n",
        "X_test = X[split:]\n",
        "y_test = y[split:]"
      ],
      "execution_count": 27,
      "outputs": []
    },
    {
      "cell_type": "code",
      "metadata": {
        "colab": {
          "base_uri": "https://localhost:8080/"
        },
        "id": "SNRJmjJ1gw25",
        "outputId": "b23d82b4-3bf6-4380-d2da-f4a593b92d0c"
      },
      "source": [
        "X_train.shape, y_train.shape"
      ],
      "execution_count": 28,
      "outputs": [
        {
          "output_type": "execute_result",
          "data": {
            "text/plain": [
              "((1402, 2), (1402, 1))"
            ]
          },
          "metadata": {
            "tags": []
          },
          "execution_count": 28
        }
      ]
    },
    {
      "cell_type": "code",
      "metadata": {
        "colab": {
          "base_uri": "https://localhost:8080/"
        },
        "id": "K_KoysGKgz6d",
        "outputId": "108111fb-9237-4ec8-fd20-82137ada0564"
      },
      "source": [
        "X_test.shape, y_test.shape"
      ],
      "execution_count": 29,
      "outputs": [
        {
          "output_type": "execute_result",
          "data": {
            "text/plain": [
              "((756, 2), (756, 1))"
            ]
          },
          "metadata": {
            "tags": []
          },
          "execution_count": 29
        }
      ]
    },
    {
      "cell_type": "code",
      "metadata": {
        "colab": {
          "base_uri": "https://localhost:8080/",
          "height": 543
        },
        "id": "5LK4A-oQhK7y",
        "outputId": "fed7d9f3-c28c-4fbb-f4dc-79070c35f305"
      },
      "source": [
        "# Define a data plotting function\n",
        "def show_plot(data, title):\n",
        "  plt.figure(figsize = (13, 5))\n",
        "  plt.plot(data, linewidth = 3)\n",
        "  plt.title(title)\n",
        "  plt.grid()\n",
        "\n",
        "show_plot(X_train, 'Training Data')\n",
        "show_plot(X_test, 'Testing Data')\n"
      ],
      "execution_count": 30,
      "outputs": [
        {
          "output_type": "display_data",
          "data": {
            "image/png": "[encoded data removed]",
            "text/plain": [
              "<Figure size 936x360 with 1 Axes>"
            ]
          },
          "metadata": {
            "tags": [],
            "needs_background": "light"
          }
        },
        {
          "output_type": "display_data",
          "data": {
            "image/png": "[encoded data removed]",
            "text/plain": [
              "<Figure size 936x360 with 1 Axes>"
            ]
          },
          "metadata": {
            "tags": [],
            "needs_background": "light"
          }
        }
      ]
    },
    {
      "cell_type": "code",
      "metadata": {
        "colab": {
          "base_uri": "https://localhost:8080/"
        },
        "id": "oiICrW17hMeU",
        "outputId": "89e682e8-edf9-43e1-d149-5ba54189800a"
      },
      "source": [
        "# Building a ridge Linear regression model\n",
        "from sklearn.linear_model import Ridge\n",
        "# Note that Ridge regression performs linear least squares with L2 regularization.\n",
        "\n",
        "regression_model = Ridge()\n",
        "regression_model.fit(X_train, y_train)"
      ],
      "execution_count": 31,
      "outputs": [
        {
          "output_type": "execute_result",
          "data": {
            "text/plain": [
              "Ridge(alpha=1.0, copy_X=True, fit_intercept=True, max_iter=None,\n",
              "      normalize=False, random_state=None, solver='auto', tol=0.001)"
            ]
          },
          "metadata": {
            "tags": []
          },
          "execution_count": 31
        }
      ]
    },
    {
      "cell_type": "code",
      "metadata": {
        "colab": {
          "base_uri": "https://localhost:8080/"
        },
        "id": "zjj7EKhqhXQh",
        "outputId": "a553e413-a5f9-4150-c948-976088343b43"
      },
      "source": [
        "# Test the model and calculate its accuracy \n",
        "lr_accuracy = regression_model.score(X_test, y_test)\n",
        "print(\"Linear Regression Score: \", lr_accuracy)"
      ],
      "execution_count": 32,
      "outputs": [
        {
          "output_type": "stream",
          "text": [
            "Linear Regression Score:  0.7950028030821767\n"
          ],
          "name": "stdout"
        }
      ]
    },
    {
      "cell_type": "code",
      "metadata": {
        "colab": {
          "base_uri": "https://localhost:8080/"
        },
        "id": "VrpAg3aMhbgJ",
        "outputId": "a2d3b233-ae83-40d2-a1dd-41c7ab1d7b50"
      },
      "source": [
        "# Make Prediction\n",
        "predicted_prices = regression_model.predict(X)\n",
        "predicted_prices"
      ],
      "execution_count": 33,
      "outputs": [
        {
          "output_type": "execute_result",
          "data": {
            "text/plain": [
              "array([[0.03466412],\n",
              "       [0.03374627],\n",
              "       [0.03451936],\n",
              "       ...,\n",
              "       [0.81048342],\n",
              "       [0.78876033],\n",
              "       [0.80091324]])"
            ]
          },
          "metadata": {
            "tags": []
          },
          "execution_count": 33
        }
      ]
    },
    {
      "cell_type": "code",
      "metadata": {
        "colab": {
          "base_uri": "https://localhost:8080/"
        },
        "id": "u_yy5-V8henv",
        "outputId": "0f9d9f87-4057-4a4d-9252-fc400110a0eb"
      },
      "source": [
        "# Append the predicted values into a list\n",
        "Predicted = []\n",
        "for i in predicted_prices:\n",
        "  Predicted.append(i[0])\n",
        "len(Predicted)"
      ],
      "execution_count": 37,
      "outputs": [
        {
          "output_type": "execute_result",
          "data": {
            "text/plain": [
              "2158"
            ]
          },
          "metadata": {
            "tags": []
          },
          "execution_count": 37
        }
      ]
    },
    {
      "cell_type": "code",
      "metadata": {
        "id": "GNpFFa5shzUX"
      },
      "source": [
        "# Append the close values to the list\n",
        "close = []\n",
        "for i in price_volume_target_scaled_df:\n",
        "  close.append(i[0])"
      ],
      "execution_count": 38,
      "outputs": []
    },
    {
      "cell_type": "code",
      "metadata": {
        "colab": {
          "base_uri": "https://localhost:8080/",
          "height": 423
        },
        "id": "whu2olATh4iB",
        "outputId": "02f0925f-972f-439e-8046-dffd639ab848"
      },
      "source": [
        "# Create a dataframe based on the dates in the individual stock data\n",
        "df_predicted = price_volume_target_df[['Date']]\n",
        "df_predicted"
      ],
      "execution_count": 39,
      "outputs": [
        {
          "output_type": "execute_result",
          "data": {
            "text/html": [
              "<div>\n",
              "<style scoped>\n",
              "    .dataframe tbody tr th:only-of-type {\n",
              "        vertical-align: middle;\n",
              "    }\n",
              "\n",
              "    .dataframe tbody tr th {\n",
              "        vertical-align: top;\n",
              "    }\n",
              "\n",
              "    .dataframe thead th {\n",
              "        text-align: right;\n",
              "    }\n",
              "</style>\n",
              "<table border=\"1\" class=\"dataframe\">\n",
              "  <thead>\n",
              "    <tr style=\"text-align: right;\">\n",
              "      <th></th>\n",
              "      <th>Date</th>\n",
              "    </tr>\n",
              "  </thead>\n",
              "  <tbody>\n",
              "    <tr>\n",
              "      <th>0</th>\n",
              "      <td>2012-01-12</td>\n",
              "    </tr>\n",
              "    <tr>\n",
              "      <th>1</th>\n",
              "      <td>2012-01-13</td>\n",
              "    </tr>\n",
              "    <tr>\n",
              "      <th>2</th>\n",
              "      <td>2012-01-17</td>\n",
              "    </tr>\n",
              "    <tr>\n",
              "      <th>3</th>\n",
              "      <td>2012-01-18</td>\n",
              "    </tr>\n",
              "    <tr>\n",
              "      <th>4</th>\n",
              "      <td>2012-01-19</td>\n",
              "    </tr>\n",
              "    <tr>\n",
              "      <th>...</th>\n",
              "      <td>...</td>\n",
              "    </tr>\n",
              "    <tr>\n",
              "      <th>2153</th>\n",
              "      <td>2020-08-04</td>\n",
              "    </tr>\n",
              "    <tr>\n",
              "      <th>2154</th>\n",
              "      <td>2020-08-05</td>\n",
              "    </tr>\n",
              "    <tr>\n",
              "      <th>2155</th>\n",
              "      <td>2020-08-06</td>\n",
              "    </tr>\n",
              "    <tr>\n",
              "      <th>2156</th>\n",
              "      <td>2020-08-07</td>\n",
              "    </tr>\n",
              "    <tr>\n",
              "      <th>2157</th>\n",
              "      <td>2020-08-10</td>\n",
              "    </tr>\n",
              "  </tbody>\n",
              "</table>\n",
              "<p>2158 rows × 1 columns</p>\n",
              "</div>"
            ],
            "text/plain": [
              "            Date\n",
              "0     2012-01-12\n",
              "1     2012-01-13\n",
              "2     2012-01-17\n",
              "3     2012-01-18\n",
              "4     2012-01-19\n",
              "...          ...\n",
              "2153  2020-08-04\n",
              "2154  2020-08-05\n",
              "2155  2020-08-06\n",
              "2156  2020-08-07\n",
              "2157  2020-08-10\n",
              "\n",
              "[2158 rows x 1 columns]"
            ]
          },
          "metadata": {
            "tags": []
          },
          "execution_count": 39
        }
      ]
    },
    {
      "cell_type": "code",
      "metadata": {
        "colab": {
          "base_uri": "https://localhost:8080/",
          "height": 423
        },
        "id": "etY6kBaTh58h",
        "outputId": "74cc4373-65b5-40c2-f409-095eedb0ffa7"
      },
      "source": [
        "# Add the close values to the dataframe\n",
        "df_predicted['Close'] = close\n",
        "df_predicted"
      ],
      "execution_count": 40,
      "outputs": [
        {
          "output_type": "execute_result",
          "data": {
            "text/html": [
              "<div>\n",
              "<style scoped>\n",
              "    .dataframe tbody tr th:only-of-type {\n",
              "        vertical-align: middle;\n",
              "    }\n",
              "\n",
              "    .dataframe tbody tr th {\n",
              "        vertical-align: top;\n",
              "    }\n",
              "\n",
              "    .dataframe thead th {\n",
              "        text-align: right;\n",
              "    }\n",
              "</style>\n",
              "<table border=\"1\" class=\"dataframe\">\n",
              "  <thead>\n",
              "    <tr style=\"text-align: right;\">\n",
              "      <th></th>\n",
              "      <th>Date</th>\n",
              "      <th>Close</th>\n",
              "    </tr>\n",
              "  </thead>\n",
              "  <tbody>\n",
              "    <tr>\n",
              "      <th>0</th>\n",
              "      <td>2012-01-12</td>\n",
              "      <td>0.011026</td>\n",
              "    </tr>\n",
              "    <tr>\n",
              "      <th>1</th>\n",
              "      <td>2012-01-13</td>\n",
              "      <td>0.010462</td>\n",
              "    </tr>\n",
              "    <tr>\n",
              "      <th>2</th>\n",
              "      <td>2012-01-17</td>\n",
              "      <td>0.012209</td>\n",
              "    </tr>\n",
              "    <tr>\n",
              "      <th>3</th>\n",
              "      <td>2012-01-18</td>\n",
              "      <td>0.013785</td>\n",
              "    </tr>\n",
              "    <tr>\n",
              "      <th>4</th>\n",
              "      <td>2012-01-19</td>\n",
              "      <td>0.013299</td>\n",
              "    </tr>\n",
              "    <tr>\n",
              "      <th>...</th>\n",
              "      <td>...</td>\n",
              "      <td>...</td>\n",
              "    </tr>\n",
              "    <tr>\n",
              "      <th>2153</th>\n",
              "      <td>2020-08-04</td>\n",
              "      <td>0.957606</td>\n",
              "    </tr>\n",
              "    <tr>\n",
              "      <th>2154</th>\n",
              "      <td>2020-08-05</td>\n",
              "      <td>0.961583</td>\n",
              "    </tr>\n",
              "    <tr>\n",
              "      <th>2155</th>\n",
              "      <td>2020-08-06</td>\n",
              "      <td>1.000000</td>\n",
              "    </tr>\n",
              "    <tr>\n",
              "      <th>2156</th>\n",
              "      <td>2020-08-07</td>\n",
              "      <td>0.972088</td>\n",
              "    </tr>\n",
              "    <tr>\n",
              "      <th>2157</th>\n",
              "      <td>2020-08-10</td>\n",
              "      <td>0.988245</td>\n",
              "    </tr>\n",
              "  </tbody>\n",
              "</table>\n",
              "<p>2158 rows × 2 columns</p>\n",
              "</div>"
            ],
            "text/plain": [
              "            Date     Close\n",
              "0     2012-01-12  0.011026\n",
              "1     2012-01-13  0.010462\n",
              "2     2012-01-17  0.012209\n",
              "3     2012-01-18  0.013785\n",
              "4     2012-01-19  0.013299\n",
              "...          ...       ...\n",
              "2153  2020-08-04  0.957606\n",
              "2154  2020-08-05  0.961583\n",
              "2155  2020-08-06  1.000000\n",
              "2156  2020-08-07  0.972088\n",
              "2157  2020-08-10  0.988245\n",
              "\n",
              "[2158 rows x 2 columns]"
            ]
          },
          "metadata": {
            "tags": []
          },
          "execution_count": 40
        }
      ]
    },
    {
      "cell_type": "code",
      "metadata": {
        "id": "6Rb-DxEch_QJ"
      },
      "source": [
        ""
      ],
      "execution_count": null,
      "outputs": []
    }
  ]
}
