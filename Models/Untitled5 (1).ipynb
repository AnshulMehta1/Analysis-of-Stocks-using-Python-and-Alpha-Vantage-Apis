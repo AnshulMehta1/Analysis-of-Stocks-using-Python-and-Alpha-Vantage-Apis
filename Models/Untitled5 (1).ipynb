{
  "nbformat": 4,
  "nbformat_minor": 0,
  "metadata": {
    "colab": {
      "name": "Untitled5.ipynb",
      "provenance": []
    },
    "kernelspec": {
      "name": "python3",
      "display_name": "Python 3"
    },
    "language_info": {
      "name": "python"
    }
  },
  "cells": [
    {
      "cell_type": "code",
      "metadata": {
        "id": "RN_rgnCXBxKj",
        "colab": {
          "base_uri": "https://localhost:8080/"
        },
        "outputId": "8ab49086-11b1-442f-9248-d5d59b0a3bc7"
      },
      "source": [
        "from google.colab import drive\n",
        "drive.mount('/content/drive')"
      ],
      "execution_count": 3,
      "outputs": [
        {
          "output_type": "stream",
          "text": [
            "Drive already mounted at /content/drive; to attempt to forcibly remount, call drive.mount(\"/content/drive\", force_remount=True).\n"
          ],
          "name": "stdout"
        }
      ]
    },
    {
      "cell_type": "code",
      "metadata": {
        "id": "mFML_klGZQcX"
      },
      "source": [
        "import pandas as pd\n",
        "import plotly.express as px\n",
        "from copy import copy\n",
        "from scipy import stats\n",
        "import matplotlib.pyplot as plt\n",
        "import numpy as np\n",
        "import plotly.figure_factory as ff\n",
        "from sklearn.linear_model import LinearRegression\n",
        "from sklearn.svm import SVR\n",
        "from sklearn.model_selection import train_test_split\n",
        "from sklearn.metrics import r2_score\n",
        "from tensorflow import keras"
      ],
      "execution_count": 4,
      "outputs": []
    },
    {
      "cell_type": "code",
      "metadata": {
        "colab": {
          "base_uri": "https://localhost:8080/",
          "height": 423
        },
        "id": "3GP0UFNRZV4m",
        "outputId": "7e527d0d-6c54-458b-91fb-1e01c74b9640"
      },
      "source": [
        "# Read stock prices data\n",
        "stock_price_df = pd.read_csv('/content/drive/MyDrive/DataSets/stocks.csv')\n",
        "stock_price_df"
      ],
      "execution_count": 5,
      "outputs": [
        {
          "output_type": "execute_result",
          "data": {
            "text/html": [
              "<div>\n",
              "<style scoped>\n",
              "    .dataframe tbody tr th:only-of-type {\n",
              "        vertical-align: middle;\n",
              "    }\n",
              "\n",
              "    .dataframe tbody tr th {\n",
              "        vertical-align: top;\n",
              "    }\n",
              "\n",
              "    .dataframe thead th {\n",
              "        text-align: right;\n",
              "    }\n",
              "</style>\n",
              "<table border=\"1\" class=\"dataframe\">\n",
              "  <thead>\n",
              "    <tr style=\"text-align: right;\">\n",
              "      <th></th>\n",
              "      <th>Date</th>\n",
              "      <th>AAPL</th>\n",
              "      <th>BA</th>\n",
              "      <th>T</th>\n",
              "      <th>MGM</th>\n",
              "      <th>AMZN</th>\n",
              "      <th>IBM</th>\n",
              "      <th>TSLA</th>\n",
              "      <th>GOOG</th>\n",
              "      <th>sp500</th>\n",
              "    </tr>\n",
              "  </thead>\n",
              "  <tbody>\n",
              "    <tr>\n",
              "      <th>0</th>\n",
              "      <td>2012-01-12</td>\n",
              "      <td>60.198570</td>\n",
              "      <td>75.510002</td>\n",
              "      <td>30.120001</td>\n",
              "      <td>12.130000</td>\n",
              "      <td>175.929993</td>\n",
              "      <td>180.550003</td>\n",
              "      <td>28.250000</td>\n",
              "      <td>313.644379</td>\n",
              "      <td>1295.500000</td>\n",
              "    </tr>\n",
              "    <tr>\n",
              "      <th>1</th>\n",
              "      <td>2012-01-13</td>\n",
              "      <td>59.972858</td>\n",
              "      <td>74.599998</td>\n",
              "      <td>30.070000</td>\n",
              "      <td>12.350000</td>\n",
              "      <td>178.419998</td>\n",
              "      <td>179.160004</td>\n",
              "      <td>22.790001</td>\n",
              "      <td>311.328064</td>\n",
              "      <td>1289.089966</td>\n",
              "    </tr>\n",
              "    <tr>\n",
              "      <th>2</th>\n",
              "      <td>2012-01-17</td>\n",
              "      <td>60.671429</td>\n",
              "      <td>75.239998</td>\n",
              "      <td>30.250000</td>\n",
              "      <td>12.250000</td>\n",
              "      <td>181.660004</td>\n",
              "      <td>180.000000</td>\n",
              "      <td>26.600000</td>\n",
              "      <td>313.116364</td>\n",
              "      <td>1293.670044</td>\n",
              "    </tr>\n",
              "    <tr>\n",
              "      <th>3</th>\n",
              "      <td>2012-01-18</td>\n",
              "      <td>61.301430</td>\n",
              "      <td>75.059998</td>\n",
              "      <td>30.330000</td>\n",
              "      <td>12.730000</td>\n",
              "      <td>189.440002</td>\n",
              "      <td>181.070007</td>\n",
              "      <td>26.809999</td>\n",
              "      <td>315.273285</td>\n",
              "      <td>1308.040039</td>\n",
              "    </tr>\n",
              "    <tr>\n",
              "      <th>4</th>\n",
              "      <td>2012-01-19</td>\n",
              "      <td>61.107143</td>\n",
              "      <td>75.559998</td>\n",
              "      <td>30.420000</td>\n",
              "      <td>12.800000</td>\n",
              "      <td>194.449997</td>\n",
              "      <td>180.520004</td>\n",
              "      <td>26.760000</td>\n",
              "      <td>318.590851</td>\n",
              "      <td>1314.500000</td>\n",
              "    </tr>\n",
              "    <tr>\n",
              "      <th>...</th>\n",
              "      <td>...</td>\n",
              "      <td>...</td>\n",
              "      <td>...</td>\n",
              "      <td>...</td>\n",
              "      <td>...</td>\n",
              "      <td>...</td>\n",
              "      <td>...</td>\n",
              "      <td>...</td>\n",
              "      <td>...</td>\n",
              "      <td>...</td>\n",
              "    </tr>\n",
              "    <tr>\n",
              "      <th>2154</th>\n",
              "      <td>2020-08-05</td>\n",
              "      <td>440.250000</td>\n",
              "      <td>174.279999</td>\n",
              "      <td>29.850000</td>\n",
              "      <td>16.719999</td>\n",
              "      <td>3205.030029</td>\n",
              "      <td>125.449997</td>\n",
              "      <td>1485.020020</td>\n",
              "      <td>1473.609985</td>\n",
              "      <td>3327.770020</td>\n",
              "    </tr>\n",
              "    <tr>\n",
              "      <th>2155</th>\n",
              "      <td>2020-08-06</td>\n",
              "      <td>455.609985</td>\n",
              "      <td>172.199997</td>\n",
              "      <td>29.840000</td>\n",
              "      <td>18.459999</td>\n",
              "      <td>3225.000000</td>\n",
              "      <td>126.120003</td>\n",
              "      <td>1489.579956</td>\n",
              "      <td>1500.099976</td>\n",
              "      <td>3349.159912</td>\n",
              "    </tr>\n",
              "    <tr>\n",
              "      <th>2156</th>\n",
              "      <td>2020-08-07</td>\n",
              "      <td>444.450012</td>\n",
              "      <td>170.020004</td>\n",
              "      <td>30.020000</td>\n",
              "      <td>19.030001</td>\n",
              "      <td>3167.459961</td>\n",
              "      <td>124.959999</td>\n",
              "      <td>1452.709961</td>\n",
              "      <td>1494.489990</td>\n",
              "      <td>3351.280029</td>\n",
              "    </tr>\n",
              "    <tr>\n",
              "      <th>2157</th>\n",
              "      <td>2020-08-10</td>\n",
              "      <td>450.910004</td>\n",
              "      <td>179.410004</td>\n",
              "      <td>30.200001</td>\n",
              "      <td>21.650000</td>\n",
              "      <td>3148.159912</td>\n",
              "      <td>127.110001</td>\n",
              "      <td>1418.569946</td>\n",
              "      <td>1496.099976</td>\n",
              "      <td>3360.469971</td>\n",
              "    </tr>\n",
              "    <tr>\n",
              "      <th>2158</th>\n",
              "      <td>2020-08-11</td>\n",
              "      <td>437.500000</td>\n",
              "      <td>180.130005</td>\n",
              "      <td>30.200001</td>\n",
              "      <td>21.500000</td>\n",
              "      <td>3080.669922</td>\n",
              "      <td>126.750000</td>\n",
              "      <td>1374.390015</td>\n",
              "      <td>1480.319946</td>\n",
              "      <td>3333.689941</td>\n",
              "    </tr>\n",
              "  </tbody>\n",
              "</table>\n",
              "<p>2159 rows × 10 columns</p>\n",
              "</div>"
            ],
            "text/plain": [
              "            Date        AAPL          BA  ...         TSLA         GOOG        sp500\n",
              "0     2012-01-12   60.198570   75.510002  ...    28.250000   313.644379  1295.500000\n",
              "1     2012-01-13   59.972858   74.599998  ...    22.790001   311.328064  1289.089966\n",
              "2     2012-01-17   60.671429   75.239998  ...    26.600000   313.116364  1293.670044\n",
              "3     2012-01-18   61.301430   75.059998  ...    26.809999   315.273285  1308.040039\n",
              "4     2012-01-19   61.107143   75.559998  ...    26.760000   318.590851  1314.500000\n",
              "...          ...         ...         ...  ...          ...          ...          ...\n",
              "2154  2020-08-05  440.250000  174.279999  ...  1485.020020  1473.609985  3327.770020\n",
              "2155  2020-08-06  455.609985  172.199997  ...  1489.579956  1500.099976  3349.159912\n",
              "2156  2020-08-07  444.450012  170.020004  ...  1452.709961  1494.489990  3351.280029\n",
              "2157  2020-08-10  450.910004  179.410004  ...  1418.569946  1496.099976  3360.469971\n",
              "2158  2020-08-11  437.500000  180.130005  ...  1374.390015  1480.319946  3333.689941\n",
              "\n",
              "[2159 rows x 10 columns]"
            ]
          },
          "metadata": {
            "tags": []
          },
          "execution_count": 5
        }
      ]
    },
    {
      "cell_type": "code",
      "metadata": {
        "colab": {
          "base_uri": "https://localhost:8080/",
          "height": 423
        },
        "id": "if6n-vA_ZlyA",
        "outputId": "97f82509-192c-406c-a908-982478fae95e"
      },
      "source": [
        "# Read the stocks volume data\n",
        "stock_vol_df = pd.read_csv('/content/drive/MyDrive/DataSets/stock_volume.csv')\n",
        "stock_vol_df"
      ],
      "execution_count": 6,
      "outputs": [
        {
          "output_type": "execute_result",
          "data": {
            "text/html": [
              "<div>\n",
              "<style scoped>\n",
              "    .dataframe tbody tr th:only-of-type {\n",
              "        vertical-align: middle;\n",
              "    }\n",
              "\n",
              "    .dataframe tbody tr th {\n",
              "        vertical-align: top;\n",
              "    }\n",
              "\n",
              "    .dataframe thead th {\n",
              "        text-align: right;\n",
              "    }\n",
              "</style>\n",
              "<table border=\"1\" class=\"dataframe\">\n",
              "  <thead>\n",
              "    <tr style=\"text-align: right;\">\n",
              "      <th></th>\n",
              "      <th>Date</th>\n",
              "      <th>AAPL</th>\n",
              "      <th>BA</th>\n",
              "      <th>T</th>\n",
              "      <th>MGM</th>\n",
              "      <th>AMZN</th>\n",
              "      <th>IBM</th>\n",
              "      <th>TSLA</th>\n",
              "      <th>GOOG</th>\n",
              "      <th>sp500</th>\n",
              "    </tr>\n",
              "  </thead>\n",
              "  <tbody>\n",
              "    <tr>\n",
              "      <th>0</th>\n",
              "      <td>2012-01-12</td>\n",
              "      <td>53146800</td>\n",
              "      <td>3934500</td>\n",
              "      <td>26511100</td>\n",
              "      <td>17891100</td>\n",
              "      <td>5385800</td>\n",
              "      <td>6881000</td>\n",
              "      <td>729300</td>\n",
              "      <td>3764400</td>\n",
              "      <td>4019890000</td>\n",
              "    </tr>\n",
              "    <tr>\n",
              "      <th>1</th>\n",
              "      <td>2012-01-13</td>\n",
              "      <td>56505400</td>\n",
              "      <td>4641100</td>\n",
              "      <td>22096800</td>\n",
              "      <td>16621800</td>\n",
              "      <td>4753500</td>\n",
              "      <td>5279200</td>\n",
              "      <td>5500400</td>\n",
              "      <td>4631800</td>\n",
              "      <td>3692370000</td>\n",
              "    </tr>\n",
              "    <tr>\n",
              "      <th>2</th>\n",
              "      <td>2012-01-17</td>\n",
              "      <td>60724300</td>\n",
              "      <td>3700100</td>\n",
              "      <td>23500200</td>\n",
              "      <td>15480800</td>\n",
              "      <td>5644500</td>\n",
              "      <td>6003400</td>\n",
              "      <td>4651600</td>\n",
              "      <td>3832800</td>\n",
              "      <td>4010490000</td>\n",
              "    </tr>\n",
              "    <tr>\n",
              "      <th>3</th>\n",
              "      <td>2012-01-18</td>\n",
              "      <td>69197800</td>\n",
              "      <td>4189500</td>\n",
              "      <td>22015000</td>\n",
              "      <td>18387600</td>\n",
              "      <td>7473500</td>\n",
              "      <td>4600600</td>\n",
              "      <td>1260200</td>\n",
              "      <td>5544000</td>\n",
              "      <td>4096160000</td>\n",
              "    </tr>\n",
              "    <tr>\n",
              "      <th>4</th>\n",
              "      <td>2012-01-19</td>\n",
              "      <td>65434600</td>\n",
              "      <td>5397300</td>\n",
              "      <td>25524000</td>\n",
              "      <td>14022900</td>\n",
              "      <td>7096000</td>\n",
              "      <td>8567200</td>\n",
              "      <td>1246300</td>\n",
              "      <td>12657800</td>\n",
              "      <td>4465890000</td>\n",
              "    </tr>\n",
              "    <tr>\n",
              "      <th>...</th>\n",
              "      <td>...</td>\n",
              "      <td>...</td>\n",
              "      <td>...</td>\n",
              "      <td>...</td>\n",
              "      <td>...</td>\n",
              "      <td>...</td>\n",
              "      <td>...</td>\n",
              "      <td>...</td>\n",
              "      <td>...</td>\n",
              "      <td>...</td>\n",
              "    </tr>\n",
              "    <tr>\n",
              "      <th>2154</th>\n",
              "      <td>2020-08-05</td>\n",
              "      <td>30498000</td>\n",
              "      <td>46551000</td>\n",
              "      <td>22991700</td>\n",
              "      <td>18914200</td>\n",
              "      <td>3930000</td>\n",
              "      <td>3675400</td>\n",
              "      <td>4978000</td>\n",
              "      <td>1979500</td>\n",
              "      <td>4732220000</td>\n",
              "    </tr>\n",
              "    <tr>\n",
              "      <th>2155</th>\n",
              "      <td>2020-08-06</td>\n",
              "      <td>50607200</td>\n",
              "      <td>32921600</td>\n",
              "      <td>21908700</td>\n",
              "      <td>35867700</td>\n",
              "      <td>3940600</td>\n",
              "      <td>3417100</td>\n",
              "      <td>5992300</td>\n",
              "      <td>1995400</td>\n",
              "      <td>4267490000</td>\n",
              "    </tr>\n",
              "    <tr>\n",
              "      <th>2156</th>\n",
              "      <td>2020-08-07</td>\n",
              "      <td>49453300</td>\n",
              "      <td>19301600</td>\n",
              "      <td>30398500</td>\n",
              "      <td>34530300</td>\n",
              "      <td>3929600</td>\n",
              "      <td>3651000</td>\n",
              "      <td>8883500</td>\n",
              "      <td>1576600</td>\n",
              "      <td>4104860000</td>\n",
              "    </tr>\n",
              "    <tr>\n",
              "      <th>2157</th>\n",
              "      <td>2020-08-10</td>\n",
              "      <td>53100900</td>\n",
              "      <td>35857700</td>\n",
              "      <td>35514400</td>\n",
              "      <td>71219700</td>\n",
              "      <td>3167300</td>\n",
              "      <td>3968300</td>\n",
              "      <td>7522300</td>\n",
              "      <td>1289300</td>\n",
              "      <td>4318570000</td>\n",
              "    </tr>\n",
              "    <tr>\n",
              "      <th>2158</th>\n",
              "      <td>2020-08-11</td>\n",
              "      <td>46871100</td>\n",
              "      <td>60966900</td>\n",
              "      <td>30978300</td>\n",
              "      <td>34357900</td>\n",
              "      <td>3706600</td>\n",
              "      <td>4998500</td>\n",
              "      <td>8356000</td>\n",
              "      <td>1452000</td>\n",
              "      <td>5087650000</td>\n",
              "    </tr>\n",
              "  </tbody>\n",
              "</table>\n",
              "<p>2159 rows × 10 columns</p>\n",
              "</div>"
            ],
            "text/plain": [
              "            Date      AAPL        BA  ...     TSLA      GOOG       sp500\n",
              "0     2012-01-12  53146800   3934500  ...   729300   3764400  4019890000\n",
              "1     2012-01-13  56505400   4641100  ...  5500400   4631800  3692370000\n",
              "2     2012-01-17  60724300   3700100  ...  4651600   3832800  4010490000\n",
              "3     2012-01-18  69197800   4189500  ...  1260200   5544000  4096160000\n",
              "4     2012-01-19  65434600   5397300  ...  1246300  12657800  4465890000\n",
              "...          ...       ...       ...  ...      ...       ...         ...\n",
              "2154  2020-08-05  30498000  46551000  ...  4978000   1979500  4732220000\n",
              "2155  2020-08-06  50607200  32921600  ...  5992300   1995400  4267490000\n",
              "2156  2020-08-07  49453300  19301600  ...  8883500   1576600  4104860000\n",
              "2157  2020-08-10  53100900  35857700  ...  7522300   1289300  4318570000\n",
              "2158  2020-08-11  46871100  60966900  ...  8356000   1452000  5087650000\n",
              "\n",
              "[2159 rows x 10 columns]"
            ]
          },
          "metadata": {
            "tags": []
          },
          "execution_count": 6
        }
      ]
    },
    {
      "cell_type": "code",
      "metadata": {
        "colab": {
          "base_uri": "https://localhost:8080/",
          "height": 423
        },
        "id": "9CqGzhe7ZyG5",
        "outputId": "ca2b6426-c896-4500-b9bf-9d7348d40ddc"
      },
      "source": [
        "# Sort the data based on Date\n",
        "stock_price_df = stock_price_df.sort_values(by = ['Date'])\n",
        "stock_price_df"
      ],
      "execution_count": 7,
      "outputs": [
        {
          "output_type": "execute_result",
          "data": {
            "text/html": [
              "<div>\n",
              "<style scoped>\n",
              "    .dataframe tbody tr th:only-of-type {\n",
              "        vertical-align: middle;\n",
              "    }\n",
              "\n",
              "    .dataframe tbody tr th {\n",
              "        vertical-align: top;\n",
              "    }\n",
              "\n",
              "    .dataframe thead th {\n",
              "        text-align: right;\n",
              "    }\n",
              "</style>\n",
              "<table border=\"1\" class=\"dataframe\">\n",
              "  <thead>\n",
              "    <tr style=\"text-align: right;\">\n",
              "      <th></th>\n",
              "      <th>Date</th>\n",
              "      <th>AAPL</th>\n",
              "      <th>BA</th>\n",
              "      <th>T</th>\n",
              "      <th>MGM</th>\n",
              "      <th>AMZN</th>\n",
              "      <th>IBM</th>\n",
              "      <th>TSLA</th>\n",
              "      <th>GOOG</th>\n",
              "      <th>sp500</th>\n",
              "    </tr>\n",
              "  </thead>\n",
              "  <tbody>\n",
              "    <tr>\n",
              "      <th>0</th>\n",
              "      <td>2012-01-12</td>\n",
              "      <td>60.198570</td>\n",
              "      <td>75.510002</td>\n",
              "      <td>30.120001</td>\n",
              "      <td>12.130000</td>\n",
              "      <td>175.929993</td>\n",
              "      <td>180.550003</td>\n",
              "      <td>28.250000</td>\n",
              "      <td>313.644379</td>\n",
              "      <td>1295.500000</td>\n",
              "    </tr>\n",
              "    <tr>\n",
              "      <th>1</th>\n",
              "      <td>2012-01-13</td>\n",
              "      <td>59.972858</td>\n",
              "      <td>74.599998</td>\n",
              "      <td>30.070000</td>\n",
              "      <td>12.350000</td>\n",
              "      <td>178.419998</td>\n",
              "      <td>179.160004</td>\n",
              "      <td>22.790001</td>\n",
              "      <td>311.328064</td>\n",
              "      <td>1289.089966</td>\n",
              "    </tr>\n",
              "    <tr>\n",
              "      <th>2</th>\n",
              "      <td>2012-01-17</td>\n",
              "      <td>60.671429</td>\n",
              "      <td>75.239998</td>\n",
              "      <td>30.250000</td>\n",
              "      <td>12.250000</td>\n",
              "      <td>181.660004</td>\n",
              "      <td>180.000000</td>\n",
              "      <td>26.600000</td>\n",
              "      <td>313.116364</td>\n",
              "      <td>1293.670044</td>\n",
              "    </tr>\n",
              "    <tr>\n",
              "      <th>3</th>\n",
              "      <td>2012-01-18</td>\n",
              "      <td>61.301430</td>\n",
              "      <td>75.059998</td>\n",
              "      <td>30.330000</td>\n",
              "      <td>12.730000</td>\n",
              "      <td>189.440002</td>\n",
              "      <td>181.070007</td>\n",
              "      <td>26.809999</td>\n",
              "      <td>315.273285</td>\n",
              "      <td>1308.040039</td>\n",
              "    </tr>\n",
              "    <tr>\n",
              "      <th>4</th>\n",
              "      <td>2012-01-19</td>\n",
              "      <td>61.107143</td>\n",
              "      <td>75.559998</td>\n",
              "      <td>30.420000</td>\n",
              "      <td>12.800000</td>\n",
              "      <td>194.449997</td>\n",
              "      <td>180.520004</td>\n",
              "      <td>26.760000</td>\n",
              "      <td>318.590851</td>\n",
              "      <td>1314.500000</td>\n",
              "    </tr>\n",
              "    <tr>\n",
              "      <th>...</th>\n",
              "      <td>...</td>\n",
              "      <td>...</td>\n",
              "      <td>...</td>\n",
              "      <td>...</td>\n",
              "      <td>...</td>\n",
              "      <td>...</td>\n",
              "      <td>...</td>\n",
              "      <td>...</td>\n",
              "      <td>...</td>\n",
              "      <td>...</td>\n",
              "    </tr>\n",
              "    <tr>\n",
              "      <th>2154</th>\n",
              "      <td>2020-08-05</td>\n",
              "      <td>440.250000</td>\n",
              "      <td>174.279999</td>\n",
              "      <td>29.850000</td>\n",
              "      <td>16.719999</td>\n",
              "      <td>3205.030029</td>\n",
              "      <td>125.449997</td>\n",
              "      <td>1485.020020</td>\n",
              "      <td>1473.609985</td>\n",
              "      <td>3327.770020</td>\n",
              "    </tr>\n",
              "    <tr>\n",
              "      <th>2155</th>\n",
              "      <td>2020-08-06</td>\n",
              "      <td>455.609985</td>\n",
              "      <td>172.199997</td>\n",
              "      <td>29.840000</td>\n",
              "      <td>18.459999</td>\n",
              "      <td>3225.000000</td>\n",
              "      <td>126.120003</td>\n",
              "      <td>1489.579956</td>\n",
              "      <td>1500.099976</td>\n",
              "      <td>3349.159912</td>\n",
              "    </tr>\n",
              "    <tr>\n",
              "      <th>2156</th>\n",
              "      <td>2020-08-07</td>\n",
              "      <td>444.450012</td>\n",
              "      <td>170.020004</td>\n",
              "      <td>30.020000</td>\n",
              "      <td>19.030001</td>\n",
              "      <td>3167.459961</td>\n",
              "      <td>124.959999</td>\n",
              "      <td>1452.709961</td>\n",
              "      <td>1494.489990</td>\n",
              "      <td>3351.280029</td>\n",
              "    </tr>\n",
              "    <tr>\n",
              "      <th>2157</th>\n",
              "      <td>2020-08-10</td>\n",
              "      <td>450.910004</td>\n",
              "      <td>179.410004</td>\n",
              "      <td>30.200001</td>\n",
              "      <td>21.650000</td>\n",
              "      <td>3148.159912</td>\n",
              "      <td>127.110001</td>\n",
              "      <td>1418.569946</td>\n",
              "      <td>1496.099976</td>\n",
              "      <td>3360.469971</td>\n",
              "    </tr>\n",
              "    <tr>\n",
              "      <th>2158</th>\n",
              "      <td>2020-08-11</td>\n",
              "      <td>437.500000</td>\n",
              "      <td>180.130005</td>\n",
              "      <td>30.200001</td>\n",
              "      <td>21.500000</td>\n",
              "      <td>3080.669922</td>\n",
              "      <td>126.750000</td>\n",
              "      <td>1374.390015</td>\n",
              "      <td>1480.319946</td>\n",
              "      <td>3333.689941</td>\n",
              "    </tr>\n",
              "  </tbody>\n",
              "</table>\n",
              "<p>2159 rows × 10 columns</p>\n",
              "</div>"
            ],
            "text/plain": [
              "            Date        AAPL          BA  ...         TSLA         GOOG        sp500\n",
              "0     2012-01-12   60.198570   75.510002  ...    28.250000   313.644379  1295.500000\n",
              "1     2012-01-13   59.972858   74.599998  ...    22.790001   311.328064  1289.089966\n",
              "2     2012-01-17   60.671429   75.239998  ...    26.600000   313.116364  1293.670044\n",
              "3     2012-01-18   61.301430   75.059998  ...    26.809999   315.273285  1308.040039\n",
              "4     2012-01-19   61.107143   75.559998  ...    26.760000   318.590851  1314.500000\n",
              "...          ...         ...         ...  ...          ...          ...          ...\n",
              "2154  2020-08-05  440.250000  174.279999  ...  1485.020020  1473.609985  3327.770020\n",
              "2155  2020-08-06  455.609985  172.199997  ...  1489.579956  1500.099976  3349.159912\n",
              "2156  2020-08-07  444.450012  170.020004  ...  1452.709961  1494.489990  3351.280029\n",
              "2157  2020-08-10  450.910004  179.410004  ...  1418.569946  1496.099976  3360.469971\n",
              "2158  2020-08-11  437.500000  180.130005  ...  1374.390015  1480.319946  3333.689941\n",
              "\n",
              "[2159 rows x 10 columns]"
            ]
          },
          "metadata": {
            "tags": []
          },
          "execution_count": 7
        }
      ]
    },
    {
      "cell_type": "code",
      "metadata": {
        "colab": {
          "base_uri": "https://localhost:8080/",
          "height": 423
        },
        "id": "cl2PeUb3Z12J",
        "outputId": "0dc7b68e-87a4-4bed-fbcf-0760626fb227"
      },
      "source": [
        "# Sort the data based on Date\n",
        "stock_vol_df = stock_vol_df.sort_values(by = ['Date'])\n",
        "stock_vol_df"
      ],
      "execution_count": 8,
      "outputs": [
        {
          "output_type": "execute_result",
          "data": {
            "text/html": [
              "<div>\n",
              "<style scoped>\n",
              "    .dataframe tbody tr th:only-of-type {\n",
              "        vertical-align: middle;\n",
              "    }\n",
              "\n",
              "    .dataframe tbody tr th {\n",
              "        vertical-align: top;\n",
              "    }\n",
              "\n",
              "    .dataframe thead th {\n",
              "        text-align: right;\n",
              "    }\n",
              "</style>\n",
              "<table border=\"1\" class=\"dataframe\">\n",
              "  <thead>\n",
              "    <tr style=\"text-align: right;\">\n",
              "      <th></th>\n",
              "      <th>Date</th>\n",
              "      <th>AAPL</th>\n",
              "      <th>BA</th>\n",
              "      <th>T</th>\n",
              "      <th>MGM</th>\n",
              "      <th>AMZN</th>\n",
              "      <th>IBM</th>\n",
              "      <th>TSLA</th>\n",
              "      <th>GOOG</th>\n",
              "      <th>sp500</th>\n",
              "    </tr>\n",
              "  </thead>\n",
              "  <tbody>\n",
              "    <tr>\n",
              "      <th>0</th>\n",
              "      <td>2012-01-12</td>\n",
              "      <td>53146800</td>\n",
              "      <td>3934500</td>\n",
              "      <td>26511100</td>\n",
              "      <td>17891100</td>\n",
              "      <td>5385800</td>\n",
              "      <td>6881000</td>\n",
              "      <td>729300</td>\n",
              "      <td>3764400</td>\n",
              "      <td>4019890000</td>\n",
              "    </tr>\n",
              "    <tr>\n",
              "      <th>1</th>\n",
              "      <td>2012-01-13</td>\n",
              "      <td>56505400</td>\n",
              "      <td>4641100</td>\n",
              "      <td>22096800</td>\n",
              "      <td>16621800</td>\n",
              "      <td>4753500</td>\n",
              "      <td>5279200</td>\n",
              "      <td>5500400</td>\n",
              "      <td>4631800</td>\n",
              "      <td>3692370000</td>\n",
              "    </tr>\n",
              "    <tr>\n",
              "      <th>2</th>\n",
              "      <td>2012-01-17</td>\n",
              "      <td>60724300</td>\n",
              "      <td>3700100</td>\n",
              "      <td>23500200</td>\n",
              "      <td>15480800</td>\n",
              "      <td>5644500</td>\n",
              "      <td>6003400</td>\n",
              "      <td>4651600</td>\n",
              "      <td>3832800</td>\n",
              "      <td>4010490000</td>\n",
              "    </tr>\n",
              "    <tr>\n",
              "      <th>3</th>\n",
              "      <td>2012-01-18</td>\n",
              "      <td>69197800</td>\n",
              "      <td>4189500</td>\n",
              "      <td>22015000</td>\n",
              "      <td>18387600</td>\n",
              "      <td>7473500</td>\n",
              "      <td>4600600</td>\n",
              "      <td>1260200</td>\n",
              "      <td>5544000</td>\n",
              "      <td>4096160000</td>\n",
              "    </tr>\n",
              "    <tr>\n",
              "      <th>4</th>\n",
              "      <td>2012-01-19</td>\n",
              "      <td>65434600</td>\n",
              "      <td>5397300</td>\n",
              "      <td>25524000</td>\n",
              "      <td>14022900</td>\n",
              "      <td>7096000</td>\n",
              "      <td>8567200</td>\n",
              "      <td>1246300</td>\n",
              "      <td>12657800</td>\n",
              "      <td>4465890000</td>\n",
              "    </tr>\n",
              "    <tr>\n",
              "      <th>...</th>\n",
              "      <td>...</td>\n",
              "      <td>...</td>\n",
              "      <td>...</td>\n",
              "      <td>...</td>\n",
              "      <td>...</td>\n",
              "      <td>...</td>\n",
              "      <td>...</td>\n",
              "      <td>...</td>\n",
              "      <td>...</td>\n",
              "      <td>...</td>\n",
              "    </tr>\n",
              "    <tr>\n",
              "      <th>2154</th>\n",
              "      <td>2020-08-05</td>\n",
              "      <td>30498000</td>\n",
              "      <td>46551000</td>\n",
              "      <td>22991700</td>\n",
              "      <td>18914200</td>\n",
              "      <td>3930000</td>\n",
              "      <td>3675400</td>\n",
              "      <td>4978000</td>\n",
              "      <td>1979500</td>\n",
              "      <td>4732220000</td>\n",
              "    </tr>\n",
              "    <tr>\n",
              "      <th>2155</th>\n",
              "      <td>2020-08-06</td>\n",
              "      <td>50607200</td>\n",
              "      <td>32921600</td>\n",
              "      <td>21908700</td>\n",
              "      <td>35867700</td>\n",
              "      <td>3940600</td>\n",
              "      <td>3417100</td>\n",
              "      <td>5992300</td>\n",
              "      <td>1995400</td>\n",
              "      <td>4267490000</td>\n",
              "    </tr>\n",
              "    <tr>\n",
              "      <th>2156</th>\n",
              "      <td>2020-08-07</td>\n",
              "      <td>49453300</td>\n",
              "      <td>19301600</td>\n",
              "      <td>30398500</td>\n",
              "      <td>34530300</td>\n",
              "      <td>3929600</td>\n",
              "      <td>3651000</td>\n",
              "      <td>8883500</td>\n",
              "      <td>1576600</td>\n",
              "      <td>4104860000</td>\n",
              "    </tr>\n",
              "    <tr>\n",
              "      <th>2157</th>\n",
              "      <td>2020-08-10</td>\n",
              "      <td>53100900</td>\n",
              "      <td>35857700</td>\n",
              "      <td>35514400</td>\n",
              "      <td>71219700</td>\n",
              "      <td>3167300</td>\n",
              "      <td>3968300</td>\n",
              "      <td>7522300</td>\n",
              "      <td>1289300</td>\n",
              "      <td>4318570000</td>\n",
              "    </tr>\n",
              "    <tr>\n",
              "      <th>2158</th>\n",
              "      <td>2020-08-11</td>\n",
              "      <td>46871100</td>\n",
              "      <td>60966900</td>\n",
              "      <td>30978300</td>\n",
              "      <td>34357900</td>\n",
              "      <td>3706600</td>\n",
              "      <td>4998500</td>\n",
              "      <td>8356000</td>\n",
              "      <td>1452000</td>\n",
              "      <td>5087650000</td>\n",
              "    </tr>\n",
              "  </tbody>\n",
              "</table>\n",
              "<p>2159 rows × 10 columns</p>\n",
              "</div>"
            ],
            "text/plain": [
              "            Date      AAPL        BA  ...     TSLA      GOOG       sp500\n",
              "0     2012-01-12  53146800   3934500  ...   729300   3764400  4019890000\n",
              "1     2012-01-13  56505400   4641100  ...  5500400   4631800  3692370000\n",
              "2     2012-01-17  60724300   3700100  ...  4651600   3832800  4010490000\n",
              "3     2012-01-18  69197800   4189500  ...  1260200   5544000  4096160000\n",
              "4     2012-01-19  65434600   5397300  ...  1246300  12657800  4465890000\n",
              "...          ...       ...       ...  ...      ...       ...         ...\n",
              "2154  2020-08-05  30498000  46551000  ...  4978000   1979500  4732220000\n",
              "2155  2020-08-06  50607200  32921600  ...  5992300   1995400  4267490000\n",
              "2156  2020-08-07  49453300  19301600  ...  8883500   1576600  4104860000\n",
              "2157  2020-08-10  53100900  35857700  ...  7522300   1289300  4318570000\n",
              "2158  2020-08-11  46871100  60966900  ...  8356000   1452000  5087650000\n",
              "\n",
              "[2159 rows x 10 columns]"
            ]
          },
          "metadata": {
            "tags": []
          },
          "execution_count": 8
        }
      ]
    },
    {
      "cell_type": "code",
      "metadata": {
        "colab": {
          "base_uri": "https://localhost:8080/"
        },
        "id": "1xSSvZDxZ4-Y",
        "outputId": "9529d91f-e70f-4c83-8c0a-9df755e5b9de"
      },
      "source": [
        "stock_price_df.isnull().sum()"
      ],
      "execution_count": 9,
      "outputs": [
        {
          "output_type": "execute_result",
          "data": {
            "text/plain": [
              "Date     0\n",
              "AAPL     0\n",
              "BA       0\n",
              "T        0\n",
              "MGM      0\n",
              "AMZN     0\n",
              "IBM      0\n",
              "TSLA     0\n",
              "GOOG     0\n",
              "sp500    0\n",
              "dtype: int64"
            ]
          },
          "metadata": {
            "tags": []
          },
          "execution_count": 9
        }
      ]
    },
    {
      "cell_type": "code",
      "metadata": {
        "colab": {
          "base_uri": "https://localhost:8080/"
        },
        "id": "SernWIvEZ8yf",
        "outputId": "e840195b-f4a1-4abe-ce0b-7e39cd673a63"
      },
      "source": [
        "# Checking Null\n",
        "stock_vol_df.isnull().sum()"
      ],
      "execution_count": 10,
      "outputs": [
        {
          "output_type": "execute_result",
          "data": {
            "text/plain": [
              "Date     0\n",
              "AAPL     0\n",
              "BA       0\n",
              "T        0\n",
              "MGM      0\n",
              "AMZN     0\n",
              "IBM      0\n",
              "TSLA     0\n",
              "GOOG     0\n",
              "sp500    0\n",
              "dtype: int64"
            ]
          },
          "metadata": {
            "tags": []
          },
          "execution_count": 10
        }
      ]
    },
    {
      "cell_type": "code",
      "metadata": {
        "colab": {
          "base_uri": "https://localhost:8080/"
        },
        "id": "25uSUD87aBas",
        "outputId": "efaae9ee-8179-4c5c-e033-410b56a460cd"
      },
      "source": [
        "# Info on Data-Types and cols \n",
        "stock_price_df.info()"
      ],
      "execution_count": 11,
      "outputs": [
        {
          "output_type": "stream",
          "text": [
            "<class 'pandas.core.frame.DataFrame'>\n",
            "Int64Index: 2159 entries, 0 to 2158\n",
            "Data columns (total 10 columns):\n",
            " #   Column  Non-Null Count  Dtype  \n",
            "---  ------  --------------  -----  \n",
            " 0   Date    2159 non-null   object \n",
            " 1   AAPL    2159 non-null   float64\n",
            " 2   BA      2159 non-null   float64\n",
            " 3   T       2159 non-null   float64\n",
            " 4   MGM     2159 non-null   float64\n",
            " 5   AMZN    2159 non-null   float64\n",
            " 6   IBM     2159 non-null   float64\n",
            " 7   TSLA    2159 non-null   float64\n",
            " 8   GOOG    2159 non-null   float64\n",
            " 9   sp500   2159 non-null   float64\n",
            "dtypes: float64(9), object(1)\n",
            "memory usage: 185.5+ KB\n"
          ],
          "name": "stdout"
        }
      ]
    },
    {
      "cell_type": "code",
      "metadata": {
        "colab": {
          "base_uri": "https://localhost:8080/"
        },
        "id": "iVJZYTAuaIli",
        "outputId": "61ba6ecd-6b75-4996-ead3-073089a42dda"
      },
      "source": [
        "# Info on Data-Types and cols \n",
        "stock_vol_df.info()"
      ],
      "execution_count": 12,
      "outputs": [
        {
          "output_type": "stream",
          "text": [
            "<class 'pandas.core.frame.DataFrame'>\n",
            "Int64Index: 2159 entries, 0 to 2158\n",
            "Data columns (total 10 columns):\n",
            " #   Column  Non-Null Count  Dtype \n",
            "---  ------  --------------  ----- \n",
            " 0   Date    2159 non-null   object\n",
            " 1   AAPL    2159 non-null   int64 \n",
            " 2   BA      2159 non-null   int64 \n",
            " 3   T       2159 non-null   int64 \n",
            " 4   MGM     2159 non-null   int64 \n",
            " 5   AMZN    2159 non-null   int64 \n",
            " 6   IBM     2159 non-null   int64 \n",
            " 7   TSLA    2159 non-null   int64 \n",
            " 8   GOOG    2159 non-null   int64 \n",
            " 9   sp500   2159 non-null   int64 \n",
            "dtypes: int64(9), object(1)\n",
            "memory usage: 185.5+ KB\n"
          ],
          "name": "stdout"
        }
      ]
    },
    {
      "cell_type": "code",
      "metadata": {
        "colab": {
          "base_uri": "https://localhost:8080/",
          "height": 300
        },
        "id": "nQZub-TAaN4M",
        "outputId": "1371f8fa-9b14-46d1-eb23-011096939188"
      },
      "source": [
        "#  Descriptive Statistics\n",
        "stock_vol_df.describe()"
      ],
      "execution_count": 13,
      "outputs": [
        {
          "output_type": "execute_result",
          "data": {
            "text/html": [
              "<div>\n",
              "<style scoped>\n",
              "    .dataframe tbody tr th:only-of-type {\n",
              "        vertical-align: middle;\n",
              "    }\n",
              "\n",
              "    .dataframe tbody tr th {\n",
              "        vertical-align: top;\n",
              "    }\n",
              "\n",
              "    .dataframe thead th {\n",
              "        text-align: right;\n",
              "    }\n",
              "</style>\n",
              "<table border=\"1\" class=\"dataframe\">\n",
              "  <thead>\n",
              "    <tr style=\"text-align: right;\">\n",
              "      <th></th>\n",
              "      <th>AAPL</th>\n",
              "      <th>BA</th>\n",
              "      <th>T</th>\n",
              "      <th>MGM</th>\n",
              "      <th>AMZN</th>\n",
              "      <th>IBM</th>\n",
              "      <th>TSLA</th>\n",
              "      <th>GOOG</th>\n",
              "      <th>sp500</th>\n",
              "    </tr>\n",
              "  </thead>\n",
              "  <tbody>\n",
              "    <tr>\n",
              "      <th>count</th>\n",
              "      <td>2.159000e+03</td>\n",
              "      <td>2.159000e+03</td>\n",
              "      <td>2.159000e+03</td>\n",
              "      <td>2.159000e+03</td>\n",
              "      <td>2.159000e+03</td>\n",
              "      <td>2.159000e+03</td>\n",
              "      <td>2.159000e+03</td>\n",
              "      <td>2.159000e+03</td>\n",
              "      <td>2.159000e+03</td>\n",
              "    </tr>\n",
              "    <tr>\n",
              "      <th>mean</th>\n",
              "      <td>5.820332e+07</td>\n",
              "      <td>6.419916e+06</td>\n",
              "      <td>2.832131e+07</td>\n",
              "      <td>9.845582e+06</td>\n",
              "      <td>4.102673e+06</td>\n",
              "      <td>4.453090e+06</td>\n",
              "      <td>7.001302e+06</td>\n",
              "      <td>2.498238e+06</td>\n",
              "      <td>3.680732e+09</td>\n",
              "    </tr>\n",
              "    <tr>\n",
              "      <th>std</th>\n",
              "      <td>4.568141e+07</td>\n",
              "      <td>9.711873e+06</td>\n",
              "      <td>1.428911e+07</td>\n",
              "      <td>7.295753e+06</td>\n",
              "      <td>2.290722e+06</td>\n",
              "      <td>2.462811e+06</td>\n",
              "      <td>5.781208e+06</td>\n",
              "      <td>1.928407e+06</td>\n",
              "      <td>8.622717e+08</td>\n",
              "    </tr>\n",
              "    <tr>\n",
              "      <th>min</th>\n",
              "      <td>1.136200e+07</td>\n",
              "      <td>7.889000e+05</td>\n",
              "      <td>6.862400e+06</td>\n",
              "      <td>9.507000e+05</td>\n",
              "      <td>8.813000e+05</td>\n",
              "      <td>1.193000e+06</td>\n",
              "      <td>3.649000e+05</td>\n",
              "      <td>7.900000e+03</td>\n",
              "      <td>1.248960e+09</td>\n",
              "    </tr>\n",
              "    <tr>\n",
              "      <th>25%</th>\n",
              "      <td>2.769930e+07</td>\n",
              "      <td>3.031850e+06</td>\n",
              "      <td>2.002150e+07</td>\n",
              "      <td>5.796450e+06</td>\n",
              "      <td>2.675700e+06</td>\n",
              "      <td>3.111250e+06</td>\n",
              "      <td>3.433450e+06</td>\n",
              "      <td>1.325400e+06</td>\n",
              "      <td>3.211890e+09</td>\n",
              "    </tr>\n",
              "    <tr>\n",
              "      <th>50%</th>\n",
              "      <td>4.209420e+07</td>\n",
              "      <td>3.991000e+06</td>\n",
              "      <td>2.485930e+07</td>\n",
              "      <td>7.899800e+06</td>\n",
              "      <td>3.494800e+06</td>\n",
              "      <td>3.825000e+06</td>\n",
              "      <td>5.581100e+06</td>\n",
              "      <td>1.813900e+06</td>\n",
              "      <td>3.526890e+09</td>\n",
              "    </tr>\n",
              "    <tr>\n",
              "      <th>75%</th>\n",
              "      <td>7.182480e+07</td>\n",
              "      <td>5.325900e+06</td>\n",
              "      <td>3.210565e+07</td>\n",
              "      <td>1.104055e+07</td>\n",
              "      <td>4.768150e+06</td>\n",
              "      <td>4.937300e+06</td>\n",
              "      <td>8.619550e+06</td>\n",
              "      <td>3.245350e+06</td>\n",
              "      <td>3.933290e+09</td>\n",
              "    </tr>\n",
              "    <tr>\n",
              "      <th>max</th>\n",
              "      <td>3.765300e+08</td>\n",
              "      <td>1.032128e+08</td>\n",
              "      <td>1.950827e+08</td>\n",
              "      <td>9.009820e+07</td>\n",
              "      <td>2.385610e+07</td>\n",
              "      <td>3.049020e+07</td>\n",
              "      <td>6.093880e+07</td>\n",
              "      <td>2.497790e+07</td>\n",
              "      <td>9.044690e+09</td>\n",
              "    </tr>\n",
              "  </tbody>\n",
              "</table>\n",
              "</div>"
            ],
            "text/plain": [
              "               AAPL            BA  ...          GOOG         sp500\n",
              "count  2.159000e+03  2.159000e+03  ...  2.159000e+03  2.159000e+03\n",
              "mean   5.820332e+07  6.419916e+06  ...  2.498238e+06  3.680732e+09\n",
              "std    4.568141e+07  9.711873e+06  ...  1.928407e+06  8.622717e+08\n",
              "min    1.136200e+07  7.889000e+05  ...  7.900000e+03  1.248960e+09\n",
              "25%    2.769930e+07  3.031850e+06  ...  1.325400e+06  3.211890e+09\n",
              "50%    4.209420e+07  3.991000e+06  ...  1.813900e+06  3.526890e+09\n",
              "75%    7.182480e+07  5.325900e+06  ...  3.245350e+06  3.933290e+09\n",
              "max    3.765300e+08  1.032128e+08  ...  2.497790e+07  9.044690e+09\n",
              "\n",
              "[8 rows x 9 columns]"
            ]
          },
          "metadata": {
            "tags": []
          },
          "execution_count": 13
        }
      ]
    },
    {
      "cell_type": "code",
      "metadata": {
        "id": "x_-_FIqHaUam"
      },
      "source": [
        "# EDA \n",
        "\n",
        "# Function to normalize stock prices based on their initial price\n",
        "def normalize(df):\n",
        "  x = df.copy()\n",
        "  for i in x.columns[1:]:\n",
        "    x[i] = x[i]/x[i][0]\n",
        "  return x"
      ],
      "execution_count": 14,
      "outputs": []
    },
    {
      "cell_type": "code",
      "metadata": {
        "id": "UC661kgdfNjT"
      },
      "source": [
        "#  Model Training and Evaluation of different models\n",
        "#  Function to concatenate the date, stock price, and volume in one dataframe\n",
        "def individual_stock(price_df, vol_df, name):\n",
        "    return pd.DataFrame({'Date': price_df['Date'], 'Close': price_df[name], 'Volume': vol_df[name]})"
      ],
      "execution_count": 15,
      "outputs": []
    },
    {
      "cell_type": "code",
      "metadata": {
        "id": "DMXnvZPDfrLp"
      },
      "source": [
        "# Function to return the input/output (target) data for AI/ML Model\n",
        "# Note that our goal is to predict the future stock price \n",
        "# Target stock price today will be tomorrow's price \n",
        "def trading_window(data):\n",
        "  \n",
        "  # 1 day window \n",
        "  n = 1\n",
        "\n",
        "  # Create a column containing the prices for the next 1 days\n",
        "  data['Target'] = data[['Close']].shift(-n)\n",
        "  \n",
        "  # return the new dataset \n",
        "  return data"
      ],
      "execution_count": 16,
      "outputs": []
    },
    {
      "cell_type": "code",
      "metadata": {
        "colab": {
          "base_uri": "https://localhost:8080/",
          "height": 423
        },
        "id": "xe6QPRXpfurV",
        "outputId": "01ed9afa-53d7-4772-93ef-ecb546468e9c"
      },
      "source": [
        "price_volume_df = individual_stock(stock_price_df, stock_vol_df, 'AAPL')\n",
        "price_volume_df"
      ],
      "execution_count": 17,
      "outputs": [
        {
          "output_type": "execute_result",
          "data": {
            "text/html": [
              "<div>\n",
              "<style scoped>\n",
              "    .dataframe tbody tr th:only-of-type {\n",
              "        vertical-align: middle;\n",
              "    }\n",
              "\n",
              "    .dataframe tbody tr th {\n",
              "        vertical-align: top;\n",
              "    }\n",
              "\n",
              "    .dataframe thead th {\n",
              "        text-align: right;\n",
              "    }\n",
              "</style>\n",
              "<table border=\"1\" class=\"dataframe\">\n",
              "  <thead>\n",
              "    <tr style=\"text-align: right;\">\n",
              "      <th></th>\n",
              "      <th>Date</th>\n",
              "      <th>Close</th>\n",
              "      <th>Volume</th>\n",
              "    </tr>\n",
              "  </thead>\n",
              "  <tbody>\n",
              "    <tr>\n",
              "      <th>0</th>\n",
              "      <td>2012-01-12</td>\n",
              "      <td>60.198570</td>\n",
              "      <td>53146800</td>\n",
              "    </tr>\n",
              "    <tr>\n",
              "      <th>1</th>\n",
              "      <td>2012-01-13</td>\n",
              "      <td>59.972858</td>\n",
              "      <td>56505400</td>\n",
              "    </tr>\n",
              "    <tr>\n",
              "      <th>2</th>\n",
              "      <td>2012-01-17</td>\n",
              "      <td>60.671429</td>\n",
              "      <td>60724300</td>\n",
              "    </tr>\n",
              "    <tr>\n",
              "      <th>3</th>\n",
              "      <td>2012-01-18</td>\n",
              "      <td>61.301430</td>\n",
              "      <td>69197800</td>\n",
              "    </tr>\n",
              "    <tr>\n",
              "      <th>4</th>\n",
              "      <td>2012-01-19</td>\n",
              "      <td>61.107143</td>\n",
              "      <td>65434600</td>\n",
              "    </tr>\n",
              "    <tr>\n",
              "      <th>...</th>\n",
              "      <td>...</td>\n",
              "      <td>...</td>\n",
              "      <td>...</td>\n",
              "    </tr>\n",
              "    <tr>\n",
              "      <th>2154</th>\n",
              "      <td>2020-08-05</td>\n",
              "      <td>440.250000</td>\n",
              "      <td>30498000</td>\n",
              "    </tr>\n",
              "    <tr>\n",
              "      <th>2155</th>\n",
              "      <td>2020-08-06</td>\n",
              "      <td>455.609985</td>\n",
              "      <td>50607200</td>\n",
              "    </tr>\n",
              "    <tr>\n",
              "      <th>2156</th>\n",
              "      <td>2020-08-07</td>\n",
              "      <td>444.450012</td>\n",
              "      <td>49453300</td>\n",
              "    </tr>\n",
              "    <tr>\n",
              "      <th>2157</th>\n",
              "      <td>2020-08-10</td>\n",
              "      <td>450.910004</td>\n",
              "      <td>53100900</td>\n",
              "    </tr>\n",
              "    <tr>\n",
              "      <th>2158</th>\n",
              "      <td>2020-08-11</td>\n",
              "      <td>437.500000</td>\n",
              "      <td>46871100</td>\n",
              "    </tr>\n",
              "  </tbody>\n",
              "</table>\n",
              "<p>2159 rows × 3 columns</p>\n",
              "</div>"
            ],
            "text/plain": [
              "            Date       Close    Volume\n",
              "0     2012-01-12   60.198570  53146800\n",
              "1     2012-01-13   59.972858  56505400\n",
              "2     2012-01-17   60.671429  60724300\n",
              "3     2012-01-18   61.301430  69197800\n",
              "4     2012-01-19   61.107143  65434600\n",
              "...          ...         ...       ...\n",
              "2154  2020-08-05  440.250000  30498000\n",
              "2155  2020-08-06  455.609985  50607200\n",
              "2156  2020-08-07  444.450012  49453300\n",
              "2157  2020-08-10  450.910004  53100900\n",
              "2158  2020-08-11  437.500000  46871100\n",
              "\n",
              "[2159 rows x 3 columns]"
            ]
          },
          "metadata": {
            "tags": []
          },
          "execution_count": 17
        }
      ]
    },
    {
      "cell_type": "code",
      "metadata": {
        "colab": {
          "base_uri": "https://localhost:8080/",
          "height": 423
        },
        "id": "DVyo8GL0fyyW",
        "outputId": "1443609a-cc2c-4efc-ebb2-92f3a32ae0f7"
      },
      "source": [
        "price_volume_target_df = trading_window(price_volume_df)\n",
        "price_volume_target_df"
      ],
      "execution_count": 18,
      "outputs": [
        {
          "output_type": "execute_result",
          "data": {
            "text/html": [
              "<div>\n",
              "<style scoped>\n",
              "    .dataframe tbody tr th:only-of-type {\n",
              "        vertical-align: middle;\n",
              "    }\n",
              "\n",
              "    .dataframe tbody tr th {\n",
              "        vertical-align: top;\n",
              "    }\n",
              "\n",
              "    .dataframe thead th {\n",
              "        text-align: right;\n",
              "    }\n",
              "</style>\n",
              "<table border=\"1\" class=\"dataframe\">\n",
              "  <thead>\n",
              "    <tr style=\"text-align: right;\">\n",
              "      <th></th>\n",
              "      <th>Date</th>\n",
              "      <th>Close</th>\n",
              "      <th>Volume</th>\n",
              "      <th>Target</th>\n",
              "    </tr>\n",
              "  </thead>\n",
              "  <tbody>\n",
              "    <tr>\n",
              "      <th>0</th>\n",
              "      <td>2012-01-12</td>\n",
              "      <td>60.198570</td>\n",
              "      <td>53146800</td>\n",
              "      <td>59.972858</td>\n",
              "    </tr>\n",
              "    <tr>\n",
              "      <th>1</th>\n",
              "      <td>2012-01-13</td>\n",
              "      <td>59.972858</td>\n",
              "      <td>56505400</td>\n",
              "      <td>60.671429</td>\n",
              "    </tr>\n",
              "    <tr>\n",
              "      <th>2</th>\n",
              "      <td>2012-01-17</td>\n",
              "      <td>60.671429</td>\n",
              "      <td>60724300</td>\n",
              "      <td>61.301430</td>\n",
              "    </tr>\n",
              "    <tr>\n",
              "      <th>3</th>\n",
              "      <td>2012-01-18</td>\n",
              "      <td>61.301430</td>\n",
              "      <td>69197800</td>\n",
              "      <td>61.107143</td>\n",
              "    </tr>\n",
              "    <tr>\n",
              "      <th>4</th>\n",
              "      <td>2012-01-19</td>\n",
              "      <td>61.107143</td>\n",
              "      <td>65434600</td>\n",
              "      <td>60.042858</td>\n",
              "    </tr>\n",
              "    <tr>\n",
              "      <th>...</th>\n",
              "      <td>...</td>\n",
              "      <td>...</td>\n",
              "      <td>...</td>\n",
              "      <td>...</td>\n",
              "    </tr>\n",
              "    <tr>\n",
              "      <th>2154</th>\n",
              "      <td>2020-08-05</td>\n",
              "      <td>440.250000</td>\n",
              "      <td>30498000</td>\n",
              "      <td>455.609985</td>\n",
              "    </tr>\n",
              "    <tr>\n",
              "      <th>2155</th>\n",
              "      <td>2020-08-06</td>\n",
              "      <td>455.609985</td>\n",
              "      <td>50607200</td>\n",
              "      <td>444.450012</td>\n",
              "    </tr>\n",
              "    <tr>\n",
              "      <th>2156</th>\n",
              "      <td>2020-08-07</td>\n",
              "      <td>444.450012</td>\n",
              "      <td>49453300</td>\n",
              "      <td>450.910004</td>\n",
              "    </tr>\n",
              "    <tr>\n",
              "      <th>2157</th>\n",
              "      <td>2020-08-10</td>\n",
              "      <td>450.910004</td>\n",
              "      <td>53100900</td>\n",
              "      <td>437.500000</td>\n",
              "    </tr>\n",
              "    <tr>\n",
              "      <th>2158</th>\n",
              "      <td>2020-08-11</td>\n",
              "      <td>437.500000</td>\n",
              "      <td>46871100</td>\n",
              "      <td>NaN</td>\n",
              "    </tr>\n",
              "  </tbody>\n",
              "</table>\n",
              "<p>2159 rows × 4 columns</p>\n",
              "</div>"
            ],
            "text/plain": [
              "            Date       Close    Volume      Target\n",
              "0     2012-01-12   60.198570  53146800   59.972858\n",
              "1     2012-01-13   59.972858  56505400   60.671429\n",
              "2     2012-01-17   60.671429  60724300   61.301430\n",
              "3     2012-01-18   61.301430  69197800   61.107143\n",
              "4     2012-01-19   61.107143  65434600   60.042858\n",
              "...          ...         ...       ...         ...\n",
              "2154  2020-08-05  440.250000  30498000  455.609985\n",
              "2155  2020-08-06  455.609985  50607200  444.450012\n",
              "2156  2020-08-07  444.450012  49453300  450.910004\n",
              "2157  2020-08-10  450.910004  53100900  437.500000\n",
              "2158  2020-08-11  437.500000  46871100         NaN\n",
              "\n",
              "[2159 rows x 4 columns]"
            ]
          },
          "metadata": {
            "tags": []
          },
          "execution_count": 18
        }
      ]
    },
    {
      "cell_type": "code",
      "metadata": {
        "colab": {
          "base_uri": "https://localhost:8080/",
          "height": 423
        },
        "id": "noCyDOORgEJG",
        "outputId": "35183d80-e8ca-4e0a-89c7-24129e01e7e4"
      },
      "source": [
        "# Removing the Null Value \n",
        "price_volume_target_df = price_volume_target_df[:-1]\n",
        "price_volume_target_df"
      ],
      "execution_count": 19,
      "outputs": [
        {
          "output_type": "execute_result",
          "data": {
            "text/html": [
              "<div>\n",
              "<style scoped>\n",
              "    .dataframe tbody tr th:only-of-type {\n",
              "        vertical-align: middle;\n",
              "    }\n",
              "\n",
              "    .dataframe tbody tr th {\n",
              "        vertical-align: top;\n",
              "    }\n",
              "\n",
              "    .dataframe thead th {\n",
              "        text-align: right;\n",
              "    }\n",
              "</style>\n",
              "<table border=\"1\" class=\"dataframe\">\n",
              "  <thead>\n",
              "    <tr style=\"text-align: right;\">\n",
              "      <th></th>\n",
              "      <th>Date</th>\n",
              "      <th>Close</th>\n",
              "      <th>Volume</th>\n",
              "      <th>Target</th>\n",
              "    </tr>\n",
              "  </thead>\n",
              "  <tbody>\n",
              "    <tr>\n",
              "      <th>0</th>\n",
              "      <td>2012-01-12</td>\n",
              "      <td>60.198570</td>\n",
              "      <td>53146800</td>\n",
              "      <td>59.972858</td>\n",
              "    </tr>\n",
              "    <tr>\n",
              "      <th>1</th>\n",
              "      <td>2012-01-13</td>\n",
              "      <td>59.972858</td>\n",
              "      <td>56505400</td>\n",
              "      <td>60.671429</td>\n",
              "    </tr>\n",
              "    <tr>\n",
              "      <th>2</th>\n",
              "      <td>2012-01-17</td>\n",
              "      <td>60.671429</td>\n",
              "      <td>60724300</td>\n",
              "      <td>61.301430</td>\n",
              "    </tr>\n",
              "    <tr>\n",
              "      <th>3</th>\n",
              "      <td>2012-01-18</td>\n",
              "      <td>61.301430</td>\n",
              "      <td>69197800</td>\n",
              "      <td>61.107143</td>\n",
              "    </tr>\n",
              "    <tr>\n",
              "      <th>4</th>\n",
              "      <td>2012-01-19</td>\n",
              "      <td>61.107143</td>\n",
              "      <td>65434600</td>\n",
              "      <td>60.042858</td>\n",
              "    </tr>\n",
              "    <tr>\n",
              "      <th>...</th>\n",
              "      <td>...</td>\n",
              "      <td>...</td>\n",
              "      <td>...</td>\n",
              "      <td>...</td>\n",
              "    </tr>\n",
              "    <tr>\n",
              "      <th>2153</th>\n",
              "      <td>2020-08-04</td>\n",
              "      <td>438.660004</td>\n",
              "      <td>43267900</td>\n",
              "      <td>440.250000</td>\n",
              "    </tr>\n",
              "    <tr>\n",
              "      <th>2154</th>\n",
              "      <td>2020-08-05</td>\n",
              "      <td>440.250000</td>\n",
              "      <td>30498000</td>\n",
              "      <td>455.609985</td>\n",
              "    </tr>\n",
              "    <tr>\n",
              "      <th>2155</th>\n",
              "      <td>2020-08-06</td>\n",
              "      <td>455.609985</td>\n",
              "      <td>50607200</td>\n",
              "      <td>444.450012</td>\n",
              "    </tr>\n",
              "    <tr>\n",
              "      <th>2156</th>\n",
              "      <td>2020-08-07</td>\n",
              "      <td>444.450012</td>\n",
              "      <td>49453300</td>\n",
              "      <td>450.910004</td>\n",
              "    </tr>\n",
              "    <tr>\n",
              "      <th>2157</th>\n",
              "      <td>2020-08-10</td>\n",
              "      <td>450.910004</td>\n",
              "      <td>53100900</td>\n",
              "      <td>437.500000</td>\n",
              "    </tr>\n",
              "  </tbody>\n",
              "</table>\n",
              "<p>2158 rows × 4 columns</p>\n",
              "</div>"
            ],
            "text/plain": [
              "            Date       Close    Volume      Target\n",
              "0     2012-01-12   60.198570  53146800   59.972858\n",
              "1     2012-01-13   59.972858  56505400   60.671429\n",
              "2     2012-01-17   60.671429  60724300   61.301430\n",
              "3     2012-01-18   61.301430  69197800   61.107143\n",
              "4     2012-01-19   61.107143  65434600   60.042858\n",
              "...          ...         ...       ...         ...\n",
              "2153  2020-08-04  438.660004  43267900  440.250000\n",
              "2154  2020-08-05  440.250000  30498000  455.609985\n",
              "2155  2020-08-06  455.609985  50607200  444.450012\n",
              "2156  2020-08-07  444.450012  49453300  450.910004\n",
              "2157  2020-08-10  450.910004  53100900  437.500000\n",
              "\n",
              "[2158 rows x 4 columns]"
            ]
          },
          "metadata": {
            "tags": []
          },
          "execution_count": 19
        }
      ]
    },
    {
      "cell_type": "code",
      "metadata": {
        "id": "Z-rciSujgKmf"
      },
      "source": [
        "# Scale the Data\n",
        "from sklearn.preprocessing import MinMaxScaler\n",
        "sc = MinMaxScaler(feature_range = (0, 1))\n",
        "price_volume_target_scaled_df = sc.fit_transform(price_volume_target_df.drop(columns = ['Date']))"
      ],
      "execution_count": 20,
      "outputs": []
    },
    {
      "cell_type": "code",
      "metadata": {
        "colab": {
          "base_uri": "https://localhost:8080/"
        },
        "id": "w5xySCptgSgt",
        "outputId": "5fea8fb7-4409-4ab2-f8a9-a74a06586a71"
      },
      "source": [
        "price_volume_target_scaled_df"
      ],
      "execution_count": 21,
      "outputs": [
        {
          "output_type": "execute_result",
          "data": {
            "text/plain": [
              "array([[0.01102638, 0.11442624, 0.01046185],\n",
              "       [0.01046185, 0.12362365, 0.01220906],\n",
              "       [0.01220906, 0.13517696, 0.01378478],\n",
              "       ...,\n",
              "       [1.        , 0.10747163, 0.97208751],\n",
              "       [0.97208751, 0.10431171, 0.98824476],\n",
              "       [0.98824476, 0.11430054, 0.95470465]])"
            ]
          },
          "metadata": {
            "tags": []
          },
          "execution_count": 21
        }
      ]
    },
    {
      "cell_type": "code",
      "metadata": {
        "colab": {
          "base_uri": "https://localhost:8080/"
        },
        "id": "OA_S-EYjgiZ8",
        "outputId": "795742dd-df1f-4374-fd0d-c4e3ff25fd77"
      },
      "source": [
        "price_volume_target_scaled_df.shape"
      ],
      "execution_count": 22,
      "outputs": [
        {
          "output_type": "execute_result",
          "data": {
            "text/plain": [
              "(2158, 3)"
            ]
          },
          "metadata": {
            "tags": []
          },
          "execution_count": 22
        }
      ]
    },
    {
      "cell_type": "code",
      "metadata": {
        "id": "cnSen49nglQ5"
      },
      "source": [
        "# Creating Feature and Target\n",
        "X = price_volume_target_scaled_df[:,:2]\n",
        "y = price_volume_target_scaled_df[:,2:]"
      ],
      "execution_count": 23,
      "outputs": []
    },
    {
      "cell_type": "code",
      "metadata": {
        "colab": {
          "base_uri": "https://localhost:8080/"
        },
        "id": "IfITG1MRgrNg",
        "outputId": "f157de1f-9ee4-4753-8512-55a81203fb74"
      },
      "source": [
        "# Converting dataframe to arrays\n",
        "# X = np.asarray(X)\n",
        "# y = np.asarray(y)\n",
        "X.shape, y.shape"
      ],
      "execution_count": 24,
      "outputs": [
        {
          "output_type": "execute_result",
          "data": {
            "text/plain": [
              "((2158, 2), (2158, 1))"
            ]
          },
          "metadata": {
            "tags": []
          },
          "execution_count": 24
        }
      ]
    },
    {
      "cell_type": "code",
      "metadata": {
        "id": "l5BcY1P8guAP"
      },
      "source": [
        "# Spliting the data this way, since order is important in time-series\n",
        "# Note that we did not use train test split with it's default settings since it shuffles the data\n",
        "split = int(0.65 * len(X))\n",
        "X_train = X[:split]\n",
        "y_train = y[:split]\n",
        "X_test = X[split:]\n",
        "y_test = y[split:]"
      ],
      "execution_count": 25,
      "outputs": []
    },
    {
      "cell_type": "code",
      "metadata": {
        "colab": {
          "base_uri": "https://localhost:8080/"
        },
        "id": "SNRJmjJ1gw25",
        "outputId": "d8ad561a-71d5-4505-b686-c84af91ba67c"
      },
      "source": [
        "X_train.shape, y_train.shape"
      ],
      "execution_count": 26,
      "outputs": [
        {
          "output_type": "execute_result",
          "data": {
            "text/plain": [
              "((1402, 2), (1402, 1))"
            ]
          },
          "metadata": {
            "tags": []
          },
          "execution_count": 26
        }
      ]
    },
    {
      "cell_type": "code",
      "metadata": {
        "colab": {
          "base_uri": "https://localhost:8080/"
        },
        "id": "K_KoysGKgz6d",
        "outputId": "3e977875-2559-47a4-9547-7f3c4bd996ce"
      },
      "source": [
        "X_test.shape, y_test.shape"
      ],
      "execution_count": 27,
      "outputs": [
        {
          "output_type": "execute_result",
          "data": {
            "text/plain": [
              "((756, 2), (756, 1))"
            ]
          },
          "metadata": {
            "tags": []
          },
          "execution_count": 27
        }
      ]
    },
    {
      "cell_type": "code",
      "metadata": {
        "colab": {
          "base_uri": "https://localhost:8080/",
          "height": 655
        },
        "id": "5LK4A-oQhK7y",
        "outputId": "c1ba66c3-63da-470a-bfe5-901b7801e680"
      },
      "source": [
        "# Define a data plotting function\n",
        "def show_plot(data, title):\n",
        "  plt.figure(figsize = (13, 5))\n",
        "  plt.plot(data, linewidth = 3)\n",
        "  plt.title(title)\n",
        "  plt.grid()\n",
        "\n",
        "show_plot(X_train, 'Training Data')\n",
        "show_plot(X_test, 'Testing Data')\n"
      ],
      "execution_count": 28,
      "outputs": [
        {
          "output_type": "display_data",
          "data": {
            "image/png": "[encoded data removed]",
            "text/plain": [
              "<Figure size 936x360 with 1 Axes>"
            ]
          },
          "metadata": {
            "tags": [],
            "needs_background": "light"
          }
        },
        {
          "output_type": "display_data",
          "data": {
            "image/png": "[encoded data removed]",
            "text/plain": [
              "<Figure size 936x360 with 1 Axes>"
            ]
          },
          "metadata": {
            "tags": [],
            "needs_background": "light"
          }
        }
      ]
    },
    {
      "cell_type": "code",
      "metadata": {
        "colab": {
          "base_uri": "https://localhost:8080/"
        },
        "id": "oiICrW17hMeU",
        "outputId": "9beb9579-89bf-4184-f3c0-06e24d67fd01"
      },
      "source": [
        "# Building a ridge Linear regression model\n",
        "from sklearn.linear_model import Ridge\n",
        "# Note that Ridge regression performs linear least squares with L2 regularization.\n",
        "\n",
        "regression_model = Ridge()\n",
        "regression_model.fit(X_train, y_train)"
      ],
      "execution_count": 29,
      "outputs": [
        {
          "output_type": "execute_result",
          "data": {
            "text/plain": [
              "Ridge(alpha=1.0, copy_X=True, fit_intercept=True, max_iter=None,\n",
              "      normalize=False, random_state=None, solver='auto', tol=0.001)"
            ]
          },
          "metadata": {
            "tags": []
          },
          "execution_count": 29
        }
      ]
    },
    {
      "cell_type": "code",
      "metadata": {
        "colab": {
          "base_uri": "https://localhost:8080/"
        },
        "id": "zjj7EKhqhXQh",
        "outputId": "f69850f4-97d0-459a-f0f3-ff00f78a3f29"
      },
      "source": [
        "# Test the model and calculate its accuracy \n",
        "lr_accuracy = regression_model.score(X_test, y_test)\n",
        "print(\"Linear Regression Score: \", lr_accuracy)"
      ],
      "execution_count": 30,
      "outputs": [
        {
          "output_type": "stream",
          "text": [
            "Linear Regression Score:  0.7950028030821767\n"
          ],
          "name": "stdout"
        }
      ]
    },
    {
      "cell_type": "code",
      "metadata": {
        "colab": {
          "base_uri": "https://localhost:8080/"
        },
        "id": "VrpAg3aMhbgJ",
        "outputId": "119db05d-6f41-4610-98ba-a6be09cda78c"
      },
      "source": [
        "# Make Prediction\n",
        "predicted_prices = regression_model.predict(X)\n",
        "predicted_prices"
      ],
      "execution_count": 31,
      "outputs": [
        {
          "output_type": "execute_result",
          "data": {
            "text/plain": [
              "array([[0.03466412],\n",
              "       [0.03374627],\n",
              "       [0.03451936],\n",
              "       ...,\n",
              "       [0.81048342],\n",
              "       [0.78876033],\n",
              "       [0.80091324]])"
            ]
          },
          "metadata": {
            "tags": []
          },
          "execution_count": 31
        }
      ]
    },
    {
      "cell_type": "code",
      "metadata": {
        "colab": {
          "base_uri": "https://localhost:8080/"
        },
        "id": "u_yy5-V8henv",
        "outputId": "0aec18fa-b561-4301-9e6e-67507ac18a78"
      },
      "source": [
        "# Append the predicted values into a list\n",
        "Predicted = []\n",
        "for i in predicted_prices:\n",
        "  Predicted.append(i[0])\n",
        "len(Predicted)"
      ],
      "execution_count": 32,
      "outputs": [
        {
          "output_type": "execute_result",
          "data": {
            "text/plain": [
              "2158"
            ]
          },
          "metadata": {
            "tags": []
          },
          "execution_count": 32
        }
      ]
    },
    {
      "cell_type": "code",
      "metadata": {
        "id": "GNpFFa5shzUX"
      },
      "source": [
        "# Append the close values to the list\n",
        "close = []\n",
        "for i in price_volume_target_scaled_df:\n",
        "  close.append(i[0])"
      ],
      "execution_count": 33,
      "outputs": []
    },
    {
      "cell_type": "code",
      "metadata": {
        "colab": {
          "base_uri": "https://localhost:8080/",
          "height": 423
        },
        "id": "whu2olATh4iB",
        "outputId": "0c38a38e-b139-4f71-e0f6-e598a3d00ca1"
      },
      "source": [
        "# Create a dataframe based on the dates in the individual stock data\n",
        "df_predicted = price_volume_target_df[['Date']]\n",
        "df_predicted"
      ],
      "execution_count": 34,
      "outputs": [
        {
          "output_type": "execute_result",
          "data": {
            "text/html": [
              "<div>\n",
              "<style scoped>\n",
              "    .dataframe tbody tr th:only-of-type {\n",
              "        vertical-align: middle;\n",
              "    }\n",
              "\n",
              "    .dataframe tbody tr th {\n",
              "        vertical-align: top;\n",
              "    }\n",
              "\n",
              "    .dataframe thead th {\n",
              "        text-align: right;\n",
              "    }\n",
              "</style>\n",
              "<table border=\"1\" class=\"dataframe\">\n",
              "  <thead>\n",
              "    <tr style=\"text-align: right;\">\n",
              "      <th></th>\n",
              "      <th>Date</th>\n",
              "    </tr>\n",
              "  </thead>\n",
              "  <tbody>\n",
              "    <tr>\n",
              "      <th>0</th>\n",
              "      <td>2012-01-12</td>\n",
              "    </tr>\n",
              "    <tr>\n",
              "      <th>1</th>\n",
              "      <td>2012-01-13</td>\n",
              "    </tr>\n",
              "    <tr>\n",
              "      <th>2</th>\n",
              "      <td>2012-01-17</td>\n",
              "    </tr>\n",
              "    <tr>\n",
              "      <th>3</th>\n",
              "      <td>2012-01-18</td>\n",
              "    </tr>\n",
              "    <tr>\n",
              "      <th>4</th>\n",
              "      <td>2012-01-19</td>\n",
              "    </tr>\n",
              "    <tr>\n",
              "      <th>...</th>\n",
              "      <td>...</td>\n",
              "    </tr>\n",
              "    <tr>\n",
              "      <th>2153</th>\n",
              "      <td>2020-08-04</td>\n",
              "    </tr>\n",
              "    <tr>\n",
              "      <th>2154</th>\n",
              "      <td>2020-08-05</td>\n",
              "    </tr>\n",
              "    <tr>\n",
              "      <th>2155</th>\n",
              "      <td>2020-08-06</td>\n",
              "    </tr>\n",
              "    <tr>\n",
              "      <th>2156</th>\n",
              "      <td>2020-08-07</td>\n",
              "    </tr>\n",
              "    <tr>\n",
              "      <th>2157</th>\n",
              "      <td>2020-08-10</td>\n",
              "    </tr>\n",
              "  </tbody>\n",
              "</table>\n",
              "<p>2158 rows × 1 columns</p>\n",
              "</div>"
            ],
            "text/plain": [
              "            Date\n",
              "0     2012-01-12\n",
              "1     2012-01-13\n",
              "2     2012-01-17\n",
              "3     2012-01-18\n",
              "4     2012-01-19\n",
              "...          ...\n",
              "2153  2020-08-04\n",
              "2154  2020-08-05\n",
              "2155  2020-08-06\n",
              "2156  2020-08-07\n",
              "2157  2020-08-10\n",
              "\n",
              "[2158 rows x 1 columns]"
            ]
          },
          "metadata": {
            "tags": []
          },
          "execution_count": 34
        }
      ]
    },
    {
      "cell_type": "code",
      "metadata": {
        "colab": {
          "base_uri": "https://localhost:8080/",
          "height": 423
        },
        "id": "etY6kBaTh58h",
        "outputId": "5fcb0984-52a0-4147-804e-8edccd73f37e"
      },
      "source": [
        "# Add the close values to the dataframe\n",
        "df_predicted['Close'] = close\n",
        "df_predicted"
      ],
      "execution_count": 35,
      "outputs": [
        {
          "output_type": "execute_result",
          "data": {
            "text/html": [
              "<div>\n",
              "<style scoped>\n",
              "    .dataframe tbody tr th:only-of-type {\n",
              "        vertical-align: middle;\n",
              "    }\n",
              "\n",
              "    .dataframe tbody tr th {\n",
              "        vertical-align: top;\n",
              "    }\n",
              "\n",
              "    .dataframe thead th {\n",
              "        text-align: right;\n",
              "    }\n",
              "</style>\n",
              "<table border=\"1\" class=\"dataframe\">\n",
              "  <thead>\n",
              "    <tr style=\"text-align: right;\">\n",
              "      <th></th>\n",
              "      <th>Date</th>\n",
              "      <th>Close</th>\n",
              "    </tr>\n",
              "  </thead>\n",
              "  <tbody>\n",
              "    <tr>\n",
              "      <th>0</th>\n",
              "      <td>2012-01-12</td>\n",
              "      <td>0.011026</td>\n",
              "    </tr>\n",
              "    <tr>\n",
              "      <th>1</th>\n",
              "      <td>2012-01-13</td>\n",
              "      <td>0.010462</td>\n",
              "    </tr>\n",
              "    <tr>\n",
              "      <th>2</th>\n",
              "      <td>2012-01-17</td>\n",
              "      <td>0.012209</td>\n",
              "    </tr>\n",
              "    <tr>\n",
              "      <th>3</th>\n",
              "      <td>2012-01-18</td>\n",
              "      <td>0.013785</td>\n",
              "    </tr>\n",
              "    <tr>\n",
              "      <th>4</th>\n",
              "      <td>2012-01-19</td>\n",
              "      <td>0.013299</td>\n",
              "    </tr>\n",
              "    <tr>\n",
              "      <th>...</th>\n",
              "      <td>...</td>\n",
              "      <td>...</td>\n",
              "    </tr>\n",
              "    <tr>\n",
              "      <th>2153</th>\n",
              "      <td>2020-08-04</td>\n",
              "      <td>0.957606</td>\n",
              "    </tr>\n",
              "    <tr>\n",
              "      <th>2154</th>\n",
              "      <td>2020-08-05</td>\n",
              "      <td>0.961583</td>\n",
              "    </tr>\n",
              "    <tr>\n",
              "      <th>2155</th>\n",
              "      <td>2020-08-06</td>\n",
              "      <td>1.000000</td>\n",
              "    </tr>\n",
              "    <tr>\n",
              "      <th>2156</th>\n",
              "      <td>2020-08-07</td>\n",
              "      <td>0.972088</td>\n",
              "    </tr>\n",
              "    <tr>\n",
              "      <th>2157</th>\n",
              "      <td>2020-08-10</td>\n",
              "      <td>0.988245</td>\n",
              "    </tr>\n",
              "  </tbody>\n",
              "</table>\n",
              "<p>2158 rows × 2 columns</p>\n",
              "</div>"
            ],
            "text/plain": [
              "            Date     Close\n",
              "0     2012-01-12  0.011026\n",
              "1     2012-01-13  0.010462\n",
              "2     2012-01-17  0.012209\n",
              "3     2012-01-18  0.013785\n",
              "4     2012-01-19  0.013299\n",
              "...          ...       ...\n",
              "2153  2020-08-04  0.957606\n",
              "2154  2020-08-05  0.961583\n",
              "2155  2020-08-06  1.000000\n",
              "2156  2020-08-07  0.972088\n",
              "2157  2020-08-10  0.988245\n",
              "\n",
              "[2158 rows x 2 columns]"
            ]
          },
          "metadata": {
            "tags": []
          },
          "execution_count": 35
        }
      ]
    },
    {
      "cell_type": "code",
      "metadata": {
        "id": "6Rb-DxEch_QJ",
        "colab": {
          "base_uri": "https://localhost:8080/",
          "height": 423
        },
        "outputId": "82fb9732-1302-42c0-eb8d-bdbc5e0993ff"
      },
      "source": [
        "# Add the predicted values to the dataframe\n",
        "df_predicted['Prediction'] = Predicted\n",
        "df_predicted"
      ],
      "execution_count": 36,
      "outputs": [
        {
          "output_type": "execute_result",
          "data": {
            "text/html": [
              "<div>\n",
              "<style scoped>\n",
              "    .dataframe tbody tr th:only-of-type {\n",
              "        vertical-align: middle;\n",
              "    }\n",
              "\n",
              "    .dataframe tbody tr th {\n",
              "        vertical-align: top;\n",
              "    }\n",
              "\n",
              "    .dataframe thead th {\n",
              "        text-align: right;\n",
              "    }\n",
              "</style>\n",
              "<table border=\"1\" class=\"dataframe\">\n",
              "  <thead>\n",
              "    <tr style=\"text-align: right;\">\n",
              "      <th></th>\n",
              "      <th>Date</th>\n",
              "      <th>Close</th>\n",
              "      <th>Prediction</th>\n",
              "    </tr>\n",
              "  </thead>\n",
              "  <tbody>\n",
              "    <tr>\n",
              "      <th>0</th>\n",
              "      <td>2012-01-12</td>\n",
              "      <td>0.011026</td>\n",
              "      <td>0.034664</td>\n",
              "    </tr>\n",
              "    <tr>\n",
              "      <th>1</th>\n",
              "      <td>2012-01-13</td>\n",
              "      <td>0.010462</td>\n",
              "      <td>0.033746</td>\n",
              "    </tr>\n",
              "    <tr>\n",
              "      <th>2</th>\n",
              "      <td>2012-01-17</td>\n",
              "      <td>0.012209</td>\n",
              "      <td>0.034519</td>\n",
              "    </tr>\n",
              "    <tr>\n",
              "      <th>3</th>\n",
              "      <td>2012-01-18</td>\n",
              "      <td>0.013785</td>\n",
              "      <td>0.034556</td>\n",
              "    </tr>\n",
              "    <tr>\n",
              "      <th>4</th>\n",
              "      <td>2012-01-19</td>\n",
              "      <td>0.013299</td>\n",
              "      <td>0.034707</td>\n",
              "    </tr>\n",
              "    <tr>\n",
              "      <th>...</th>\n",
              "      <td>...</td>\n",
              "      <td>...</td>\n",
              "      <td>...</td>\n",
              "    </tr>\n",
              "    <tr>\n",
              "      <th>2153</th>\n",
              "      <td>2020-08-04</td>\n",
              "      <td>0.957606</td>\n",
              "      <td>0.778280</td>\n",
              "    </tr>\n",
              "    <tr>\n",
              "      <th>2154</th>\n",
              "      <td>2020-08-05</td>\n",
              "      <td>0.961583</td>\n",
              "      <td>0.783205</td>\n",
              "    </tr>\n",
              "    <tr>\n",
              "      <th>2155</th>\n",
              "      <td>2020-08-06</td>\n",
              "      <td>1.000000</td>\n",
              "      <td>0.810483</td>\n",
              "    </tr>\n",
              "    <tr>\n",
              "      <th>2156</th>\n",
              "      <td>2020-08-07</td>\n",
              "      <td>0.972088</td>\n",
              "      <td>0.788760</td>\n",
              "    </tr>\n",
              "    <tr>\n",
              "      <th>2157</th>\n",
              "      <td>2020-08-10</td>\n",
              "      <td>0.988245</td>\n",
              "      <td>0.800913</td>\n",
              "    </tr>\n",
              "  </tbody>\n",
              "</table>\n",
              "<p>2158 rows × 3 columns</p>\n",
              "</div>"
            ],
            "text/plain": [
              "            Date     Close  Prediction\n",
              "0     2012-01-12  0.011026    0.034664\n",
              "1     2012-01-13  0.010462    0.033746\n",
              "2     2012-01-17  0.012209    0.034519\n",
              "3     2012-01-18  0.013785    0.034556\n",
              "4     2012-01-19  0.013299    0.034707\n",
              "...          ...       ...         ...\n",
              "2153  2020-08-04  0.957606    0.778280\n",
              "2154  2020-08-05  0.961583    0.783205\n",
              "2155  2020-08-06  1.000000    0.810483\n",
              "2156  2020-08-07  0.972088    0.788760\n",
              "2157  2020-08-10  0.988245    0.800913\n",
              "\n",
              "[2158 rows x 3 columns]"
            ]
          },
          "metadata": {
            "tags": []
          },
          "execution_count": 36
        }
      ]
    },
    {
      "cell_type": "code",
      "metadata": {
        "colab": {
          "base_uri": "https://localhost:8080/",
          "height": 423
        },
        "id": "YB3KSZ1fiRm1",
        "outputId": "994bfb25-af9f-4dba-a025-5663292cbbea"
      },
      "source": [
        "# Add the predicted values to the dataframe\n",
        "df_predicted['Prediction'] = Predicted\n",
        "df_predicted"
      ],
      "execution_count": 37,
      "outputs": [
        {
          "output_type": "execute_result",
          "data": {
            "text/html": [
              "<div>\n",
              "<style scoped>\n",
              "    .dataframe tbody tr th:only-of-type {\n",
              "        vertical-align: middle;\n",
              "    }\n",
              "\n",
              "    .dataframe tbody tr th {\n",
              "        vertical-align: top;\n",
              "    }\n",
              "\n",
              "    .dataframe thead th {\n",
              "        text-align: right;\n",
              "    }\n",
              "</style>\n",
              "<table border=\"1\" class=\"dataframe\">\n",
              "  <thead>\n",
              "    <tr style=\"text-align: right;\">\n",
              "      <th></th>\n",
              "      <th>Date</th>\n",
              "      <th>Close</th>\n",
              "      <th>Prediction</th>\n",
              "    </tr>\n",
              "  </thead>\n",
              "  <tbody>\n",
              "    <tr>\n",
              "      <th>0</th>\n",
              "      <td>2012-01-12</td>\n",
              "      <td>0.011026</td>\n",
              "      <td>0.034664</td>\n",
              "    </tr>\n",
              "    <tr>\n",
              "      <th>1</th>\n",
              "      <td>2012-01-13</td>\n",
              "      <td>0.010462</td>\n",
              "      <td>0.033746</td>\n",
              "    </tr>\n",
              "    <tr>\n",
              "      <th>2</th>\n",
              "      <td>2012-01-17</td>\n",
              "      <td>0.012209</td>\n",
              "      <td>0.034519</td>\n",
              "    </tr>\n",
              "    <tr>\n",
              "      <th>3</th>\n",
              "      <td>2012-01-18</td>\n",
              "      <td>0.013785</td>\n",
              "      <td>0.034556</td>\n",
              "    </tr>\n",
              "    <tr>\n",
              "      <th>4</th>\n",
              "      <td>2012-01-19</td>\n",
              "      <td>0.013299</td>\n",
              "      <td>0.034707</td>\n",
              "    </tr>\n",
              "    <tr>\n",
              "      <th>...</th>\n",
              "      <td>...</td>\n",
              "      <td>...</td>\n",
              "      <td>...</td>\n",
              "    </tr>\n",
              "    <tr>\n",
              "      <th>2153</th>\n",
              "      <td>2020-08-04</td>\n",
              "      <td>0.957606</td>\n",
              "      <td>0.778280</td>\n",
              "    </tr>\n",
              "    <tr>\n",
              "      <th>2154</th>\n",
              "      <td>2020-08-05</td>\n",
              "      <td>0.961583</td>\n",
              "      <td>0.783205</td>\n",
              "    </tr>\n",
              "    <tr>\n",
              "      <th>2155</th>\n",
              "      <td>2020-08-06</td>\n",
              "      <td>1.000000</td>\n",
              "      <td>0.810483</td>\n",
              "    </tr>\n",
              "    <tr>\n",
              "      <th>2156</th>\n",
              "      <td>2020-08-07</td>\n",
              "      <td>0.972088</td>\n",
              "      <td>0.788760</td>\n",
              "    </tr>\n",
              "    <tr>\n",
              "      <th>2157</th>\n",
              "      <td>2020-08-10</td>\n",
              "      <td>0.988245</td>\n",
              "      <td>0.800913</td>\n",
              "    </tr>\n",
              "  </tbody>\n",
              "</table>\n",
              "<p>2158 rows × 3 columns</p>\n",
              "</div>"
            ],
            "text/plain": [
              "            Date     Close  Prediction\n",
              "0     2012-01-12  0.011026    0.034664\n",
              "1     2012-01-13  0.010462    0.033746\n",
              "2     2012-01-17  0.012209    0.034519\n",
              "3     2012-01-18  0.013785    0.034556\n",
              "4     2012-01-19  0.013299    0.034707\n",
              "...          ...       ...         ...\n",
              "2153  2020-08-04  0.957606    0.778280\n",
              "2154  2020-08-05  0.961583    0.783205\n",
              "2155  2020-08-06  1.000000    0.810483\n",
              "2156  2020-08-07  0.972088    0.788760\n",
              "2157  2020-08-10  0.988245    0.800913\n",
              "\n",
              "[2158 rows x 3 columns]"
            ]
          },
          "metadata": {
            "tags": []
          },
          "execution_count": 37
        }
      ]
    },
    {
      "cell_type": "code",
      "metadata": {
        "id": "ytcnPRMLiVeP"
      },
      "source": [
        "# Function to normalize stock prices based on their initial price\n",
        "def normalize(df):\n",
        "  x = df.copy()\n",
        "  for i in x.columns[1:]:\n",
        "    x[i] = x[i]/x[i][0]\n",
        "  return x"
      ],
      "execution_count": 39,
      "outputs": []
    },
    {
      "cell_type": "code",
      "metadata": {
        "id": "BBaD424git_P"
      },
      "source": [
        "# Function to plot interactive plots using Plotly Express\n",
        "def interactive_plot(df, title):\n",
        "  fig = px.line(title = title)\n",
        "  for i in df.columns[1:]:\n",
        "    fig.add_scatter(x = df['Date'], y = df[i], name = i)\n",
        "  fig.show()"
      ],
      "execution_count": 40,
      "outputs": []
    },
    {
      "cell_type": "code",
      "metadata": {
        "colab": {
          "base_uri": "https://localhost:8080/",
          "height": 542
        },
        "id": "xHQgao0WixpH",
        "outputId": "a884c2fd-6c7f-433a-e8a1-5ac82ff72717"
      },
      "source": [
        "# Plot the results\n",
        "interactive_plot(df_predicted, \"Original Vs. Prediction\")"
      ],
      "execution_count": 41,
      "outputs": [
        {
          "output_type": "display_data",
          "data": {
            "text/html": [
              "<html>\n",
              "<head><meta charset=\"utf-8\" /></head>\n",
              "<body>\n",
              "    <div>\n",
              "            <script src=\"https://cdnjs.cloudflare.com/ajax/libs/mathjax/2.7.5/MathJax.js?config=TeX-AMS-MML_SVG\"></script><script type=\"text/javascript\">if (window.MathJax) {MathJax.Hub.Config({SVG: {font: \"STIX-Web\"}});}</script>\n",
              "                <script type=\"text/javascript\">window.PlotlyConfig = {MathJaxConfig: 'local'};</script>\n",
              "        <script src=\"https://cdn.plot.ly/plotly-latest.min.js\"></script>    \n",
              "            <div id=\"6723f6d7-2606-43a9-8a6d-735fc27d4a0d\" class=\"plotly-graph-div\" style=\"height:525px; width:100%;\"></div>\n",
              "            <script type=\"text/javascript\">\n",
              "                \n",
              "                    window.PLOTLYENV=window.PLOTLYENV || {};\n",
              "                    \n",
              "                if (document.getElementById(\"6723f6d7-2606-43a9-8a6d-735fc27d4a0d\")) {\n",
              "                    Plotly.newPlot(\n",
              "                        '6723f6d7-2606-43a9-8a6d-735fc27d4a0d',\n",
              "                        [{\"name\": \"Close\", \"type\": \"scatter\", \"x\": [\"2012-01-12\", \"2012-01-13\", \"2012-01-17\", \"2012-01-18\", \"2012-01-19\", \"2012-01-20\", \"2012-01-23\", \"2012-01-24\", \"2012-01-25\", \"2012-01-26\", \"2012-01-27\", \"2012-01-30\", \"2012-01-31\", \"2012-02-01\", \"2012-02-02\", \"2012-02-03\", \"2012-02-06\", \"2012-02-07\", \"2012-02-08\", \"2012-02-09\", \"2012-02-10\", \"2012-02-13\", \"2012-02-14\", \"2012-02-15\", \"2012-02-16\", \"2012-02-17\", \"2012-02-21\", \"2012-02-22\", \"2012-02-23\", \"2012-02-24\", \"2012-02-27\", \"2012-02-28\", \"2012-02-29\", \"2012-03-01\", \"2012-03-02\", \"2012-03-05\", \"2012-03-06\", \"2012-03-07\", \"2012-03-08\", \"2012-03-09\", \"2012-03-12\", \"2012-03-13\", \"2012-03-14\", \"2012-03-15\", \"2012-03-16\", \"2012-03-19\", \"2012-03-20\", \"2012-03-21\", \"2012-03-22\", \"2012-03-23\", \"2012-03-26\", \"2012-03-27\", \"2012-03-28\", \"2012-03-29\", \"2012-03-30\", \"2012-04-02\", \"2012-04-03\", \"2012-04-04\", \"2012-04-05\", \"2012-04-09\", \"2012-04-10\", \"2012-04-11\", \"2012-04-12\", \"2012-04-13\", \"2012-04-16\", \"2012-04-17\", \"2012-04-18\", \"2012-04-19\", \"2012-04-20\", \"2012-04-23\", \"2012-04-24\", \"2012-04-25\", \"2012-04-26\", \"2012-04-27\", \"2012-04-30\", \"2012-05-01\", \"2012-05-02\", \"2012-05-03\", \"2012-05-04\", \"2012-05-07\", \"2012-05-08\", \"2012-05-09\", \"2012-05-10\", \"2012-05-11\", \"2012-05-14\", \"2012-05-15\", \"2012-05-16\", \"2012-05-17\", \"2012-05-18\", \"2012-05-21\", \"2012-05-22\", \"2012-05-23\", \"2012-05-24\", \"2012-05-25\", \"2012-05-29\", \"2012-05-30\", \"2012-05-31\", \"2012-06-01\", \"2012-06-04\", \"2012-06-05\", \"2012-06-06\", \"2012-06-07\", \"2012-06-08\", \"2012-06-11\", \"2012-06-12\", \"2012-06-13\", \"2012-06-14\", \"2012-06-15\", \"2012-06-18\", \"2012-06-19\", \"2012-06-20\", \"2012-06-21\", \"2012-06-22\", \"2012-06-25\", \"2012-06-26\", \"2012-06-27\", \"2012-06-28\", \"2012-06-29\", \"2012-07-02\", \"2012-07-03\", \"2012-07-05\", \"2012-07-06\", \"2012-07-09\", \"2012-07-10\", \"2012-07-11\", \"2012-07-12\", \"2012-07-13\", \"2012-07-16\", \"2012-07-17\", \"2012-07-18\", \"2012-07-19\", \"2012-07-20\", \"2012-07-23\", \"2012-07-24\", \"2012-07-25\", \"2012-07-26\", \"2012-07-27\", \"2012-07-30\", \"2012-07-31\", \"2012-08-01\", \"2012-08-02\", \"2012-08-03\", \"2012-08-06\", \"2012-08-07\", \"2012-08-08\", \"2012-08-09\", \"2012-08-10\", \"2012-08-13\", \"2012-08-14\", \"2012-08-15\", \"2012-08-16\", \"2012-08-17\", \"2012-08-20\", \"2012-08-21\", \"2012-08-22\", \"2012-08-23\", \"2012-08-24\", \"2012-08-27\", \"2012-08-28\", \"2012-08-29\", \"2012-08-30\", \"2012-08-31\", \"2012-09-04\", \"2012-09-05\", \"2012-09-06\", \"2012-09-07\", \"2012-09-10\", \"2012-09-11\", \"2012-09-12\", \"2012-09-13\", \"2012-09-14\", \"2012-09-17\", \"2012-09-18\", \"2012-09-19\", \"2012-09-20\", \"2012-09-21\", \"2012-09-24\", \"2012-09-25\", \"2012-09-26\", \"2012-09-27\", \"2012-09-28\", \"2012-10-01\", \"2012-10-02\", \"2012-10-03\", \"2012-10-04\", \"2012-10-05\", \"2012-10-08\", \"2012-10-09\", \"2012-10-10\", \"2012-10-11\", \"2012-10-12\", \"2012-10-15\", \"2012-10-16\", \"2012-10-17\", \"2012-10-18\", \"2012-10-19\", \"2012-10-22\", \"2012-10-23\", \"2012-10-24\", \"2012-10-25\", \"2012-10-26\", \"2012-10-31\", \"2012-11-01\", \"2012-11-02\", \"2012-11-05\", \"2012-11-06\", \"2012-11-07\", \"2012-11-08\", \"2012-11-09\", \"2012-11-12\", \"2012-11-13\", \"2012-11-14\", \"2012-11-15\", \"2012-11-16\", \"2012-11-19\", \"2012-11-20\", \"2012-11-21\", \"2012-11-23\", \"2012-11-26\", \"2012-11-27\", \"2012-11-28\", \"2012-11-29\", \"2012-11-30\", \"2012-12-03\", \"2012-12-04\", \"2012-12-05\", \"2012-12-06\", \"2012-12-07\", \"2012-12-10\", \"2012-12-11\", \"2012-12-12\", \"2012-12-13\", \"2012-12-14\", \"2012-12-17\", \"2012-12-18\", \"2012-12-19\", \"2012-12-20\", \"2012-12-21\", \"2012-12-24\", \"2012-12-26\", \"2012-12-27\", \"2012-12-28\", \"2012-12-31\", \"2013-01-02\", \"2013-01-03\", \"2013-01-04\", \"2013-01-07\", \"2013-01-08\", \"2013-01-09\", \"2013-01-10\", \"2013-01-11\", \"2013-01-14\", \"2013-01-15\", \"2013-01-16\", \"2013-01-17\", \"2013-01-18\", \"2013-01-22\", \"2013-01-23\", \"2013-01-24\", \"2013-01-25\", \"2013-01-28\", \"2013-01-29\", \"2013-01-30\", \"2013-01-31\", \"2013-02-01\", \"2013-02-04\", \"2013-02-05\", \"2013-02-06\", \"2013-02-07\", \"2013-02-08\", \"2013-02-11\", \"2013-02-12\", \"2013-02-13\", \"2013-02-14\", \"2013-02-15\", \"2013-02-19\", \"2013-02-20\", \"2013-02-21\", \"2013-02-22\", \"2013-02-25\", \"2013-02-26\", \"2013-02-27\", \"2013-02-28\", \"2013-03-01\", \"2013-03-04\", \"2013-03-05\", \"2013-03-06\", \"2013-03-07\", \"2013-03-08\", \"2013-03-11\", \"2013-03-12\", \"2013-03-13\", \"2013-03-14\", \"2013-03-15\", \"2013-03-18\", \"2013-03-19\", \"2013-03-20\", \"2013-03-21\", \"2013-03-22\", \"2013-03-25\", \"2013-03-26\", \"2013-03-27\", \"2013-03-28\", \"2013-04-01\", \"2013-04-02\", \"2013-04-03\", \"2013-04-04\", \"2013-04-05\", \"2013-04-08\", \"2013-04-09\", \"2013-04-10\", \"2013-04-11\", \"2013-04-12\", \"2013-04-15\", \"2013-04-16\", \"2013-04-17\", \"2013-04-18\", \"2013-04-19\", \"2013-04-22\", \"2013-04-23\", \"2013-04-24\", \"2013-04-25\", \"2013-04-26\", \"2013-04-29\", \"2013-04-30\", \"2013-05-01\", \"2013-05-02\", \"2013-05-03\", \"2013-05-06\", \"2013-05-07\", \"2013-05-08\", \"2013-05-09\", \"2013-05-10\", \"2013-05-13\", \"2013-05-14\", \"2013-05-15\", \"2013-05-16\", \"2013-05-17\", \"2013-05-20\", \"2013-05-21\", \"2013-05-22\", \"2013-05-23\", \"2013-05-24\", \"2013-05-28\", \"2013-05-29\", \"2013-05-30\", \"2013-05-31\", \"2013-06-03\", \"2013-06-04\", \"2013-06-05\", \"2013-06-06\", \"2013-06-07\", \"2013-06-10\", \"2013-06-11\", \"2013-06-12\", \"2013-06-13\", \"2013-06-14\", \"2013-06-17\", \"2013-06-18\", \"2013-06-19\", \"2013-06-20\", \"2013-06-21\", \"2013-06-24\", \"2013-06-25\", \"2013-06-26\", \"2013-06-27\", \"2013-06-28\", \"2013-07-01\", \"2013-07-02\", \"2013-07-03\", \"2013-07-05\", \"2013-07-08\", \"2013-07-09\", \"2013-07-10\", \"2013-07-11\", \"2013-07-12\", \"2013-07-15\", \"2013-07-16\", \"2013-07-17\", \"2013-07-18\", \"2013-07-19\", \"2013-07-22\", \"2013-07-23\", \"2013-07-24\", \"2013-07-25\", \"2013-07-26\", \"2013-07-29\", \"2013-07-30\", \"2013-07-31\", \"2013-08-01\", \"2013-08-02\", \"2013-08-05\", \"2013-08-06\", \"2013-08-07\", \"2013-08-08\", \"2013-08-09\", \"2013-08-12\", \"2013-08-13\", \"2013-08-14\", \"2013-08-15\", \"2013-08-16\", \"2013-08-19\", \"2013-08-20\", \"2013-08-21\", \"2013-08-22\", \"2013-08-23\", \"2013-08-26\", \"2013-08-27\", \"2013-08-28\", \"2013-08-29\", \"2013-08-30\", \"2013-09-03\", \"2013-09-04\", \"2013-09-05\", \"2013-09-06\", \"2013-09-09\", \"2013-09-10\", \"2013-09-11\", \"2013-09-12\", \"2013-09-13\", \"2013-09-16\", \"2013-09-17\", \"2013-09-18\", \"2013-09-19\", \"2013-09-20\", \"2013-09-23\", \"2013-09-24\", \"2013-09-25\", \"2013-09-26\", \"2013-09-27\", \"2013-09-30\", \"2013-10-01\", \"2013-10-02\", \"2013-10-03\", \"2013-10-04\", \"2013-10-07\", \"2013-10-08\", \"2013-10-09\", \"2013-10-10\", \"2013-10-11\", \"2013-10-14\", \"2013-10-15\", \"2013-10-16\", \"2013-10-17\", \"2013-10-18\", \"2013-10-21\", \"2013-10-22\", \"2013-10-23\", \"2013-10-24\", \"2013-10-25\", \"2013-10-28\", \"2013-10-29\", \"2013-10-30\", \"2013-10-31\", \"2013-11-01\", \"2013-11-04\", \"2013-11-05\", \"2013-11-06\", \"2013-11-07\", \"2013-11-08\", \"2013-11-11\", \"2013-11-12\", \"2013-11-13\", \"2013-11-14\", \"2013-11-15\", \"2013-11-18\", \"2013-11-19\", \"2013-11-20\", \"2013-11-21\", \"2013-11-22\", \"2013-11-25\", \"2013-11-26\", \"2013-11-27\", \"2013-11-29\", \"2013-12-02\", \"2013-12-03\", \"2013-12-04\", \"2013-12-05\", \"2013-12-06\", \"2013-12-09\", \"2013-12-10\", \"2013-12-11\", \"2013-12-12\", \"2013-12-13\", \"2013-12-16\", \"2013-12-17\", \"2013-12-18\", \"2013-12-19\", \"2013-12-20\", \"2013-12-23\", \"2013-12-24\", \"2013-12-26\", \"2013-12-27\", \"2013-12-30\", \"2013-12-31\", \"2014-01-02\", \"2014-01-03\", \"2014-01-06\", \"2014-01-07\", \"2014-01-08\", \"2014-01-09\", \"2014-01-10\", \"2014-01-13\", \"2014-01-14\", \"2014-01-15\", \"2014-01-16\", \"2014-01-17\", \"2014-01-21\", \"2014-01-22\", \"2014-01-23\", \"2014-01-24\", \"2014-01-27\", \"2014-01-28\", \"2014-01-29\", \"2014-01-30\", \"2014-01-31\", \"2014-02-03\", \"2014-02-04\", \"2014-02-05\", \"2014-02-06\", \"2014-02-07\", \"2014-02-10\", \"2014-02-11\", \"2014-02-12\", \"2014-02-13\", \"2014-02-14\", \"2014-02-18\", \"2014-02-19\", \"2014-02-20\", \"2014-02-21\", \"2014-02-24\", \"2014-02-25\", \"2014-02-26\", \"2014-02-27\", \"2014-02-28\", \"2014-03-03\", \"2014-03-04\", \"2014-03-05\", \"2014-03-06\", \"2014-03-07\", \"2014-03-10\", \"2014-03-11\", \"2014-03-12\", \"2014-03-13\", \"2014-03-14\", \"2014-03-17\", \"2014-03-18\", \"2014-03-19\", \"2014-03-20\", \"2014-03-21\", \"2014-03-24\", \"2014-03-25\", \"2014-03-26\", \"2014-03-27\", \"2014-03-28\", \"2014-03-31\", \"2014-04-01\", \"2014-04-02\", \"2014-04-03\", \"2014-04-04\", \"2014-04-07\", \"2014-04-08\", \"2014-04-09\", \"2014-04-10\", \"2014-04-11\", \"2014-04-14\", \"2014-04-15\", \"2014-04-16\", \"2014-04-17\", \"2014-04-21\", \"2014-04-22\", \"2014-04-23\", \"2014-04-24\", \"2014-04-25\", \"2014-04-28\", \"2014-04-29\", \"2014-04-30\", \"2014-05-01\", \"2014-05-02\", \"2014-05-05\", \"2014-05-06\", \"2014-05-07\", \"2014-05-08\", \"2014-05-09\", \"2014-05-12\", \"2014-05-13\", \"2014-05-14\", \"2014-05-15\", \"2014-05-16\", \"2014-05-19\", \"2014-05-20\", \"2014-05-21\", \"2014-05-22\", \"2014-05-23\", \"2014-05-27\", \"2014-05-28\", \"2014-05-29\", \"2014-05-30\", \"2014-06-02\", \"2014-06-03\", \"2014-06-04\", \"2014-06-05\", \"2014-06-06\", \"2014-06-09\", \"2014-06-10\", \"2014-06-11\", \"2014-06-12\", \"2014-06-13\", \"2014-06-16\", \"2014-06-17\", \"2014-06-18\", \"2014-06-19\", \"2014-06-20\", \"2014-06-23\", \"2014-06-24\", \"2014-06-25\", \"2014-06-26\", \"2014-06-27\", \"2014-06-30\", \"2014-07-01\", \"2014-07-02\", \"2014-07-03\", \"2014-07-07\", \"2014-07-08\", \"2014-07-09\", \"2014-07-10\", \"2014-07-11\", \"2014-07-14\", \"2014-07-15\", \"2014-07-16\", \"2014-07-17\", \"2014-07-18\", \"2014-07-21\", \"2014-07-22\", \"2014-07-23\", \"2014-07-24\", \"2014-07-25\", \"2014-07-28\", \"2014-07-29\", \"2014-07-30\", \"2014-07-31\", \"2014-08-01\", \"2014-08-04\", \"2014-08-05\", \"2014-08-06\", \"2014-08-07\", \"2014-08-08\", \"2014-08-11\", \"2014-08-12\", \"2014-08-13\", \"2014-08-14\", \"2014-08-15\", \"2014-08-18\", \"2014-08-19\", \"2014-08-20\", \"2014-08-21\", \"2014-08-22\", \"2014-08-25\", \"2014-08-26\", \"2014-08-27\", \"2014-08-28\", \"2014-08-29\", \"2014-09-02\", \"2014-09-03\", \"2014-09-04\", \"2014-09-05\", \"2014-09-08\", \"2014-09-09\", \"2014-09-10\", \"2014-09-11\", \"2014-09-12\", \"2014-09-15\", \"2014-09-16\", \"2014-09-17\", \"2014-09-18\", \"2014-09-19\", \"2014-09-22\", \"2014-09-23\", \"2014-09-24\", \"2014-09-25\", \"2014-09-26\", \"2014-09-29\", \"2014-09-30\", \"2014-10-01\", \"2014-10-02\", \"2014-10-03\", \"2014-10-06\", \"2014-10-07\", \"2014-10-08\", \"2014-10-09\", \"2014-10-10\", \"2014-10-13\", \"2014-10-14\", \"2014-10-15\", \"2014-10-16\", \"2014-10-17\", \"2014-10-20\", \"2014-10-21\", \"2014-10-22\", \"2014-10-23\", \"2014-10-24\", \"2014-10-27\", \"2014-10-28\", \"2014-10-29\", \"2014-10-30\", \"2014-10-31\", \"2014-11-03\", \"2014-11-04\", \"2014-11-05\", \"2014-11-06\", \"2014-11-07\", \"2014-11-10\", \"2014-11-11\", \"2014-11-12\", \"2014-11-13\", \"2014-11-14\", \"2014-11-17\", \"2014-11-18\", \"2014-11-19\", \"2014-11-20\", \"2014-11-21\", \"2014-11-24\", \"2014-11-25\", \"2014-11-26\", \"2014-11-28\", \"2014-12-01\", \"2014-12-02\", \"2014-12-03\", \"2014-12-04\", \"2014-12-05\", \"2014-12-08\", \"2014-12-09\", \"2014-12-10\", \"2014-12-11\", \"2014-12-12\", \"2014-12-15\", \"2014-12-16\", \"2014-12-17\", \"2014-12-18\", \"2014-12-19\", \"2014-12-22\", \"2014-12-23\", \"2014-12-24\", \"2014-12-26\", \"2014-12-29\", \"2014-12-30\", \"2014-12-31\", \"2015-01-02\", \"2015-01-05\", \"2015-01-06\", \"2015-01-07\", \"2015-01-08\", \"2015-01-09\", \"2015-01-12\", \"2015-01-13\", \"2015-01-14\", \"2015-01-15\", \"2015-01-16\", \"2015-01-20\", \"2015-01-21\", \"2015-01-22\", \"2015-01-23\", \"2015-01-26\", \"2015-01-27\", \"2015-01-28\", \"2015-01-29\", \"2015-01-30\", \"2015-02-02\", \"2015-02-03\", \"2015-02-04\", \"2015-02-05\", \"2015-02-06\", \"2015-02-09\", \"2015-02-10\", \"2015-02-11\", \"2015-02-12\", \"2015-02-13\", \"2015-02-17\", \"2015-02-18\", \"2015-02-19\", \"2015-02-20\", \"2015-02-23\", \"2015-02-24\", \"2015-02-25\", \"2015-02-26\", \"2015-02-27\", \"2015-03-02\", \"2015-03-03\", \"2015-03-04\", \"2015-03-05\", \"2015-03-06\", \"2015-03-09\", \"2015-03-10\", \"2015-03-11\", \"2015-03-12\", \"2015-03-13\", \"2015-03-16\", \"2015-03-17\", \"2015-03-18\", \"2015-03-19\", \"2015-03-20\", \"2015-03-23\", \"2015-03-24\", \"2015-03-25\", \"2015-03-26\", \"2015-03-27\", \"2015-03-30\", \"2015-03-31\", \"2015-04-01\", \"2015-04-02\", \"2015-04-06\", \"2015-04-07\", \"2015-04-08\", \"2015-04-09\", \"2015-04-10\", \"2015-04-13\", \"2015-04-14\", \"2015-04-15\", \"2015-04-16\", \"2015-04-17\", \"2015-04-20\", \"2015-04-21\", \"2015-04-22\", \"2015-04-23\", \"2015-04-24\", \"2015-04-27\", \"2015-04-28\", \"2015-04-29\", \"2015-04-30\", \"2015-05-01\", \"2015-05-04\", \"2015-05-05\", \"2015-05-06\", \"2015-05-07\", \"2015-05-08\", \"2015-05-11\", \"2015-05-12\", \"2015-05-13\", \"2015-05-14\", \"2015-05-15\", \"2015-05-18\", \"2015-05-19\", \"2015-05-20\", \"2015-05-21\", \"2015-05-22\", \"2015-05-26\", \"2015-05-27\", \"2015-05-28\", \"2015-05-29\", \"2015-06-01\", \"2015-06-02\", \"2015-06-03\", \"2015-06-04\", \"2015-06-05\", \"2015-06-08\", \"2015-06-09\", \"2015-06-10\", \"2015-06-11\", \"2015-06-12\", \"2015-06-15\", \"2015-06-16\", \"2015-06-17\", \"2015-06-18\", \"2015-06-19\", \"2015-06-22\", \"2015-06-23\", \"2015-06-24\", \"2015-06-25\", \"2015-06-26\", \"2015-06-29\", \"2015-06-30\", \"2015-07-01\", \"2015-07-02\", \"2015-07-06\", \"2015-07-07\", \"2015-07-08\", \"2015-07-09\", \"2015-07-10\", \"2015-07-13\", \"2015-07-14\", \"2015-07-15\", \"2015-07-16\", \"2015-07-17\", \"2015-07-20\", \"2015-07-21\", \"2015-07-22\", \"2015-07-23\", \"2015-07-24\", \"2015-07-27\", \"2015-07-28\", \"2015-07-29\", \"2015-07-30\", \"2015-07-31\", \"2015-08-03\", \"2015-08-04\", \"2015-08-05\", \"2015-08-06\", \"2015-08-07\", \"2015-08-10\", \"2015-08-11\", \"2015-08-12\", \"2015-08-13\", \"2015-08-14\", \"2015-08-17\", \"2015-08-18\", \"2015-08-19\", \"2015-08-20\", \"2015-08-21\", \"2015-08-24\", \"2015-08-25\", \"2015-08-26\", \"2015-08-27\", \"2015-08-28\", \"2015-08-31\", \"2015-09-01\", \"2015-09-02\", \"2015-09-03\", \"2015-09-04\", \"2015-09-08\", \"2015-09-09\", \"2015-09-10\", \"2015-09-11\", \"2015-09-14\", \"2015-09-15\", \"2015-09-16\", \"2015-09-17\", \"2015-09-18\", \"2015-09-21\", \"2015-09-22\", \"2015-09-23\", \"2015-09-24\", \"2015-09-25\", \"2015-09-28\", \"2015-09-29\", \"2015-09-30\", \"2015-10-01\", \"2015-10-02\", \"2015-10-05\", \"2015-10-06\", \"2015-10-07\", \"2015-10-08\", \"2015-10-09\", \"2015-10-12\", \"2015-10-13\", \"2015-10-14\", \"2015-10-15\", \"2015-10-16\", \"2015-10-19\", \"2015-10-20\", \"2015-10-21\", \"2015-10-22\", \"2015-10-23\", \"2015-10-26\", \"2015-10-27\", \"2015-10-28\", \"2015-10-29\", \"2015-10-30\", \"2015-11-02\", \"2015-11-03\", \"2015-11-04\", \"2015-11-05\", \"2015-11-06\", \"2015-11-09\", \"2015-11-10\", \"2015-11-11\", \"2015-11-12\", \"2015-11-13\", \"2015-11-16\", \"2015-11-17\", \"2015-11-18\", \"2015-11-19\", \"2015-11-20\", \"2015-11-23\", \"2015-11-24\", \"2015-11-25\", \"2015-11-27\", \"2015-11-30\", \"2015-12-01\", \"2015-12-02\", \"2015-12-03\", \"2015-12-04\", \"2015-12-07\", \"2015-12-08\", \"2015-12-09\", \"2015-12-10\", \"2015-12-11\", \"2015-12-14\", \"2015-12-15\", \"2015-12-16\", \"2015-12-17\", \"2015-12-18\", \"2015-12-21\", \"2015-12-22\", \"2015-12-23\", \"2015-12-24\", \"2015-12-28\", \"2015-12-29\", \"2015-12-30\", \"2015-12-31\", \"2016-01-04\", \"2016-01-05\", \"2016-01-06\", \"2016-01-07\", \"2016-01-08\", \"2016-01-11\", \"2016-01-12\", \"2016-01-13\", \"2016-01-14\", \"2016-01-15\", \"2016-01-19\", \"2016-01-20\", \"2016-01-21\", \"2016-01-22\", \"2016-01-25\", \"2016-01-26\", \"2016-01-27\", \"2016-01-28\", \"2016-01-29\", \"2016-02-01\", \"2016-02-02\", \"2016-02-03\", \"2016-02-04\", \"2016-02-05\", \"2016-02-08\", \"2016-02-09\", \"2016-02-10\", \"2016-02-11\", \"2016-02-12\", \"2016-02-16\", \"2016-02-17\", \"2016-02-18\", \"2016-02-19\", \"2016-02-22\", \"2016-02-23\", \"2016-02-24\", \"2016-02-25\", \"2016-02-26\", \"2016-02-29\", \"2016-03-01\", \"2016-03-02\", \"2016-03-03\", \"2016-03-04\", \"2016-03-07\", \"2016-03-08\", \"2016-03-09\", \"2016-03-10\", \"2016-03-11\", \"2016-03-14\", \"2016-03-15\", \"2016-03-16\", \"2016-03-17\", \"2016-03-18\", \"2016-03-21\", \"2016-03-22\", \"2016-03-23\", \"2016-03-24\", \"2016-03-28\", \"2016-03-29\", \"2016-03-30\", \"2016-03-31\", \"2016-04-01\", \"2016-04-04\", \"2016-04-05\", \"2016-04-06\", \"2016-04-07\", \"2016-04-08\", \"2016-04-11\", \"2016-04-12\", \"2016-04-13\", \"2016-04-14\", \"2016-04-15\", \"2016-04-18\", \"2016-04-19\", \"2016-04-20\", \"2016-04-21\", \"2016-04-22\", \"2016-04-25\", \"2016-04-26\", \"2016-04-27\", \"2016-04-28\", \"2016-04-29\", \"2016-05-02\", \"2016-05-03\", \"2016-05-04\", \"2016-05-05\", \"2016-05-06\", \"2016-05-09\", \"2016-05-10\", \"2016-05-11\", \"2016-05-12\", \"2016-05-13\", \"2016-05-16\", \"2016-05-17\", \"2016-05-18\", \"2016-05-19\", \"2016-05-20\", \"2016-05-23\", \"2016-05-24\", \"2016-05-25\", \"2016-05-26\", \"2016-05-27\", \"2016-05-31\", \"2016-06-01\", \"2016-06-02\", \"2016-06-03\", \"2016-06-06\", \"2016-06-07\", \"2016-06-08\", \"2016-06-09\", \"2016-06-10\", \"2016-06-13\", \"2016-06-14\", \"2016-06-15\", \"2016-06-16\", \"2016-06-17\", \"2016-06-20\", \"2016-06-21\", \"2016-06-22\", \"2016-06-23\", \"2016-06-24\", \"2016-06-27\", \"2016-06-28\", \"2016-06-29\", \"2016-06-30\", \"2016-07-01\", \"2016-07-05\", \"2016-07-06\", \"2016-07-07\", \"2016-07-08\", \"2016-07-11\", \"2016-07-12\", \"2016-07-13\", \"2016-07-14\", \"2016-07-15\", \"2016-07-18\", \"2016-07-19\", \"2016-07-20\", \"2016-07-21\", \"2016-07-22\", \"2016-07-25\", \"2016-07-26\", \"2016-07-27\", \"2016-07-28\", \"2016-07-29\", \"2016-08-01\", \"2016-08-02\", \"2016-08-03\", \"2016-08-04\", \"2016-08-05\", \"2016-08-08\", \"2016-08-09\", \"2016-08-10\", \"2016-08-11\", \"2016-08-12\", \"2016-08-15\", \"2016-08-16\", \"2016-08-17\", \"2016-08-18\", \"2016-08-19\", \"2016-08-22\", \"2016-08-23\", \"2016-08-24\", \"2016-08-25\", \"2016-08-26\", \"2016-08-29\", \"2016-08-30\", \"2016-08-31\", \"2016-09-01\", \"2016-09-02\", \"2016-09-06\", \"2016-09-07\", \"2016-09-08\", \"2016-09-09\", \"2016-09-12\", \"2016-09-13\", \"2016-09-14\", \"2016-09-15\", \"2016-09-16\", \"2016-09-19\", \"2016-09-20\", \"2016-09-21\", \"2016-09-22\", \"2016-09-23\", \"2016-09-26\", \"2016-09-27\", \"2016-09-28\", \"2016-09-29\", \"2016-09-30\", \"2016-10-03\", \"2016-10-04\", \"2016-10-05\", \"2016-10-06\", \"2016-10-07\", \"2016-10-10\", \"2016-10-11\", \"2016-10-12\", \"2016-10-13\", \"2016-10-14\", \"2016-10-17\", \"2016-10-18\", \"2016-10-19\", \"2016-10-20\", \"2016-10-21\", \"2016-10-24\", \"2016-10-25\", \"2016-10-26\", \"2016-10-27\", \"2016-10-28\", \"2016-10-31\", \"2016-11-01\", \"2016-11-02\", \"2016-11-03\", \"2016-11-04\", \"2016-11-07\", \"2016-11-08\", \"2016-11-09\", \"2016-11-10\", \"2016-11-11\", \"2016-11-14\", \"2016-11-15\", \"2016-11-16\", \"2016-11-17\", \"2016-11-18\", \"2016-11-21\", \"2016-11-22\", \"2016-11-23\", \"2016-11-25\", \"2016-11-28\", \"2016-11-29\", \"2016-11-30\", \"2016-12-01\", \"2016-12-02\", \"2016-12-05\", \"2016-12-06\", \"2016-12-07\", \"2016-12-08\", \"2016-12-09\", \"2016-12-12\", \"2016-12-13\", \"2016-12-14\", \"2016-12-15\", \"2016-12-16\", \"2016-12-19\", \"2016-12-20\", \"2016-12-21\", \"2016-12-22\", \"2016-12-23\", \"2016-12-27\", \"2016-12-28\", \"2016-12-29\", \"2016-12-30\", \"2017-01-03\", \"2017-01-04\", \"2017-01-05\", \"2017-01-06\", \"2017-01-09\", \"2017-01-10\", \"2017-01-11\", \"2017-01-12\", \"2017-01-13\", \"2017-01-17\", \"2017-01-18\", \"2017-01-19\", \"2017-01-20\", \"2017-01-23\", \"2017-01-24\", \"2017-01-25\", \"2017-01-26\", \"2017-01-27\", \"2017-01-30\", \"2017-01-31\", \"2017-02-01\", \"2017-02-02\", \"2017-02-03\", \"2017-02-06\", \"2017-02-07\", \"2017-02-08\", \"2017-02-09\", \"2017-02-10\", \"2017-02-13\", \"2017-02-14\", \"2017-02-15\", \"2017-02-16\", \"2017-02-17\", \"2017-02-21\", \"2017-02-22\", \"2017-02-23\", \"2017-02-24\", \"2017-02-27\", \"2017-02-28\", \"2017-03-01\", \"2017-03-02\", \"2017-03-03\", \"2017-03-06\", \"2017-03-07\", \"2017-03-08\", \"2017-03-09\", \"2017-03-10\", \"2017-03-13\", \"2017-03-14\", \"2017-03-15\", \"2017-03-16\", \"2017-03-17\", \"2017-03-20\", \"2017-03-21\", \"2017-03-22\", \"2017-03-23\", \"2017-03-24\", \"2017-03-27\", \"2017-03-28\", \"2017-03-29\", \"2017-03-30\", \"2017-03-31\", \"2017-04-03\", \"2017-04-04\", \"2017-04-05\", \"2017-04-06\", \"2017-04-07\", \"2017-04-10\", \"2017-04-11\", \"2017-04-12\", \"2017-04-13\", \"2017-04-17\", \"2017-04-18\", \"2017-04-19\", \"2017-04-20\", \"2017-04-21\", \"2017-04-24\", \"2017-04-25\", \"2017-04-26\", \"2017-04-27\", \"2017-04-28\", \"2017-05-01\", \"2017-05-02\", \"2017-05-03\", \"2017-05-04\", \"2017-05-05\", \"2017-05-08\", \"2017-05-09\", \"2017-05-10\", \"2017-05-11\", \"2017-05-12\", \"2017-05-15\", \"2017-05-16\", \"2017-05-17\", \"2017-05-18\", \"2017-05-19\", \"2017-05-22\", \"2017-05-23\", \"2017-05-24\", \"2017-05-25\", \"2017-05-26\", \"2017-05-30\", \"2017-05-31\", \"2017-06-01\", \"2017-06-02\", \"2017-06-05\", \"2017-06-06\", \"2017-06-07\", \"2017-06-08\", \"2017-06-09\", \"2017-06-12\", \"2017-06-13\", \"2017-06-14\", \"2017-06-15\", \"2017-06-16\", \"2017-06-19\", \"2017-06-20\", \"2017-06-21\", \"2017-06-22\", \"2017-06-23\", \"2017-06-26\", \"2017-06-27\", \"2017-06-28\", \"2017-06-29\", \"2017-06-30\", \"2017-07-03\", \"2017-07-05\", \"2017-07-06\", \"2017-07-07\", \"2017-07-10\", \"2017-07-11\", \"2017-07-12\", \"2017-07-13\", \"2017-07-14\", \"2017-07-17\", \"2017-07-18\", \"2017-07-19\", \"2017-07-20\", \"2017-07-21\", \"2017-07-24\", \"2017-07-25\", \"2017-07-26\", \"2017-07-27\", \"2017-07-28\", \"2017-07-31\", \"2017-08-01\", \"2017-08-02\", \"2017-08-03\", \"2017-08-04\", \"2017-08-07\", \"2017-08-08\", \"2017-08-09\", \"2017-08-10\", \"2017-08-11\", \"2017-08-14\", \"2017-08-15\", \"2017-08-16\", \"2017-08-17\", \"2017-08-18\", \"2017-08-21\", \"2017-08-22\", \"2017-08-23\", \"2017-08-24\", \"2017-08-25\", \"2017-08-28\", \"2017-08-29\", \"2017-08-30\", \"2017-08-31\", \"2017-09-01\", \"2017-09-05\", \"2017-09-06\", \"2017-09-07\", \"2017-09-08\", \"2017-09-11\", \"2017-09-12\", \"2017-09-13\", \"2017-09-14\", \"2017-09-15\", \"2017-09-18\", \"2017-09-19\", \"2017-09-20\", \"2017-09-21\", \"2017-09-22\", \"2017-09-25\", \"2017-09-26\", \"2017-09-27\", \"2017-09-28\", \"2017-09-29\", \"2017-10-02\", \"2017-10-03\", \"2017-10-04\", \"2017-10-05\", \"2017-10-06\", \"2017-10-09\", \"2017-10-10\", \"2017-10-11\", \"2017-10-12\", \"2017-10-13\", \"2017-10-16\", \"2017-10-17\", \"2017-10-18\", \"2017-10-19\", \"2017-10-20\", \"2017-10-23\", \"2017-10-24\", \"2017-10-25\", \"2017-10-26\", \"2017-10-27\", \"2017-10-30\", \"2017-10-31\", \"2017-11-01\", \"2017-11-02\", \"2017-11-03\", \"2017-11-06\", \"2017-11-07\", \"2017-11-08\", \"2017-11-09\", \"2017-11-10\", \"2017-11-13\", \"2017-11-14\", \"2017-11-15\", \"2017-11-16\", \"2017-11-17\", \"2017-11-20\", \"2017-11-21\", \"2017-11-22\", \"2017-11-24\", \"2017-11-27\", \"2017-11-28\", \"2017-11-29\", \"2017-11-30\", \"2017-12-01\", \"2017-12-04\", \"2017-12-05\", \"2017-12-06\", \"2017-12-07\", \"2017-12-08\", \"2017-12-11\", \"2017-12-12\", \"2017-12-13\", \"2017-12-14\", \"2017-12-15\", \"2017-12-18\", \"2017-12-19\", \"2017-12-20\", \"2017-12-21\", \"2017-12-22\", \"2017-12-26\", \"2017-12-27\", \"2017-12-28\", \"2017-12-29\", \"2018-01-02\", \"2018-01-03\", \"2018-01-04\", \"2018-01-05\", \"2018-01-08\", \"2018-01-09\", \"2018-01-10\", \"2018-01-11\", \"2018-01-12\", \"2018-01-16\", \"2018-01-17\", \"2018-01-18\", \"2018-01-19\", \"2018-01-22\", \"2018-01-23\", \"2018-01-24\", \"2018-01-25\", \"2018-01-26\", \"2018-01-29\", \"2018-01-30\", \"2018-01-31\", \"2018-02-01\", \"2018-02-02\", \"2018-02-05\", \"2018-02-06\", \"2018-02-07\", \"2018-02-08\", \"2018-02-09\", \"2018-02-12\", \"2018-02-13\", \"2018-02-14\", \"2018-02-15\", \"2018-02-16\", \"2018-02-20\", \"2018-02-21\", \"2018-02-22\", \"2018-02-23\", \"2018-02-26\", \"2018-02-27\", \"2018-02-28\", \"2018-03-01\", \"2018-03-02\", \"2018-03-05\", \"2018-03-06\", \"2018-03-07\", \"2018-03-08\", \"2018-03-09\", \"2018-03-12\", \"2018-03-13\", \"2018-03-14\", \"2018-03-15\", \"2018-03-16\", \"2018-03-19\", \"2018-03-20\", \"2018-03-21\", \"2018-03-22\", \"2018-03-23\", \"2018-03-26\", \"2018-03-27\", \"2018-03-28\", \"2018-03-29\", \"2018-04-02\", \"2018-04-03\", \"2018-04-04\", \"2018-04-05\", \"2018-04-06\", \"2018-04-09\", \"2018-04-10\", \"2018-04-11\", \"2018-04-12\", \"2018-04-13\", \"2018-04-16\", \"2018-04-17\", \"2018-04-18\", \"2018-04-19\", \"2018-04-20\", \"2018-04-23\", \"2018-04-24\", \"2018-04-25\", \"2018-04-26\", \"2018-04-27\", \"2018-04-30\", \"2018-05-01\", \"2018-05-02\", \"2018-05-03\", \"2018-05-04\", \"2018-05-07\", \"2018-05-08\", \"2018-05-09\", \"2018-05-10\", \"2018-05-11\", \"2018-05-14\", \"2018-05-15\", \"2018-05-16\", \"2018-05-17\", \"2018-05-18\", \"2018-05-21\", \"2018-05-22\", \"2018-05-23\", \"2018-05-24\", \"2018-05-25\", \"2018-05-29\", \"2018-05-30\", \"2018-05-31\", \"2018-06-01\", \"2018-06-04\", \"2018-06-05\", \"2018-06-06\", \"2018-06-07\", \"2018-06-08\", \"2018-06-11\", \"2018-06-12\", \"2018-06-13\", \"2018-06-14\", \"2018-06-15\", \"2018-06-18\", \"2018-06-19\", \"2018-06-20\", \"2018-06-21\", \"2018-06-22\", \"2018-06-25\", \"2018-06-26\", \"2018-06-27\", \"2018-06-28\", \"2018-06-29\", \"2018-07-02\", \"2018-07-03\", \"2018-07-05\", \"2018-07-06\", \"2018-07-09\", \"2018-07-10\", \"2018-07-11\", \"2018-07-12\", \"2018-07-13\", \"2018-07-16\", \"2018-07-17\", \"2018-07-18\", \"2018-07-19\", \"2018-07-20\", \"2018-07-23\", \"2018-07-24\", \"2018-07-25\", \"2018-07-26\", \"2018-07-27\", \"2018-07-30\", \"2018-07-31\", \"2018-08-01\", \"2018-08-02\", \"2018-08-03\", \"2018-08-06\", \"2018-08-07\", \"2018-08-08\", \"2018-08-09\", \"2018-08-10\", \"2018-08-13\", \"2018-08-14\", \"2018-08-15\", \"2018-08-16\", \"2018-08-17\", \"2018-08-20\", \"2018-08-21\", \"2018-08-22\", \"2018-08-23\", \"2018-08-24\", \"2018-08-27\", \"2018-08-28\", \"2018-08-29\", \"2018-08-30\", \"2018-08-31\", \"2018-09-04\", \"2018-09-05\", \"2018-09-06\", \"2018-09-07\", \"2018-09-10\", \"2018-09-11\", \"2018-09-12\", \"2018-09-13\", \"2018-09-14\", \"2018-09-17\", \"2018-09-18\", \"2018-09-19\", \"2018-09-20\", \"2018-09-21\", \"2018-09-24\", \"2018-09-25\", \"2018-09-26\", \"2018-09-27\", \"2018-09-28\", \"2018-10-01\", \"2018-10-02\", \"2018-10-03\", \"2018-10-04\", \"2018-10-05\", \"2018-10-08\", \"2018-10-09\", \"2018-10-10\", \"2018-10-11\", \"2018-10-12\", \"2018-10-15\", \"2018-10-16\", \"2018-10-17\", \"2018-10-18\", \"2018-10-19\", \"2018-10-22\", \"2018-10-23\", \"2018-10-24\", \"2018-10-25\", \"2018-10-26\", \"2018-10-29\", \"2018-10-30\", \"2018-10-31\", \"2018-11-01\", \"2018-11-02\", \"2018-11-05\", \"2018-11-06\", \"2018-11-07\", \"2018-11-08\", \"2018-11-09\", \"2018-11-12\", \"2018-11-13\", \"2018-11-14\", \"2018-11-15\", \"2018-11-16\", \"2018-11-19\", \"2018-11-20\", \"2018-11-21\", \"2018-11-23\", \"2018-11-26\", \"2018-11-27\", \"2018-11-28\", \"2018-11-29\", \"2018-11-30\", \"2018-12-03\", \"2018-12-04\", \"2018-12-06\", \"2018-12-07\", \"2018-12-10\", \"2018-12-11\", \"2018-12-12\", \"2018-12-13\", \"2018-12-14\", \"2018-12-17\", \"2018-12-18\", \"2018-12-19\", \"2018-12-20\", \"2018-12-21\", \"2018-12-24\", \"2018-12-26\", \"2018-12-27\", \"2018-12-28\", \"2018-12-31\", \"2019-01-02\", \"2019-01-03\", \"2019-01-04\", \"2019-01-07\", \"2019-01-08\", \"2019-01-09\", \"2019-01-10\", \"2019-01-11\", \"2019-01-14\", \"2019-01-15\", \"2019-01-16\", \"2019-01-17\", \"2019-01-18\", \"2019-01-22\", \"2019-01-23\", \"2019-01-24\", \"2019-01-25\", \"2019-01-28\", \"2019-01-29\", \"2019-01-30\", \"2019-01-31\", \"2019-02-01\", \"2019-02-04\", \"2019-02-05\", \"2019-02-06\", \"2019-02-07\", \"2019-02-08\", \"2019-02-11\", \"2019-02-12\", \"2019-02-13\", \"2019-02-14\", \"2019-02-15\", \"2019-02-19\", \"2019-02-20\", \"2019-02-21\", \"2019-02-22\", \"2019-02-25\", \"2019-02-26\", \"2019-02-27\", \"2019-02-28\", \"2019-03-01\", \"2019-03-04\", \"2019-03-05\", \"2019-03-06\", \"2019-03-07\", \"2019-03-08\", \"2019-03-11\", \"2019-03-12\", \"2019-03-13\", \"2019-03-14\", \"2019-03-15\", \"2019-03-18\", \"2019-03-19\", \"2019-03-20\", \"2019-03-21\", \"2019-03-22\", \"2019-03-25\", \"2019-03-26\", \"2019-03-27\", \"2019-03-28\", \"2019-03-29\", \"2019-04-01\", \"2019-04-02\", \"2019-04-03\", \"2019-04-04\", \"2019-04-05\", \"2019-04-08\", \"2019-04-09\", \"2019-04-10\", \"2019-04-11\", \"2019-04-12\", \"2019-04-15\", \"2019-04-16\", \"2019-04-17\", \"2019-04-18\", \"2019-04-22\", \"2019-04-23\", \"2019-04-24\", \"2019-04-25\", \"2019-04-26\", \"2019-04-29\", \"2019-04-30\", \"2019-05-01\", \"2019-05-02\", \"2019-05-03\", \"2019-05-06\", \"2019-05-07\", \"2019-05-08\", \"2019-05-09\", \"2019-05-10\", \"2019-05-13\", \"2019-05-14\", \"2019-05-15\", \"2019-05-16\", \"2019-05-17\", \"2019-05-20\", \"2019-05-21\", \"2019-05-22\", \"2019-05-23\", \"2019-05-24\", \"2019-05-28\", \"2019-05-29\", \"2019-05-30\", \"2019-05-31\", \"2019-06-03\", \"2019-06-04\", \"2019-06-05\", \"2019-06-06\", \"2019-06-07\", \"2019-06-10\", \"2019-06-11\", \"2019-06-12\", \"2019-06-13\", \"2019-06-14\", \"2019-06-17\", \"2019-06-18\", \"2019-06-19\", \"2019-06-20\", \"2019-06-21\", \"2019-06-24\", \"2019-06-25\", \"2019-06-26\", \"2019-06-27\", \"2019-06-28\", \"2019-07-01\", \"2019-07-02\", \"2019-07-03\", \"2019-07-05\", \"2019-07-08\", \"2019-07-09\", \"2019-07-10\", \"2019-07-11\", \"2019-07-12\", \"2019-07-15\", \"2019-07-16\", \"2019-07-17\", \"2019-07-18\", \"2019-07-19\", \"2019-07-22\", \"2019-07-23\", \"2019-07-24\", \"2019-07-25\", \"2019-07-26\", \"2019-07-29\", \"2019-07-30\", \"2019-07-31\", \"2019-08-01\", \"2019-08-02\", \"2019-08-05\", \"2019-08-06\", \"2019-08-07\", \"2019-08-08\", \"2019-08-09\", \"2019-08-12\", \"2019-08-13\", \"2019-08-14\", \"2019-08-15\", \"2019-08-16\", \"2019-08-19\", \"2019-08-20\", \"2019-08-21\", \"2019-08-22\", \"2019-08-23\", \"2019-08-26\", \"2019-08-27\", \"2019-08-28\", \"2019-08-29\", \"2019-08-30\", \"2019-09-03\", \"2019-09-04\", \"2019-09-05\", \"2019-09-06\", \"2019-09-09\", \"2019-09-10\", \"2019-09-11\", \"2019-09-12\", \"2019-09-13\", \"2019-09-16\", \"2019-09-17\", \"2019-09-18\", \"2019-09-19\", \"2019-09-20\", \"2019-09-23\", \"2019-09-24\", \"2019-09-25\", \"2019-09-26\", \"2019-09-27\", \"2019-09-30\", \"2019-10-01\", \"2019-10-02\", \"2019-10-03\", \"2019-10-04\", \"2019-10-07\", \"2019-10-08\", \"2019-10-09\", \"2019-10-10\", \"2019-10-11\", \"2019-10-14\", \"2019-10-15\", \"2019-10-16\", \"2019-10-17\", \"2019-10-18\", \"2019-10-21\", \"2019-10-22\", \"2019-10-23\", \"2019-10-24\", \"2019-10-25\", \"2019-10-28\", \"2019-10-29\", \"2019-10-30\", \"2019-10-31\", \"2019-11-01\", \"2019-11-04\", \"2019-11-05\", \"2019-11-06\", \"2019-11-07\", \"2019-11-08\", \"2019-11-11\", \"2019-11-12\", \"2019-11-13\", \"2019-11-14\", \"2019-11-15\", \"2019-11-18\", \"2019-11-19\", \"2019-11-20\", \"2019-11-21\", \"2019-11-22\", \"2019-11-25\", \"2019-11-26\", \"2019-11-27\", \"2019-11-29\", \"2019-12-02\", \"2019-12-03\", \"2019-12-04\", \"2019-12-05\", \"2019-12-06\", \"2019-12-09\", \"2019-12-10\", \"2019-12-11\", \"2019-12-12\", \"2019-12-13\", \"2019-12-16\", \"2019-12-17\", \"2019-12-18\", \"2019-12-19\", \"2019-12-20\", \"2019-12-23\", \"2019-12-24\", \"2019-12-26\", \"2019-12-27\", \"2019-12-30\", \"2019-12-31\", \"2020-01-02\", \"2020-01-03\", \"2020-01-06\", \"2020-01-07\", \"2020-01-08\", \"2020-01-09\", \"2020-01-10\", \"2020-01-13\", \"2020-01-14\", \"2020-01-15\", \"2020-01-16\", \"2020-01-17\", \"2020-01-21\", \"2020-01-22\", \"2020-01-23\", \"2020-01-24\", \"2020-01-27\", \"2020-01-28\", \"2020-01-29\", \"2020-01-30\", \"2020-01-31\", \"2020-02-03\", \"2020-02-04\", \"2020-02-05\", \"2020-02-06\", \"2020-02-07\", \"2020-02-10\", \"2020-02-11\", \"2020-02-12\", \"2020-02-13\", \"2020-02-14\", \"2020-02-18\", \"2020-02-19\", \"2020-02-20\", \"2020-02-21\", \"2020-02-24\", \"2020-02-25\", \"2020-02-26\", \"2020-02-27\", \"2020-02-28\", \"2020-03-02\", \"2020-03-03\", \"2020-03-04\", \"2020-03-05\", \"2020-03-06\", \"2020-03-09\", \"2020-03-10\", \"2020-03-11\", \"2020-03-12\", \"2020-03-13\", \"2020-03-16\", \"2020-03-17\", \"2020-03-18\", \"2020-03-19\", \"2020-03-20\", \"2020-03-23\", \"2020-03-24\", \"2020-03-25\", \"2020-03-26\", \"2020-03-27\", \"2020-03-30\", \"2020-03-31\", \"2020-04-01\", \"2020-04-02\", \"2020-04-03\", \"2020-04-06\", \"2020-04-07\", \"2020-04-08\", \"2020-04-09\", \"2020-04-13\", \"2020-04-14\", \"2020-04-15\", \"2020-04-16\", \"2020-04-17\", \"2020-04-20\", \"2020-04-21\", \"2020-04-22\", \"2020-04-23\", \"2020-04-24\", \"2020-04-27\", \"2020-04-28\", \"2020-04-29\", \"2020-04-30\", \"2020-05-01\", \"2020-05-04\", \"2020-05-05\", \"2020-05-06\", \"2020-05-07\", \"2020-05-08\", \"2020-05-11\", \"2020-05-12\", \"2020-05-13\", \"2020-05-14\", \"2020-05-15\", \"2020-05-18\", \"2020-05-19\", \"2020-05-20\", \"2020-05-21\", \"2020-05-22\", \"2020-05-26\", \"2020-05-27\", \"2020-05-28\", \"2020-05-29\", \"2020-06-01\", \"2020-06-02\", \"2020-06-03\", \"2020-06-04\", \"2020-06-05\", \"2020-06-08\", \"2020-06-09\", \"2020-06-10\", \"2020-06-11\", \"2020-06-12\", \"2020-06-15\", \"2020-06-16\", \"2020-06-17\", \"2020-06-18\", \"2020-06-19\", \"2020-06-22\", \"2020-06-23\", \"2020-06-24\", \"2020-06-25\", \"2020-06-26\", \"2020-06-29\", \"2020-06-30\", \"2020-07-01\", \"2020-07-02\", \"2020-07-06\", \"2020-07-07\", \"2020-07-08\", \"2020-07-09\", \"2020-07-10\", \"2020-07-13\", \"2020-07-14\", \"2020-07-15\", \"2020-07-16\", \"2020-07-17\", \"2020-07-20\", \"2020-07-21\", \"2020-07-22\", \"2020-07-23\", \"2020-07-24\", \"2020-07-27\", \"2020-07-28\", \"2020-07-29\", \"2020-07-30\", \"2020-07-31\", \"2020-08-03\", \"2020-08-04\", \"2020-08-05\", \"2020-08-06\", \"2020-08-07\", \"2020-08-10\"], \"y\": [0.011026384814221801, 0.010461850751312146, 0.012209064567417965, 0.013784776200681387, 0.013298840009958124, 0.010636929543771906, 0.013177355336995877, 0.010676229730427894, 0.020055450755057824, 0.019330121828027513, 0.02027698295340838, 0.02232432934117673, 0.023564167317859763, 0.023460550686230847, 0.02307824113163892, 0.02470754438327427, 0.026240369215761894, 0.027976878214271583, 0.030781713002119487, 0.036673647108144525, 0.03676296980693192, 0.040043025963404616, 0.0424941190533388, 0.0382815032077036, 0.039903670747983455, 0.03987151627718541, 0.04441999577489858, 0.043773267221180245, 0.0449702284015899, 0.04712119642323834, 0.048318177612652835, 0.051766154340099235, 0.054278004773268135, 0.05500331369129366, 0.05525701036494465, 0.05096222754088253, 0.04992603371221188, 0.05007968286047457, 0.054117199904645114, 0.05525344375982963, 0.05769381202316293, 0.06344640842164612, 0.07112129492756925, 0.06968492850522459, 0.06968849761146509, 0.07523742985293105, 0.0769739188424359, 0.07573764747086784, 0.07460858184617408, 0.07343305030996153, 0.07733836785907133, 0.08001815887221889, 0.08114008878555709, 0.07836740596738159, 0.0746836131132455, 0.08150096869595203, 0.08532053265251496, 0.08353044204013577, 0.08687837374331947, 0.08778950378828493, 0.08500611615251324, 0.08420575845953715, 0.08298019190556521, 0.07671308645742933, 0.06774477785982813, 0.07831023523826666, 0.0778243115531714, 0.07035665580938044, 0.06519005063038574, 0.06473269230084311, 0.060652295959273544, 0.07841743848401539, 0.0775956311378373, 0.0759163128774474, 0.06912038693893804, 0.0684593819602575, 0.06983499103936738, 0.06834861210939375, 0.06242809263881119, 0.06393948782710174, 0.06347499128507797, 0.06383230459035785, 0.06431107255509272, 0.0629497574088243, 0.05991624220564226, 0.058111860161547124, 0.055578582585306735, 0.04987601870345734, 0.04996891050848526, 0.06100958925554861, 0.05946962621057983, 0.06432536648793433, 0.0624531088971281, 0.061370469165943464, 0.06493635395673472, 0.06740175848738969, 0.066887249437737, 0.060905972623919696, 0.06208507326637283, 0.061563426004239, 0.06464695621617556, 0.06473984802120347, 0.06781265340653911, 0.06454332207666741, 0.06632627447656547, 0.06489706377458115, 0.06467195496661321, 0.06560094554953513, 0.06976352887853654, 0.07034595099178437, 0.06974923494569499, 0.06686579978453505, 0.06844865963478208, 0.06440041526288492, 0.06485062037319278, 0.0657331450445959, 0.06378583867883908, 0.06912754265929841, 0.07217176268007658, 0.07463357809548612, 0.078395991331939, 0.07694533347787841, 0.07980733899484121, 0.07777786565065745, 0.07642725532198513, 0.07445136359167082, 0.07662019465240139, 0.07731336910863368, 0.07732407392622978, 0.0770811220881846, 0.07996098814310396, 0.07638080941947117, 0.07621286883949258, 0.07517310590458132, 0.06590108812570011, 0.06586893365490215, 0.0695420041835628, 0.0730686012933261, 0.07868897818774367, 0.07727762802371582, 0.07762778560863534, 0.08045407004968519, 0.08290159403337882, 0.08231562032176964, 0.08194044897965891, 0.08225129637341994, 0.08259788235097326, 0.08556350449956501, 0.08616735625700994, 0.08586005796048457, 0.08782881397944334, 0.09203427410471812, 0.0981227341552793, 0.09487483246960465, 0.09945189483074968, 0.09722232643578918, 0.09743312630416195, 0.10188512738272737, 0.10157071338385132, 0.10109549201522655, 0.09766537582573667, 0.09815488612495168, 0.10163145071808119, 0.09993784102597536, 0.10209594726010496, 0.10358589279519356, 0.09726161661794278, 0.0964934309036439, 0.0997806227714721, 0.10449345623504405, 0.1074590783836358, 0.1104961626930584, 0.11125721269600175, 0.11132510575059207, 0.11011026402322105, 0.11060691503604286, 0.10728399959117604, 0.10112050827354346, 0.09813343897287538, 0.1039003293042001, 0.09881947771775215, 0.09606465543753315, 0.09675067667453063, 0.10037373219443682, 0.09871227447200343, 0.09363499199179603, 0.0884826807456428, 0.0876537351869836, 0.08946168633731927, 0.08488462147504866, 0.08545988786793612, 0.08726426991203126, 0.09263453924804321, 0.09078371130143412, 0.08650678901532849, 0.07836027025602604, 0.08700343752702472, 0.07961796877066557, 0.08085780674734866, 0.07825306701027734, 0.07627360617372245, 0.07317221542382937, 0.07360812660129568, 0.06655495489189958, 0.06934906485314654, 0.06871662773114415, 0.05983764433345584, 0.05260223561011401, 0.0559287376691007, 0.05441734248081015, 0.05444235873912698, 0.052291390717478514, 0.04826814509601898, 0.04900419634852471, 0.0625996023250304, 0.06087738725936223, 0.06115966929757069, 0.0646612476478915, 0.07110343438961272, 0.06940623558226147, 0.06874879970982137, 0.07104267704637798, 0.0695848809798362, 0.06991003981431801, 0.06621550212457616, 0.052973840347109835, 0.055993044109571094, 0.05099438201168055, 0.049768815457708615, 0.0539028334311574, 0.05304887161418129, 0.0497223695551946, 0.042612027116683604, 0.04584204825539695, 0.051226629032129656, 0.04851468354818406, 0.04687824458519316, 0.04602071366197649, 0.04632083873026219, 0.04375897328833872, 0.04449502704197006, 0.04254056495585276, 0.050608483341843175, 0.05663261944405465, 0.05415651009580355, 0.04876122450147469, 0.047653586019852395, 0.04815739275303463, 0.04522392257411531, 0.04751423080443132, 0.0463673021406554, 0.03973931678212464, 0.034083198802789205, 0.04129000215256878, 0.04007161132796205, 0.039114035380482665, 0.04081836989918944, 0.0441198531987336, 0.021427490727927212, 0.017632933025178682, 0.021188105494997, 0.02420374015121768, 0.023689231101564984, 0.023210443127825248, 0.022542282428784283, 0.018504755380111287, 0.024050111011959835, 0.023875032219500103, 0.027758922625538418, 0.030174292138434006, 0.03194295310661613, 0.027644581167308557, 0.027326580554312696, 0.02717651802016982, 0.02487905406949345, 0.02481831673526355, 0.02083794791007748, 0.019841071775942076, 0.021538260578790935, 0.018676255061828045, 0.02088082720747647, 0.01930868217932802, 0.018176037443891263, 0.014270709890279037, 0.010547596840482093, 0.014510095123209277, 0.012552073935353875, 0.014310010076935054, 0.014717335889843891, 0.01691474981400634, 0.013541804353631337, 0.013513218989073872, 0.014996028812806955, 0.018983543353850996, 0.023292627614131478, 0.022853129822545365, 0.02199203229421373, 0.022224281815788394, 0.025504335471135453, 0.026101034009345603, 0.02522921165441297, 0.02199203229421373, 0.018626240053073506, 0.013713314039850488, 0.014027738043228988, 0.014813804304489225, 0.013288117684482764, 0.011673105864563355, 0.012748589875387545, 0.01302371619323564, 0.016135829268604074, 0.015649895579006395, 0.01403131715397199, 0.010476144684153671, 0.012759314701988517, 0.004384115527351962, 0.0005430944142101879, 0.0, 0.0029084514194768485, 0.0055739309919036195, 0.005334535754470987, 0.006377867795622771, 0.009529281057647193, 0.014145646106573817, 0.018669109345970075, 0.017422123152303515, 0.019648124942148987, 0.02124170711787135, 0.025075562506150312, 0.024343097867764424, 0.02619392581437352, 0.02366778144836304, 0.022310035408335177, 0.02294247253033757, 0.01905500551468184, 0.013691874391151021, 0.01573922828229618, 0.015267586024414442, 0.01872271096884448, 0.01755432514848984, 0.01815816690143235, 0.018440438935138387, 0.019515922945962633, 0.018190331376732816, 0.019444460785131762, 0.021813386896639003, 0.021152384419083986, 0.021506108609118446, 0.02100230187593627, 0.01950163151424672, 0.01712555968688151, 0.018322530871793558, 0.017279198830641745, 0.01681828139936098, 0.014885266465320096, 0.016232300184374993, 0.014120639852759354, 0.0148173834152322, 0.014735196427800384, 0.011601643703732428, 0.009400660673329453, 0.008207266098034793, 0.004291213717821624, 0.004323368188619614, 0.002694064936984264, 0.0011612300999942204, 0.0021438223057905215, 0.0066780003672853305, 0.009990208493430408, 0.010815577442472246, 0.009607891435461646, 0.008761085338845925, 0.011369394182157766, 0.01079056868753217, 0.0131344785407225, 0.012855783116633823, 0.01318808016359685, 0.01417423147113131, 0.014213539161164107, 0.014731627321559831, 0.01229838726620533, 0.01278432095580298, 0.010168856392130748, 0.01785803432976979, 0.017139853619723033, 0.01802954401598897, 0.02045920746172611, 0.022435099192040397, 0.02215281965495755, 0.023635629478690606, 0.025729429272349752, 0.02819840040811969, 0.026697730046430113, 0.026601251627282385, 0.02518276575189901, 0.022838838390829425, 0.027451644338017916, 0.035387343219942746, 0.038578076677628026, 0.03836725680025041, 0.03994654754425686, 0.04187955997717213, 0.03949634493507462, 0.03995727237085786, 0.04017163884434555, 0.039478481895992484, 0.04017522545846533, 0.03503718813614881, 0.03586256458856746, 0.036148413231890886, 0.03454769284368739, 0.03503361902990826, 0.03864596973221826, 0.037423972284486934, 0.03847802915223969, 0.04131858751712622, 0.03719888098439819, 0.027576688112718295, 0.029356071406375722, 0.026572666262724892, 0.021291719625500305, 0.023149703292469764, 0.026494065889412888, 0.029216716190954617, 0.02746950487597441, 0.03576967278353954, 0.03521942014784338, 0.03251463288538378, 0.03419038203953309, 0.03295054406285006, 0.030806711752557142, 0.03481209433493454, 0.03538377411370214, 0.033186360189539715, 0.03305059158823839, 0.0347370655689887, 0.03230381300800614, 0.03432258403571947, 0.0354123594782596, 0.036545014218198835, 0.03769909860233503, 0.038642383118098506, 0.039510636366790614, 0.0407218889789161, 0.042290454896321494, 0.046746042589006775, 0.046213652992392745, 0.04803232896932938, 0.05051559153681526, 0.04838963977348368, 0.04979026511091053, 0.04507386254109802, 0.048010899325132333, 0.047224813054867226, 0.046270823721507676, 0.04867190180268732, 0.04820740526066353, 0.046588826835629066, 0.043576758784523356, 0.0464601939456834, 0.04592066863771374, 0.04626366800114731, 0.04648521020400029, 0.049175706034743916, 0.04804305129480471, 0.045770586094566024, 0.04609931403528847, 0.04447357738876809, 0.04666742470781546, 0.04618863673407583, 0.04759641779186305, 0.05104796362555006, 0.05553570578903333, 0.059148036482338545, 0.0574187057143197, 0.06281040219340314, 0.062338769940023825, 0.06337494626081522, 0.06055938414524076, 0.06284970988343597, 0.06253527587555507, 0.06103817462010605, 0.06074518776430146, 0.05856206527185498, 0.05965899643475553, 0.05876215782150601, 0.057254331739456044, 0.05499974708617869, 0.05662905033781407, 0.0641574434158349, 0.0632927592733834, 0.0619457355588309, 0.060584402904683254, 0.05859421724152741, 0.06091669745052067, 0.058097568729831184, 0.053756340003255104, 0.05481037686200299, 0.05342047635117711, 0.05464245378990365, 0.05216275782753271, 0.050883609659691215, 0.051880495798329096, 0.0556893524361704, 0.05960896391812173, 0.0584977588313845, 0.053645567651265796, 0.05664691087577056, 0.05751873323070322, 0.059187346673496954, 0.055575013479066154, 0.057157870828187546, 0.04143649558047108, 0.03938200347684476, 0.03903541749929143, 0.03932840185397038, 0.039660698900933405, 0.04225473382040856, 0.043612479860436426, 0.04358389699700457, 0.04614575993780243, 0.04947226199678906, 0.0519626627767561, 0.05194837134504013, 0.05498902225957772, 0.05483182401407927, 0.05554642811450866, 0.05246646700881269, 0.05024403682633333, 0.048135943099832684, 0.04895775044601075, 0.04699615264853804, 0.04531324777402826, 0.049000629743409685, 0.048489667289867144, 0.0490327817130822, 0.05027618879600576, 0.05067637889755916, 0.05010111000354603, 0.049990357660561535, 0.05016184983890151, 0.052009108679270055, 0.052194909797205175, 0.050065388927633014, 0.04793584804905601, 0.048668332696446714, 0.05033335952512069, 0.05028334451636618, 0.04936864536516017, 0.05085859340137433, 0.05311676466877149, 0.05518911731035436, 0.05332756453714435, 0.052498621479610735, 0.05228423499711812, 0.05224135569971913, 0.053995725236185316, 0.054317294955421785, 0.052973840347109835, 0.050483439567142824, 0.04749993687158971, 0.04748923205399355, 0.049947480864288185, 0.04750352598683513, 0.04612076118736477, 0.046860364038231794, 0.045531203362761424, 0.045906374704872216, 0.04802519075684819, 0.05025119254669369, 0.05044056277086942, 0.047957297702257956, 0.06332850035830126, 0.06481844589338986, 0.0727327376412481, 0.07210386712436073, 0.07130350943138453, 0.07180017795208557, 0.07219320983215291, 0.07518739733629728, 0.07284707659835235, 0.07210386712436073, 0.07055318175391656, 0.06967779279386896, 0.07228253253094027, 0.07261482957790327, 0.07265411976005678, 0.07084973771596173, 0.07395471507997464, 0.07648442605110006, 0.07652730284737347, 0.07709898262614115, 0.07744198198957464, 0.07989309508851367, 0.08400209430252001, 0.08342325880339194, 0.08748579460700495, 0.08663542190527429, 0.08508114741958472, 0.08825756943654925, 0.09085874256850557, 0.09176271689311058, 0.0911267306738725, 0.09481766174048972, 0.09619328832747892, 0.09521785184204301, 0.09129108463973132, 0.08876494277484642, 0.09106597333063773, 0.09076585076347762, 0.09101595832188322, 0.09021560062890707, 0.08783953880604431, 0.08763944375526764, 0.08626381716827847, 0.08646391221905508, 0.08781452254772742, 0.09051574070394644, 0.0928918025268092, 0.09436745913130751, 0.0942674291137984, 0.09564303819290837, 0.10049522687190146, 0.0989445214924525, 0.09904456901784084, 0.09816918005779326, 0.09861938266697548, 0.10169575715855167, 0.09886949272650666, 0.09751888239783438, 0.09329197261935765, 0.09664349093666119, 0.0954179443916941, 0.09736881986369147, 0.10354660261304002, 0.10314641501261232, 0.10474713289969023, 0.1081236499674314, 0.10652292957922788, 0.10594768319534528, 0.09956980289409448, 0.10089539696444993, 0.0995447866357776, 0.09836927510856988, 0.09796908500701659, 0.09676855472036638, 0.09741883487244604, 0.100545241880656, 0.10049522687190146, 0.10367164888886599, 0.10432194654882487, 0.10552249434335431, 0.10847382506023015, 0.11190035463560027, 0.11200040216098855, 0.11202541841930547, 0.11387624636591454, 0.11442649650048514, 0.1128007598539647, 0.11590215060385778, 0.11620229318002279, 0.11682757458166476, 0.11882848257029599, 0.10792357242453399, 0.10587265192827383, 0.10799860369160541, 0.10647291707159892, 0.10554749309379197, 0.1130758861718128, 0.11415137018263705, 0.1147266390766501, 0.11465158780057383, 0.11272573108801887, 0.11452654402587342, 0.11505177790212712, 0.11297583864642446, 0.11322594870595565, 0.1171777296654587, 0.11495173037673878, 0.10524737052663183, 0.11245060477017083, 0.11084988688309289, 0.11245060477017083, 0.1085238375678591, 0.11032465300683925, 0.10962434033812579, 0.10962434033812579, 0.10744835355703483, 0.11257566855387602, 0.11312590118056737, 0.11240058976141626, 0.11009954169774566, 0.10744835355703483, 0.10442199407421321, 0.1012205557989318, 0.10474713289969023, 0.10997449542191973, 0.11675254331459334, 0.11805312112663185, 0.12265520224721937, 0.12363063873265528, 0.12335551491593277, 0.1274323421512618, 0.12893301251295136, 0.12803262480246613, 0.13058376541778866, 0.13408534626923507, 0.13208443577947826, 0.13273473594056273, 0.13233454583900944, 0.13310990728267352, 0.1326597046734913, 0.1348356714455774, 0.1387124236391346, 0.14263919084144633, 0.14604072166637877, 0.14556550279887964, 0.1492671761999771, 0.14726626821134592, 0.15136811420611734, 0.15176830180654505, 0.15717072311222946, 0.15459456623859008, 0.15809614709003644, 0.15792106829757668, 0.14826672345622427, 0.14716622068595758, 0.15041769147787276, 0.1493171912087316, 0.1480916446637645, 0.141588723088939, 0.1458906616333615, 0.14046320406035534, 0.13963784761694154, 0.13491072022052808, 0.13115903181067612, 0.12745735840957867, 0.13411036252755193, 0.14221400449058097, 0.14003801770949004, 0.1429393309164857, 0.14193887817273293, 0.1406132841023775, 0.14556550279887964, 0.14536542775710787, 0.1418888456560991, 0.13653643685804362, 0.13391026747677526, 0.12620679560629472, 0.12623181186461158, 0.12995848401614668, 0.1403131415262125, 0.1406132841023775, 0.13371017242599864, 0.13613626676549517, 0.13508579901298784, 0.12763243720203843, 0.12555649794633583, 0.1323845783556432, 0.13446051761134586, 0.141588723088939, 0.14303937844187403, 0.14333950100903414, 0.13343504610815055, 0.1488669885995494, 0.15784603953163084, 0.15349408597845376, 0.15717072311222946, 0.15722075812998887, 0.1594967724274633, 0.16044721016246155, 0.15792106829757668, 0.159896960027891, 0.16564953891849493, 0.17280275815327933, 0.17675454161390797, 0.17830524699335693, 0.1801810911982829, 0.18240709048700282, 0.18173177656872702, 0.18435796595900023, 0.19311190558198815, 0.1910359663262855, 0.18258214927045768, 0.18665899651479156, 0.18175681283604883, 0.18333249445580496, 0.18400781087520635, 0.1819568678688157, 0.17662949783920762, 0.1771046966977019, 0.1784553070263742, 0.17187735418447725, 0.16619978905306548, 0.1717272741424551, 0.16957630361968107, 0.1729778369457391, 0.17820519946796864, 0.1817818090853608, 0.17935571474586426, 0.1753539187776067, 0.17863038581883395, 0.17732980800679543, 0.16905106974342737, 0.17120204026620145, 0.16872593091795035, 0.17652945031381928, 0.17167725913370058, 0.17122705652451836, 0.17390326092354608, 0.17898054090262788, 0.1756290425943292, 0.1746035710911339, 0.17700465167343915, 0.17835525950098585, 0.17772997809934388, 0.17635437152135952, 0.17755490180800976, 0.17602921268687766, 0.1724776193278023, 0.17960582230426986, 0.17788006064249157, 0.18215696291959232, 0.18478315230986558, 0.18630884143099768, 0.19223649661293574, 0.18700915409971108, 0.18220699543622615, 0.17347807457268072, 0.18298233937201103, 0.182357057970369, 0.17510380871807552, 0.1731279169877612, 0.17375319838940323, 0.17965585732202927, 0.17640438653011403, 0.17527888751053528, 0.1756290425943292, 0.18298233937201103, 0.182532154270708, 0.18608374762978336, 0.18578362506262325, 0.18575859129642713, 0.1890850908542881, 0.19196137029508759, 0.18465808852616034, 0.19071080749180364, 0.19006052984084965, 0.18630884143099768, 0.18695911908195162, 0.1855085012459008, 0.18590865132944434, 0.18400781087520635, 0.1822319941866638, 0.18010605993121148, 0.17915561969508764, 0.18280728058855616, 0.18208193165252096, 0.17853033829344567, 0.17790505689180364, 0.17960582230426986, 0.17885549712792753, 0.1803061349729833, 0.1771046966977019, 0.17963084106371235, 0.17818018320965173, 0.18088140386699636, 0.17935571474586426, 0.17747987054093828, 0.17192736919323176, 0.1741783847402686, 0.1771046966977019, 0.17670452660515346, 0.1756040263360123, 0.17482868240022748, 0.16702516550548413, 0.16077235148906416, 0.16880096218502177, 0.17475365363428164, 0.1746285898505764, 0.17765494933339804, 0.18188183910286992, 0.18465808852616034, 0.19078587627575921, 0.1874843729672102, 0.1736531508640149, 0.17350309083099763, 0.17185233792616034, 0.1675253831234209, 0.16905106974342737, 0.16807563325799146, 0.16652494788754735, 0.16384874348851963, 0.1566955217526096, 0.14719123694427444, 0.14909209990864292, 0.14841678348924153, 0.14939222247580308, 0.159896960027891, 0.14431493999559564, 0.14869190980708963, 0.14846681850700094, 0.15049272274494419, 0.15349408597845376, 0.15184333307361647, 0.14811666092208142, 0.14221400449058097, 0.12498124906132757, 0.11837827996111372, 0.11992896533155784, 0.1348106726951398, 0.14288929839985193, 0.1438147223776589, 0.14248912830730348, 0.1298834527490752, 0.14143864054579125, 0.1365114406087316, 0.1337601874347532, 0.1413636117798454, 0.13596119047416105, 0.1420139094398043, 0.1461157529334502, 0.1488669885995494, 0.15129308293904592, 0.15161824177352778, 0.14539042400641988, 0.1442148924702073, 0.1486168785400182, 0.14408984869550695, 0.1463908792512983, 0.1480916446637645, 0.1473663157367342, 0.14168876811320175, 0.1332349535584995, 0.13633636181627184, 0.1345355488784173, 0.13653643685804362, 0.13753689210292203, 0.13886248617327746, 0.13753689210292203, 0.13433545382764062, 0.14088841042022554, 0.13958781259918218, 0.1400630339678069, 0.13611125050717826, 0.14023811276026665, 0.1381871897628809, 0.13991297143366405, 0.1450152526643091, 0.14499025391387144, 0.14934220746704852, 0.15829624214081306, 0.14879195733247796, 0.14696614564418575, 0.15877144350043298, 0.16192286676695983, 0.15934670989332045, 0.16354860091235468, 0.16702516550548413, 0.16559952390974036, 0.1628983032523958, 0.16324846083731526, 0.16202291429234816, 0.152518629484013, 0.15086789658818056, 0.14989245760161907, 0.14143864054579125, 0.14604072166637877, 0.14481517512141168, 0.1538192248039308, 0.1575458969554659, 0.15884649227538367, 0.15496974008182646, 0.1577960045138715, 0.1556700527505399, 0.1551198026159693, 0.1563453666688157, 0.1539442685786312, 0.15129308293904592, 0.1485918622817013, 0.15817117835710787, 0.1562953341521819, 0.1561702878763559, 0.14964235004321347, 0.15101795662119788, 0.14353959605981081, 0.14178881563859003, 0.13681156317589172, 0.1389375149392233, 0.1330348760156021, 0.12565654547172417, 0.1289080162636393, 0.1286579062041081, 0.1321094545389207, 0.13065879668486008, 0.12763243720203843, 0.13243459336439778, 0.12888300000532243, 0.12373068625804362, 0.12395577755813231, 0.11735280845791846, 0.11232554098646558, 0.10169575715855167, 0.10297133622015253, 0.10689810342246428, 0.11047471303985651, 0.1040468202309768, 0.10937421277071538, 0.10339652257101789, 0.1022210110438102, 0.10254614986928723, 0.10132060332432014, 0.11412635392432013, 0.10917413522781799, 0.11054974430692793, 0.09411734907177632, 0.09579309822592563, 0.10392175644727156, 0.10164574214979716, 0.09676855472036638, 0.10144564709902049, 0.10207092850066246, 0.09561802193459149, 0.09809414879072181, 0.09804411627408802, 0.09624330333623349, 0.09481766174048972, 0.09554299066752003, 0.1021709760260508, 0.10587265192827383, 0.1012205557989318, 0.10067030566436122, 0.10277124116937592, 0.09729378859662008, 0.10082036569737848, 0.10247111860221578, 0.10284629244545218, 0.10229603980975605, 0.11190035463560027, 0.11245060477017083, 0.1143264489750968, 0.11810315364326568, 0.11525187295290373, 0.11315091743888422, 0.11337602874797775, 0.11350107252267816, 0.11622730943833964, 0.11687758959041933, 0.12202992084557734, 0.12550648293758127, 0.1250812965867159, 0.12538141915387607, 0.125356422904564, 0.12738232714250725, 0.1259066530301297, 0.1247561377522341, 0.12355560746558386, 0.12978340522368692, 0.13448551636178346, 0.13305987476603975, 0.1355610003726077, 0.13838728481365759, 0.1351107977634255, 0.13798709471210424, 0.131934375746461, 0.13223451832262595, 0.13313490603311118, 0.13668651690006578, 0.14068831536944892, 0.1408383754024662, 0.1352108427876882, 0.12928318760575014, 0.127857548511132, 0.12840777863669772, 0.12550648293758127, 0.12478115401055095, 0.12328048364886135, 0.1214546519515643, 0.10512230674292661, 0.09764394618153957, 0.09491770926587806, 0.09466759920634688, 0.09851933514158717, 0.09604322579333607, 0.09366714646259405, 0.09236656865055551, 0.0925416474430153, 0.09411734907177632, 0.09184133477430187, 0.0864138772012957, 0.08686408231160356, 0.09526786434967197, 0.09429242786423606, 0.09696863226326377, 0.0960682245437737, 0.09861938266697548, 0.10164574214979716, 0.10532240179370328, 0.10962434033812579, 0.11160023206844011, 0.11145014952529242, 0.11022460548145091, 0.10672302463000452, 0.10487219668339542, 0.10537241430133223, 0.10714821098086988, 0.10814866622574829, 0.10792357242453399, 0.10969937160519724, 0.10764844860781148, 0.10392175644727156, 0.10422189902343654, 0.1034215388293348, 0.1044470103325301, 0.09889450898482355, 0.0983192400908105, 0.1003451668388842, 0.09944475911939413, 0.10082036569737848, 0.09406733656414737, 0.09066580323808932, 0.09454253542264163, 0.09656846217071535, 0.09956980289409448, 0.10029513182112482, 0.09804411627408802, 0.09939472660276036, 0.10042019560483004, 0.10227102355143913, 0.10302136873678633, 0.10412185149804823, 0.10274624492006385, 0.10754840108242317, 0.10752338482410628, 0.11014957421437946, 0.1102496217397678, 0.11047471303985651, 0.10914911896950108, 0.10722326225694614, 0.10392175644727156, 0.10224600729312225, 0.11795307360124352, 0.12142963569324744, 0.12110449686777042, 0.12570657798835794, 0.12177981078604616, 0.12505628032839905, 0.12525637537917567, 0.12928318760575014, 0.13150918939559564, 0.13260967215685748, 0.13058376541778866, 0.1304086866253289, 0.13103396802697093, 0.1342854388188861, 0.13403531125147566, 0.13363514115892722, 0.13328498607513328, 0.13398529874384674, 0.13185934447938952, 0.13270971718112023, 0.13065879668486008, 0.1295082814069644, 0.12793257727707785, 0.12763243720203843, 0.1255815142046527, 0.1258316217630583, 0.12740734340082416, 0.1299084690073921, 0.12983342023244143, 0.13148417313727873, 0.12438096641012325, 0.11840327621042579, 0.12418088886722584, 0.1304587016340834, 0.14001300145117312, 0.14951728625950828, 0.1478915496129879, 0.14454005130468917, 0.1445150350463723, 0.1444650200376178, 0.1471412244366455, 0.14236406452359823, 0.1427892508744636, 0.14331448475071723, 0.1454654552734913, 0.14103847045324286, 0.1432144572343338, 0.1418888456560991, 0.14308939345062854, 0.1432144572343338, 0.14531539273934846, 0.1457405815913394, 0.1507178340540377, 0.15134311545567974, 0.1539442685786312, 0.1530438808681459, 0.1546695975056615, 0.15446952246388967, 0.154269427413113, 0.15339403845306543, 0.15324395841104332, 0.15209344063202207, 0.15471963252342086, 0.15622030288511046, 0.1495672987671372, 0.146791066851726, 0.1448902063884831, 0.14444000377930089, 0.13931268878245967, 0.13956279634086527, 0.13516083028005926, 0.13268470092280332, 0.13661148813411994, 0.13823720477163542, 0.13778699966132762, 0.13005853154153502, 0.1316592494286129, 0.12485618527762238, 0.12835776612906874, 0.1355610003726077, 0.13546095284721937, 0.13573607916506747, 0.13991297143366405, 0.1400880502261238, 0.13866240863038004, 0.1400630339678069, 0.13951278383323634, 0.13923765751538825, 0.13688659444296314, 0.13431043756932376, 0.13533590907251902, 0.1333600173422047, 0.13546095284721937, 0.13816217350456406, 0.14088841042022554, 0.1454654552734913, 0.14383973863597577, 0.1485668635312637, 0.1485668635312637, 0.15014256766115025, 0.15051773900326104, 0.1521934881574104, 0.15296883209319523, 0.15324395841104332, 0.15131809919736283, 0.15189334808237104, 0.15374419353685936, 0.15249363073357536, 0.15241859946650393, 0.15014256766115025, 0.1509679441135689, 0.15064278527908703, 0.15211845939146457, 0.15536993018337975, 0.15807113083171953, 0.15837127340788454, 0.15997199129496242, 0.15872142849167842, 0.15819619461542478, 0.1605972726966044, 0.16057225643828754, 0.16004702256203385, 0.1605972726966044, 0.16079736774738107, 0.16052224142953297, 0.1652993813335754, 0.16544946137559752, 0.16547446012603517, 0.16467409993193344, 0.16397378726321998, 0.18248212175407424, 0.1819318716195037, 0.1833074982064929, 0.18633383768030964, 0.18943524843920762, 0.19071080749180364, 0.19166124772792753, 0.1909109025425803, 0.19383721450001357, 0.1981641893117579, 0.19938971834884578, 0.1989895657641766, 0.19991496973297868, 0.20236606282291286, 0.20339153432610818, 0.20194087647204756, 0.20226603530652937, 0.20294131170792107, 0.20309140925782243, 0.21009453094270547, 0.2080186317050126, 0.21006953469339346, 0.20896903192312677, 0.20941925454131383, 0.20811865922139605, 0.20731828151941506, 0.20846881430518993, 0.20861887683933283, 0.2080936604709584, 0.21177032011486457, 0.21234556649874714, 0.21059478607752635, 0.21427144572143264, 0.21021959472641077, 0.21417137818703935, 0.21292081538375535, 0.2122205027150419, 0.2128207878673719, 0.22012406963629916, 0.22092440982139605, 0.22044919095389692, 0.21977391455250522, 0.21987394206888872, 0.22255016397579575, 0.2206743197708697, 0.21977391455250522, 0.2189735343493987, 0.2185483479985333, 0.2146966320722979, 0.21512181842316325, 0.2132459742182372, 0.21519684969023467, 0.2136211280524688, 0.21232053273255097, 0.21672253631024108, 0.21629734995937577, 0.21972387953474581, 0.22194988132459137, 0.21982390955225495, 0.2200990333689773, 0.21974887828518347, 0.22707719632143258, 0.22940322562766152, 0.22827772660808276, 0.22695213253772734, 0.2330298877706925, 0.24315941646378542, 0.24561054456947812, 0.24378469786542745, 0.24551047953621052, 0.2508879221004622, 0.24988744934770446, 0.24931220046269625, 0.23625632229528581, 0.24198388242644714, 0.24328448024749066, 0.24561054456947812, 0.245135325701979, 0.24398479041507848, 0.24531038448543385, 0.24466010683447986, 0.24481016686749707, 0.24253413506214344, 0.24358460281465077, 0.24926216794606249, 0.24546044701957676, 0.24676104233949453, 0.2490620728952858, 0.24811167017604607, 0.23307988277044206, 0.22417588061331123, 0.2271021925707446, 0.22352560296235718, 0.2213495961722613, 0.21629734995937577, 0.22647691116910262, 0.2231504116112416, 0.22530137963289, 0.22470113449856982, 0.22632685113608536, 0.22517635336606895, 0.21994897333596014, 0.2252013521165066, 0.21982390955225495, 0.2206743197708697, 0.21937372445095193, 0.22084937855432468, 0.21744784772939219, 0.22107447235553895, 0.2232754753949468, 0.22445100693115938, 0.22497625831529228, 0.23005354079549967, 0.2332299428034592, 0.23453054062450274, 0.2358311359444205, 0.23818219901684562, 0.23648141359537456, 0.23630635481191958, 0.2408583834068685, 0.24248413756126813, 0.24428495300024838, 0.2370316662310707, 0.23438047809035983, 0.23245460136880008, 0.23575610467734903, 0.2534890752234136, 0.24956232803010675, 0.2516132310184876, 0.25766595248525653, 0.2608423920101003, 0.2632934851000345, 0.24893704662846472, 0.2543394504262699, 0.2602671431250921, 0.2646441129365861, 0.2630183587821864, 0.25528989066239377, 0.2543894829429037, 0.25366417402487834, 0.26009204682475306, 0.26059226444268985, 0.2588164852710314, 0.26029214187552974, 0.26431895410210415, 0.26792058247893885, 0.26902108274808, 0.27064679938559555, 0.2707718631693008, 0.26584464322323625, 0.26541945687237084, 0.26379370271797126, 0.2572157673839536, 0.2643939853691756, 0.26279326748209775, 0.2597668879902712, 0.2563403584149011, 0.2603421743921635, 0.25731579490033696, 0.25746585743447986, 0.2508128908333907, 0.24410985419878367, 0.24035816578893165, 0.23700666748063304, 0.24348457279714164, 0.24621079220492398, 0.24383473038206122, 0.24593566588707583, 0.24516032445241664, 0.24683607360656595, 0.244334947999998, 0.24911210541191958, 0.24888701411183095, 0.25023760443149845, 0.25038766696564124, 0.25201342112004094, 0.2506377945330517, 0.25311392138918204, 0.2603421743921635, 0.2618178284955362, 0.2600420143081193, 0.2505877620164179, 0.2512630759346937, 0.25106298088391704, 0.25338904770703014, 0.25166326603624695, 0.25416439164281496, 0.2682707375627328, 0.27744986353658607, 0.2832524549348188, 0.2778750498874514, 0.2809264281297156, 0.29190636704142336, 0.29628333685291736, 0.2976839621903442, 0.30126058931561567, 0.30036018409725124, 0.2973338046054247, 0.2955830241842039, 0.2890050513333021, 0.2833525224692121, 0.28840480619898184, 0.286028706859235, 0.2856035205083696, 0.29350708492850125, 0.29805915354145995, 0.2980841497907719, 0.29588314675136407, 0.2933320261450464, 0.2843529577050857, 0.2902806504039079, 0.28827974241527665, 0.28515333540706667, 0.2847531453055133, 0.2831774261688731, 0.2839528051204165, 0.2840778313872375, 0.2923315533922887, 0.2899054590527922, 0.29133111815641516, 0.29120605437270997, 0.2955830241842039, 0.3017107744169186, 0.2970086457709427, 0.2965334644203278, 0.298184179808281, 0.298184179808281, 0.2870792121286264, 0.2871542433956979, 0.2883547736823481, 0.28372767630344364, 0.29130608439021904, 0.2912310531231476, 0.2932319611117788, 0.29815918105784334, 0.2965334644203278, 0.29648343190369403, 0.2963833643693007, 0.2988594937265568, 0.30338652357106805, 0.3011355255319104, 0.3084138110515257, 0.3088139636361949, 0.3068130931644479, 0.3031614322709793, 0.30326145978736263, 0.29620830558584593, 0.2884298049494195, 0.28943024018529306, 0.2805512742954841, 0.27807514493822805, 0.27922564270824446, 0.28010105167729693, 0.2618928597626076, 0.25186335858589803, 0.268220705046099, 0.259491761672423, 0.24851182276071526, 0.25166326603624695, 0.26742036486100224, 0.27149717208732627, 0.27907558017410156, 0.2931319310942697, 0.29173127074108435, 0.2902806504039079, 0.2883297749319104, 0.29190636704142336, 0.29940974386112734, 0.3080886522170438, 0.30663799436298317, 0.30596268044470737, 0.29815918105784334, 0.30118556054966994, 0.3027112471696763, 0.3023360558185606, 0.29823421232491476, 0.3030113697368364, 0.31061477657404946, 0.31496674763510574, 0.3105897778236118, 0.30676305814668836, 0.3072882745150628, 0.3057125903941811, 0.29890952624319056, 0.29875946370904766, 0.2888299925498472, 0.2827772735842039, 0.27299786245802066, 0.29258168095969916, 0.2815016745135982, 0.2768495808853817, 0.28010105167729693, 0.2773497985033185, 0.28162673829730334, 0.2896803677527035, 0.2926567122267706, 0.2816017420479914, 0.28577861680870864, 0.29378221124634935, 0.2917563045072805, 0.29600821053506926, 0.29748386713956754, 0.30021012156310833, 0.30626284052875163, 0.305262367775994, 0.2926567122267706, 0.27494873793001806, 0.2737482076433679, 0.2679956112448847, 0.2697713904165431, 0.2711970495201661, 0.2664449258744406, 0.2737982051442432, 0.28340255498584593, 0.3020859657680343, 0.3028863059531312, 0.32024412516608985, 0.3235706272250764, 0.3257966265137963, 0.3290730960561492, 0.33577609267274655, 0.3321494680465998, 0.3310489677774586, 0.3267720629992322, 0.33112399904453005, 0.3281476895862214, 0.326446906665876, 0.329748409974425, 0.32857287843821237, 0.33157422166271716, 0.3310489677774586, 0.3321244717972877, 0.3304236863758166, 0.3294232511399431, 0.3278475295021772, 0.3362763478075674, 0.34025313001863366, 0.34395478591185186, 0.34563053506600117, 0.3443299772629675, 0.33992797118415174, 0.3387524396479392, 0.3413786290382124, 0.3374268455775838, 0.33767697314499423, 0.3327747494482418, 0.3325246593977154, 0.32489621879430625, 0.32692212553337513, 0.3243209724104236, 0.32297034207274644, 0.3160922466546845, 0.32174477801990015, 0.32106950161850845, 0.3244209999268071, 0.32344556344137126, 0.3286228734379621, 0.3204692164661785, 0.3241708723593967, 0.3305987826761556, 0.3371267230104237, 0.3365514741254155, 0.330373691376067, 0.33825222203000244, 0.33900256721534966, 0.33795209946284227, 0.33930268978250977, 0.33667650039223657, 0.3403781938023389, 0.3392776910320721, 0.3397028798840631, 0.343179441976067, 0.34773150808789993, 0.34620582146789347, 0.33812715824629724, 0.3354509738562743, 0.3364013740743885, 0.36443900963189485, 0.3791706369534546, 0.38067132732414904, 0.3833725479814937, 0.37847032678586684, 0.3788204818696607, 0.3828973291139946, 0.3795207945383741, 0.38287229284667273, 0.3850732958860807, 0.38629885993892693, 0.39400233180940764, 0.40465711438775914, 0.39935474060746307, 0.398304232836946, 0.39832926910426775, 0.39942976937340885, 0.40110552102868374, 0.4055575196061236, 0.4099594881680552, 0.41816317765647254, 0.4232904926533138, 0.42979343423714417, 0.4316192459254364, 0.4278925537648964, 0.41846333774051686, 0.4139613041453177, 0.4065329585926852, 0.4203391819454428, 0.4133860552603094, 0.4267420584960056, 0.42031414567812114, 0.40540745957310637, 0.4063078647914708, 0.40663298610906856, 0.410784864620474, 0.4048572094385358, 0.412685705074712, 0.4161873034340375, 0.4117603011059097, 0.42309039760253714, 0.4250663068407307, 0.428867992751458, 0.4339202764812277, 0.4408984369325572, 0.4306938394555086, 0.42143964469769984, 0.4201390868946661, 0.4278925537648964, 0.4016057386466206, 0.3968285787335733, 0.41598721088438656, 0.4041068642531886, 0.41608723840076994, 0.4136861778274696, 0.40075536344376433, 0.40898405168261937, 0.412335549990918, 0.41753789625483057, 0.39842929662065124, 0.4102096157354657, 0.40145567611247773, 0.39130111115206295, 0.3939522992927738, 0.40785855266304055, 0.4162623347011089, 0.37939573075466887, 0.3646641009319835, 0.37011657476330656, 0.3855735135040174, 0.381921890127433, 0.37186735518452735, 0.3461057539335003, 0.34125356525450723, 0.32767247071872235, 0.3392026622661263, 0.3445050360464224, 0.32532140764629724, 0.30311139975434553, 0.30261118213640875, 0.2913811131561647, 0.29720874082171944, 0.2962583381024797, 0.31301587216310833, 0.30953931007110447, 0.30711321573160794, 0.32272025202222016, 0.3023860883351944, 0.2974588683891299, 0.28187686586471383, 0.2846531177891299, 0.28222702344963335, 0.28340255498584593, 0.2880296148478662, 0.27434845527881374, 0.27049673685145265, 0.27582414689907053, 0.2628682962480435, 0.2527137337887544, 0.23745685258193605, 0.22770247772307456, 0.253564106490485, 0.2510129483672833, 0.25121304341805994, 0.254989765594108, 0.255439950695411, 0.2160972549085991, 0.2312790698325875, 0.23045369338016886, 0.23750688509856982, 0.24390976164913264, 0.245135325701979, 0.24135860102480516, 0.23563104089364384, 0.24330951401368678, 0.24798660639234082, 0.2502876394492578, 0.25268873503831674, 0.24388476289869498, 0.2454354482691391, 0.24238407252800054, 0.25503976309498333, 0.2513881397183989, 0.24733629122450274, 0.27377320639380553, 0.2767495508678726, 0.2769496459186493, 0.28877996003321343, 0.29610824055257834, 0.2962583381024797, 0.2880046160974285, 0.2866790245281987, 0.2842278939213804, 0.2878795523137233, 0.2861037381263064, 0.2876544610136346, 0.2867040207775107, 0.2879795823312324, 0.29073083550521084, 0.2883047411657143, 0.29308189857763595, 0.2962333043362836, 0.29648343190369403, 0.2978340222233614, 0.2935320836789389, 0.2980841497907719, 0.30028515283017976, 0.29948477512819877, 0.29695865077119316, 0.29190636704142336, 0.29293183854461863, 0.3079135559167048, 0.3129408433971625, 0.3149417513857937, 0.31999399759867936, 0.32597168529725123, 0.33072384645986086, 0.32699715680044655, 0.3310740040447803, 0.3484067844892917, 0.33830225454663626, 0.3325246593977154, 0.3276474344514006, 0.3318493454794396, 0.3324746268810816, 0.3355510013726578, 0.33877747341413533, 0.34573060009926876, 0.34905710215825536, 0.349907474859986, 0.3531839444023389, 0.3609374487894533, 0.35943675841875883, 0.3622380065924869, 0.35806113183176963, 0.35786103678099296, 0.3587614445004831, 0.35881147701711685, 0.36851585687622873, 0.37034166856452083, 0.3720174177186702, 0.37939573075466887, 0.378595390569572, 0.3738932619235961, 0.37144216883366193, 0.37221751276944687, 0.36236307037619214, 0.38699917260764044, 0.38357260551538624, 0.3900755470992166, 0.3818968563612369, 0.36784054295795293, 0.3679405704743363, 0.3624881341598974, 0.35363412950364187, 0.32497125006137767, 0.33232456684806433, 0.33797709571215434, 0.33587616020713973, 0.33317493954979505, 0.3183932772104759, 0.32717225310078557, 0.3176179357758166, 0.3098144363889525, 0.3080886522170438, 0.30623780676255546, 0.3041118725071032, 0.3064129030628945, 0.29833427735818235, 0.2939072750300546, 0.3097644013711931, 0.3170176506234867, 0.32372068725809366, 0.3360512189905946, 0.34212897422355965, 0.3477064743217038, 0.34615578645013406, 0.34605572141686647, 0.34252916182398735, 0.34540544126478684, 0.3568105690284856, 0.355359911174425, 0.35933673090237533, 0.3576359454809043, 0.35713572786296754, 0.34960735229282597, 0.36018710360410605, 0.3600370410699632, 0.3554849749581302, 0.3645640734156, 0.367515384123471, 0.37171729515151003, 0.371267072533323, 0.3607373537386766, 0.36378872947981516, 0.36876594692675496, 0.3650642910335368, 0.36894104322709403, 0.3737182031401412, 0.37194238645159877, 0.3690661070107993, 0.37484370215972, 0.3671652265385515, 0.3787454506025893, 0.3827972615796014, 0.382372075228736, 0.37824523298465246, 0.38004604592250707, 0.3848981995857416, 0.3826472015465841, 0.3933019816238101, 0.38177179257753163, 0.37074185616494854, 0.3440298146777977, 0.3531839444023389, 0.3582862231318584, 0.3692661645446918, 0.3631634480781732, 0.361887851508693, 0.38312242041408323, 0.36756541664010484, 0.3650392922830991, 0.3769446376647347, 0.38657398625677514, 0.38659898500721274, 0.3923015463879365, 0.39185136378775914, 0.36729029032225663, 0.3769196389142971, 0.37109201374986805, 0.3745185433252382, 0.38322245043159237, 0.38254717152907497, 0.3749437296761035, 0.3836726705486538, 0.3939022667761401, 0.3938522342595063, 0.3961282660648599, 0.4024561113483513, 0.41968886427647906, 0.4184383014731951, 0.40758342634519246, 0.41045970578599195, 0.41246061377462323, 0.4176379612880982, 0.41311093144358696, 0.40503226822199073, 0.40750839507812103, 0.4049072044382855, 0.413285990227042, 0.41043470703555435, 0.40775852264553153, 0.42063930451260295, 0.42218998988304707, 0.40810868023045094, 0.41276077385866744, 0.428242711349816, 0.42836777513352114, 0.42171477101554794, 0.42829274386644983, 0.43594618071917096, 0.45125309694374865, 0.45040268422400825, 0.4490270951539031, 0.4466509958141563, 0.4489270301206357, 0.4517533145616854, 0.46200790703848377, 0.4606323179683785, 0.46868590740576893, 0.46968638015852665, 0.4771897569782306, 0.4833675397275791, 0.4689610312224915, 0.4688860024565457, 0.4826421932926696, 0.5003001700885468, 0.5045020435997016, 0.5035766396308996, 0.5038517259307378, 0.5093291985124988, 0.5111050527179253, 0.5162573639640786, 0.5156570412948644, 0.5219348915786062, 0.5173578667343453, 0.5251613661212093, 0.5285128644295081, 0.5264869601915647, 0.5187334533033248, 0.5157821450965794, 0.5152068586946872, 0.5266870152243317, 0.5214847089784287, 0.5303636723671121, 0.5288880182637394, 0.521159550143947, 0.5093792685460166, 0.5151067911602938, 0.5247111059861382, 0.5375418903523344, 0.5280626793282048, 0.5319644302721998, 0.5376919528864772, 0.5394177345572602, 0.5486468955488728, 0.5604271746456777, 0.5618028412506766, 0.5601270520785175, 0.560827364747231, 0.5593767444100544, 0.5707818721737532, 0.571457148575145, 0.5855635345130723, 0.58528837067834, 0.5895903092227628, 0.5949177192703805, 0.6116752908478933, 0.6043719715620819, 0.6102996267440199, 0.6067731071691504, 0.6187784775660439, 0.6348857339757186, 0.6366364768800552, 0.6532189496561034, 0.6425141370622436, 0.6391626362528193, 0.6489170111116807, 0.6576459920022408, 0.6522435506875515, 0.6550698351286015, 0.6588965548055248, 0.6565954867328494, 0.6331849860711316, 0.6550447988612795, 0.6716772691382031, 0.6705017376019906, 0.6345856114085584, 0.6324596396362221, 0.657946114569401, 0.6644490561532312, 0.6738532359102891, 0.6608974252772721, 0.6646991086868734, 0.6598469175067547, 0.6788305283909972, 0.6730028632085585, 0.6732029957762193, 0.6583212684036326, 0.6698764562003485, 0.6615727016786634, 0.6434395410310456, 0.6062478157670079, 0.5809864321339178, 0.5924165936638126, 0.544570048304539, 0.5441698582029857, 0.6078235374047738, 0.5840878779085741, 0.617652941029581, 0.5930919450989725, 0.5833625314736648, 0.526186835123279, 0.5741333704820517, 0.5493472082175863, 0.4813165992223141, 0.5557000872672739, 0.4662598505831565, 0.4928968232863519, 0.4774148482783192, 0.4726877233830315, 0.4338202464637186, 0.4216397397484764, 0.4779401021635778, 0.4745385688375197, 0.5068531066721267, 0.4800910701852263, 0.4977740107157826, 0.4964734128947393, 0.46300837979124126, 0.473062877217263, 0.4642589425945253, 0.5169326403654702, 0.5093291985124988, 0.5259367075558685, 0.5307388262013437, 0.5438947719031473, 0.5784102752602782, 0.5718573386766983, 0.5775099050576722, 0.5677804914323643, 0.5530988966274384, 0.5316892664374677, 0.5510229948886198, 0.5483467729817129, 0.5682057153001139, 0.5687059704349346, 0.5572257388715218, 0.5801110981986335, 0.5952928731046121, 0.583462596506932, 0.5936921927344183, 0.6046971303965638, 0.6123756035166066, 0.6201540666361489, 0.6361362967790025, 0.6483418022446823, 0.6393377350542839, 0.6299334777623322, 0.6346606426756298, 0.6300835377953495, 0.6482166984429674, 0.6436647098660282, 0.6588965548055248, 0.652943863356265, 0.6580461821037942, 0.6526437407891048, 0.6560952290969029, 0.6564454241987066, 0.6556700802629216, 0.6654494913891049, 0.669176143531635, 0.6736281446102006, 0.6666250229253174, 0.6895853384857322, 0.6944875221644751, 0.7208243723005101, 0.7429593489253905, 0.7005902761478777, 0.7078435254001711, 0.7183232466939422, 0.7410584709542685, 0.7398329419171805, 0.7401831370189842, 0.7351558495385264, 0.7580411338318698, 0.7771997659826828, 0.7610174808070624, 0.7729728562042062, 0.7449352606647097, 0.765319419351485, 0.7728727911709385, 0.77114700699903, 0.77114700699903, 0.7955080229306399, 0.7926067072225185, 0.8143164599796495, 0.818418343491305, 0.8200940551285703, 0.8156670903173266, 0.8314742216587154, 0.8381521845091167, 0.8261217753437757, 0.824170902372904, 0.8444800297926081, 0.830898935256823, 0.8336251521634797, 0.7893302401812912, 0.7870291696074903, 0.8089890499320316, 0.7934070874256252, 0.8112901205058327, 0.822795313302799, 0.9235406502342316, 0.9503276829704441, 0.9576059684900593, 0.9615827482000001, 1.0, 0.9720875057610929, 0.9882447571705171]}, {\"name\": \"Prediction\", \"type\": \"scatter\", \"x\": [\"2012-01-12\", \"2012-01-13\", \"2012-01-17\", \"2012-01-18\", \"2012-01-19\", \"2012-01-20\", \"2012-01-23\", \"2012-01-24\", \"2012-01-25\", \"2012-01-26\", \"2012-01-27\", \"2012-01-30\", \"2012-01-31\", \"2012-02-01\", \"2012-02-02\", \"2012-02-03\", \"2012-02-06\", \"2012-02-07\", \"2012-02-08\", \"2012-02-09\", \"2012-02-10\", \"2012-02-13\", \"2012-02-14\", \"2012-02-15\", \"2012-02-16\", \"2012-02-17\", \"2012-02-21\", \"2012-02-22\", \"2012-02-23\", \"2012-02-24\", \"2012-02-27\", \"2012-02-28\", \"2012-02-29\", \"2012-03-01\", \"2012-03-02\", \"2012-03-05\", \"2012-03-06\", \"2012-03-07\", \"2012-03-08\", \"2012-03-09\", \"2012-03-12\", \"2012-03-13\", \"2012-03-14\", \"2012-03-15\", \"2012-03-16\", \"2012-03-19\", \"2012-03-20\", \"2012-03-21\", \"2012-03-22\", \"2012-03-23\", \"2012-03-26\", \"2012-03-27\", \"2012-03-28\", \"2012-03-29\", \"2012-03-30\", \"2012-04-02\", \"2012-04-03\", \"2012-04-04\", \"2012-04-05\", \"2012-04-09\", \"2012-04-10\", \"2012-04-11\", \"2012-04-12\", \"2012-04-13\", \"2012-04-16\", \"2012-04-17\", \"2012-04-18\", \"2012-04-19\", \"2012-04-20\", \"2012-04-23\", \"2012-04-24\", \"2012-04-25\", \"2012-04-26\", \"2012-04-27\", \"2012-04-30\", \"2012-05-01\", \"2012-05-02\", \"2012-05-03\", \"2012-05-04\", \"2012-05-07\", \"2012-05-08\", \"2012-05-09\", \"2012-05-10\", \"2012-05-11\", \"2012-05-14\", \"2012-05-15\", \"2012-05-16\", \"2012-05-17\", \"2012-05-18\", \"2012-05-21\", \"2012-05-22\", \"2012-05-23\", \"2012-05-24\", \"2012-05-25\", \"2012-05-29\", \"2012-05-30\", \"2012-05-31\", \"2012-06-01\", \"2012-06-04\", \"2012-06-05\", \"2012-06-06\", \"2012-06-07\", \"2012-06-08\", \"2012-06-11\", \"2012-06-12\", \"2012-06-13\", \"2012-06-14\", \"2012-06-15\", \"2012-06-18\", \"2012-06-19\", \"2012-06-20\", \"2012-06-21\", \"2012-06-22\", \"2012-06-25\", \"2012-06-26\", \"2012-06-27\", \"2012-06-28\", \"2012-06-29\", \"2012-07-02\", \"2012-07-03\", \"2012-07-05\", \"2012-07-06\", \"2012-07-09\", \"2012-07-10\", \"2012-07-11\", \"2012-07-12\", \"2012-07-13\", \"2012-07-16\", \"2012-07-17\", \"2012-07-18\", \"2012-07-19\", \"2012-07-20\", \"2012-07-23\", \"2012-07-24\", \"2012-07-25\", \"2012-07-26\", \"2012-07-27\", \"2012-07-30\", \"2012-07-31\", \"2012-08-01\", \"2012-08-02\", \"2012-08-03\", \"2012-08-06\", \"2012-08-07\", \"2012-08-08\", \"2012-08-09\", \"2012-08-10\", \"2012-08-13\", \"2012-08-14\", \"2012-08-15\", \"2012-08-16\", \"2012-08-17\", \"2012-08-20\", \"2012-08-21\", \"2012-08-22\", \"2012-08-23\", \"2012-08-24\", \"2012-08-27\", \"2012-08-28\", \"2012-08-29\", \"2012-08-30\", \"2012-08-31\", \"2012-09-04\", \"2012-09-05\", \"2012-09-06\", \"2012-09-07\", \"2012-09-10\", \"2012-09-11\", \"2012-09-12\", \"2012-09-13\", \"2012-09-14\", \"2012-09-17\", \"2012-09-18\", \"2012-09-19\", \"2012-09-20\", \"2012-09-21\", \"2012-09-24\", \"2012-09-25\", \"2012-09-26\", \"2012-09-27\", \"2012-09-28\", \"2012-10-01\", \"2012-10-02\", \"2012-10-03\", \"2012-10-04\", \"2012-10-05\", \"2012-10-08\", \"2012-10-09\", \"2012-10-10\", \"2012-10-11\", \"2012-10-12\", \"2012-10-15\", \"2012-10-16\", \"2012-10-17\", \"2012-10-18\", \"2012-10-19\", \"2012-10-22\", \"2012-10-23\", \"2012-10-24\", \"2012-10-25\", \"2012-10-26\", \"2012-10-31\", \"2012-11-01\", \"2012-11-02\", \"2012-11-05\", \"2012-11-06\", \"2012-11-07\", \"2012-11-08\", \"2012-11-09\", \"2012-11-12\", \"2012-11-13\", \"2012-11-14\", \"2012-11-15\", \"2012-11-16\", \"2012-11-19\", \"2012-11-20\", \"2012-11-21\", \"2012-11-23\", \"2012-11-26\", \"2012-11-27\", \"2012-11-28\", \"2012-11-29\", \"2012-11-30\", \"2012-12-03\", \"2012-12-04\", \"2012-12-05\", \"2012-12-06\", \"2012-12-07\", \"2012-12-10\", \"2012-12-11\", \"2012-12-12\", \"2012-12-13\", \"2012-12-14\", \"2012-12-17\", \"2012-12-18\", \"2012-12-19\", \"2012-12-20\", \"2012-12-21\", \"2012-12-24\", \"2012-12-26\", \"2012-12-27\", \"2012-12-28\", \"2012-12-31\", \"2013-01-02\", \"2013-01-03\", \"2013-01-04\", \"2013-01-07\", \"2013-01-08\", \"2013-01-09\", \"2013-01-10\", \"2013-01-11\", \"2013-01-14\", \"2013-01-15\", \"2013-01-16\", \"2013-01-17\", \"2013-01-18\", \"2013-01-22\", \"2013-01-23\", \"2013-01-24\", \"2013-01-25\", \"2013-01-28\", \"2013-01-29\", \"2013-01-30\", \"2013-01-31\", \"2013-02-01\", \"2013-02-04\", \"2013-02-05\", \"2013-02-06\", \"2013-02-07\", \"2013-02-08\", \"2013-02-11\", \"2013-02-12\", \"2013-02-13\", \"2013-02-14\", \"2013-02-15\", \"2013-02-19\", \"2013-02-20\", \"2013-02-21\", \"2013-02-22\", \"2013-02-25\", \"2013-02-26\", \"2013-02-27\", \"2013-02-28\", \"2013-03-01\", \"2013-03-04\", \"2013-03-05\", \"2013-03-06\", \"2013-03-07\", \"2013-03-08\", \"2013-03-11\", \"2013-03-12\", \"2013-03-13\", \"2013-03-14\", \"2013-03-15\", \"2013-03-18\", \"2013-03-19\", \"2013-03-20\", \"2013-03-21\", \"2013-03-22\", \"2013-03-25\", \"2013-03-26\", \"2013-03-27\", \"2013-03-28\", \"2013-04-01\", \"2013-04-02\", \"2013-04-03\", \"2013-04-04\", \"2013-04-05\", \"2013-04-08\", \"2013-04-09\", \"2013-04-10\", \"2013-04-11\", \"2013-04-12\", \"2013-04-15\", \"2013-04-16\", \"2013-04-17\", \"2013-04-18\", \"2013-04-19\", \"2013-04-22\", \"2013-04-23\", \"2013-04-24\", \"2013-04-25\", \"2013-04-26\", \"2013-04-29\", \"2013-04-30\", \"2013-05-01\", \"2013-05-02\", \"2013-05-03\", \"2013-05-06\", \"2013-05-07\", \"2013-05-08\", \"2013-05-09\", \"2013-05-10\", \"2013-05-13\", \"2013-05-14\", \"2013-05-15\", \"2013-05-16\", \"2013-05-17\", \"2013-05-20\", \"2013-05-21\", \"2013-05-22\", \"2013-05-23\", \"2013-05-24\", \"2013-05-28\", \"2013-05-29\", \"2013-05-30\", \"2013-05-31\", \"2013-06-03\", \"2013-06-04\", \"2013-06-05\", \"2013-06-06\", \"2013-06-07\", \"2013-06-10\", \"2013-06-11\", \"2013-06-12\", \"2013-06-13\", \"2013-06-14\", \"2013-06-17\", \"2013-06-18\", \"2013-06-19\", \"2013-06-20\", \"2013-06-21\", \"2013-06-24\", \"2013-06-25\", \"2013-06-26\", \"2013-06-27\", \"2013-06-28\", \"2013-07-01\", \"2013-07-02\", \"2013-07-03\", \"2013-07-05\", \"2013-07-08\", \"2013-07-09\", \"2013-07-10\", \"2013-07-11\", \"2013-07-12\", \"2013-07-15\", \"2013-07-16\", \"2013-07-17\", \"2013-07-18\", \"2013-07-19\", \"2013-07-22\", \"2013-07-23\", \"2013-07-24\", \"2013-07-25\", \"2013-07-26\", \"2013-07-29\", \"2013-07-30\", \"2013-07-31\", \"2013-08-01\", \"2013-08-02\", \"2013-08-05\", \"2013-08-06\", \"2013-08-07\", \"2013-08-08\", \"2013-08-09\", \"2013-08-12\", \"2013-08-13\", \"2013-08-14\", \"2013-08-15\", \"2013-08-16\", \"2013-08-19\", \"2013-08-20\", \"2013-08-21\", \"2013-08-22\", \"2013-08-23\", \"2013-08-26\", \"2013-08-27\", \"2013-08-28\", \"2013-08-29\", \"2013-08-30\", \"2013-09-03\", \"2013-09-04\", \"2013-09-05\", \"2013-09-06\", \"2013-09-09\", \"2013-09-10\", \"2013-09-11\", \"2013-09-12\", \"2013-09-13\", \"2013-09-16\", \"2013-09-17\", \"2013-09-18\", \"2013-09-19\", \"2013-09-20\", \"2013-09-23\", \"2013-09-24\", \"2013-09-25\", \"2013-09-26\", \"2013-09-27\", \"2013-09-30\", \"2013-10-01\", \"2013-10-02\", \"2013-10-03\", \"2013-10-04\", \"2013-10-07\", \"2013-10-08\", \"2013-10-09\", \"2013-10-10\", \"2013-10-11\", \"2013-10-14\", \"2013-10-15\", \"2013-10-16\", \"2013-10-17\", \"2013-10-18\", \"2013-10-21\", \"2013-10-22\", \"2013-10-23\", \"2013-10-24\", \"2013-10-25\", \"2013-10-28\", \"2013-10-29\", \"2013-10-30\", \"2013-10-31\", \"2013-11-01\", \"2013-11-04\", \"2013-11-05\", \"2013-11-06\", \"2013-11-07\", \"2013-11-08\", \"2013-11-11\", \"2013-11-12\", \"2013-11-13\", \"2013-11-14\", \"2013-11-15\", \"2013-11-18\", \"2013-11-19\", \"2013-11-20\", \"2013-11-21\", \"2013-11-22\", \"2013-11-25\", \"2013-11-26\", \"2013-11-27\", \"2013-11-29\", \"2013-12-02\", \"2013-12-03\", \"2013-12-04\", \"2013-12-05\", \"2013-12-06\", \"2013-12-09\", \"2013-12-10\", \"2013-12-11\", \"2013-12-12\", \"2013-12-13\", \"2013-12-16\", \"2013-12-17\", \"2013-12-18\", \"2013-12-19\", \"2013-12-20\", \"2013-12-23\", \"2013-12-24\", \"2013-12-26\", \"2013-12-27\", \"2013-12-30\", \"2013-12-31\", \"2014-01-02\", \"2014-01-03\", \"2014-01-06\", \"2014-01-07\", \"2014-01-08\", \"2014-01-09\", \"2014-01-10\", \"2014-01-13\", \"2014-01-14\", \"2014-01-15\", \"2014-01-16\", \"2014-01-17\", \"2014-01-21\", \"2014-01-22\", \"2014-01-23\", \"2014-01-24\", \"2014-01-27\", \"2014-01-28\", \"2014-01-29\", \"2014-01-30\", \"2014-01-31\", \"2014-02-03\", \"2014-02-04\", \"2014-02-05\", \"2014-02-06\", \"2014-02-07\", \"2014-02-10\", \"2014-02-11\", \"2014-02-12\", \"2014-02-13\", \"2014-02-14\", \"2014-02-18\", \"2014-02-19\", \"2014-02-20\", \"2014-02-21\", \"2014-02-24\", \"2014-02-25\", \"2014-02-26\", \"2014-02-27\", \"2014-02-28\", \"2014-03-03\", \"2014-03-04\", \"2014-03-05\", \"2014-03-06\", \"2014-03-07\", \"2014-03-10\", \"2014-03-11\", \"2014-03-12\", \"2014-03-13\", \"2014-03-14\", \"2014-03-17\", \"2014-03-18\", \"2014-03-19\", \"2014-03-20\", \"2014-03-21\", \"2014-03-24\", \"2014-03-25\", \"2014-03-26\", \"2014-03-27\", \"2014-03-28\", \"2014-03-31\", \"2014-04-01\", \"2014-04-02\", \"2014-04-03\", \"2014-04-04\", \"2014-04-07\", \"2014-04-08\", \"2014-04-09\", \"2014-04-10\", \"2014-04-11\", \"2014-04-14\", \"2014-04-15\", \"2014-04-16\", \"2014-04-17\", \"2014-04-21\", \"2014-04-22\", \"2014-04-23\", \"2014-04-24\", \"2014-04-25\", \"2014-04-28\", \"2014-04-29\", \"2014-04-30\", \"2014-05-01\", \"2014-05-02\", \"2014-05-05\", \"2014-05-06\", \"2014-05-07\", \"2014-05-08\", \"2014-05-09\", \"2014-05-12\", \"2014-05-13\", \"2014-05-14\", \"2014-05-15\", \"2014-05-16\", \"2014-05-19\", \"2014-05-20\", \"2014-05-21\", \"2014-05-22\", \"2014-05-23\", \"2014-05-27\", \"2014-05-28\", \"2014-05-29\", \"2014-05-30\", \"2014-06-02\", \"2014-06-03\", \"2014-06-04\", \"2014-06-05\", \"2014-06-06\", \"2014-06-09\", \"2014-06-10\", \"2014-06-11\", \"2014-06-12\", \"2014-06-13\", \"2014-06-16\", \"2014-06-17\", \"2014-06-18\", \"2014-06-19\", \"2014-06-20\", \"2014-06-23\", \"2014-06-24\", \"2014-06-25\", \"2014-06-26\", \"2014-06-27\", \"2014-06-30\", \"2014-07-01\", \"2014-07-02\", \"2014-07-03\", \"2014-07-07\", \"2014-07-08\", \"2014-07-09\", \"2014-07-10\", \"2014-07-11\", \"2014-07-14\", \"2014-07-15\", \"2014-07-16\", \"2014-07-17\", \"2014-07-18\", \"2014-07-21\", \"2014-07-22\", \"2014-07-23\", \"2014-07-24\", \"2014-07-25\", \"2014-07-28\", \"2014-07-29\", \"2014-07-30\", \"2014-07-31\", \"2014-08-01\", \"2014-08-04\", \"2014-08-05\", \"2014-08-06\", \"2014-08-07\", \"2014-08-08\", \"2014-08-11\", \"2014-08-12\", \"2014-08-13\", \"2014-08-14\", \"2014-08-15\", \"2014-08-18\", \"2014-08-19\", \"2014-08-20\", \"2014-08-21\", \"2014-08-22\", \"2014-08-25\", \"2014-08-26\", \"2014-08-27\", \"2014-08-28\", \"2014-08-29\", \"2014-09-02\", \"2014-09-03\", \"2014-09-04\", \"2014-09-05\", \"2014-09-08\", \"2014-09-09\", \"2014-09-10\", \"2014-09-11\", \"2014-09-12\", \"2014-09-15\", \"2014-09-16\", \"2014-09-17\", \"2014-09-18\", \"2014-09-19\", \"2014-09-22\", \"2014-09-23\", \"2014-09-24\", \"2014-09-25\", \"2014-09-26\", \"2014-09-29\", \"2014-09-30\", \"2014-10-01\", \"2014-10-02\", \"2014-10-03\", \"2014-10-06\", \"2014-10-07\", \"2014-10-08\", \"2014-10-09\", \"2014-10-10\", \"2014-10-13\", \"2014-10-14\", \"2014-10-15\", \"2014-10-16\", \"2014-10-17\", \"2014-10-20\", \"2014-10-21\", \"2014-10-22\", \"2014-10-23\", \"2014-10-24\", \"2014-10-27\", \"2014-10-28\", \"2014-10-29\", \"2014-10-30\", \"2014-10-31\", \"2014-11-03\", \"2014-11-04\", \"2014-11-05\", \"2014-11-06\", \"2014-11-07\", \"2014-11-10\", \"2014-11-11\", \"2014-11-12\", \"2014-11-13\", \"2014-11-14\", \"2014-11-17\", \"2014-11-18\", \"2014-11-19\", \"2014-11-20\", \"2014-11-21\", \"2014-11-24\", \"2014-11-25\", \"2014-11-26\", \"2014-11-28\", \"2014-12-01\", \"2014-12-02\", \"2014-12-03\", \"2014-12-04\", \"2014-12-05\", \"2014-12-08\", \"2014-12-09\", \"2014-12-10\", \"2014-12-11\", \"2014-12-12\", \"2014-12-15\", \"2014-12-16\", \"2014-12-17\", \"2014-12-18\", \"2014-12-19\", \"2014-12-22\", \"2014-12-23\", \"2014-12-24\", \"2014-12-26\", \"2014-12-29\", \"2014-12-30\", \"2014-12-31\", \"2015-01-02\", \"2015-01-05\", \"2015-01-06\", \"2015-01-07\", \"2015-01-08\", \"2015-01-09\", \"2015-01-12\", \"2015-01-13\", \"2015-01-14\", \"2015-01-15\", \"2015-01-16\", \"2015-01-20\", \"2015-01-21\", \"2015-01-22\", \"2015-01-23\", \"2015-01-26\", \"2015-01-27\", \"2015-01-28\", \"2015-01-29\", \"2015-01-30\", \"2015-02-02\", \"2015-02-03\", \"2015-02-04\", \"2015-02-05\", \"2015-02-06\", \"2015-02-09\", \"2015-02-10\", \"2015-02-11\", \"2015-02-12\", \"2015-02-13\", \"2015-02-17\", \"2015-02-18\", \"2015-02-19\", \"2015-02-20\", \"2015-02-23\", \"2015-02-24\", \"2015-02-25\", \"2015-02-26\", \"2015-02-27\", \"2015-03-02\", \"2015-03-03\", \"2015-03-04\", \"2015-03-05\", \"2015-03-06\", \"2015-03-09\", \"2015-03-10\", \"2015-03-11\", \"2015-03-12\", \"2015-03-13\", \"2015-03-16\", \"2015-03-17\", \"2015-03-18\", \"2015-03-19\", \"2015-03-20\", \"2015-03-23\", \"2015-03-24\", \"2015-03-25\", \"2015-03-26\", \"2015-03-27\", \"2015-03-30\", \"2015-03-31\", \"2015-04-01\", \"2015-04-02\", \"2015-04-06\", \"2015-04-07\", \"2015-04-08\", \"2015-04-09\", \"2015-04-10\", \"2015-04-13\", \"2015-04-14\", \"2015-04-15\", \"2015-04-16\", \"2015-04-17\", \"2015-04-20\", \"2015-04-21\", \"2015-04-22\", \"2015-04-23\", \"2015-04-24\", \"2015-04-27\", \"2015-04-28\", \"2015-04-29\", \"2015-04-30\", \"2015-05-01\", \"2015-05-04\", \"2015-05-05\", \"2015-05-06\", \"2015-05-07\", \"2015-05-08\", \"2015-05-11\", \"2015-05-12\", \"2015-05-13\", \"2015-05-14\", \"2015-05-15\", \"2015-05-18\", \"2015-05-19\", \"2015-05-20\", \"2015-05-21\", \"2015-05-22\", \"2015-05-26\", \"2015-05-27\", \"2015-05-28\", \"2015-05-29\", \"2015-06-01\", \"2015-06-02\", \"2015-06-03\", \"2015-06-04\", \"2015-06-05\", \"2015-06-08\", \"2015-06-09\", \"2015-06-10\", \"2015-06-11\", \"2015-06-12\", \"2015-06-15\", \"2015-06-16\", \"2015-06-17\", \"2015-06-18\", \"2015-06-19\", \"2015-06-22\", \"2015-06-23\", \"2015-06-24\", \"2015-06-25\", \"2015-06-26\", \"2015-06-29\", \"2015-06-30\", \"2015-07-01\", \"2015-07-02\", \"2015-07-06\", \"2015-07-07\", \"2015-07-08\", \"2015-07-09\", \"2015-07-10\", \"2015-07-13\", \"2015-07-14\", \"2015-07-15\", \"2015-07-16\", \"2015-07-17\", \"2015-07-20\", \"2015-07-21\", \"2015-07-22\", \"2015-07-23\", \"2015-07-24\", \"2015-07-27\", \"2015-07-28\", \"2015-07-29\", \"2015-07-30\", \"2015-07-31\", \"2015-08-03\", \"2015-08-04\", \"2015-08-05\", \"2015-08-06\", \"2015-08-07\", \"2015-08-10\", \"2015-08-11\", \"2015-08-12\", \"2015-08-13\", \"2015-08-14\", \"2015-08-17\", \"2015-08-18\", \"2015-08-19\", \"2015-08-20\", \"2015-08-21\", \"2015-08-24\", \"2015-08-25\", \"2015-08-26\", \"2015-08-27\", \"2015-08-28\", \"2015-08-31\", \"2015-09-01\", \"2015-09-02\", \"2015-09-03\", \"2015-09-04\", \"2015-09-08\", \"2015-09-09\", \"2015-09-10\", \"2015-09-11\", \"2015-09-14\", \"2015-09-15\", \"2015-09-16\", \"2015-09-17\", \"2015-09-18\", \"2015-09-21\", \"2015-09-22\", \"2015-09-23\", \"2015-09-24\", \"2015-09-25\", \"2015-09-28\", \"2015-09-29\", \"2015-09-30\", \"2015-10-01\", \"2015-10-02\", \"2015-10-05\", \"2015-10-06\", \"2015-10-07\", \"2015-10-08\", \"2015-10-09\", \"2015-10-12\", \"2015-10-13\", \"2015-10-14\", \"2015-10-15\", \"2015-10-16\", \"2015-10-19\", \"2015-10-20\", \"2015-10-21\", \"2015-10-22\", \"2015-10-23\", \"2015-10-26\", \"2015-10-27\", \"2015-10-28\", \"2015-10-29\", \"2015-10-30\", \"2015-11-02\", \"2015-11-03\", \"2015-11-04\", \"2015-11-05\", \"2015-11-06\", \"2015-11-09\", \"2015-11-10\", \"2015-11-11\", \"2015-11-12\", \"2015-11-13\", \"2015-11-16\", \"2015-11-17\", \"2015-11-18\", \"2015-11-19\", \"2015-11-20\", \"2015-11-23\", \"2015-11-24\", \"2015-11-25\", \"2015-11-27\", \"2015-11-30\", \"2015-12-01\", \"2015-12-02\", \"2015-12-03\", \"2015-12-04\", \"2015-12-07\", \"2015-12-08\", \"2015-12-09\", \"2015-12-10\", \"2015-12-11\", \"2015-12-14\", \"2015-12-15\", \"2015-12-16\", \"2015-12-17\", \"2015-12-18\", \"2015-12-21\", \"2015-12-22\", \"2015-12-23\", \"2015-12-24\", \"2015-12-28\", \"2015-12-29\", \"2015-12-30\", \"2015-12-31\", \"2016-01-04\", \"2016-01-05\", \"2016-01-06\", \"2016-01-07\", \"2016-01-08\", \"2016-01-11\", \"2016-01-12\", \"2016-01-13\", \"2016-01-14\", \"2016-01-15\", \"2016-01-19\", \"2016-01-20\", \"2016-01-21\", \"2016-01-22\", \"2016-01-25\", \"2016-01-26\", \"2016-01-27\", \"2016-01-28\", \"2016-01-29\", \"2016-02-01\", \"2016-02-02\", \"2016-02-03\", \"2016-02-04\", \"2016-02-05\", \"2016-02-08\", \"2016-02-09\", \"2016-02-10\", \"2016-02-11\", \"2016-02-12\", \"2016-02-16\", \"2016-02-17\", \"2016-02-18\", \"2016-02-19\", \"2016-02-22\", \"2016-02-23\", \"2016-02-24\", \"2016-02-25\", \"2016-02-26\", \"2016-02-29\", \"2016-03-01\", \"2016-03-02\", \"2016-03-03\", \"2016-03-04\", \"2016-03-07\", \"2016-03-08\", \"2016-03-09\", \"2016-03-10\", \"2016-03-11\", \"2016-03-14\", \"2016-03-15\", \"2016-03-16\", \"2016-03-17\", \"2016-03-18\", \"2016-03-21\", \"2016-03-22\", \"2016-03-23\", \"2016-03-24\", \"2016-03-28\", \"2016-03-29\", \"2016-03-30\", \"2016-03-31\", \"2016-04-01\", \"2016-04-04\", \"2016-04-05\", \"2016-04-06\", \"2016-04-07\", \"2016-04-08\", \"2016-04-11\", \"2016-04-12\", \"2016-04-13\", \"2016-04-14\", \"2016-04-15\", \"2016-04-18\", \"2016-04-19\", \"2016-04-20\", \"2016-04-21\", \"2016-04-22\", \"2016-04-25\", \"2016-04-26\", \"2016-04-27\", \"2016-04-28\", \"2016-04-29\", \"2016-05-02\", \"2016-05-03\", \"2016-05-04\", \"2016-05-05\", \"2016-05-06\", \"2016-05-09\", \"2016-05-10\", \"2016-05-11\", \"2016-05-12\", \"2016-05-13\", \"2016-05-16\", \"2016-05-17\", \"2016-05-18\", \"2016-05-19\", \"2016-05-20\", \"2016-05-23\", \"2016-05-24\", \"2016-05-25\", \"2016-05-26\", \"2016-05-27\", \"2016-05-31\", \"2016-06-01\", \"2016-06-02\", \"2016-06-03\", \"2016-06-06\", \"2016-06-07\", \"2016-06-08\", \"2016-06-09\", \"2016-06-10\", \"2016-06-13\", \"2016-06-14\", \"2016-06-15\", \"2016-06-16\", \"2016-06-17\", \"2016-06-20\", \"2016-06-21\", \"2016-06-22\", \"2016-06-23\", \"2016-06-24\", \"2016-06-27\", \"2016-06-28\", \"2016-06-29\", \"2016-06-30\", \"2016-07-01\", \"2016-07-05\", \"2016-07-06\", \"2016-07-07\", \"2016-07-08\", \"2016-07-11\", \"2016-07-12\", \"2016-07-13\", \"2016-07-14\", \"2016-07-15\", \"2016-07-18\", \"2016-07-19\", \"2016-07-20\", \"2016-07-21\", \"2016-07-22\", \"2016-07-25\", \"2016-07-26\", \"2016-07-27\", \"2016-07-28\", \"2016-07-29\", \"2016-08-01\", \"2016-08-02\", \"2016-08-03\", \"2016-08-04\", \"2016-08-05\", \"2016-08-08\", \"2016-08-09\", \"2016-08-10\", \"2016-08-11\", \"2016-08-12\", \"2016-08-15\", \"2016-08-16\", \"2016-08-17\", \"2016-08-18\", \"2016-08-19\", \"2016-08-22\", \"2016-08-23\", \"2016-08-24\", \"2016-08-25\", \"2016-08-26\", \"2016-08-29\", \"2016-08-30\", \"2016-08-31\", \"2016-09-01\", \"2016-09-02\", \"2016-09-06\", \"2016-09-07\", \"2016-09-08\", \"2016-09-09\", \"2016-09-12\", \"2016-09-13\", \"2016-09-14\", \"2016-09-15\", \"2016-09-16\", \"2016-09-19\", \"2016-09-20\", \"2016-09-21\", \"2016-09-22\", \"2016-09-23\", \"2016-09-26\", \"2016-09-27\", \"2016-09-28\", \"2016-09-29\", \"2016-09-30\", \"2016-10-03\", \"2016-10-04\", \"2016-10-05\", \"2016-10-06\", \"2016-10-07\", \"2016-10-10\", \"2016-10-11\", \"2016-10-12\", \"2016-10-13\", \"2016-10-14\", \"2016-10-17\", \"2016-10-18\", \"2016-10-19\", \"2016-10-20\", \"2016-10-21\", \"2016-10-24\", \"2016-10-25\", \"2016-10-26\", \"2016-10-27\", \"2016-10-28\", \"2016-10-31\", \"2016-11-01\", \"2016-11-02\", \"2016-11-03\", \"2016-11-04\", \"2016-11-07\", \"2016-11-08\", \"2016-11-09\", \"2016-11-10\", \"2016-11-11\", \"2016-11-14\", \"2016-11-15\", \"2016-11-16\", \"2016-11-17\", \"2016-11-18\", \"2016-11-21\", \"2016-11-22\", \"2016-11-23\", \"2016-11-25\", \"2016-11-28\", \"2016-11-29\", \"2016-11-30\", \"2016-12-01\", \"2016-12-02\", \"2016-12-05\", \"2016-12-06\", \"2016-12-07\", \"2016-12-08\", \"2016-12-09\", \"2016-12-12\", \"2016-12-13\", \"2016-12-14\", \"2016-12-15\", \"2016-12-16\", \"2016-12-19\", \"2016-12-20\", \"2016-12-21\", \"2016-12-22\", \"2016-12-23\", \"2016-12-27\", \"2016-12-28\", \"2016-12-29\", \"2016-12-30\", \"2017-01-03\", \"2017-01-04\", \"2017-01-05\", \"2017-01-06\", \"2017-01-09\", \"2017-01-10\", \"2017-01-11\", \"2017-01-12\", \"2017-01-13\", \"2017-01-17\", \"2017-01-18\", \"2017-01-19\", \"2017-01-20\", \"2017-01-23\", \"2017-01-24\", \"2017-01-25\", \"2017-01-26\", \"2017-01-27\", \"2017-01-30\", \"2017-01-31\", \"2017-02-01\", \"2017-02-02\", \"2017-02-03\", \"2017-02-06\", \"2017-02-07\", \"2017-02-08\", \"2017-02-09\", \"2017-02-10\", \"2017-02-13\", \"2017-02-14\", \"2017-02-15\", \"2017-02-16\", \"2017-02-17\", \"2017-02-21\", \"2017-02-22\", \"2017-02-23\", \"2017-02-24\", \"2017-02-27\", \"2017-02-28\", \"2017-03-01\", \"2017-03-02\", \"2017-03-03\", \"2017-03-06\", \"2017-03-07\", \"2017-03-08\", \"2017-03-09\", \"2017-03-10\", \"2017-03-13\", \"2017-03-14\", \"2017-03-15\", \"2017-03-16\", \"2017-03-17\", \"2017-03-20\", \"2017-03-21\", \"2017-03-22\", \"2017-03-23\", \"2017-03-24\", \"2017-03-27\", \"2017-03-28\", \"2017-03-29\", \"2017-03-30\", \"2017-03-31\", \"2017-04-03\", \"2017-04-04\", \"2017-04-05\", \"2017-04-06\", \"2017-04-07\", \"2017-04-10\", \"2017-04-11\", \"2017-04-12\", \"2017-04-13\", \"2017-04-17\", \"2017-04-18\", \"2017-04-19\", \"2017-04-20\", \"2017-04-21\", \"2017-04-24\", \"2017-04-25\", \"2017-04-26\", \"2017-04-27\", \"2017-04-28\", \"2017-05-01\", \"2017-05-02\", \"2017-05-03\", \"2017-05-04\", \"2017-05-05\", \"2017-05-08\", \"2017-05-09\", \"2017-05-10\", \"2017-05-11\", \"2017-05-12\", \"2017-05-15\", \"2017-05-16\", \"2017-05-17\", \"2017-05-18\", \"2017-05-19\", \"2017-05-22\", \"2017-05-23\", \"2017-05-24\", \"2017-05-25\", \"2017-05-26\", \"2017-05-30\", \"2017-05-31\", \"2017-06-01\", \"2017-06-02\", \"2017-06-05\", \"2017-06-06\", \"2017-06-07\", \"2017-06-08\", \"2017-06-09\", \"2017-06-12\", \"2017-06-13\", \"2017-06-14\", \"2017-06-15\", \"2017-06-16\", \"2017-06-19\", \"2017-06-20\", \"2017-06-21\", \"2017-06-22\", \"2017-06-23\", \"2017-06-26\", \"2017-06-27\", \"2017-06-28\", \"2017-06-29\", \"2017-06-30\", \"2017-07-03\", \"2017-07-05\", \"2017-07-06\", \"2017-07-07\", \"2017-07-10\", \"2017-07-11\", \"2017-07-12\", \"2017-07-13\", \"2017-07-14\", \"2017-07-17\", \"2017-07-18\", \"2017-07-19\", \"2017-07-20\", \"2017-07-21\", \"2017-07-24\", \"2017-07-25\", \"2017-07-26\", \"2017-07-27\", \"2017-07-28\", \"2017-07-31\", \"2017-08-01\", \"2017-08-02\", \"2017-08-03\", \"2017-08-04\", \"2017-08-07\", \"2017-08-08\", \"2017-08-09\", \"2017-08-10\", \"2017-08-11\", \"2017-08-14\", \"2017-08-15\", \"2017-08-16\", \"2017-08-17\", \"2017-08-18\", \"2017-08-21\", \"2017-08-22\", \"2017-08-23\", \"2017-08-24\", \"2017-08-25\", \"2017-08-28\", \"2017-08-29\", \"2017-08-30\", \"2017-08-31\", \"2017-09-01\", \"2017-09-05\", \"2017-09-06\", \"2017-09-07\", \"2017-09-08\", \"2017-09-11\", \"2017-09-12\", \"2017-09-13\", \"2017-09-14\", \"2017-09-15\", \"2017-09-18\", \"2017-09-19\", \"2017-09-20\", \"2017-09-21\", \"2017-09-22\", \"2017-09-25\", \"2017-09-26\", \"2017-09-27\", \"2017-09-28\", \"2017-09-29\", \"2017-10-02\", \"2017-10-03\", \"2017-10-04\", \"2017-10-05\", \"2017-10-06\", \"2017-10-09\", \"2017-10-10\", \"2017-10-11\", \"2017-10-12\", \"2017-10-13\", \"2017-10-16\", \"2017-10-17\", \"2017-10-18\", \"2017-10-19\", \"2017-10-20\", \"2017-10-23\", \"2017-10-24\", \"2017-10-25\", \"2017-10-26\", \"2017-10-27\", \"2017-10-30\", \"2017-10-31\", \"2017-11-01\", \"2017-11-02\", \"2017-11-03\", \"2017-11-06\", \"2017-11-07\", \"2017-11-08\", \"2017-11-09\", \"2017-11-10\", \"2017-11-13\", \"2017-11-14\", \"2017-11-15\", \"2017-11-16\", \"2017-11-17\", \"2017-11-20\", \"2017-11-21\", \"2017-11-22\", \"2017-11-24\", \"2017-11-27\", \"2017-11-28\", \"2017-11-29\", \"2017-11-30\", \"2017-12-01\", \"2017-12-04\", \"2017-12-05\", \"2017-12-06\", \"2017-12-07\", \"2017-12-08\", \"2017-12-11\", \"2017-12-12\", \"2017-12-13\", \"2017-12-14\", \"2017-12-15\", \"2017-12-18\", \"2017-12-19\", \"2017-12-20\", \"2017-12-21\", \"2017-12-22\", \"2017-12-26\", \"2017-12-27\", \"2017-12-28\", \"2017-12-29\", \"2018-01-02\", \"2018-01-03\", \"2018-01-04\", \"2018-01-05\", \"2018-01-08\", \"2018-01-09\", \"2018-01-10\", \"2018-01-11\", \"2018-01-12\", \"2018-01-16\", \"2018-01-17\", \"2018-01-18\", \"2018-01-19\", \"2018-01-22\", \"2018-01-23\", \"2018-01-24\", \"2018-01-25\", \"2018-01-26\", \"2018-01-29\", \"2018-01-30\", \"2018-01-31\", \"2018-02-01\", \"2018-02-02\", \"2018-02-05\", \"2018-02-06\", \"2018-02-07\", \"2018-02-08\", \"2018-02-09\", \"2018-02-12\", \"2018-02-13\", \"2018-02-14\", \"2018-02-15\", \"2018-02-16\", \"2018-02-20\", \"2018-02-21\", \"2018-02-22\", \"2018-02-23\", \"2018-02-26\", \"2018-02-27\", \"2018-02-28\", \"2018-03-01\", \"2018-03-02\", \"2018-03-05\", \"2018-03-06\", \"2018-03-07\", \"2018-03-08\", \"2018-03-09\", \"2018-03-12\", \"2018-03-13\", \"2018-03-14\", \"2018-03-15\", \"2018-03-16\", \"2018-03-19\", \"2018-03-20\", \"2018-03-21\", \"2018-03-22\", \"2018-03-23\", \"2018-03-26\", \"2018-03-27\", \"2018-03-28\", \"2018-03-29\", \"2018-04-02\", \"2018-04-03\", \"2018-04-04\", \"2018-04-05\", \"2018-04-06\", \"2018-04-09\", \"2018-04-10\", \"2018-04-11\", \"2018-04-12\", \"2018-04-13\", \"2018-04-16\", \"2018-04-17\", \"2018-04-18\", \"2018-04-19\", \"2018-04-20\", \"2018-04-23\", \"2018-04-24\", \"2018-04-25\", \"2018-04-26\", \"2018-04-27\", \"2018-04-30\", \"2018-05-01\", \"2018-05-02\", \"2018-05-03\", \"2018-05-04\", \"2018-05-07\", \"2018-05-08\", \"2018-05-09\", \"2018-05-10\", \"2018-05-11\", \"2018-05-14\", \"2018-05-15\", \"2018-05-16\", \"2018-05-17\", \"2018-05-18\", \"2018-05-21\", \"2018-05-22\", \"2018-05-23\", \"2018-05-24\", \"2018-05-25\", \"2018-05-29\", \"2018-05-30\", \"2018-05-31\", \"2018-06-01\", \"2018-06-04\", \"2018-06-05\", \"2018-06-06\", \"2018-06-07\", \"2018-06-08\", \"2018-06-11\", \"2018-06-12\", \"2018-06-13\", \"2018-06-14\", \"2018-06-15\", \"2018-06-18\", \"2018-06-19\", \"2018-06-20\", \"2018-06-21\", \"2018-06-22\", \"2018-06-25\", \"2018-06-26\", \"2018-06-27\", \"2018-06-28\", \"2018-06-29\", \"2018-07-02\", \"2018-07-03\", \"2018-07-05\", \"2018-07-06\", \"2018-07-09\", \"2018-07-10\", \"2018-07-11\", \"2018-07-12\", \"2018-07-13\", \"2018-07-16\", \"2018-07-17\", \"2018-07-18\", \"2018-07-19\", \"2018-07-20\", \"2018-07-23\", \"2018-07-24\", \"2018-07-25\", \"2018-07-26\", \"2018-07-27\", \"2018-07-30\", \"2018-07-31\", \"2018-08-01\", \"2018-08-02\", \"2018-08-03\", \"2018-08-06\", \"2018-08-07\", \"2018-08-08\", \"2018-08-09\", \"2018-08-10\", \"2018-08-13\", \"2018-08-14\", \"2018-08-15\", \"2018-08-16\", \"2018-08-17\", \"2018-08-20\", \"2018-08-21\", \"2018-08-22\", \"2018-08-23\", \"2018-08-24\", \"2018-08-27\", \"2018-08-28\", \"2018-08-29\", \"2018-08-30\", \"2018-08-31\", \"2018-09-04\", \"2018-09-05\", \"2018-09-06\", \"2018-09-07\", \"2018-09-10\", \"2018-09-11\", \"2018-09-12\", \"2018-09-13\", \"2018-09-14\", \"2018-09-17\", \"2018-09-18\", \"2018-09-19\", \"2018-09-20\", \"2018-09-21\", \"2018-09-24\", \"2018-09-25\", \"2018-09-26\", \"2018-09-27\", \"2018-09-28\", \"2018-10-01\", \"2018-10-02\", \"2018-10-03\", \"2018-10-04\", \"2018-10-05\", \"2018-10-08\", \"2018-10-09\", \"2018-10-10\", \"2018-10-11\", \"2018-10-12\", \"2018-10-15\", \"2018-10-16\", \"2018-10-17\", \"2018-10-18\", \"2018-10-19\", \"2018-10-22\", \"2018-10-23\", \"2018-10-24\", \"2018-10-25\", \"2018-10-26\", \"2018-10-29\", \"2018-10-30\", \"2018-10-31\", \"2018-11-01\", \"2018-11-02\", \"2018-11-05\", \"2018-11-06\", \"2018-11-07\", \"2018-11-08\", \"2018-11-09\", \"2018-11-12\", \"2018-11-13\", \"2018-11-14\", \"2018-11-15\", \"2018-11-16\", \"2018-11-19\", \"2018-11-20\", \"2018-11-21\", \"2018-11-23\", \"2018-11-26\", \"2018-11-27\", \"2018-11-28\", \"2018-11-29\", \"2018-11-30\", \"2018-12-03\", \"2018-12-04\", \"2018-12-06\", \"2018-12-07\", \"2018-12-10\", \"2018-12-11\", \"2018-12-12\", \"2018-12-13\", \"2018-12-14\", \"2018-12-17\", \"2018-12-18\", \"2018-12-19\", \"2018-12-20\", \"2018-12-21\", \"2018-12-24\", \"2018-12-26\", \"2018-12-27\", \"2018-12-28\", \"2018-12-31\", \"2019-01-02\", \"2019-01-03\", \"2019-01-04\", \"2019-01-07\", \"2019-01-08\", \"2019-01-09\", \"2019-01-10\", \"2019-01-11\", \"2019-01-14\", \"2019-01-15\", \"2019-01-16\", \"2019-01-17\", \"2019-01-18\", \"2019-01-22\", \"2019-01-23\", \"2019-01-24\", \"2019-01-25\", \"2019-01-28\", \"2019-01-29\", \"2019-01-30\", \"2019-01-31\", \"2019-02-01\", \"2019-02-04\", \"2019-02-05\", \"2019-02-06\", \"2019-02-07\", \"2019-02-08\", \"2019-02-11\", \"2019-02-12\", \"2019-02-13\", \"2019-02-14\", \"2019-02-15\", \"2019-02-19\", \"2019-02-20\", \"2019-02-21\", \"2019-02-22\", \"2019-02-25\", \"2019-02-26\", \"2019-02-27\", \"2019-02-28\", \"2019-03-01\", \"2019-03-04\", \"2019-03-05\", \"2019-03-06\", \"2019-03-07\", \"2019-03-08\", \"2019-03-11\", \"2019-03-12\", \"2019-03-13\", \"2019-03-14\", \"2019-03-15\", \"2019-03-18\", \"2019-03-19\", \"2019-03-20\", \"2019-03-21\", \"2019-03-22\", \"2019-03-25\", \"2019-03-26\", \"2019-03-27\", \"2019-03-28\", \"2019-03-29\", \"2019-04-01\", \"2019-04-02\", \"2019-04-03\", \"2019-04-04\", \"2019-04-05\", \"2019-04-08\", \"2019-04-09\", \"2019-04-10\", \"2019-04-11\", \"2019-04-12\", \"2019-04-15\", \"2019-04-16\", \"2019-04-17\", \"2019-04-18\", \"2019-04-22\", \"2019-04-23\", \"2019-04-24\", \"2019-04-25\", \"2019-04-26\", \"2019-04-29\", \"2019-04-30\", \"2019-05-01\", \"2019-05-02\", \"2019-05-03\", \"2019-05-06\", \"2019-05-07\", \"2019-05-08\", \"2019-05-09\", \"2019-05-10\", \"2019-05-13\", \"2019-05-14\", \"2019-05-15\", \"2019-05-16\", \"2019-05-17\", \"2019-05-20\", \"2019-05-21\", \"2019-05-22\", \"2019-05-23\", \"2019-05-24\", \"2019-05-28\", \"2019-05-29\", \"2019-05-30\", \"2019-05-31\", \"2019-06-03\", \"2019-06-04\", \"2019-06-05\", \"2019-06-06\", \"2019-06-07\", \"2019-06-10\", \"2019-06-11\", \"2019-06-12\", \"2019-06-13\", \"2019-06-14\", \"2019-06-17\", \"2019-06-18\", \"2019-06-19\", \"2019-06-20\", \"2019-06-21\", \"2019-06-24\", \"2019-06-25\", \"2019-06-26\", \"2019-06-27\", \"2019-06-28\", \"2019-07-01\", \"2019-07-02\", \"2019-07-03\", \"2019-07-05\", \"2019-07-08\", \"2019-07-09\", \"2019-07-10\", \"2019-07-11\", \"2019-07-12\", \"2019-07-15\", \"2019-07-16\", \"2019-07-17\", \"2019-07-18\", \"2019-07-19\", \"2019-07-22\", \"2019-07-23\", \"2019-07-24\", \"2019-07-25\", \"2019-07-26\", \"2019-07-29\", \"2019-07-30\", \"2019-07-31\", \"2019-08-01\", \"2019-08-02\", \"2019-08-05\", \"2019-08-06\", \"2019-08-07\", \"2019-08-08\", \"2019-08-09\", \"2019-08-12\", \"2019-08-13\", \"2019-08-14\", \"2019-08-15\", \"2019-08-16\", \"2019-08-19\", \"2019-08-20\", \"2019-08-21\", \"2019-08-22\", \"2019-08-23\", \"2019-08-26\", \"2019-08-27\", \"2019-08-28\", \"2019-08-29\", \"2019-08-30\", \"2019-09-03\", \"2019-09-04\", \"2019-09-05\", \"2019-09-06\", \"2019-09-09\", \"2019-09-10\", \"2019-09-11\", \"2019-09-12\", \"2019-09-13\", \"2019-09-16\", \"2019-09-17\", \"2019-09-18\", \"2019-09-19\", \"2019-09-20\", \"2019-09-23\", \"2019-09-24\", \"2019-09-25\", \"2019-09-26\", \"2019-09-27\", \"2019-09-30\", \"2019-10-01\", \"2019-10-02\", \"2019-10-03\", \"2019-10-04\", \"2019-10-07\", \"2019-10-08\", \"2019-10-09\", \"2019-10-10\", \"2019-10-11\", \"2019-10-14\", \"2019-10-15\", \"2019-10-16\", \"2019-10-17\", \"2019-10-18\", \"2019-10-21\", \"2019-10-22\", \"2019-10-23\", \"2019-10-24\", \"2019-10-25\", \"2019-10-28\", \"2019-10-29\", \"2019-10-30\", \"2019-10-31\", \"2019-11-01\", \"2019-11-04\", \"2019-11-05\", \"2019-11-06\", \"2019-11-07\", \"2019-11-08\", \"2019-11-11\", \"2019-11-12\", \"2019-11-13\", \"2019-11-14\", \"2019-11-15\", \"2019-11-18\", \"2019-11-19\", \"2019-11-20\", \"2019-11-21\", \"2019-11-22\", \"2019-11-25\", \"2019-11-26\", \"2019-11-27\", \"2019-11-29\", \"2019-12-02\", \"2019-12-03\", \"2019-12-04\", \"2019-12-05\", \"2019-12-06\", \"2019-12-09\", \"2019-12-10\", \"2019-12-11\", \"2019-12-12\", \"2019-12-13\", \"2019-12-16\", \"2019-12-17\", \"2019-12-18\", \"2019-12-19\", \"2019-12-20\", \"2019-12-23\", \"2019-12-24\", \"2019-12-26\", \"2019-12-27\", \"2019-12-30\", \"2019-12-31\", \"2020-01-02\", \"2020-01-03\", \"2020-01-06\", \"2020-01-07\", \"2020-01-08\", \"2020-01-09\", \"2020-01-10\", \"2020-01-13\", \"2020-01-14\", \"2020-01-15\", \"2020-01-16\", \"2020-01-17\", \"2020-01-21\", \"2020-01-22\", \"2020-01-23\", \"2020-01-24\", \"2020-01-27\", \"2020-01-28\", \"2020-01-29\", \"2020-01-30\", \"2020-01-31\", \"2020-02-03\", \"2020-02-04\", \"2020-02-05\", \"2020-02-06\", \"2020-02-07\", \"2020-02-10\", \"2020-02-11\", \"2020-02-12\", \"2020-02-13\", \"2020-02-14\", \"2020-02-18\", \"2020-02-19\", \"2020-02-20\", \"2020-02-21\", \"2020-02-24\", \"2020-02-25\", \"2020-02-26\", \"2020-02-27\", \"2020-02-28\", \"2020-03-02\", \"2020-03-03\", \"2020-03-04\", \"2020-03-05\", \"2020-03-06\", \"2020-03-09\", \"2020-03-10\", \"2020-03-11\", \"2020-03-12\", \"2020-03-13\", \"2020-03-16\", \"2020-03-17\", \"2020-03-18\", \"2020-03-19\", \"2020-03-20\", \"2020-03-23\", \"2020-03-24\", \"2020-03-25\", \"2020-03-26\", \"2020-03-27\", \"2020-03-30\", \"2020-03-31\", \"2020-04-01\", \"2020-04-02\", \"2020-04-03\", \"2020-04-06\", \"2020-04-07\", \"2020-04-08\", \"2020-04-09\", \"2020-04-13\", \"2020-04-14\", \"2020-04-15\", \"2020-04-16\", \"2020-04-17\", \"2020-04-20\", \"2020-04-21\", \"2020-04-22\", \"2020-04-23\", \"2020-04-24\", \"2020-04-27\", \"2020-04-28\", \"2020-04-29\", \"2020-04-30\", \"2020-05-01\", \"2020-05-04\", \"2020-05-05\", \"2020-05-06\", \"2020-05-07\", \"2020-05-08\", \"2020-05-11\", \"2020-05-12\", \"2020-05-13\", \"2020-05-14\", \"2020-05-15\", \"2020-05-18\", \"2020-05-19\", \"2020-05-20\", \"2020-05-21\", \"2020-05-22\", \"2020-05-26\", \"2020-05-27\", \"2020-05-28\", \"2020-05-29\", \"2020-06-01\", \"2020-06-02\", \"2020-06-03\", \"2020-06-04\", \"2020-06-05\", \"2020-06-08\", \"2020-06-09\", \"2020-06-10\", \"2020-06-11\", \"2020-06-12\", \"2020-06-15\", \"2020-06-16\", \"2020-06-17\", \"2020-06-18\", \"2020-06-19\", \"2020-06-22\", \"2020-06-23\", \"2020-06-24\", \"2020-06-25\", \"2020-06-26\", \"2020-06-29\", \"2020-06-30\", \"2020-07-01\", \"2020-07-02\", \"2020-07-06\", \"2020-07-07\", \"2020-07-08\", \"2020-07-09\", \"2020-07-10\", \"2020-07-13\", \"2020-07-14\", \"2020-07-15\", \"2020-07-16\", \"2020-07-17\", \"2020-07-20\", \"2020-07-21\", \"2020-07-22\", \"2020-07-23\", \"2020-07-24\", \"2020-07-27\", \"2020-07-28\", \"2020-07-29\", \"2020-07-30\", \"2020-07-31\", \"2020-08-03\", \"2020-08-04\", \"2020-08-05\", \"2020-08-06\", \"2020-08-07\", \"2020-08-10\"], \"y\": [0.03466412066813623, 0.033746272122637866, 0.034519358374986236, 0.034556003426505555, 0.034707417256940834, 0.0272353909726644, 0.03304435664695353, 0.02253833228247727, 0.015366432147886962, 0.03723482148664508, 0.038835937932053866, 0.03762457555962902, 0.03816017127371425, 0.04238142210970154, 0.04502630930569739, 0.042773672451817804, 0.045290920065069885, 0.044289332606441106, 0.043246247234314326, 0.031017852394209025, 0.04003378113028107, 0.04664107856772606, 0.05057271537215566, 0.01028089840085819, 0.03141631904427818, 0.045849070023290646, 0.04694698644395233, 0.05076555542093848, 0.048707247219661465, 0.05580409384083506, 0.05205558407530819, 0.052891366709914914, 0.04242347557843818, 0.05249795814347361, 0.06159483809503503, 0.044877667375755576, 0.044025763813733014, 0.04456072355792488, 0.05770356033391505, 0.06204455542338161, 0.06436967280869026, 0.058849938533416545, 0.03911784864371517, 0.04715724547658748, 0.05898225504423037, 0.06065387510286967, 0.0650069705384339, 0.07014342115776201, 0.06997159863177853, 0.07589005757698088, 0.07310699597511532, 0.07480543992012163, 0.07397562165169821, 0.07347185508032067, 0.06623977275039399, 0.07627861026845732, 0.07091853522339775, 0.07876733392621188, 0.07897598887435457, 0.0812383079812399, 0.06872071262280824, 0.07492374068431344, 0.07687305825383968, 0.06328208675149359, 0.0494890155922637, 0.058666892541137425, 0.06079713609547792, 0.05917962678771002, 0.04818625019787686, 0.0501075344902317, 0.04303065450063941, 0.06298669548897859, 0.07541945885928966, 0.07867785007219427, 0.06983241129021713, 0.06560526216312672, 0.07317843562640783, 0.07331602698664798, 0.0637414202908084, 0.067398058174609, 0.0657203747687676, 0.06658587282895254, 0.07217870667747862, 0.06876453787570193, 0.06804555478528472, 0.06225494142703476, 0.0572775746111719, 0.04727675578761782, 0.04681646028051682, 0.0590526297323638, 0.055589696983866226, 0.0632870077225163, 0.06495526043835348, 0.07003895350054902, 0.07099561302598696, 0.067661207753476, 0.06859323404992655, 0.06286642986047579, 0.0625173146925596, 0.06807832235696769, 0.0700277760599487, 0.07086777718476185, 0.07441792495260974, 0.063232690929773, 0.07014457023199366, 0.07403960232081466, 0.07202401876342432, 0.07311740823302554, 0.07266176652190914, 0.0759130597938446, 0.07553222745159513, 0.07442413513398433, 0.07714660659688118, 0.07326808086595316, 0.07460604247756158, 0.0778992227263803, 0.07354830085666486, 0.07283200241890805, 0.07597625321642124, 0.08350867764260128, 0.07787520598144362, 0.07905289657307162, 0.0826950609474001, 0.07641518375372944, 0.07686424494092559, 0.07677508395489957, 0.08260049646273382, 0.08350363296936375, 0.08378210885732867, 0.08503917806874794, 0.08078323660358536, 0.07936929280010123, 0.07603633852950017, 0.07249190711426873, 0.05417939313991284, 0.07080281067397978, 0.07377826226413205, 0.07742048715546206, 0.07888507704792398, 0.080531246947523, 0.08265726198512988, 0.08442194362416057, 0.08785558169183756, 0.0878084199547818, 0.0891321639433275, 0.09019169397478367, 0.09140799888506981, 0.09076592296055036, 0.08906983561991069, 0.09175858453565328, 0.09340163477474603, 0.09004129322339417, 0.08878008760759154, 0.07918262974397154, 0.09152231246646272, 0.0949098159413394, 0.09446630624729203, 0.09832260400505438, 0.10372105508251243, 0.10563378006366106, 0.09941085362086188, 0.09853469416570387, 0.10021472693088247, 0.10000155233291994, 0.09975463116086376, 0.10309931093930604, 0.0925399921711853, 0.09137223370468853, 0.08658363735712692, 0.09430685679923527, 0.09655744320454424, 0.10609953237312927, 0.10756386683637852, 0.10926641589525149, 0.10797097480323364, 0.10004737730353876, 0.0950303340773053, 0.0944766283614258, 0.09009303667099582, 0.09399281856641392, 0.09209507250556387, 0.08963490897110823, 0.08718755746284335, 0.09723397521325639, 0.09782555528525363, 0.08594667887798596, 0.08035080259914207, 0.0726051972141267, 0.08563318663503854, 0.08078063154868978, 0.08427599390914971, 0.08666398779249351, 0.08672685253136841, 0.0909610008014094, 0.08450936971473585, 0.06866113450349176, 0.08241903029094769, 0.07095393844227049, 0.07718294966265615, 0.0716812876595268, 0.05732092725806682, 0.07287299647992668, 0.07847471424688704, 0.06452320401488182, 0.06919850124204671, 0.07415753070387643, 0.0523843277535173, 0.03742609722193532, 0.04449944883850107, 0.057962079247763684, 0.05737517346176743, 0.05766156344017773, 0.04344483433620845, 0.027150407255321335, 0.053500566911108376, 0.05853696282616733, 0.06829981888245346, 0.07458878226620434, 0.06698589213085746, 0.06909496717051786, 0.06902039410652872, 0.07103712287107611, 0.07425815661226089, 0.07546954517894097, 0.06575343302224838, 0.038124529212425685, 0.03580255687908458, 0.045684008647437636, 0.050260660290497194, 0.0548511922369274, 0.057902728023489364, 0.05040905049437553, 0.0312398512826779, 0.042685142540803495, 0.05157349504280591, 0.05568359382684468, 0.05325723335170141, 0.04853202103984822, 0.06364157961553082, 0.05715183858661512, 0.052328329469992746, 0.054362751237642684, 0.049892994005901956, 0.058117421467746753, 0.06351733138298911, 0.05074930824604702, 0.053777928823415935, 0.05507314150954127, 0.054580570120157046, 0.04953056880397469, 0.05749672512339246, 0.038727632760821085, 0.029249915177091714, 0.04147875380590572, 0.048910909014534536, 0.04747936595918461, 0.04921814426690155, 0.03765958169326751, -0.001333250874148026, 0.004634234333780199, 0.022366611077259405, 0.03231339584057989, 0.037357267309334516, 0.04044190956093641, 0.03213097803167157, 0.031171147272650516, 0.032115485027884305, 0.0312580846237015, 0.030381678411992973, 0.034801896978689545, 0.04028005824963525, 0.033670971513676665, 0.03815593717556502, 0.04228045412646829, 0.039189002767833755, 0.0375836765843008, 0.03302943780108237, 0.03327779778090903, 0.03873032260097971, 0.0350032809158468, 0.032171798424929114, 0.027902403792094535, 0.03638189320531433, 0.025186634369468976, 0.021195310352025327, 0.022332917263712948, 0.02710023219177759, 0.028187759593168996, 0.031230450008363192, 0.03002632682685836, 0.027676026635590524, 0.029788717779322182, 0.034547739400185525, 0.025645069094982945, 0.030359600173691693, 0.03282425801020536, 0.03986408713334767, 0.03740766974089952, 0.03956044152052556, 0.03627786824519698, 0.04291055278450507, 0.03906552732352789, 0.03247885223366925, 0.030505090639330525, 0.025807157580696037, 0.03230590061808192, 0.03127826601748203, 0.02911888182105369, 0.03289326497364764, 0.032904376410696726, 0.032892866343865734, 0.03419423599279873, 0.036099728516759855, 0.030521049784198975, 0.032726868709327755, 0.0035474013167652862, 0.010395664066350514, 0.011986869939012521, 0.020611413171562863, 0.014413265850564273, 0.0034226636872421896, 0.02492644641644145, 0.013982515076435137, 0.021980199598747086, 0.02371563126377254, 0.029268463042732985, 0.03402331456807714, 0.03741380010833855, 0.035632749313145876, 0.03551430080137973, 0.03736012129793017, 0.03800074843073191, 0.039187014734597174, 0.04031617436234226, 0.032663716559232184, 0.018041720288469357, 0.02454280947854917, 0.030373591562271558, 0.032245391689493856, 0.031172077012654377, 0.032104801501498456, 0.03551017076588821, 0.03907191496130955, 0.03414241634463018, 0.03709133508551651, 0.038137289818767864, 0.036530147763698013, 0.037230207838654175, 0.039651571541378834, 0.03855055374115453, 0.03221847841395235, 0.033595579784067804, 0.031163936776683627, 0.03660488827499554, 0.03582793961331377, 0.03615532098845609, 0.03499356749924125, 0.03598031923223238, 0.0381934006023668, 0.03163630421771194, 0.028270298544573816, 0.022955297624738337, 0.019897870426270652, 0.025815370832935877, 0.022643287798032274, 0.022519433848824082, 0.014755808313997514, 0.024941913237493722, 0.02475135506569768, 0.03349634213396245, 0.03137873526361266, 0.029861816872209387, 0.02998117355796384, 0.03204500986366424, 0.03229517244109186, 0.033729524892627316, 0.03532167422952603, 0.03699262011019939, 0.03764412540459574, 0.037346879979125815, 0.03367595057282815, 0.03621198615659725, 0.028445188495316617, 0.026602714769197733, 0.03885972349633157, 0.04059517546444792, 0.04080581277545412, 0.04018455958365088, 0.03948446301764115, 0.04477523059149001, 0.04399288730818425, 0.04436993181753107, 0.04262723362442292, 0.043824942075111596, 0.0442365290157625, 0.04200644335173987, 0.04217222232020436, 0.030089674518496395, 0.03703309669399217, 0.046279368133637214, 0.05204481926490193, 0.0483180193709004, 0.05181977249834804, 0.0529879685232673, 0.05639862530287357, 0.056614753970481685, 0.05333268207419684, 0.04600647807028155, 0.05077729149964651, 0.05340493068123048, 0.050995286784914266, 0.04926704869761932, 0.05163600659476831, 0.05452147602006527, 0.05099169217995019, 0.053885331931624605, 0.0364177437118592, 0.023372638695152402, 0.04226417722911289, 0.04380332044424119, 0.031001052065817228, 0.03756292655401117, 0.03815206788422816, 0.04213757598521071, 0.030341434733432593, 0.03462817681872611, 0.04826614994229672, 0.047821464034477776, 0.051955791828583606, 0.05130837991391714, 0.0484913992769104, 0.04831677696975429, 0.05105355253086153, 0.0481431564590918, 0.05029639696664838, 0.04972908717046791, 0.048577231272680384, 0.04977786687719995, 0.0514502387778534, 0.0527226353084528, 0.05383415712363436, 0.05251603719011598, 0.0556364928344815, 0.05649809744386117, 0.05642108681866239, 0.056110017108010286, 0.0508835793332562, 0.06010337132813624, 0.059537668206271904, 0.059532192665764386, 0.053108736596284026, 0.04639104520309516, 0.05865613297992463, 0.060815256115549735, 0.060095751042658595, 0.06304887508596693, 0.061956518292556995, 0.06216723772143733, 0.0584173124419996, 0.06008765504366692, 0.06149912868711391, 0.06258783086704928, 0.0630111242916844, 0.062107167559104615, 0.05996331775223036, 0.060762744984688054, 0.06229405830349277, 0.06155065850489494, 0.0608617181154959, 0.06184106632302754, 0.06274733079376368, 0.05936730165434885, 0.06422796087970056, 0.0686634724776882, 0.06184553518876519, 0.06683639837797087, 0.06905430683506583, 0.06739889911908942, 0.0688425094393615, 0.07148228736204126, 0.07272926156364, 0.06867440012739776, 0.07189086451477328, 0.06768424692350677, 0.0703210362542295, 0.07148155526052667, 0.058415842277923374, 0.0653336223670282, 0.06250437442388028, 0.06611207949486109, 0.0772393507774107, 0.0748937393943819, 0.07305251071544405, 0.07051060680716387, 0.07341210484386738, 0.07079128669417578, 0.06180629885114605, 0.0619202812842843, 0.0642049442877504, 0.06723868596152968, 0.06456501106260117, 0.06264847822824177, 0.06082974728306931, 0.06544094674882067, 0.0664246912661197, 0.07129632439750123, 0.060507191563585264, 0.06633449060089029, 0.06519793381628133, 0.06568377585536588, 0.06192757790277378, 0.05872874077551496, 0.028339290227210247, 0.046632327963585594, 0.04014610274069739, 0.047934866146281584, 0.050435608772934314, 0.05334621004879671, 0.05612055478234841, 0.058594644978388406, 0.05662359185549783, 0.060106346008934886, 0.0642981809257445, 0.06337283539897219, 0.06578188657364588, 0.06687800743457581, 0.06788658788244253, 0.06357862019950548, 0.06211578782608884, 0.06142043734101319, 0.061706692506791117, 0.062183264638170456, 0.05929796517731693, 0.06128146192757111, 0.05840174214632863, 0.06353863872465573, 0.06379348137286266, 0.06619691848517065, 0.06626135017551342, 0.0649279907246933, 0.06655320936349876, 0.06444185978786618, 0.06741365495434576, 0.06367761294389601, 0.06273448425790117, 0.0646407201476773, 0.06558894095053194, 0.06501530385635146, 0.06487667480419801, 0.060185743227437694, 0.0626052988111544, 0.06682677523288186, 0.06474901197608293, 0.06684868140534073, 0.0674399196689627, 0.068534462811095, 0.06877497635021285, 0.06974654786467, 0.06933253973868912, 0.06338611154508836, 0.06053033492401379, 0.062147683404096724, 0.06540937896544097, 0.06230873893463321, 0.06009029849467993, 0.06300628273378014, 0.05981293051118216, 0.06193667113382548, 0.0611372984313476, 0.06648302281113613, 0.06592357093204192, 0.05717178359118086, 0.05631486172640439, 0.0705577089800977, 0.06688727701873287, 0.0781413146400663, 0.0732952382115411, 0.08120439266602181, 0.08337076041108905, 0.08233868003887758, 0.07740871880820624, 0.08006952509986803, 0.08071300128677802, 0.07785832018798627, 0.08267343666194897, 0.08482536028200546, 0.08462035361752424, 0.08092612070010968, 0.08175452026722217, 0.08227020902894835, 0.08523680059956945, 0.0870283380576233, 0.08715932308997616, 0.08796883749047162, 0.08706442273447654, 0.0877914087904105, 0.08881947771776605, 0.08151889487244013, 0.08718593767735688, 0.09238751258057722, 0.09291417202326997, 0.09474342349292776, 0.09261295935493806, 0.09721471653941852, 0.10008145047976877, 0.10173544568872257, 0.09737345168816401, 0.09542438192223847, 0.09991176946808014, 0.10050201105429951, 0.1001621737701103, 0.09924965630061272, 0.08813764786036735, 0.09607430390078615, 0.09565470776285666, 0.0961182031139458, 0.09777712420036705, 0.09545251207854365, 0.09937374700619823, 0.10212384864191662, 0.10342603262253278, 0.10529318419779551, 0.10434725929158299, 0.10189277576212756, 0.10604403286017218, 0.1048978065299981, 0.10605275434261059, 0.10722101468201953, 0.10462745437419438, 0.10244809204746186, 0.09858171241246509, 0.10224391842946724, 0.10282642844925526, 0.10207565372057945, 0.10158270465896554, 0.10794548702073992, 0.10952037708723977, 0.11049145898654049, 0.11095891398583281, 0.1119415352025878, 0.10356857178820722, 0.10578683723347901, 0.10593794354682468, 0.10275598299268669, 0.10490050677667583, 0.10280563052605926, 0.10400115900824804, 0.10719963782992561, 0.10755516605582245, 0.1103116688488003, 0.11135921694816525, 0.10935271755258841, 0.11186198206084053, 0.11146053408971378, 0.1139017942242953, 0.11664090751969057, 0.11657740590615151, 0.1175626355343197, 0.11729498162266909, 0.11700786824946183, 0.11496656434006872, 0.11883340893277002, 0.11913334673087271, 0.10041600038931094, 0.10442527101315313, 0.10994928565363633, 0.11046500608173472, 0.08943763982383054, 0.10792963329102331, 0.11422246307191802, 0.11463490915464751, 0.11476135076979366, 0.11246014347611713, 0.11471848266496214, 0.11847321994553972, 0.11209111767847744, 0.11485010359437035, 0.11644701648583673, 0.11515865307115346, 0.10190126782209238, 0.11288642113495173, 0.1134146037860017, 0.11389187557985939, 0.11134667199866508, 0.11328693899893347, 0.113344539008952, 0.11425265124710286, 0.11183293459809333, 0.11368707439254792, 0.1112927895918844, 0.11228676480847097, 0.11228618843156517, 0.10877763438066766, 0.10113501090895062, 0.10269657747325588, 0.10602416477836614, 0.10880183275086044, 0.11169619925804775, 0.11644566788067011, 0.11965638516387252, 0.1238198318833746, 0.12542448985102295, 0.1266582935525553, 0.12718032330264858, 0.1281768364111517, 0.1296134506215044, 0.13127764244794227, 0.13122377473228458, 0.13231921772446412, 0.13235452830867483, 0.13314317106394957, 0.13370925610451964, 0.13538052566129635, 0.1356613231003969, 0.13696036250360896, 0.14181479356957663, 0.14106255122468025, 0.14432198108037347, 0.14308622813120864, 0.1460865597877327, 0.14445013772414433, 0.15006265206646324, 0.14501634849618744, 0.15173376103658098, 0.15385373049011214, 0.13793609878442153, 0.14053465154516157, 0.14538831520314027, 0.14466956636679912, 0.14423572753772557, 0.13639956516146678, 0.13941292782730452, 0.13737044605875623, 0.1371708836233127, 0.13139488804439314, 0.12686994155198839, 0.12487682344730386, 0.1311374921155147, 0.13670007709984577, 0.13083085259319874, 0.1392267888478942, 0.14115023823048928, 0.1417448229946513, 0.14290550236211041, 0.14361481236012275, 0.14056584863866678, 0.13473880882333558, 0.13100991226919584, 0.12340178540191295, 0.12320753091270661, 0.12976457539560843, 0.13515890500726901, 0.13619576541502815, 0.1313558286861507, 0.13079047602808486, 0.13253268493891118, 0.1251239957443035, 0.12087885203566066, 0.13028117853592902, 0.13209626177406328, 0.13694690284582528, 0.1391216872126153, 0.13806239201616322, 0.12464337129699496, 0.12954083350556472, 0.14535923567822515, 0.142044596017054, 0.14789957523570763, 0.14947016502088206, 0.14867494966251038, 0.1533681414981459, 0.151180753108585, 0.15341156998044952, 0.15465123368746872, 0.15862548713559838, 0.1615949695492124, 0.16566922456938554, 0.16588366306087002, 0.17021271121338888, 0.17074848240450366, 0.17116843874976498, 0.17491613086317223, 0.17353540892553704, 0.1661308702958105, 0.16698231025631552, 0.16728014979907144, 0.17048486398661433, 0.1724689137968741, 0.17173089487604473, 0.16403763848359496, 0.16210048955754963, 0.16094010868362413, 0.15856559130797837, 0.1541021209302095, 0.1613475078035889, 0.15917072768118487, 0.16409501223079365, 0.1660504781220306, 0.16683905770253757, 0.16769025405291552, 0.1613144358439159, 0.1682675258131006, 0.16793640297687715, 0.15878323843410475, 0.16104741431394146, 0.16024154631978987, 0.16529161868440556, 0.16219570361400296, 0.16205056800787968, 0.1653376598568393, 0.1686150486669534, 0.16629579878080522, 0.1651639122206639, 0.16773214034828632, 0.16770115348881745, 0.16775175262643793, 0.16820690792372348, 0.1686607190758943, 0.16754950687238668, 0.16142731555459916, 0.16771024336788892, 0.1684254722832641, 0.17104054551122838, 0.17195140086893648, 0.17332385239011233, 0.1705539032423635, 0.16334669950000946, 0.16743912117247287, 0.1577919894090053, 0.1687366037558232, 0.16931089830636453, 0.1638665001526951, 0.15908146905097736, 0.16356166858628243, 0.16654739890388043, 0.1659100252103974, 0.16416102773545274, 0.16634080540285368, 0.17061965195923426, 0.17125642286776918, 0.17224793001491595, 0.17289684574814407, 0.1740343296630781, 0.17617922075267772, 0.1776046293396821, 0.16832656439207913, 0.17659049532442334, 0.17821702973615838, 0.17242420100074643, 0.17559001584828945, 0.1742325958696268, 0.1749261178287292, 0.17237924011861472, 0.17138626865255807, 0.16730726186453412, 0.1660808796345261, 0.17134774258535676, 0.17130198023596768, 0.16830559149262175, 0.1668103737492218, 0.16991179017832064, 0.16912198009880244, 0.1699072614789918, 0.1646649473568348, 0.16957129796290132, 0.1689672866050425, 0.16754648751524182, 0.1696528597023431, 0.16646596090921215, 0.16139139881953476, 0.16383424910307925, 0.16812825007662177, 0.16824286497307173, 0.1672597782807949, 0.16397966981217973, 0.15590628912289559, 0.14848024891177172, 0.15721481475144675, 0.1646999023902904, 0.1659703460672105, 0.16807718332412103, 0.1710274410860311, 0.17179762053182288, 0.1748005626964321, 0.1696854365581159, 0.15336561608298324, 0.16236686636493644, 0.16232283938743797, 0.15860559371913288, 0.1613352313374375, 0.160090239802839, 0.15935304129437772, 0.15594492252149406, 0.14650304873929348, 0.13138744662953522, 0.13639044998993638, 0.14242722823351756, 0.1452057859429796, 0.15113905390997534, 0.13296013598545658, 0.13580714236106173, 0.14308435761860008, 0.1454660926015106, 0.14810878912077713, 0.1477091801170851, 0.1428450694143108, 0.13535661316083641, 0.11338715306141464, 0.10340900124204516, 0.11291663353925746, 0.12555139044647268, 0.13360614268541568, 0.13878174088169665, 0.13730869511260033, 0.12450755591183138, 0.13568426283812052, 0.13304536176804233, 0.13134616241434832, 0.13662222786096664, 0.12811792840056632, 0.1359932828261709, 0.14104566547200975, 0.14200766781298613, 0.14603541001045484, 0.147163010706726, 0.1384682432644106, 0.13610720987903838, 0.14296344726814303, 0.13939620421771906, 0.143264662281791, 0.1425519620352112, 0.1411438772348546, 0.1372640918140896, 0.12762792846130452, 0.13103493726539467, 0.12998283497146979, 0.13238782474724028, 0.13401484942578704, 0.13560150826468817, 0.1347645966464628, 0.13010176577461655, 0.13654355637998195, 0.1386787269782453, 0.1386860204310681, 0.1339726127673918, 0.13816904225645038, 0.13634031110894274, 0.13903385783987976, 0.1403168428491554, 0.141312061985651, 0.14474441780383035, 0.1492592195728026, 0.14082113721221814, 0.13888714825353443, 0.14592709370162749, 0.15325451464310821, 0.1514979815010682, 0.15722088747883847, 0.15806290005416168, 0.15703459250075077, 0.1556711498029291, 0.15686683933718037, 0.1557885752913697, 0.1447627748716296, 0.1454364784266446, 0.14646742495690152, 0.13795884460077296, 0.142657610126887, 0.14318080931372087, 0.14754452978813873, 0.15094470142246558, 0.1532391086192454, 0.15045464981435294, 0.15121050810665299, 0.15257344044563625, 0.1533222462125125, 0.15058564328754048, 0.149315264508633, 0.14744384421304374, 0.1441680374611714, 0.14938610454897894, 0.15155040964080732, 0.15113751185196372, 0.14431374540469488, 0.14781866349891692, 0.1394542886641953, 0.13561504090989668, 0.13326806909400782, 0.13452255267638688, 0.13151649239486804, 0.11841904524865027, 0.1278819189908693, 0.1297799653480013, 0.13250502065972525, 0.1340680901797895, 0.12983685830044794, 0.1330041966387517, 0.13102830227720036, 0.12476722871007694, 0.1211608050476291, 0.1176611732480679, 0.11192714818550224, 0.10180431703614783, 0.10426130005920825, 0.11031979328118835, 0.11320703122335743, 0.10628718797150996, 0.11036107219784907, 0.10331623992837483, 0.10617872106507736, 0.10371053023002018, 0.10560375023407308, 0.11371508964934099, 0.11181367570447703, 0.10959815647230958, 0.0884658321876023, 0.10077195334748143, 0.1059094215188198, 0.10744588080335256, 0.10412906008065473, 0.10657861337429458, 0.10699711029263653, 0.10194493223561245, 0.10281071903096412, 0.1041425136088644, 0.10301170278351685, 0.10080000828633585, 0.10274445147563768, 0.10670964765403083, 0.1102056436710127, 0.10738449608891891, 0.10746901203756289, 0.10927106836309163, 0.10530698785460722, 0.10746195528271221, 0.10998342631363044, 0.1100783337610997, 0.10876610027024906, 0.1141476176020747, 0.11701793282867906, 0.11795311395888415, 0.11962701455214411, 0.11883817046086417, 0.11779451874426715, 0.11858793607067405, 0.11779293961999245, 0.1207944250878857, 0.121634272503845, 0.12355314750308787, 0.12652874931446126, 0.12674471914640162, 0.1255956795288074, 0.12680735969929494, 0.12882858895136778, 0.12862524566619998, 0.12766235178668883, 0.12767201970558473, 0.1308887538820248, 0.13253675529577094, 0.1342079678535203, 0.1361711524318458, 0.1367626906965384, 0.13571844091980884, 0.13799846555643125, 0.1324887814293949, 0.13388716626550423, 0.13376889775002646, 0.1368614963934579, 0.13914687818764118, 0.14036578144344009, 0.13291619417308517, 0.12630410901297312, 0.12920963120269174, 0.12989205145464722, 0.12748391971826228, 0.12661373550169636, 0.12623665791849592, 0.12084559007311231, 0.09975023197154725, 0.09846480030025861, 0.09826708165564536, 0.10095323202451674, 0.1027465492769734, 0.10304131320227204, 0.10190474494008302, 0.09978003535005942, 0.1014401976913014, 0.10256954361480669, 0.10148776636053643, 0.09049796529904042, 0.0953674682152015, 0.09957048234212733, 0.10083495308971177, 0.10362022322511762, 0.10455831532038921, 0.10633459398775526, 0.10785971251925801, 0.1111498554288073, 0.11409452675542933, 0.11307411392161701, 0.115784733778777, 0.1139796734646237, 0.11309232338298067, 0.11008214577813806, 0.11212787102860165, 0.11425776397239293, 0.11516715869906304, 0.11521157721046985, 0.11578998165518599, 0.11345863647383703, 0.10964407978851787, 0.11074087356659995, 0.11046513912134807, 0.11100299769447138, 0.10244975338228249, 0.10576167955408944, 0.10718970493833305, 0.10737891287609927, 0.10803009137461904, 0.0966410401154841, 0.09819323819065846, 0.10194675976093633, 0.10408906188441105, 0.10654070667259273, 0.10849740252919855, 0.10649485594830978, 0.10709491171329621, 0.10872094949734669, 0.10963843943983705, 0.11095080043817546, 0.11176097779681617, 0.11043833615174639, 0.11236062804961638, 0.11358354064929448, 0.11474334021163707, 0.11662063808439803, 0.11644397086670515, 0.11449537729073345, 0.1136061837895164, 0.10930983381578205, 0.1057523434881696, 0.1129600022699016, 0.12311046044523186, 0.12457260259516573, 0.12670483048123976, 0.12424147641546517, 0.12732190486029873, 0.1278740976378644, 0.12917175665943728, 0.13268804179241378, 0.13379457523575328, 0.1325324151551643, 0.13190333033098645, 0.13364210167135027, 0.13517179779153923, 0.133854226830751, 0.13473436461074495, 0.13493679692791494, 0.13500721323864284, 0.13327627437934114, 0.13458858538278368, 0.1326384189637788, 0.13153664265672044, 0.12992192785305762, 0.13008218046948225, 0.1284890938646395, 0.12800628521427626, 0.12966074294895968, 0.13160760006993094, 0.13153773214640585, 0.13064134568545904, 0.1235665967112032, 0.11979133070263209, 0.12450045680670743, 0.1270341656555356, 0.12763362253725433, 0.1380437617964108, 0.13819755153485686, 0.1402193962070709, 0.1419695838095405, 0.1417197085928623, 0.14451554771496106, 0.1377409346681698, 0.1412735736024191, 0.14242991064853566, 0.14340430228884493, 0.139049371714266, 0.14068595050190996, 0.14172315975583036, 0.14152767816037987, 0.14279776703977606, 0.1434085698129654, 0.1443674572942745, 0.1465896386648734, 0.14314591374722088, 0.148928385831081, 0.14856116009035925, 0.14977083883758252, 0.15131565057882185, 0.1510273711998949, 0.15098033363436159, 0.15028380843326222, 0.149513701096858, 0.15152395940900243, 0.1492214663739971, 0.14145732751442042, 0.1437474847587646, 0.14179014839629656, 0.1430560644794264, 0.13657294903927225, 0.13896125443663118, 0.13570759989560538, 0.13321363539391015, 0.13604887218668033, 0.13849875856115254, 0.1332047559023572, 0.12743371873539766, 0.13194169361496777, 0.12419764234925672, 0.12961888964209264, 0.1315068619390438, 0.1358439726073805, 0.1359469507520563, 0.13910383669956278, 0.13970789269179978, 0.1383833422423026, 0.14173834944741545, 0.1390830076931167, 0.13867842434183705, 0.13575491047526655, 0.1336041130987084, 0.1359021253392123, 0.13324972333148555, 0.13604721690971497, 0.13762716112611123, 0.14017942928811375, 0.1427306178157745, 0.14259175993718223, 0.14384221815251078, 0.1452149130507003, 0.14468289262953835, 0.1452845718312114, 0.14894319618409974, 0.15045020503777867, 0.15033228145656874, 0.14849640473634163, 0.1506221428602726, 0.15150075209382016, 0.1501510421396286, 0.15092222178079717, 0.14693792105938008, 0.1478404004676751, 0.1486697601387827, 0.14967467688057834, 0.15087181070864256, 0.15273374866392475, 0.15425658437948656, 0.15506936136939414, 0.15415987022639893, 0.15388588086051114, 0.1545903008877016, 0.15608837500438638, 0.1554099344288547, 0.1548509035194245, 0.15650014862656983, 0.15612018379851061, 0.158569023654757, 0.15954127631592557, 0.16037791583283434, 0.15836172253877823, 0.1551493459791733, 0.16077879674827053, 0.17142208411756063, 0.17380282860153165, 0.1758449204314867, 0.17667260324347067, 0.1798204880166784, 0.1798093791461376, 0.18039315378453147, 0.18226749349133944, 0.18421844655063627, 0.1848402637884786, 0.18637126396699988, 0.18715154871892636, 0.18874677448112107, 0.19007014787647264, 0.1889395689446505, 0.1890546833534619, 0.1897991166954865, 0.18946044672319542, 0.19312198382720977, 0.19293792327936304, 0.19526803599395004, 0.19431430563689536, 0.19527624010862965, 0.19407803632683573, 0.19296251354020436, 0.19422446546199162, 0.19465213983177787, 0.1945392174409425, 0.19595310346383124, 0.1973181272591025, 0.1924572815340373, 0.19850138827736324, 0.1927792764641341, 0.197811960906542, 0.19761152567802592, 0.19677245964833343, 0.19707626427864236, 0.20141629207409295, 0.20263593311560038, 0.20339274964981247, 0.20308194188230563, 0.20311453265354168, 0.20522631597540275, 0.2026481172431861, 0.20287151010307689, 0.20287733079083756, 0.20222401207871724, 0.19758441307100827, 0.19933682150773335, 0.1982235097985939, 0.1999287581784208, 0.19895986972112112, 0.19756783044040738, 0.20017179761426904, 0.20068713717771625, 0.20340030025696929, 0.20489993217804572, 0.2030674494052942, 0.20410307145873466, 0.20289271181173424, 0.2068360063793795, 0.20699750082564472, 0.20606620618461022, 0.2081854840049833, 0.2123913979578823, 0.21730273043348503, 0.22058605032152998, 0.22103964864760386, 0.2221877746576643, 0.22565835994423425, 0.22579598860096156, 0.2261883575394938, 0.21160483774982797, 0.21852933549759243, 0.2204839948865005, 0.22287302623725203, 0.2229315822209029, 0.2221342675923133, 0.22316552405821471, 0.22227475787635068, 0.22264719424208582, 0.2202507175255061, 0.22221294552483828, 0.22505654537185346, 0.22242067759103165, 0.22325751257881757, 0.2258477599389909, 0.22507690640007558, 0.2071171014005116, 0.19908494613472397, 0.20677602034115977, 0.20434429736205303, 0.20254834746739703, 0.19601241918398696, 0.2065155064287257, 0.2049883138947348, 0.2071891021904199, 0.20702398498878818, 0.20598781773235939, 0.20646476747486178, 0.20249760079406823, 0.20699513275490078, 0.2014462772054967, 0.20331222312992306, 0.20352989570199045, 0.2036552787896926, 0.2006260282489913, 0.20416680029719486, 0.2056253671615274, 0.2067322848688887, 0.2064221781279598, 0.21035875108131394, 0.2135663372516879, 0.21406810761044456, 0.2159261727060064, 0.2173375291552011, 0.21652450195887976, 0.21511260623119816, 0.21935526576859, 0.2210034524693, 0.2228502539727901, 0.21480076218789043, 0.2148813907424652, 0.2129988807344311, 0.2133913676501974, 0.22240498509158887, 0.2253871791598999, 0.22792025320529008, 0.2324808244804419, 0.2329432059059868, 0.23629050649834438, 0.22295754697451758, 0.22925182504767097, 0.23448472223300548, 0.23687782812387742, 0.2358568761193799, 0.22975887949661472, 0.2291253760043673, 0.22870657536650726, 0.23442073197731958, 0.23512500238664583, 0.2336732078512665, 0.23402929958956006, 0.23711799862115163, 0.23943965464335284, 0.24062052428741063, 0.24196380804312287, 0.24350417718061132, 0.23781874646997592, 0.23859132130392385, 0.23727739472452627, 0.23117404787218032, 0.23638241679861677, 0.22944900803307433, 0.23086875853831834, 0.23117395374308372, 0.2307245850499174, 0.23130088231190568, 0.23247386124932676, 0.2227097656182495, 0.2196383732534998, 0.21540436394096998, 0.2130959235673164, 0.2192685898842659, 0.2229846213348913, 0.22161655364242425, 0.22265632710844194, 0.22312381066965106, 0.2247870329726376, 0.22226935153021252, 0.22585668447624663, 0.22622861619909226, 0.22744958070596646, 0.2276586312706936, 0.22875107603256642, 0.2277828688383877, 0.22968634053605863, 0.2342607529390063, 0.23614282329283104, 0.23512152833764152, 0.2240000520286233, 0.22716263385974467, 0.22728726653924655, 0.22970922358880852, 0.2278679163671731, 0.23042423757219316, 0.23760079796084996, 0.24476331381146238, 0.2505375774033458, 0.24666196193554762, 0.24795725841751065, 0.25401921308364306, 0.2608995541802015, 0.26350671007389814, 0.2663043729572975, 0.264880588533667, 0.2631212246279783, 0.2629034323822933, 0.25664195991821925, 0.25159069393473155, 0.2563333054073509, 0.25471609431012276, 0.25518027262071635, 0.26012268049654796, 0.2636272401729777, 0.26528272659735097, 0.2626103533496369, 0.25980183810198315, 0.2506053946388779, 0.25527302789334805, 0.253954236948332, 0.2525238915912169, 0.2529447225896294, 0.25153802254029645, 0.252554428660544, 0.25298044063926095, 0.25776591998129794, 0.2581082203298404, 0.25860224891451455, 0.2589770169520832, 0.2596227736373644, 0.26594829565920547, 0.2625421359479203, 0.26272994029853336, 0.26438162646515656, 0.2650325317299598, 0.25394299327106706, 0.25565541231412336, 0.2573067306894746, 0.2523316945903715, 0.2583367882745663, 0.2577173892167691, 0.2602884989705725, 0.2639785842256124, 0.26314135260784643, 0.26295834398455353, 0.26254372441632484, 0.26523404286356833, 0.2678286278695588, 0.2654767525127712, 0.2705016099332148, 0.2712671925539023, 0.2695240303234958, 0.2674129507808447, 0.26670182162502093, 0.25856580039735966, 0.25382151449759166, 0.2549435466408335, 0.2463547792320731, 0.24506296268667102, 0.24788493750144097, 0.24648416691641017, 0.2266377131904452, 0.2207338505197475, 0.23419567740244787, 0.22970490597433563, 0.22070187254937465, 0.22086925222716133, 0.2346185587627723, 0.2418150521391603, 0.24661189983056292, 0.25614764065575574, 0.256601629182698, 0.2563478528091464, 0.2543171447226297, 0.25803835678230314, 0.2635227377302311, 0.26971248563407196, 0.2684666523975636, 0.26809927750090135, 0.26042134910602044, 0.2642584456286339, 0.26687704521806815, 0.2672355151785455, 0.2628993759240801, 0.26776707015765056, 0.2725388949046691, 0.2759482022710802, 0.2725888617895347, 0.2699172771139099, 0.27126638893625027, 0.26767360562957687, 0.26318224137292867, 0.2650167121669956, 0.2547683253943882, 0.249394736425316, 0.24179200951774615, 0.25764124164151053, 0.24847492396239473, 0.24472165596886897, 0.24773381164422706, 0.24569138197167933, 0.2500790465858782, 0.2557816647876149, 0.25920095509771707, 0.24939060122104262, 0.2535128732651752, 0.259874717348143, 0.2591318524731637, 0.2624010387664017, 0.2632418890349134, 0.26588125541369456, 0.26991597873114054, 0.26995932127364886, 0.2580866698018831, 0.23986063511488329, 0.2430189272622177, 0.23890776791645532, 0.24105144199436573, 0.2422286063012548, 0.23741401672199125, 0.24222168089655505, 0.24817607325234375, 0.2609907742924603, 0.266212538295022, 0.27669138703119495, 0.2812451318361816, 0.2849782277952698, 0.28828186418396906, 0.29286168980925664, 0.29026946663102227, 0.29017530670707625, 0.2864091316259125, 0.29045990799765165, 0.2883934471431513, 0.2869178440675091, 0.2894919848950589, 0.28901735292574315, 0.290689087689163, 0.28982793085528946, 0.2914880371582962, 0.289439499662145, 0.28919603752918943, 0.2867165197007828, 0.2938972502588715, 0.29661595504045424, 0.3001834564227871, 0.3015868967114915, 0.3005086032361277, 0.2963057317608323, 0.2965651562407835, 0.29882207887558865, 0.29505461674379396, 0.2952547472761746, 0.28573601834645, 0.2916569593156324, 0.28353992497093816, 0.2869606626349356, 0.28420188284845826, 0.2829322441570039, 0.27690768087662915, 0.28234354957798935, 0.2817127434543461, 0.28546125424778457, 0.2839362765315714, 0.2887041698489, 0.28284516083099687, 0.28537279843021957, 0.2902883114598075, 0.29508553680130556, 0.2951746027040464, 0.289921333771625, 0.2962107659812958, 0.29758113614354453, 0.296399612450409, 0.29738909209612796, 0.29520835954611724, 0.29756001827009804, 0.29664201306886606, 0.2976385216152575, 0.29998130004267576, 0.3038318753463948, 0.30230080609451293, 0.29526620755147237, 0.29359147487971204, 0.29174134509482397, 0.30968460326955216, 0.3220184150278065, 0.3272920618258526, 0.33054510351803434, 0.3266783225778497, 0.32738609648816186, 0.33044594531873195, 0.3276401188769541, 0.3300869889237049, 0.3325404553948288, 0.33236110864367097, 0.3384449103177336, 0.3458193722086107, 0.3423888877810771, 0.3421492175999946, 0.34317929757573395, 0.34406129268846464, 0.34543281574958895, 0.348633791925513, 0.35176681766390583, 0.3575658052054709, 0.3585387009086687, 0.36440931627217565, 0.36809764383327237, 0.36433468700668015, 0.35680578182054434, 0.3528045917047511, 0.3467116265575222, 0.3580702144759582, 0.35070396730422027, 0.3622478600427197, 0.3585811125680546, 0.34615756126482333, 0.3476592053052826, 0.3485434493646071, 0.3518718267027765, 0.3373711460853859, 0.3532088313337941, 0.356398578859067, 0.35300794494071885, 0.3610152231731659, 0.3635905716123816, 0.3664765021764791, 0.37027002713321966, 0.37519457460240135, 0.366713849586883, 0.3592399056244763, 0.35877427381146465, 0.36524613830889996, 0.342498114712516, 0.33717704153039807, 0.3540085445413579, 0.34604384587662074, 0.3556650947819744, 0.35467357141861133, 0.34316261256822367, 0.349544400014572, 0.35277882227857615, 0.35544659278989144, 0.34015814447296633, 0.35096136641418973, 0.3416351310876009, 0.3338600489650543, 0.3372512122762046, 0.3479148165258231, 0.351679606790848, 0.31810247906560296, 0.31011181144816535, 0.3192373732315136, 0.33113914878855344, 0.32941651953550755, 0.3202588753688874, 0.297686379653485, 0.29448343256252685, 0.2818652040505535, 0.2929324819592911, 0.29844136398684773, 0.2826923646423509, 0.26161290066754117, 0.26641334619888807, 0.2586689551184008, 0.26021424448022257, 0.2599799474103244, 0.2724581675520757, 0.27033950257742306, 0.2687539037348482, 0.2808116435562565, 0.2647908501624676, 0.2606792080687186, 0.24857683453471663, 0.24796015831832605, 0.24814395216362775, 0.25071456841363493, 0.2548702876210449, 0.24289701425225316, 0.23936974607566514, 0.245025016283959, 0.23271485393019486, 0.2225276395447927, 0.20618258942084036, 0.20682171248922093, 0.22407028937468873, 0.22284318770663447, 0.22453176585662632, 0.22852424986510486, 0.2285891493140829, 0.19006152574993837, 0.20659298153820635, 0.20648759048776846, 0.21396382226459937, 0.21840797041951057, 0.22068736330355568, 0.2189650730378476, 0.21370777280944167, 0.22025600977022056, 0.22366035145609417, 0.22557050699916106, 0.22689720930022061, 0.22046893108565083, 0.22271250024367348, 0.2199929392630942, 0.22877115430125103, 0.2269468816741731, 0.22159161611522926, 0.23955878556256105, 0.24477464797611828, 0.24607354603039858, 0.255515670571604, 0.260610120505553, 0.2618401739597386, 0.2548728850715759, 0.25495428877635085, 0.253432266629241, 0.2561130224974971, 0.254691351122714, 0.2559998844214401, 0.25485973776558657, 0.2566598735422334, 0.2578067124668889, 0.25715862660456384, 0.2606690620369755, 0.2627212715187657, 0.2635969824334762, 0.26313286562021554, 0.25970592591285047, 0.26360477615980427, 0.2651112925501104, 0.26557298233589377, 0.2634404192599701, 0.258914931843294, 0.2598317741882469, 0.27044549884478386, 0.27432282189410057, 0.276094791746445, 0.28111078089536945, 0.28361006971399183, 0.2891505531338997, 0.28546064736925203, 0.2887438031837236, 0.2995049636478859, 0.2928024697126319, 0.2880688237048258, 0.28340198713211506, 0.28951966823376063, 0.2912929479523627, 0.2933113113660123, 0.29523310110094847, 0.3014061422167813, 0.30394286594687736, 0.30519787521523767, 0.30785012528753053, 0.31288905136782363, 0.31031355226901114, 0.31450114233977455, 0.3113384409067542, 0.31021096700611717, 0.31236354656968013, 0.3112482818075073, 0.3184033167824546, 0.32050148582358085, 0.322488399261187, 0.3277243175976384, 0.32791489347936675, 0.3240860733404006, 0.3221491736027744, 0.3222540585190118, 0.3110847557583172, 0.3278139530614096, 0.3297722809803748, 0.33644231921687184, 0.32839510044977216, 0.31647918815508835, 0.3183154677637908, 0.31282777495792446, 0.30499392376778756, 0.28022402479479047, 0.2889469832360929, 0.29479189947333284, 0.2922267679680056, 0.290130273369853, 0.2777287194804213, 0.2860622410886208, 0.27837485711789756, 0.2712966585863896, 0.27175660123308176, 0.2697063625228884, 0.26796399315432434, 0.27079582745931924, 0.26363714701987156, 0.2582767199752016, 0.2720443272197192, 0.27790066118003465, 0.28418191281258953, 0.2926960996736042, 0.29809322473311284, 0.3023658372421518, 0.30238243048611624, 0.30181544685802275, 0.29946241308605914, 0.30229673692725556, 0.309558444442114, 0.3091887901064527, 0.31225188651022195, 0.30719911100946273, 0.3109920647008768, 0.30468580120139577, 0.31227441327413696, 0.31288791850508124, 0.30787391989912316, 0.3155296768264815, 0.3193126512506841, 0.3233959226768425, 0.3222076392772455, 0.3128089965901816, 0.31587515525083654, 0.32015712968437005, 0.31692997231127196, 0.3203371382678767, 0.3241745917115473, 0.322793567236084, 0.320928661415288, 0.32482580113093096, 0.31847298234849986, 0.32736229590938126, 0.33109435075344795, 0.3312368611758706, 0.328154067688725, 0.3290412824713791, 0.33227223043644893, 0.32877226883441724, 0.3321258306419932, 0.3252445101107464, 0.31845723104055, 0.29588070521876564, 0.30540267621642536, 0.30975151432009584, 0.31926007834681747, 0.31481302543604495, 0.3141162813923708, 0.3272655635937638, 0.31657703490615463, 0.3159149333924741, 0.32519438027335346, 0.3331985252491809, 0.33286855803412396, 0.33809676290155877, 0.33764214287228655, 0.3149081630503149, 0.32539787336250947, 0.3208524934901601, 0.3249448456642453, 0.33105488637528413, 0.3305037630736992, 0.324700380599106, 0.3316629205402888, 0.33901540150246157, 0.3396201290279174, 0.3402803773200854, 0.3446098485889487, 0.35635192326684717, 0.35707807831747385, 0.3475003857652552, 0.3523880642259575, 0.35435872253898304, 0.35742489693019297, 0.35433921483168374, 0.3432857838586676, 0.3503558488142974, 0.34661483127699855, 0.3544987210076952, 0.35269736037065524, 0.34967667361041044, 0.35968808463969615, 0.35965489315427557, 0.34864103358056386, 0.35313850255275236, 0.36442719787769995, 0.3650973163679213, 0.36025156195036545, 0.36671988660379784, 0.3713682739931735, 0.381468169465747, 0.3832903734787073, 0.38253250014377604, 0.3811453731986233, 0.3831535017468357, 0.384313826937957, 0.39271482038992966, 0.39181142894504284, 0.3983549647136285, 0.39937125151568953, 0.4051060622687912, 0.40913317311049113, 0.39620042231784036, 0.39678951173978405, 0.4070579833457124, 0.4204805503657184, 0.4254679005656522, 0.42556907213363104, 0.42592742900407576, 0.4295476016026327, 0.4318227181969271, 0.43544406157630045, 0.43477641103103026, 0.4391561140813044, 0.4360465818173197, 0.4417754306019678, 0.4448809876306318, 0.44366513780228223, 0.4365220476028966, 0.43367165026687027, 0.4352038415618791, 0.44354422311721475, 0.43871564262859564, 0.4470915568903878, 0.44659303339297685, 0.4388398796895089, 0.42889747241503917, 0.43505971448039116, 0.4423343255049881, 0.451275469833592, 0.4430657677749845, 0.44745589782731754, 0.45235944007585216, 0.4516415103229542, 0.4590098301148504, 0.46843787807578396, 0.4700127227199006, 0.46863258205559444, 0.46980633266389615, 0.4623866135296226, 0.4776045466977329, 0.47990590355338025, 0.4893877370484574, 0.48729217130056135, 0.49074145161032035, 0.49645059959816773, 0.5083638116034874, 0.502253725017007, 0.5078897564743104, 0.505461158236123, 0.514053767105991, 0.5253384132302665, 0.5277533509590173, 0.5414318119142442, 0.5316083073388131, 0.5303963230933763, 0.5385079531437468, 0.5443270789511534, 0.5410450741540413, 0.5435799052611525, 0.5464870920337124, 0.54319489022444, 0.5242937749556555, 0.5414237825224547, 0.5525555114713671, 0.5547990191399693, 0.5240603352812774, 0.5232989563486882, 0.5446048525371039, 0.5503330907746524, 0.5581809827603774, 0.5475886587626946, 0.5508644089471219, 0.5475960227284102, 0.561789954092625, 0.5578918968140063, 0.5585664476017477, 0.5443360834319845, 0.5554674724675407, 0.5487236352636008, 0.5334799708411173, 0.5010408692533436, 0.4809333777062872, 0.49104960803502273, 0.4492428910100891, 0.44512501428127704, 0.4980600552257567, 0.48022418469654626, 0.5100904030901935, 0.49194991848515657, 0.48295554936191565, 0.4359813747444864, 0.47362799128181354, 0.45524323735301997, 0.3961389092569585, 0.4561521396497823, 0.3877302658819932, 0.4085587312763035, 0.3972618569540476, 0.3945590049087476, 0.35949030298040063, 0.3522365321399147, 0.39812301378792114, 0.3948874042968943, 0.42204757471272225, 0.402756550783662, 0.41790372282679367, 0.4158572391759888, 0.3903522573257111, 0.39859982148198336, 0.39297188691793505, 0.4317290050712793, 0.4257293676911741, 0.43995375848071416, 0.4439589036601701, 0.4553743829063879, 0.4801754086523683, 0.4772953398059665, 0.4808089254600123, 0.47112407750331986, 0.46262703107726655, 0.4440365063646824, 0.4614576475478147, 0.4590848229883574, 0.47459640217573373, 0.4753218965699597, 0.4664999659711765, 0.4835504612128605, 0.4938787959429266, 0.48252324732448293, 0.49433080377781347, 0.5024581593896639, 0.508670523291402, 0.5157288785109566, 0.5275944951476916, 0.5367554575507626, 0.5291054051727602, 0.5203759960715671, 0.5255573422461546, 0.5217059798019661, 0.5370199626499702, 0.5346407161729211, 0.5462383317605731, 0.5418826262860416, 0.5466221379669849, 0.5408396552338078, 0.5439908469012448, 0.5435362334366091, 0.5422195370862856, 0.552462911877935, 0.5551426506016246, 0.5580375384333216, 0.5531452166540495, 0.5693909271451172, 0.5747060684508983, 0.5935155798330488, 0.6102018373690122, 0.5757416177007374, 0.5814875220209746, 0.5918693658154752, 0.608754600057934, 0.6096082388298617, 0.6104950236120571, 0.600622877929908, 0.6231313682723433, 0.6354404061219733, 0.6234426710270444, 0.6347659453596994, 0.6103856397242724, 0.6290080690419447, 0.6345919525942332, 0.6342817174756921, 0.6341648360847011, 0.6531032470034777, 0.6510487149519663, 0.667906359035064, 0.6708202157116867, 0.6733857906621081, 0.6663282005329728, 0.6794534384389654, 0.685318968467266, 0.6773933994193017, 0.6765142176432813, 0.692504825115649, 0.6813843790672629, 0.6840400151890372, 0.6454879015109349, 0.6440927105889949, 0.6635833046474116, 0.651987523978467, 0.6664800274057284, 0.673103104191129, 0.7444505646149541, 0.767795513370277, 0.7782804196751829, 0.7832053949306226, 0.8104834206906034, 0.7887603315009116, 0.8009132431371246]}],\n",
              "                        {\"legend\": {\"tracegroupgap\": 0}, \"template\": {\"data\": {\"bar\": [{\"error_x\": {\"color\": \"#2a3f5f\"}, \"error_y\": {\"color\": \"#2a3f5f\"}, \"marker\": {\"line\": {\"color\": \"#E5ECF6\", \"width\": 0.5}}, \"type\": \"bar\"}], \"barpolar\": [{\"marker\": {\"line\": {\"color\": \"#E5ECF6\", \"width\": 0.5}}, \"type\": \"barpolar\"}], \"carpet\": [{\"aaxis\": {\"endlinecolor\": \"#2a3f5f\", \"gridcolor\": \"white\", \"linecolor\": \"white\", \"minorgridcolor\": \"white\", \"startlinecolor\": \"#2a3f5f\"}, \"baxis\": {\"endlinecolor\": \"#2a3f5f\", \"gridcolor\": \"white\", \"linecolor\": \"white\", \"minorgridcolor\": \"white\", \"startlinecolor\": \"#2a3f5f\"}, \"type\": \"carpet\"}], \"choropleth\": [{\"colorbar\": {\"outlinewidth\": 0, \"ticks\": \"\"}, \"type\": \"choropleth\"}], \"contour\": [{\"colorbar\": {\"outlinewidth\": 0, \"ticks\": \"\"}, \"colorscale\": [[0.0, \"#0d0887\"], [0.1111111111111111, \"#46039f\"], [0.2222222222222222, \"#7201a8\"], [0.3333333333333333, \"#9c179e\"], [0.4444444444444444, \"#bd3786\"], [0.5555555555555556, \"#d8576b\"], [0.6666666666666666, \"#ed7953\"], [0.7777777777777778, \"#fb9f3a\"], [0.8888888888888888, \"#fdca26\"], [1.0, \"#f0f921\"]], \"type\": \"contour\"}], \"contourcarpet\": [{\"colorbar\": {\"outlinewidth\": 0, \"ticks\": \"\"}, \"type\": \"contourcarpet\"}], \"heatmap\": [{\"colorbar\": {\"outlinewidth\": 0, \"ticks\": \"\"}, \"colorscale\": [[0.0, \"#0d0887\"], [0.1111111111111111, \"#46039f\"], [0.2222222222222222, \"#7201a8\"], [0.3333333333333333, \"#9c179e\"], [0.4444444444444444, \"#bd3786\"], [0.5555555555555556, \"#d8576b\"], [0.6666666666666666, \"#ed7953\"], [0.7777777777777778, \"#fb9f3a\"], [0.8888888888888888, \"#fdca26\"], [1.0, \"#f0f921\"]], \"type\": \"heatmap\"}], \"heatmapgl\": [{\"colorbar\": {\"outlinewidth\": 0, \"ticks\": \"\"}, \"colorscale\": [[0.0, \"#0d0887\"], [0.1111111111111111, \"#46039f\"], [0.2222222222222222, \"#7201a8\"], [0.3333333333333333, \"#9c179e\"], [0.4444444444444444, \"#bd3786\"], [0.5555555555555556, \"#d8576b\"], [0.6666666666666666, \"#ed7953\"], [0.7777777777777778, \"#fb9f3a\"], [0.8888888888888888, \"#fdca26\"], [1.0, \"#f0f921\"]], \"type\": \"heatmapgl\"}], \"histogram\": [{\"marker\": {\"colorbar\": {\"outlinewidth\": 0, \"ticks\": \"\"}}, \"type\": \"histogram\"}], \"histogram2d\": [{\"colorbar\": {\"outlinewidth\": 0, \"ticks\": \"\"}, \"colorscale\": [[0.0, \"#0d0887\"], [0.1111111111111111, \"#46039f\"], [0.2222222222222222, \"#7201a8\"], [0.3333333333333333, \"#9c179e\"], [0.4444444444444444, \"#bd3786\"], [0.5555555555555556, \"#d8576b\"], [0.6666666666666666, \"#ed7953\"], [0.7777777777777778, \"#fb9f3a\"], [0.8888888888888888, \"#fdca26\"], [1.0, \"#f0f921\"]], \"type\": \"histogram2d\"}], \"histogram2dcontour\": [{\"colorbar\": {\"outlinewidth\": 0, \"ticks\": \"\"}, \"colorscale\": [[0.0, \"#0d0887\"], [0.1111111111111111, \"#46039f\"], [0.2222222222222222, \"#7201a8\"], [0.3333333333333333, \"#9c179e\"], [0.4444444444444444, \"#bd3786\"], [0.5555555555555556, \"#d8576b\"], [0.6666666666666666, \"#ed7953\"], [0.7777777777777778, \"#fb9f3a\"], [0.8888888888888888, \"#fdca26\"], [1.0, \"#f0f921\"]], \"type\": \"histogram2dcontour\"}], \"mesh3d\": [{\"colorbar\": {\"outlinewidth\": 0, \"ticks\": \"\"}, \"type\": \"mesh3d\"}], \"parcoords\": [{\"line\": {\"colorbar\": {\"outlinewidth\": 0, \"ticks\": \"\"}}, \"type\": \"parcoords\"}], \"pie\": [{\"automargin\": true, \"type\": \"pie\"}], \"scatter\": [{\"marker\": {\"colorbar\": {\"outlinewidth\": 0, \"ticks\": \"\"}}, \"type\": \"scatter\"}], \"scatter3d\": [{\"line\": {\"colorbar\": {\"outlinewidth\": 0, \"ticks\": \"\"}}, \"marker\": {\"colorbar\": {\"outlinewidth\": 0, \"ticks\": \"\"}}, \"type\": \"scatter3d\"}], \"scattercarpet\": [{\"marker\": {\"colorbar\": {\"outlinewidth\": 0, \"ticks\": \"\"}}, \"type\": \"scattercarpet\"}], \"scattergeo\": [{\"marker\": {\"colorbar\": {\"outlinewidth\": 0, \"ticks\": \"\"}}, \"type\": \"scattergeo\"}], \"scattergl\": [{\"marker\": {\"colorbar\": {\"outlinewidth\": 0, \"ticks\": \"\"}}, \"type\": \"scattergl\"}], \"scattermapbox\": [{\"marker\": {\"colorbar\": {\"outlinewidth\": 0, \"ticks\": \"\"}}, \"type\": \"scattermapbox\"}], \"scatterpolar\": [{\"marker\": {\"colorbar\": {\"outlinewidth\": 0, \"ticks\": \"\"}}, \"type\": \"scatterpolar\"}], \"scatterpolargl\": [{\"marker\": {\"colorbar\": {\"outlinewidth\": 0, \"ticks\": \"\"}}, \"type\": \"scatterpolargl\"}], \"scatterternary\": [{\"marker\": {\"colorbar\": {\"outlinewidth\": 0, \"ticks\": \"\"}}, \"type\": \"scatterternary\"}], \"surface\": [{\"colorbar\": {\"outlinewidth\": 0, \"ticks\": \"\"}, \"colorscale\": [[0.0, \"#0d0887\"], [0.1111111111111111, \"#46039f\"], [0.2222222222222222, \"#7201a8\"], [0.3333333333333333, \"#9c179e\"], [0.4444444444444444, \"#bd3786\"], [0.5555555555555556, \"#d8576b\"], [0.6666666666666666, \"#ed7953\"], [0.7777777777777778, \"#fb9f3a\"], [0.8888888888888888, \"#fdca26\"], [1.0, \"#f0f921\"]], \"type\": \"surface\"}], \"table\": [{\"cells\": {\"fill\": {\"color\": \"#EBF0F8\"}, \"line\": {\"color\": \"white\"}}, \"header\": {\"fill\": {\"color\": \"#C8D4E3\"}, \"line\": {\"color\": \"white\"}}, \"type\": \"table\"}]}, \"layout\": {\"annotationdefaults\": {\"arrowcolor\": \"#2a3f5f\", \"arrowhead\": 0, \"arrowwidth\": 1}, \"coloraxis\": {\"colorbar\": {\"outlinewidth\": 0, \"ticks\": \"\"}}, \"colorscale\": {\"diverging\": [[0, \"#8e0152\"], [0.1, \"#c51b7d\"], [0.2, \"#de77ae\"], [0.3, \"#f1b6da\"], [0.4, \"#fde0ef\"], [0.5, \"#f7f7f7\"], [0.6, \"#e6f5d0\"], [0.7, \"#b8e186\"], [0.8, \"#7fbc41\"], [0.9, \"#4d9221\"], [1, \"#276419\"]], \"sequential\": [[0.0, \"#0d0887\"], [0.1111111111111111, \"#46039f\"], [0.2222222222222222, \"#7201a8\"], [0.3333333333333333, \"#9c179e\"], [0.4444444444444444, \"#bd3786\"], [0.5555555555555556, \"#d8576b\"], [0.6666666666666666, \"#ed7953\"], [0.7777777777777778, \"#fb9f3a\"], [0.8888888888888888, \"#fdca26\"], [1.0, \"#f0f921\"]], \"sequentialminus\": [[0.0, \"#0d0887\"], [0.1111111111111111, \"#46039f\"], [0.2222222222222222, \"#7201a8\"], [0.3333333333333333, \"#9c179e\"], [0.4444444444444444, \"#bd3786\"], [0.5555555555555556, \"#d8576b\"], [0.6666666666666666, \"#ed7953\"], [0.7777777777777778, \"#fb9f3a\"], [0.8888888888888888, \"#fdca26\"], [1.0, \"#f0f921\"]]}, \"colorway\": [\"#636efa\", \"#EF553B\", \"#00cc96\", \"#ab63fa\", \"#FFA15A\", \"#19d3f3\", \"#FF6692\", \"#B6E880\", \"#FF97FF\", \"#FECB52\"], \"font\": {\"color\": \"#2a3f5f\"}, \"geo\": {\"bgcolor\": \"white\", \"lakecolor\": \"white\", \"landcolor\": \"#E5ECF6\", \"showlakes\": true, \"showland\": true, \"subunitcolor\": \"white\"}, \"hoverlabel\": {\"align\": \"left\"}, \"hovermode\": \"closest\", \"mapbox\": {\"style\": \"light\"}, \"paper_bgcolor\": \"white\", \"plot_bgcolor\": \"#E5ECF6\", \"polar\": {\"angularaxis\": {\"gridcolor\": \"white\", \"linecolor\": \"white\", \"ticks\": \"\"}, \"bgcolor\": \"#E5ECF6\", \"radialaxis\": {\"gridcolor\": \"white\", \"linecolor\": \"white\", \"ticks\": \"\"}}, \"scene\": {\"xaxis\": {\"backgroundcolor\": \"#E5ECF6\", \"gridcolor\": \"white\", \"gridwidth\": 2, \"linecolor\": \"white\", \"showbackground\": true, \"ticks\": \"\", \"zerolinecolor\": \"white\"}, \"yaxis\": {\"backgroundcolor\": \"#E5ECF6\", \"gridcolor\": \"white\", \"gridwidth\": 2, \"linecolor\": \"white\", \"showbackground\": true, \"ticks\": \"\", \"zerolinecolor\": \"white\"}, \"zaxis\": {\"backgroundcolor\": \"#E5ECF6\", \"gridcolor\": \"white\", \"gridwidth\": 2, \"linecolor\": \"white\", \"showbackground\": true, \"ticks\": \"\", \"zerolinecolor\": \"white\"}}, \"shapedefaults\": {\"line\": {\"color\": \"#2a3f5f\"}}, \"ternary\": {\"aaxis\": {\"gridcolor\": \"white\", \"linecolor\": \"white\", \"ticks\": \"\"}, \"baxis\": {\"gridcolor\": \"white\", \"linecolor\": \"white\", \"ticks\": \"\"}, \"bgcolor\": \"#E5ECF6\", \"caxis\": {\"gridcolor\": \"white\", \"linecolor\": \"white\", \"ticks\": \"\"}}, \"title\": {\"x\": 0.05}, \"xaxis\": {\"automargin\": true, \"gridcolor\": \"white\", \"linecolor\": \"white\", \"ticks\": \"\", \"title\": {\"standoff\": 15}, \"zerolinecolor\": \"white\", \"zerolinewidth\": 2}, \"yaxis\": {\"automargin\": true, \"gridcolor\": \"white\", \"linecolor\": \"white\", \"ticks\": \"\", \"title\": {\"standoff\": 15}, \"zerolinecolor\": \"white\", \"zerolinewidth\": 2}}}, \"title\": {\"text\": \"Original Vs. Prediction\"}, \"xaxis\": {\"anchor\": \"y\", \"domain\": [0.0, 1.0]}, \"yaxis\": {\"anchor\": \"x\", \"domain\": [0.0, 1.0]}},\n",
              "                        {\"responsive\": true}\n",
              "                    ).then(function(){\n",
              "                            \n",
              "var gd = document.getElementById('6723f6d7-2606-43a9-8a6d-735fc27d4a0d');\n",
              "var x = new MutationObserver(function (mutations, observer) {{\n",
              "        var display = window.getComputedStyle(gd).display;\n",
              "        if (!display || display === 'none') {{\n",
              "            console.log([gd, 'removed!']);\n",
              "            Plotly.purge(gd);\n",
              "            observer.disconnect();\n",
              "        }}\n",
              "}});\n",
              "\n",
              "// Listen for the removal of the full notebook cells\n",
              "var notebookContainer = gd.closest('#notebook-container');\n",
              "if (notebookContainer) {{\n",
              "    x.observe(notebookContainer, {childList: true});\n",
              "}}\n",
              "\n",
              "// Listen for the clearing of the current output cell\n",
              "var outputEl = gd.closest('.output');\n",
              "if (outputEl) {{\n",
              "    x.observe(outputEl, {childList: true});\n",
              "}}\n",
              "\n",
              "                        })\n",
              "                };\n",
              "                \n",
              "            </script>\n",
              "        </div>\n",
              "</body>\n",
              "</html>"
            ]
          },
          "metadata": {
            "tags": []
          }
        }
      ]
    },
    {
      "cell_type": "code",
      "metadata": {
        "colab": {
          "base_uri": "https://localhost:8080/",
          "height": 423
        },
        "id": "FYlvE205i_J4",
        "outputId": "7b15d942-0220-400f-bac7-17dc53644d18"
      },
      "source": [
        "# Training a Long Short Term Memory Model\n",
        "# Let's test the functions and get individual stock prices and volumes for AAPL\n",
        "price_volume_df = individual_stock(stock_price_df, stock_vol_df, 'sp500')\n",
        "price_volume_df"
      ],
      "execution_count": 42,
      "outputs": [
        {
          "output_type": "execute_result",
          "data": {
            "text/html": [
              "<div>\n",
              "<style scoped>\n",
              "    .dataframe tbody tr th:only-of-type {\n",
              "        vertical-align: middle;\n",
              "    }\n",
              "\n",
              "    .dataframe tbody tr th {\n",
              "        vertical-align: top;\n",
              "    }\n",
              "\n",
              "    .dataframe thead th {\n",
              "        text-align: right;\n",
              "    }\n",
              "</style>\n",
              "<table border=\"1\" class=\"dataframe\">\n",
              "  <thead>\n",
              "    <tr style=\"text-align: right;\">\n",
              "      <th></th>\n",
              "      <th>Date</th>\n",
              "      <th>Close</th>\n",
              "      <th>Volume</th>\n",
              "    </tr>\n",
              "  </thead>\n",
              "  <tbody>\n",
              "    <tr>\n",
              "      <th>0</th>\n",
              "      <td>2012-01-12</td>\n",
              "      <td>1295.500000</td>\n",
              "      <td>4019890000</td>\n",
              "    </tr>\n",
              "    <tr>\n",
              "      <th>1</th>\n",
              "      <td>2012-01-13</td>\n",
              "      <td>1289.089966</td>\n",
              "      <td>3692370000</td>\n",
              "    </tr>\n",
              "    <tr>\n",
              "      <th>2</th>\n",
              "      <td>2012-01-17</td>\n",
              "      <td>1293.670044</td>\n",
              "      <td>4010490000</td>\n",
              "    </tr>\n",
              "    <tr>\n",
              "      <th>3</th>\n",
              "      <td>2012-01-18</td>\n",
              "      <td>1308.040039</td>\n",
              "      <td>4096160000</td>\n",
              "    </tr>\n",
              "    <tr>\n",
              "      <th>4</th>\n",
              "      <td>2012-01-19</td>\n",
              "      <td>1314.500000</td>\n",
              "      <td>4465890000</td>\n",
              "    </tr>\n",
              "    <tr>\n",
              "      <th>...</th>\n",
              "      <td>...</td>\n",
              "      <td>...</td>\n",
              "      <td>...</td>\n",
              "    </tr>\n",
              "    <tr>\n",
              "      <th>2154</th>\n",
              "      <td>2020-08-05</td>\n",
              "      <td>3327.770020</td>\n",
              "      <td>4732220000</td>\n",
              "    </tr>\n",
              "    <tr>\n",
              "      <th>2155</th>\n",
              "      <td>2020-08-06</td>\n",
              "      <td>3349.159912</td>\n",
              "      <td>4267490000</td>\n",
              "    </tr>\n",
              "    <tr>\n",
              "      <th>2156</th>\n",
              "      <td>2020-08-07</td>\n",
              "      <td>3351.280029</td>\n",
              "      <td>4104860000</td>\n",
              "    </tr>\n",
              "    <tr>\n",
              "      <th>2157</th>\n",
              "      <td>2020-08-10</td>\n",
              "      <td>3360.469971</td>\n",
              "      <td>4318570000</td>\n",
              "    </tr>\n",
              "    <tr>\n",
              "      <th>2158</th>\n",
              "      <td>2020-08-11</td>\n",
              "      <td>3333.689941</td>\n",
              "      <td>5087650000</td>\n",
              "    </tr>\n",
              "  </tbody>\n",
              "</table>\n",
              "<p>2159 rows × 3 columns</p>\n",
              "</div>"
            ],
            "text/plain": [
              "            Date        Close      Volume\n",
              "0     2012-01-12  1295.500000  4019890000\n",
              "1     2012-01-13  1289.089966  3692370000\n",
              "2     2012-01-17  1293.670044  4010490000\n",
              "3     2012-01-18  1308.040039  4096160000\n",
              "4     2012-01-19  1314.500000  4465890000\n",
              "...          ...          ...         ...\n",
              "2154  2020-08-05  3327.770020  4732220000\n",
              "2155  2020-08-06  3349.159912  4267490000\n",
              "2156  2020-08-07  3351.280029  4104860000\n",
              "2157  2020-08-10  3360.469971  4318570000\n",
              "2158  2020-08-11  3333.689941  5087650000\n",
              "\n",
              "[2159 rows x 3 columns]"
            ]
          },
          "metadata": {
            "tags": []
          },
          "execution_count": 42
        }
      ]
    },
    {
      "cell_type": "code",
      "metadata": {
        "colab": {
          "base_uri": "https://localhost:8080/"
        },
        "id": "qZPsvvYUkq_t",
        "outputId": "8d2bc575-c883-44b3-d605-1ab038e512e3"
      },
      "source": [
        "# Get the close and volume data as training data (Input)\n",
        "training_data = price_volume_df.iloc[:, 1:3].values\n",
        "training_data"
      ],
      "execution_count": 43,
      "outputs": [
        {
          "output_type": "execute_result",
          "data": {
            "text/plain": [
              "array([[1.29550000e+03, 4.01989000e+09],\n",
              "       [1.28908997e+03, 3.69237000e+09],\n",
              "       [1.29367004e+03, 4.01049000e+09],\n",
              "       ...,\n",
              "       [3.35128003e+03, 4.10486000e+09],\n",
              "       [3.36046997e+03, 4.31857000e+09],\n",
              "       [3.33368994e+03, 5.08765000e+09]])"
            ]
          },
          "metadata": {
            "tags": []
          },
          "execution_count": 43
        }
      ]
    },
    {
      "cell_type": "code",
      "metadata": {
        "id": "KmFP7F6GktjY"
      },
      "source": [
        "# Normalize the data\n",
        "from sklearn.preprocessing import MinMaxScaler\n",
        "sc = MinMaxScaler(feature_range = (0, 1))\n",
        "training_set_scaled = sc.fit_transform(training_data)"
      ],
      "execution_count": 44,
      "outputs": []
    },
    {
      "cell_type": "code",
      "metadata": {
        "id": "CbhTlU3xkwbl"
      },
      "source": [
        "# Create the training and testing data, training data contains present day and previous day values\n",
        "X = []\n",
        "y = []\n",
        "for i in range(1, len(price_volume_df)):\n",
        "    X.append(training_set_scaled [i-1:i, 0])\n",
        "    y.append(training_set_scaled [i, 0])"
      ],
      "execution_count": 45,
      "outputs": []
    },
    {
      "cell_type": "code",
      "metadata": {
        "id": "pHzLS6fskzD2"
      },
      "source": [
        "# Convert the data into array format\n",
        "X = np.asarray(X)\n",
        "y = np.asarray(y)"
      ],
      "execution_count": 46,
      "outputs": []
    },
    {
      "cell_type": "code",
      "metadata": {
        "id": "xVAzAzxSk1_p"
      },
      "source": [
        "# Split the data\n",
        "split = int(0.7 * len(X))\n",
        "X_train = X[:split]\n",
        "y_train = y[:split]\n",
        "X_test = X[split:]\n",
        "y_test = y[split:]"
      ],
      "execution_count": 48,
      "outputs": []
    },
    {
      "cell_type": "code",
      "metadata": {
        "colab": {
          "base_uri": "https://localhost:8080/"
        },
        "id": "ZoXkkV35k6VJ",
        "outputId": "cc4b318c-445d-4597-82d9-c9ed293acfd0"
      },
      "source": [
        "# Reshape the 1D arrays to 3D arrays to feed in the model\n",
        "X_train = np.reshape(X_train, (X_train.shape[0], X_train.shape[1], 1))\n",
        "X_test = np.reshape(X_test, (X_test.shape[0], X_test.shape[1], 1))\n",
        "X_train.shape, X_test.shape"
      ],
      "execution_count": 49,
      "outputs": [
        {
          "output_type": "execute_result",
          "data": {
            "text/plain": [
              "((1510, 1, 1), (648, 1, 1))"
            ]
          },
          "metadata": {
            "tags": []
          },
          "execution_count": 49
        }
      ]
    },
    {
      "cell_type": "code",
      "metadata": {
        "colab": {
          "base_uri": "https://localhost:8080/"
        },
        "id": "Rney4LNnk888",
        "outputId": "bbf49e1e-008c-4969-fc0a-dd79c101ac24"
      },
      "source": [
        "# Create the model\n",
        "inputs = keras.layers.Input(shape=(X_train.shape[1], X_train.shape[2]))\n",
        "x = keras.layers.LSTM(150, return_sequences= True)(inputs)\n",
        "x = keras.layers.Dropout(0.3)(x)\n",
        "x = keras.layers.LSTM(150, return_sequences=True)(x)\n",
        "x = keras.layers.Dropout(0.3)(x)\n",
        "x = keras.layers.LSTM(150)(x)\n",
        "outputs = keras.layers.Dense(1, activation='linear')(x)\n",
        "\n",
        "model = keras.Model(inputs=inputs, outputs=outputs)\n",
        "model.compile(optimizer='adam', loss=\"mse\")\n",
        "model.summary()"
      ],
      "execution_count": 50,
      "outputs": [
        {
          "output_type": "stream",
          "text": [
            "Model: \"model\"\n",
            "_________________________________________________________________\n",
            "Layer (type)                 Output Shape              Param #   \n",
            "=================================================================\n",
            "input_1 (InputLayer)         [(None, 1, 1)]            0         \n",
            "_________________________________________________________________\n",
            "lstm (LSTM)                  (None, 1, 150)            91200     \n",
            "_________________________________________________________________\n",
            "dropout (Dropout)            (None, 1, 150)            0         \n",
            "_________________________________________________________________\n",
            "lstm_1 (LSTM)                (None, 1, 150)            180600    \n",
            "_________________________________________________________________\n",
            "dropout_1 (Dropout)          (None, 1, 150)            0         \n",
            "_________________________________________________________________\n",
            "lstm_2 (LSTM)                (None, 150)               180600    \n",
            "_________________________________________________________________\n",
            "dense (Dense)                (None, 1)                 151       \n",
            "=================================================================\n",
            "Total params: 452,551\n",
            "Trainable params: 452,551\n",
            "Non-trainable params: 0\n",
            "_________________________________________________________________\n"
          ],
          "name": "stdout"
        }
      ]
    },
    {
      "cell_type": "code",
      "metadata": {
        "colab": {
          "base_uri": "https://localhost:8080/"
        },
        "id": "LSn-wLfIk_C-",
        "outputId": "9980330f-831e-40f4-a363-ed9b7d9d04a6"
      },
      "source": [
        "# Training the model\n",
        "history = model.fit(\n",
        "    X_train, y_train,\n",
        "    epochs = 20,\n",
        "    batch_size = 32,\n",
        "    validation_split = 0.2\n",
        ")"
      ],
      "execution_count": 51,
      "outputs": [
        {
          "output_type": "stream",
          "text": [
            "Epoch 1/20\n",
            "38/38 [==============================] - 7s 42ms/step - loss: 0.0312 - val_loss: 0.0597\n",
            "Epoch 2/20\n",
            "38/38 [==============================] - 0s 11ms/step - loss: 0.0072 - val_loss: 0.0042\n",
            "Epoch 3/20\n",
            "38/38 [==============================] - 0s 11ms/step - loss: 6.8639e-04 - val_loss: 2.0472e-04\n",
            "Epoch 4/20\n",
            "38/38 [==============================] - 0s 12ms/step - loss: 3.8250e-04 - val_loss: 6.8180e-04\n",
            "Epoch 5/20\n",
            "38/38 [==============================] - 0s 11ms/step - loss: 3.5425e-04 - val_loss: 3.6730e-04\n",
            "Epoch 6/20\n",
            "38/38 [==============================] - 0s 12ms/step - loss: 3.5327e-04 - val_loss: 2.6627e-04\n",
            "Epoch 7/20\n",
            "38/38 [==============================] - 0s 11ms/step - loss: 3.1036e-04 - val_loss: 1.9775e-04\n",
            "Epoch 8/20\n",
            "38/38 [==============================] - 0s 11ms/step - loss: 3.1002e-04 - val_loss: 2.7110e-04\n",
            "Epoch 9/20\n",
            "38/38 [==============================] - 0s 12ms/step - loss: 2.9770e-04 - val_loss: 1.6200e-04\n",
            "Epoch 10/20\n",
            "38/38 [==============================] - 0s 12ms/step - loss: 3.0108e-04 - val_loss: 2.6499e-04\n",
            "Epoch 11/20\n",
            "38/38 [==============================] - 0s 12ms/step - loss: 2.9404e-04 - val_loss: 2.7462e-05\n",
            "Epoch 12/20\n",
            "38/38 [==============================] - 0s 12ms/step - loss: 2.7214e-04 - val_loss: 6.4497e-05\n",
            "Epoch 13/20\n",
            "38/38 [==============================] - 1s 14ms/step - loss: 2.5052e-04 - val_loss: 2.9921e-05\n",
            "Epoch 14/20\n",
            "38/38 [==============================] - 1s 13ms/step - loss: 2.3860e-04 - val_loss: 1.4103e-04\n",
            "Epoch 15/20\n",
            "38/38 [==============================] - 1s 14ms/step - loss: 2.3691e-04 - val_loss: 1.1483e-04\n",
            "Epoch 16/20\n",
            "38/38 [==============================] - 0s 12ms/step - loss: 2.1969e-04 - val_loss: 8.1873e-05\n",
            "Epoch 17/20\n",
            "38/38 [==============================] - 0s 12ms/step - loss: 2.2511e-04 - val_loss: 3.0358e-05\n",
            "Epoch 18/20\n",
            "38/38 [==============================] - 0s 12ms/step - loss: 2.1350e-04 - val_loss: 6.3625e-05\n",
            "Epoch 19/20\n",
            "38/38 [==============================] - 0s 12ms/step - loss: 1.9247e-04 - val_loss: 7.5585e-05\n",
            "Epoch 20/20\n",
            "38/38 [==============================] - 0s 11ms/step - loss: 2.1609e-04 - val_loss: 1.8380e-04\n"
          ],
          "name": "stdout"
        }
      ]
    },
    {
      "cell_type": "code",
      "metadata": {
        "id": "6eS182m_lHNa"
      },
      "source": [
        "# Make prediction\n",
        "predicted = model.predict(X)"
      ],
      "execution_count": 52,
      "outputs": []
    },
    {
      "cell_type": "code",
      "metadata": {
        "colab": {
          "base_uri": "https://localhost:8080/",
          "height": 201
        },
        "id": "CzROClsRlKa0",
        "outputId": "9b701402-d28a-4896-99c2-475b3d09d5f8"
      },
      "source": [
        "# Append the predicted values to the list\n",
        "test_predicted = []\n",
        "\n",
        "for i in predicted:\n",
        "  test_predicted.append(i[0][0])"
      ],
      "execution_count": 53,
      "outputs": [
        {
          "output_type": "error",
          "ename": "IndexError",
          "evalue": "ignored",
          "traceback": [
            "\u001b[0;31m---------------------------------------------------------------------------\u001b[0m",
            "\u001b[0;31mIndexError\u001b[0m                                Traceback (most recent call last)",
            "\u001b[0;32m<ipython-input-53-836d718aa2fa>\u001b[0m in \u001b[0;36m<module>\u001b[0;34m()\u001b[0m\n\u001b[1;32m      3\u001b[0m \u001b[0;34m\u001b[0m\u001b[0m\n\u001b[1;32m      4\u001b[0m \u001b[0;32mfor\u001b[0m \u001b[0mi\u001b[0m \u001b[0;32min\u001b[0m \u001b[0mpredicted\u001b[0m\u001b[0;34m:\u001b[0m\u001b[0;34m\u001b[0m\u001b[0;34m\u001b[0m\u001b[0m\n\u001b[0;32m----> 5\u001b[0;31m   \u001b[0mtest_predicted\u001b[0m\u001b[0;34m.\u001b[0m\u001b[0mappend\u001b[0m\u001b[0;34m(\u001b[0m\u001b[0mi\u001b[0m\u001b[0;34m[\u001b[0m\u001b[0;36m0\u001b[0m\u001b[0;34m]\u001b[0m\u001b[0;34m[\u001b[0m\u001b[0;36m0\u001b[0m\u001b[0;34m]\u001b[0m\u001b[0;34m)\u001b[0m\u001b[0;34m\u001b[0m\u001b[0;34m\u001b[0m\u001b[0m\n\u001b[0m",
            "\u001b[0;31mIndexError\u001b[0m: invalid index to scalar variable."
          ]
        }
      ]
    }
  ]
}