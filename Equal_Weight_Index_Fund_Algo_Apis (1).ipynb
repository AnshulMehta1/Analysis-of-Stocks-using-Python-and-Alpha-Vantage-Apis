{
  "nbformat": 4,
  "nbformat_minor": 0,
  "metadata": {
    "colab": {
      "name": "Equal-Weight-Index-Fund-Algo-Apis",
      "provenance": []
    },
    "kernelspec": {
      "name": "python3",
      "display_name": "Python 3"
    },
    "language_info": {
      "name": "python"
    }
  },
  "cells": [
    {
      "cell_type": "code",
      "metadata": {
        "id": "fONwD4cQq0F-"
      },
      "source": [
        "# Collecting Data\n",
        "# Make a strategy and test a hypothesis \n",
        "# Backtest the Strategy \n",
        "#  Search for implementing thme in different markets\n",
        "# Implement in Production\n",
        "# Actual Trades are not implemented in the Code"
      ],
      "execution_count": 1,
      "outputs": []
    },
    {
      "cell_type": "code",
      "metadata": {
        "colab": {
          "base_uri": "https://localhost:8080/"
        },
        "id": "8k4Bjomqywdq",
        "outputId": "ad75468a-1a48-4591-aee9-694a9e075196"
      },
      "source": [
        "#  We'll be using both Alpha Vantage APIs and IES Sandbox Cloud APIs\n",
        "from google.colab import drive\n",
        "drive.mount(\"/content/gdrive\")"
      ],
      "execution_count": 2,
      "outputs": [
        {
          "output_type": "stream",
          "text": [
            "Drive already mounted at /content/gdrive; to attempt to forcibly remount, call drive.mount(\"/content/gdrive\", force_remount=True).\n"
          ],
          "name": "stdout"
        }
      ]
    },
    {
      "cell_type": "code",
      "metadata": {
        "colab": {
          "base_uri": "https://localhost:8080/"
        },
        "id": "K7eNYA4mzV8b",
        "outputId": "a5343be7-af29-440f-9c71-9ce6418c1556"
      },
      "source": [
        "!pip install alpha_vantage\n"
      ],
      "execution_count": 3,
      "outputs": [
        {
          "output_type": "stream",
          "text": [
            "Requirement already satisfied: alpha_vantage in /usr/local/lib/python3.7/dist-packages (2.3.1)\n",
            "Requirement already satisfied: aiohttp in /usr/local/lib/python3.7/dist-packages (from alpha_vantage) (3.7.4.post0)\n",
            "Requirement already satisfied: requests in /usr/local/lib/python3.7/dist-packages (from alpha_vantage) (2.23.0)\n",
            "Requirement already satisfied: chardet<5.0,>=2.0 in /usr/local/lib/python3.7/dist-packages (from aiohttp->alpha_vantage) (3.0.4)\n",
            "Requirement already satisfied: multidict<7.0,>=4.5 in /usr/local/lib/python3.7/dist-packages (from aiohttp->alpha_vantage) (5.1.0)\n",
            "Requirement already satisfied: async-timeout<4.0,>=3.0 in /usr/local/lib/python3.7/dist-packages (from aiohttp->alpha_vantage) (3.0.1)\n",
            "Requirement already satisfied: attrs>=17.3.0 in /usr/local/lib/python3.7/dist-packages (from aiohttp->alpha_vantage) (21.2.0)\n",
            "Requirement already satisfied: typing-extensions>=3.6.5 in /usr/local/lib/python3.7/dist-packages (from aiohttp->alpha_vantage) (3.7.4.3)\n",
            "Requirement already satisfied: yarl<2.0,>=1.0 in /usr/local/lib/python3.7/dist-packages (from aiohttp->alpha_vantage) (1.6.3)\n",
            "Requirement already satisfied: idna>=2.0 in /usr/local/lib/python3.7/dist-packages (from yarl<2.0,>=1.0->aiohttp->alpha_vantage) (2.10)\n",
            "Requirement already satisfied: certifi>=2017.4.17 in /usr/local/lib/python3.7/dist-packages (from requests->alpha_vantage) (2021.5.30)\n",
            "Requirement already satisfied: urllib3!=1.25.0,!=1.25.1,<1.26,>=1.21.1 in /usr/local/lib/python3.7/dist-packages (from requests->alpha_vantage) (1.24.3)\n"
          ],
          "name": "stdout"
        }
      ]
    },
    {
      "cell_type": "code",
      "metadata": {
        "id": "hby5WrbS4D6y"
      },
      "source": [
        "import numpy as np\n",
        "import pandas  as pd\n",
        "import seaborn as sns \n",
        "import matplotlib.pyplot as plt\n",
        "import requests \n",
        "# Make https requests\n",
        "import os \n",
        "from copy import copy \n",
        "from scipy import math\n",
        "import plotly.express as px\n",
        "import plotly.figure_factory as ff\n",
        "import plotly.graph_objects as go\n"
      ],
      "execution_count": 4,
      "outputs": []
    },
    {
      "cell_type": "code",
      "metadata": {
        "colab": {
          "base_uri": "https://localhost:8080/"
        },
        "id": "ldQE6coQ2hfC",
        "outputId": "13a08bf3-809b-4951-ce7d-dc2c7a880983"
      },
      "source": [
        "!pip install pyEX"
      ],
      "execution_count": 5,
      "outputs": [
        {
          "output_type": "stream",
          "text": [
            "Requirement already satisfied: pyEX in /usr/local/lib/python3.7/dist-packages (0.5.0)\n",
            "Requirement already satisfied: sseclient>=0.0.22 in /usr/local/lib/python3.7/dist-packages (from pyEX) (0.0.27)\n",
            "Requirement already satisfied: ipython>=7.2.0 in /usr/local/lib/python3.7/dist-packages (from pyEX) (7.25.0)\n",
            "Requirement already satisfied: pytz>=2019.1 in /usr/local/lib/python3.7/dist-packages (from pyEX) (2021.1)\n",
            "Requirement already satisfied: requests>=2.21.0 in /usr/local/lib/python3.7/dist-packages (from pyEX) (2.23.0)\n",
            "Requirement already satisfied: temporal-cache>=0.1.1 in /usr/local/lib/python3.7/dist-packages (from pyEX) (0.1.4)\n",
            "Requirement already satisfied: deprecation>=2.0.6 in /usr/local/lib/python3.7/dist-packages (from pyEX) (2.1.0)\n",
            "Requirement already satisfied: pandas>=0.22 in /usr/local/lib/python3.7/dist-packages (from pyEX) (1.1.5)\n",
            "Requirement already satisfied: socketIO-client-nexus>=0.7.6 in /usr/local/lib/python3.7/dist-packages (from pyEX) (0.7.6)\n",
            "Requirement already satisfied: Pillow>=5.3.0 in /usr/local/lib/python3.7/dist-packages (from pyEX) (7.1.2)\n",
            "Requirement already satisfied: six in /usr/local/lib/python3.7/dist-packages (from pyEX) (1.15.0)\n",
            "Requirement already satisfied: packaging in /usr/local/lib/python3.7/dist-packages (from deprecation>=2.0.6->pyEX) (21.0)\n",
            "Requirement already satisfied: pygments in /usr/local/lib/python3.7/dist-packages (from ipython>=7.2.0->pyEX) (2.6.1)\n",
            "Requirement already satisfied: matplotlib-inline in /usr/local/lib/python3.7/dist-packages (from ipython>=7.2.0->pyEX) (0.1.2)\n",
            "Requirement already satisfied: backcall in /usr/local/lib/python3.7/dist-packages (from ipython>=7.2.0->pyEX) (0.2.0)\n",
            "Requirement already satisfied: traitlets>=4.2 in /usr/local/lib/python3.7/dist-packages (from ipython>=7.2.0->pyEX) (5.0.5)\n",
            "Requirement already satisfied: pickleshare in /usr/local/lib/python3.7/dist-packages (from ipython>=7.2.0->pyEX) (0.7.5)\n",
            "Requirement already satisfied: decorator in /usr/local/lib/python3.7/dist-packages (from ipython>=7.2.0->pyEX) (4.4.2)\n",
            "Requirement already satisfied: prompt-toolkit!=3.0.0,!=3.0.1,<3.1.0,>=2.0.0 in /usr/local/lib/python3.7/dist-packages (from ipython>=7.2.0->pyEX) (3.0.19)\n",
            "Requirement already satisfied: setuptools>=18.5 in /usr/local/lib/python3.7/dist-packages (from ipython>=7.2.0->pyEX) (57.2.0)\n",
            "Requirement already satisfied: pexpect>4.3 in /usr/local/lib/python3.7/dist-packages (from ipython>=7.2.0->pyEX) (4.8.0)\n",
            "Requirement already satisfied: jedi>=0.16 in /usr/local/lib/python3.7/dist-packages (from ipython>=7.2.0->pyEX) (0.18.0)\n",
            "Requirement already satisfied: parso<0.9.0,>=0.8.0 in /usr/local/lib/python3.7/dist-packages (from jedi>=0.16->ipython>=7.2.0->pyEX) (0.8.2)\n",
            "Requirement already satisfied: numpy>=1.15.4 in /usr/local/lib/python3.7/dist-packages (from pandas>=0.22->pyEX) (1.19.5)\n",
            "Requirement already satisfied: python-dateutil>=2.7.3 in /usr/local/lib/python3.7/dist-packages (from pandas>=0.22->pyEX) (2.8.1)\n",
            "Requirement already satisfied: ptyprocess>=0.5 in /usr/local/lib/python3.7/dist-packages (from pexpect>4.3->ipython>=7.2.0->pyEX) (0.7.0)\n",
            "Requirement already satisfied: wcwidth in /usr/local/lib/python3.7/dist-packages (from prompt-toolkit!=3.0.0,!=3.0.1,<3.1.0,>=2.0.0->ipython>=7.2.0->pyEX) (0.2.5)\n",
            "Requirement already satisfied: idna<3,>=2.5 in /usr/local/lib/python3.7/dist-packages (from requests>=2.21.0->pyEX) (2.10)\n",
            "Requirement already satisfied: chardet<4,>=3.0.2 in /usr/local/lib/python3.7/dist-packages (from requests>=2.21.0->pyEX) (3.0.4)\n",
            "Requirement already satisfied: certifi>=2017.4.17 in /usr/local/lib/python3.7/dist-packages (from requests>=2.21.0->pyEX) (2021.5.30)\n",
            "Requirement already satisfied: urllib3!=1.25.0,!=1.25.1,<1.26,>=1.21.1 in /usr/local/lib/python3.7/dist-packages (from requests>=2.21.0->pyEX) (1.24.3)\n",
            "Requirement already satisfied: websocket-client in /usr/local/lib/python3.7/dist-packages (from socketIO-client-nexus>=0.7.6->pyEX) (1.1.0)\n",
            "Requirement already satisfied: frozendict>=1.2 in /usr/local/lib/python3.7/dist-packages (from temporal-cache>=0.1.1->pyEX) (2.0.3)\n",
            "Requirement already satisfied: tzlocal>=2.0.0 in /usr/local/lib/python3.7/dist-packages (from temporal-cache>=0.1.1->pyEX) (2.1)\n",
            "Requirement already satisfied: ipython-genutils in /usr/local/lib/python3.7/dist-packages (from traitlets>=4.2->ipython>=7.2.0->pyEX) (0.2.0)\n",
            "Requirement already satisfied: pyparsing>=2.0.2 in /usr/local/lib/python3.7/dist-packages (from packaging->deprecation>=2.0.6->pyEX) (2.4.7)\n"
          ],
          "name": "stdout"
        }
      ]
    },
    {
      "cell_type": "code",
      "metadata": {
        "id": "wgeynbM72uDP"
      },
      "source": [
        "import pyEX as p\n"
      ],
      "execution_count": 6,
      "outputs": []
    },
    {
      "cell_type": "code",
      "metadata": {
        "id": "B-NG6uh93H_K"
      },
      "source": [
        "api_key=open('/content/gdrive/MyDrive/DataSets/iexapitoken.txt').read()\n",
        "apikey='sk_70d483dddb194e5ea39a5a4c62fdb3c3'\n"
      ],
      "execution_count": 26,
      "outputs": []
    },
    {
      "cell_type": "code",
      "metadata": {
        "id": "BQOriWMD3mXp"
      },
      "source": [
        "c = p.Client(api_token=apikey, version='stable')"
      ],
      "execution_count": 12,
      "outputs": []
    },
    {
      "cell_type": "code",
      "metadata": {
        "id": "kZHb1Vr83q3w"
      },
      "source": [
        "sym='AAPL'\n",
        "timeframe='5d'\n",
        "df = c.chartDF(symbol=sym, timeframe=timeframe)[['close', 'volume']]"
      ],
      "execution_count": 24,
      "outputs": []
    },
    {
      "cell_type": "code",
      "metadata": {
        "colab": {
          "base_uri": "https://localhost:8080/",
          "height": 206
        },
        "id": "yJJXgjK21_4r",
        "outputId": "f8d1263f-f47a-4203-b1fd-7ae33386dde5"
      },
      "source": [
        "df"
      ],
      "execution_count": 25,
      "outputs": [
        {
          "output_type": "execute_result",
          "data": {
            "text/html": [
              "<div>\n",
              "<style scoped>\n",
              "    .dataframe tbody tr th:only-of-type {\n",
              "        vertical-align: middle;\n",
              "    }\n",
              "\n",
              "    .dataframe tbody tr th {\n",
              "        vertical-align: top;\n",
              "    }\n",
              "\n",
              "    .dataframe thead th {\n",
              "        text-align: right;\n",
              "    }\n",
              "</style>\n",
              "<table border=\"1\" class=\"dataframe\">\n",
              "  <thead>\n",
              "    <tr style=\"text-align: right;\">\n",
              "      <th></th>\n",
              "      <th>close</th>\n",
              "      <th>volume</th>\n",
              "    </tr>\n",
              "    <tr>\n",
              "      <th>date</th>\n",
              "      <th></th>\n",
              "      <th></th>\n",
              "    </tr>\n",
              "  </thead>\n",
              "  <tbody>\n",
              "    <tr>\n",
              "      <th>2021-07-22</th>\n",
              "      <td>146.80</td>\n",
              "      <td>77338156</td>\n",
              "    </tr>\n",
              "    <tr>\n",
              "      <th>2021-07-21</th>\n",
              "      <td>145.40</td>\n",
              "      <td>74993460</td>\n",
              "    </tr>\n",
              "    <tr>\n",
              "      <th>2021-07-20</th>\n",
              "      <td>146.15</td>\n",
              "      <td>96350036</td>\n",
              "    </tr>\n",
              "    <tr>\n",
              "      <th>2021-07-19</th>\n",
              "      <td>142.45</td>\n",
              "      <td>121434571</td>\n",
              "    </tr>\n",
              "  </tbody>\n",
              "</table>\n",
              "</div>"
            ],
            "text/plain": [
              "             close     volume\n",
              "date                         \n",
              "2021-07-22  146.80   77338156\n",
              "2021-07-21  145.40   74993460\n",
              "2021-07-20  146.15   96350036\n",
              "2021-07-19  142.45  121434571"
            ]
          },
          "metadata": {
            "tags": []
          },
          "execution_count": 25
        }
      ]
    },
    {
      "cell_type": "code",
      "metadata": {
        "colab": {
          "base_uri": "https://localhost:8080/"
        },
        "id": "4rVQ5FRR4Zws",
        "outputId": "7aef42f2-e791-4d9b-f212-8f05fbe6b4f8"
      },
      "source": [
        "!pip install xlsxwriter\n",
        "\n"
      ],
      "execution_count": 20,
      "outputs": [
        {
          "output_type": "stream",
          "text": [
            "Collecting xlsxwriter\n",
            "  Downloading XlsxWriter-1.4.4-py2.py3-none-any.whl (149 kB)\n",
            "\u001b[?25l\r\u001b[K     |██▏                             | 10 kB 20.6 MB/s eta 0:00:01\r\u001b[K     |████▍                           | 20 kB 26.5 MB/s eta 0:00:01\r\u001b[K     |██████▋                         | 30 kB 17.1 MB/s eta 0:00:01\r\u001b[K     |████████▊                       | 40 kB 12.1 MB/s eta 0:00:01\r\u001b[K     |███████████                     | 51 kB 5.5 MB/s eta 0:00:01\r\u001b[K     |█████████████▏                  | 61 kB 5.6 MB/s eta 0:00:01\r\u001b[K     |███████████████▎                | 71 kB 6.1 MB/s eta 0:00:01\r\u001b[K     |█████████████████▌              | 81 kB 6.1 MB/s eta 0:00:01\r\u001b[K     |███████████████████▊            | 92 kB 6.1 MB/s eta 0:00:01\r\u001b[K     |██████████████████████          | 102 kB 5.2 MB/s eta 0:00:01\r\u001b[K     |████████████████████████        | 112 kB 5.2 MB/s eta 0:00:01\r\u001b[K     |██████████████████████████▎     | 122 kB 5.2 MB/s eta 0:00:01\r\u001b[K     |████████████████████████████▌   | 133 kB 5.2 MB/s eta 0:00:01\r\u001b[K     |██████████████████████████████▋ | 143 kB 5.2 MB/s eta 0:00:01\r\u001b[K     |████████████████████████████████| 149 kB 5.2 MB/s \n",
            "\u001b[?25hInstalling collected packages: xlsxwriter\n",
            "Successfully installed xlsxwriter-1.4.4\n"
          ],
          "name": "stdout"
        }
      ]
    },
    {
      "cell_type": "code",
      "metadata": {
        "id": "gtTFrCK15w0n"
      },
      "source": [
        "import xlsxwriter\n",
        "import math"
      ],
      "execution_count": 21,
      "outputs": []
    },
    {
      "cell_type": "code",
      "metadata": {
        "id": "fqf5UqGB5zSi"
      },
      "source": [
        "sp=pd.read_csv('/content/gdrive/MyDrive/DataSets/sp_500_stocks.csv')"
      ],
      "execution_count": 22,
      "outputs": []
    },
    {
      "cell_type": "code",
      "metadata": {
        "id": "eRDu6Tet_s_J"
      },
      "source": [
        "IEX_CLOUD_API_TOKEN = 'Tpk_059b97af715d417d9f49f50b51b1c448'\n"
      ],
      "execution_count": 57,
      "outputs": []
    },
    {
      "cell_type": "code",
      "metadata": {
        "id": "rbBa3jO3_5MJ"
      },
      "source": [
        "symbol='AAPL'\n",
        "api_url=f'https://sandbox.iexapis.com/stable/stock/{symbol}/quote?token={IEX_CLOUD_API_TOKEN}'\n",
        "# data=requests.get(api_url).json()\n",
        "# data"
      ],
      "execution_count": 58,
      "outputs": []
    },
    {
      "cell_type": "code",
      "metadata": {
        "colab": {
          "base_uri": "https://localhost:8080/"
        },
        "id": "I7ba00S0APlX",
        "outputId": "8f3bc81a-1b85-4c4a-e8ea-463451d8194a"
      },
      "source": [
        "data=requests.get(api_url).json()\n",
        "# print(requests.get(api_url).content)\n",
        "data"
      ],
      "execution_count": 59,
      "outputs": [
        {
          "output_type": "execute_result",
          "data": {
            "text/plain": [
              "{'symbol': 'AAPL',\n",
              " 'companyName': 'Apple Inc',\n",
              " 'primaryExchange': 'OG RMK GSA)STAQ/SEBC EALEDNALLNT(',\n",
              " 'calculationPrice': 'close',\n",
              " 'open': 0,\n",
              " 'openTime': None,\n",
              " 'openSource': 'icfflaoi',\n",
              " 'close': 0,\n",
              " 'closeTime': None,\n",
              " 'closeSource': 'aflciifo',\n",
              " 'high': 0,\n",
              " 'highTime': None,\n",
              " 'highSource': None,\n",
              " 'low': 0,\n",
              " 'lowTime': None,\n",
              " 'lowSource': None,\n",
              " 'latestPrice': 151.6,\n",
              " 'latestSource': 'Close',\n",
              " 'latestTime': 'July 22, 2021',\n",
              " 'latestUpdate': 1699167177228,\n",
              " 'latestVolume': None,\n",
              " 'iexRealtimePrice': 154,\n",
              " 'iexRealtimeSize': 101,\n",
              " 'iexLastUpdated': 1704698288670,\n",
              " 'delayedPrice': None,\n",
              " 'delayedPriceTime': None,\n",
              " 'oddLotDelayedPrice': None,\n",
              " 'oddLotDelayedPriceTime': None,\n",
              " 'extendedPrice': None,\n",
              " 'extendedChange': None,\n",
              " 'extendedChangePercent': None,\n",
              " 'extendedPriceTime': None,\n",
              " 'previousClose': 152.3,\n",
              " 'previousVolume': 75060142,\n",
              " 'change': 1.4,\n",
              " 'changePercent': 0.01006,\n",
              " 'volume': None,\n",
              " 'iexMarketPercent': 20.908668078259826,\n",
              " 'iexVolume': 1002202,\n",
              " 'avgTotalVolume': 91193585,\n",
              " 'iexBidPrice': 0,\n",
              " 'iexBidSize': 0,\n",
              " 'iexAskPrice': 0,\n",
              " 'iexAskSize': 0,\n",
              " 'iexOpen': 149.74,\n",
              " 'iexOpenTime': 1653801695240,\n",
              " 'iexClose': 147.3,\n",
              " 'iexCloseTime': 1679805417307,\n",
              " 'marketCap': 2453674703911,\n",
              " 'peRatio': 33.08,\n",
              " 'week52High': 157,\n",
              " 'week52Low': 92.36,\n",
              " 'ytdChange': 0.12392342907510163,\n",
              " 'lastTradeTime': 1690682853773,\n",
              " 'isUSMarketOpen': False}"
            ]
          },
          "metadata": {
            "tags": []
          },
          "execution_count": 59
        }
      ]
    },
    {
      "cell_type": "code",
      "metadata": {
        "colab": {
          "base_uri": "https://localhost:8080/"
        },
        "id": "8i_U676nBEjQ",
        "outputId": "e9a85eca-37c5-4b5d-f303-ae6862203dc2"
      },
      "source": [
        "data['latestPrice']\n",
        "data['marketCap']"
      ],
      "execution_count": 60,
      "outputs": [
        {
          "output_type": "execute_result",
          "data": {
            "text/plain": [
              "2453674703911"
            ]
          },
          "metadata": {
            "tags": []
          },
          "execution_count": 60
        }
      ]
    },
    {
      "cell_type": "code",
      "metadata": {
        "colab": {
          "base_uri": "https://localhost:8080/",
          "height": 49
        },
        "id": "Co5I-L8oCunL",
        "outputId": "829d8fdb-73a1-49af-b3b5-d397226a868c"
      },
      "source": [
        "my_columns = ['Ticker', 'Price','Market Capitalization', 'Number Of Shares to Buy']\n",
        "final_dataframe = pd.DataFrame(columns = my_columns)\n",
        "final_dataframe\n",
        "# This is the format desgined for the project"
      ],
      "execution_count": 61,
      "outputs": [
        {
          "output_type": "execute_result",
          "data": {
            "text/html": [
              "<div>\n",
              "<style scoped>\n",
              "    .dataframe tbody tr th:only-of-type {\n",
              "        vertical-align: middle;\n",
              "    }\n",
              "\n",
              "    .dataframe tbody tr th {\n",
              "        vertical-align: top;\n",
              "    }\n",
              "\n",
              "    .dataframe thead th {\n",
              "        text-align: right;\n",
              "    }\n",
              "</style>\n",
              "<table border=\"1\" class=\"dataframe\">\n",
              "  <thead>\n",
              "    <tr style=\"text-align: right;\">\n",
              "      <th></th>\n",
              "      <th>Ticker</th>\n",
              "      <th>Price</th>\n",
              "      <th>Market Capitalization</th>\n",
              "      <th>Number Of Shares to Buy</th>\n",
              "    </tr>\n",
              "  </thead>\n",
              "  <tbody>\n",
              "  </tbody>\n",
              "</table>\n",
              "</div>"
            ],
            "text/plain": [
              "Empty DataFrame\n",
              "Columns: [Ticker, Price, Market Capitalization, Number Of Shares to Buy]\n",
              "Index: []"
            ]
          },
          "metadata": {
            "tags": []
          },
          "execution_count": 61
        }
      ]
    },
    {
      "cell_type": "code",
      "metadata": {
        "colab": {
          "base_uri": "https://localhost:8080/",
          "height": 81
        },
        "id": "7q-C6F6rC2_f",
        "outputId": "36507706-b1b1-49b5-c38b-1ebb1d498c08"
      },
      "source": [
        "final_dataframe = final_dataframe.append(\n",
        "                                        pd.Series(['AAPL', \n",
        "                                                   data['latestPrice'], \n",
        "                                                   data['marketCap'], \n",
        "                                                   'N/A'], \n",
        "                                                  index = my_columns), \n",
        "                                        ignore_index = True)\n",
        "final_dataframe\n",
        "# Appending a stock\n",
        "# Similarly we'll get the data for all in sp_500"
      ],
      "execution_count": 62,
      "outputs": [
        {
          "output_type": "execute_result",
          "data": {
            "text/html": [
              "<div>\n",
              "<style scoped>\n",
              "    .dataframe tbody tr th:only-of-type {\n",
              "        vertical-align: middle;\n",
              "    }\n",
              "\n",
              "    .dataframe tbody tr th {\n",
              "        vertical-align: top;\n",
              "    }\n",
              "\n",
              "    .dataframe thead th {\n",
              "        text-align: right;\n",
              "    }\n",
              "</style>\n",
              "<table border=\"1\" class=\"dataframe\">\n",
              "  <thead>\n",
              "    <tr style=\"text-align: right;\">\n",
              "      <th></th>\n",
              "      <th>Ticker</th>\n",
              "      <th>Price</th>\n",
              "      <th>Market Capitalization</th>\n",
              "      <th>Number Of Shares to Buy</th>\n",
              "    </tr>\n",
              "  </thead>\n",
              "  <tbody>\n",
              "    <tr>\n",
              "      <th>0</th>\n",
              "      <td>AAPL</td>\n",
              "      <td>151.6</td>\n",
              "      <td>2453674703911</td>\n",
              "      <td>N/A</td>\n",
              "    </tr>\n",
              "  </tbody>\n",
              "</table>\n",
              "</div>"
            ],
            "text/plain": [
              "  Ticker  Price Market Capitalization Number Of Shares to Buy\n",
              "0   AAPL  151.6         2453674703911                     N/A"
            ]
          },
          "metadata": {
            "tags": []
          },
          "execution_count": 62
        }
      ]
    },
    {
      "cell_type": "code",
      "metadata": {
        "id": "r0QVppRvDEVI"
      },
      "source": [
        "final_dataframe = pd.DataFrame(columns = my_columns)\n",
        "for symbol in sp['Ticker']:\n",
        "    api_url = f'https://sandbox.iexapis.com/stable/stock/{symbol}/quote?token={IEX_CLOUD_API_TOKEN}'\n",
        "    data = requests.get(api_url).json()\n",
        "    final_dataframe = final_dataframe.append(\n",
        "                                        pd.Series([symbol, \n",
        "                                                   data['latestPrice'], \n",
        "                                                   data['marketCap'], \n",
        "                                                   'N/A'], \n",
        "                                                  index = my_columns), \n",
        "                                        ignore_index = True)"
      ],
      "execution_count": 63,
      "outputs": []
    },
    {
      "cell_type": "code",
      "metadata": {
        "colab": {
          "base_uri": "https://localhost:8080/",
          "height": 423
        },
        "id": "pIpQ_NrrDrnP",
        "outputId": "93ff4632-b02e-4ee2-9b36-d301c834ae68"
      },
      "source": [
        "final_dataframe\n",
        "# Now we have the S&P stocks covered"
      ],
      "execution_count": 64,
      "outputs": [
        {
          "output_type": "execute_result",
          "data": {
            "text/html": [
              "<div>\n",
              "<style scoped>\n",
              "    .dataframe tbody tr th:only-of-type {\n",
              "        vertical-align: middle;\n",
              "    }\n",
              "\n",
              "    .dataframe tbody tr th {\n",
              "        vertical-align: top;\n",
              "    }\n",
              "\n",
              "    .dataframe thead th {\n",
              "        text-align: right;\n",
              "    }\n",
              "</style>\n",
              "<table border=\"1\" class=\"dataframe\">\n",
              "  <thead>\n",
              "    <tr style=\"text-align: right;\">\n",
              "      <th></th>\n",
              "      <th>Ticker</th>\n",
              "      <th>Price</th>\n",
              "      <th>Market Capitalization</th>\n",
              "      <th>Number Of Shares to Buy</th>\n",
              "    </tr>\n",
              "  </thead>\n",
              "  <tbody>\n",
              "    <tr>\n",
              "      <th>0</th>\n",
              "      <td>A</td>\n",
              "      <td>157.80</td>\n",
              "      <td>47543721627</td>\n",
              "      <td>N/A</td>\n",
              "    </tr>\n",
              "    <tr>\n",
              "      <th>1</th>\n",
              "      <td>AAL</td>\n",
              "      <td>22.19</td>\n",
              "      <td>13924942505</td>\n",
              "      <td>N/A</td>\n",
              "    </tr>\n",
              "    <tr>\n",
              "      <th>2</th>\n",
              "      <td>AAP</td>\n",
              "      <td>212.98</td>\n",
              "      <td>13947744258</td>\n",
              "      <td>N/A</td>\n",
              "    </tr>\n",
              "    <tr>\n",
              "      <th>3</th>\n",
              "      <td>AAPL</td>\n",
              "      <td>147.20</td>\n",
              "      <td>2503444002088</td>\n",
              "      <td>N/A</td>\n",
              "    </tr>\n",
              "    <tr>\n",
              "      <th>4</th>\n",
              "      <td>ABBV</td>\n",
              "      <td>119.70</td>\n",
              "      <td>215957005926</td>\n",
              "      <td>N/A</td>\n",
              "    </tr>\n",
              "    <tr>\n",
              "      <th>...</th>\n",
              "      <td>...</td>\n",
              "      <td>...</td>\n",
              "      <td>...</td>\n",
              "      <td>...</td>\n",
              "    </tr>\n",
              "    <tr>\n",
              "      <th>500</th>\n",
              "      <td>YUM</td>\n",
              "      <td>122.59</td>\n",
              "      <td>35867377040</td>\n",
              "      <td>N/A</td>\n",
              "    </tr>\n",
              "    <tr>\n",
              "      <th>501</th>\n",
              "      <td>ZBH</td>\n",
              "      <td>162.77</td>\n",
              "      <td>34360506507</td>\n",
              "      <td>N/A</td>\n",
              "    </tr>\n",
              "    <tr>\n",
              "      <th>502</th>\n",
              "      <td>ZBRA</td>\n",
              "      <td>540.39</td>\n",
              "      <td>29530347633</td>\n",
              "      <td>N/A</td>\n",
              "    </tr>\n",
              "    <tr>\n",
              "      <th>503</th>\n",
              "      <td>ZION</td>\n",
              "      <td>52.82</td>\n",
              "      <td>8285512212</td>\n",
              "      <td>N/A</td>\n",
              "    </tr>\n",
              "    <tr>\n",
              "      <th>504</th>\n",
              "      <td>ZTS</td>\n",
              "      <td>201.18</td>\n",
              "      <td>97259022464</td>\n",
              "      <td>N/A</td>\n",
              "    </tr>\n",
              "  </tbody>\n",
              "</table>\n",
              "<p>505 rows × 4 columns</p>\n",
              "</div>"
            ],
            "text/plain": [
              "    Ticker   Price Market Capitalization Number Of Shares to Buy\n",
              "0        A  157.80           47543721627                     N/A\n",
              "1      AAL   22.19           13924942505                     N/A\n",
              "2      AAP  212.98           13947744258                     N/A\n",
              "3     AAPL  147.20         2503444002088                     N/A\n",
              "4     ABBV  119.70          215957005926                     N/A\n",
              "..     ...     ...                   ...                     ...\n",
              "500    YUM  122.59           35867377040                     N/A\n",
              "501    ZBH  162.77           34360506507                     N/A\n",
              "502   ZBRA  540.39           29530347633                     N/A\n",
              "503   ZION   52.82            8285512212                     N/A\n",
              "504    ZTS  201.18           97259022464                     N/A\n",
              "\n",
              "[505 rows x 4 columns]"
            ]
          },
          "metadata": {
            "tags": []
          },
          "execution_count": 64
        }
      ]
    },
    {
      "cell_type": "code",
      "metadata": {
        "id": "R71rewVRDyMq"
      },
      "source": [
        "# Batch API calls are one of the easiest ways to improve the performance of your code.\n",
        "\n",
        "# This is because HTTP requests are typically one of the slowest components of a script.\n",
        "\n",
        "# Also, API providers will often give you discounted rates for using batch API calls since they are easier for the API provider to respond to."
      ],
      "execution_count": null,
      "outputs": []
    },
    {
      "cell_type": "code",
      "metadata": {
        "id": "Zriqsdg3D4R7"
      },
      "source": [
        "def chunks(lst, n):\n",
        "    \"\"\"Yield successive n-sized chunks from lst.\"\"\"\n",
        "    for i in range(0, len(lst), n):\n",
        "        yield lst[i:i + n]"
      ],
      "execution_count": 65,
      "outputs": []
    },
    {
      "cell_type": "code",
      "metadata": {
        "colab": {
          "base_uri": "https://localhost:8080/",
          "height": 423
        },
        "id": "n3Z-urM1D-KC",
        "outputId": "3780ed41-9b2c-4aa1-b74a-c84e40cfa35f"
      },
      "source": [
        "symbol_groups = list(chunks(sp['Ticker'], 100))\n",
        "symbol_strings = []\n",
        "for i in range(0, len(symbol_groups)):\n",
        "    symbol_strings.append(','.join(symbol_groups[i]))\n",
        "#     print(symbol_strings[i])\n",
        "\n",
        "final_dataframe = pd.DataFrame(columns = my_columns)\n",
        "\n",
        "for symbol_string in symbol_strings:\n",
        "#     print(symbol_strings)\n",
        "    batch_api_call_url = f'https://sandbox.iexapis.com/stable/stock/market/batch/?types=quote&symbols={symbol_string}&token={IEX_CLOUD_API_TOKEN}'\n",
        "    data = requests.get(batch_api_call_url).json()\n",
        "    for symbol in symbol_string.split(','):\n",
        "        final_dataframe = final_dataframe.append(\n",
        "                                        pd.Series([symbol, \n",
        "                                                   data[symbol]['quote']['latestPrice'], \n",
        "                                                   data[symbol]['quote']['marketCap'], \n",
        "                                                   'N/A'], \n",
        "                                                  index = my_columns), \n",
        "                                        ignore_index = True)\n",
        "        \n",
        "    \n",
        "final_dataframe"
      ],
      "execution_count": 67,
      "outputs": [
        {
          "output_type": "execute_result",
          "data": {
            "text/html": [
              "<div>\n",
              "<style scoped>\n",
              "    .dataframe tbody tr th:only-of-type {\n",
              "        vertical-align: middle;\n",
              "    }\n",
              "\n",
              "    .dataframe tbody tr th {\n",
              "        vertical-align: top;\n",
              "    }\n",
              "\n",
              "    .dataframe thead th {\n",
              "        text-align: right;\n",
              "    }\n",
              "</style>\n",
              "<table border=\"1\" class=\"dataframe\">\n",
              "  <thead>\n",
              "    <tr style=\"text-align: right;\">\n",
              "      <th></th>\n",
              "      <th>Ticker</th>\n",
              "      <th>Price</th>\n",
              "      <th>Market Capitalization</th>\n",
              "      <th>Number Of Shares to Buy</th>\n",
              "    </tr>\n",
              "  </thead>\n",
              "  <tbody>\n",
              "    <tr>\n",
              "      <th>0</th>\n",
              "      <td>A</td>\n",
              "      <td>154.30</td>\n",
              "      <td>46101197381</td>\n",
              "      <td>N/A</td>\n",
              "    </tr>\n",
              "    <tr>\n",
              "      <th>1</th>\n",
              "      <td>AAL</td>\n",
              "      <td>21.32</td>\n",
              "      <td>13629922108</td>\n",
              "      <td>N/A</td>\n",
              "    </tr>\n",
              "    <tr>\n",
              "      <th>2</th>\n",
              "      <td>AAP</td>\n",
              "      <td>212.12</td>\n",
              "      <td>13873152076</td>\n",
              "      <td>N/A</td>\n",
              "    </tr>\n",
              "    <tr>\n",
              "      <th>3</th>\n",
              "      <td>AAPL</td>\n",
              "      <td>147.10</td>\n",
              "      <td>2554247154884</td>\n",
              "      <td>N/A</td>\n",
              "    </tr>\n",
              "    <tr>\n",
              "      <th>4</th>\n",
              "      <td>ABBV</td>\n",
              "      <td>120.32</td>\n",
              "      <td>211590439759</td>\n",
              "      <td>N/A</td>\n",
              "    </tr>\n",
              "    <tr>\n",
              "      <th>...</th>\n",
              "      <td>...</td>\n",
              "      <td>...</td>\n",
              "      <td>...</td>\n",
              "      <td>...</td>\n",
              "    </tr>\n",
              "    <tr>\n",
              "      <th>500</th>\n",
              "      <td>YUM</td>\n",
              "      <td>121.61</td>\n",
              "      <td>36624533358</td>\n",
              "      <td>N/A</td>\n",
              "    </tr>\n",
              "    <tr>\n",
              "      <th>501</th>\n",
              "      <td>ZBH</td>\n",
              "      <td>163.82</td>\n",
              "      <td>34069886395</td>\n",
              "      <td>N/A</td>\n",
              "    </tr>\n",
              "    <tr>\n",
              "      <th>502</th>\n",
              "      <td>ZBRA</td>\n",
              "      <td>560.47</td>\n",
              "      <td>29798888064</td>\n",
              "      <td>N/A</td>\n",
              "    </tr>\n",
              "    <tr>\n",
              "      <th>503</th>\n",
              "      <td>ZION</td>\n",
              "      <td>51.03</td>\n",
              "      <td>8349335170</td>\n",
              "      <td>N/A</td>\n",
              "    </tr>\n",
              "    <tr>\n",
              "      <th>504</th>\n",
              "      <td>ZTS</td>\n",
              "      <td>204.76</td>\n",
              "      <td>97471994405</td>\n",
              "      <td>N/A</td>\n",
              "    </tr>\n",
              "  </tbody>\n",
              "</table>\n",
              "<p>505 rows × 4 columns</p>\n",
              "</div>"
            ],
            "text/plain": [
              "    Ticker   Price Market Capitalization Number Of Shares to Buy\n",
              "0        A  154.30           46101197381                     N/A\n",
              "1      AAL   21.32           13629922108                     N/A\n",
              "2      AAP  212.12           13873152076                     N/A\n",
              "3     AAPL  147.10         2554247154884                     N/A\n",
              "4     ABBV  120.32          211590439759                     N/A\n",
              "..     ...     ...                   ...                     ...\n",
              "500    YUM  121.61           36624533358                     N/A\n",
              "501    ZBH  163.82           34069886395                     N/A\n",
              "502   ZBRA  560.47           29798888064                     N/A\n",
              "503   ZION   51.03            8349335170                     N/A\n",
              "504    ZTS  204.76           97471994405                     N/A\n",
              "\n",
              "[505 rows x 4 columns]"
            ]
          },
          "metadata": {
            "tags": []
          },
          "execution_count": 67
        }
      ]
    },
    {
      "cell_type": "code",
      "metadata": {
        "colab": {
          "base_uri": "https://localhost:8080/"
        },
        "id": "DIFbGDTJEN6I",
        "outputId": "bd61c51d-decd-41e1-9546-d91018403352"
      },
      "source": [
        "portfolio_size = input(\"Enter the value of your portfolio:\")\n",
        "\n",
        "try:\n",
        "    val = float(portfolio_size)\n",
        "except ValueError:\n",
        "    print(\"That's not a number! \\n Try again:\")\n",
        "    portfolio_size = input(\"Enter the value of your portfolio:\")"
      ],
      "execution_count": 68,
      "outputs": [
        {
          "output_type": "stream",
          "text": [
            "Enter the value of your portfolio:100000000\n"
          ],
          "name": "stdout"
        }
      ]
    },
    {
      "cell_type": "code",
      "metadata": {
        "colab": {
          "base_uri": "https://localhost:8080/",
          "height": 423
        },
        "id": "4IwmJbrZEctk",
        "outputId": "d6ba5712-8eea-4e61-d136-c45148508cc1"
      },
      "source": [
        "position_size = float(portfolio_size) / len(final_dataframe.index)\n",
        "for i in range(0, len(final_dataframe['Ticker'])-1):\n",
        "    final_dataframe.loc[i, 'Number Of Shares to Buy'] = math.floor(position_size / final_dataframe['Price'][i])\n",
        "final_dataframe\n",
        "# Equal Weightage is given and shares will be bought accordingly"
      ],
      "execution_count": 69,
      "outputs": [
        {
          "output_type": "execute_result",
          "data": {
            "text/html": [
              "<div>\n",
              "<style scoped>\n",
              "    .dataframe tbody tr th:only-of-type {\n",
              "        vertical-align: middle;\n",
              "    }\n",
              "\n",
              "    .dataframe tbody tr th {\n",
              "        vertical-align: top;\n",
              "    }\n",
              "\n",
              "    .dataframe thead th {\n",
              "        text-align: right;\n",
              "    }\n",
              "</style>\n",
              "<table border=\"1\" class=\"dataframe\">\n",
              "  <thead>\n",
              "    <tr style=\"text-align: right;\">\n",
              "      <th></th>\n",
              "      <th>Ticker</th>\n",
              "      <th>Price</th>\n",
              "      <th>Market Capitalization</th>\n",
              "      <th>Number Of Shares to Buy</th>\n",
              "    </tr>\n",
              "  </thead>\n",
              "  <tbody>\n",
              "    <tr>\n",
              "      <th>0</th>\n",
              "      <td>A</td>\n",
              "      <td>154.30</td>\n",
              "      <td>46101197381</td>\n",
              "      <td>1283</td>\n",
              "    </tr>\n",
              "    <tr>\n",
              "      <th>1</th>\n",
              "      <td>AAL</td>\n",
              "      <td>21.32</td>\n",
              "      <td>13629922108</td>\n",
              "      <td>9287</td>\n",
              "    </tr>\n",
              "    <tr>\n",
              "      <th>2</th>\n",
              "      <td>AAP</td>\n",
              "      <td>212.12</td>\n",
              "      <td>13873152076</td>\n",
              "      <td>933</td>\n",
              "    </tr>\n",
              "    <tr>\n",
              "      <th>3</th>\n",
              "      <td>AAPL</td>\n",
              "      <td>147.10</td>\n",
              "      <td>2554247154884</td>\n",
              "      <td>1346</td>\n",
              "    </tr>\n",
              "    <tr>\n",
              "      <th>4</th>\n",
              "      <td>ABBV</td>\n",
              "      <td>120.32</td>\n",
              "      <td>211590439759</td>\n",
              "      <td>1645</td>\n",
              "    </tr>\n",
              "    <tr>\n",
              "      <th>...</th>\n",
              "      <td>...</td>\n",
              "      <td>...</td>\n",
              "      <td>...</td>\n",
              "      <td>...</td>\n",
              "    </tr>\n",
              "    <tr>\n",
              "      <th>500</th>\n",
              "      <td>YUM</td>\n",
              "      <td>121.61</td>\n",
              "      <td>36624533358</td>\n",
              "      <td>1628</td>\n",
              "    </tr>\n",
              "    <tr>\n",
              "      <th>501</th>\n",
              "      <td>ZBH</td>\n",
              "      <td>163.82</td>\n",
              "      <td>34069886395</td>\n",
              "      <td>1208</td>\n",
              "    </tr>\n",
              "    <tr>\n",
              "      <th>502</th>\n",
              "      <td>ZBRA</td>\n",
              "      <td>560.47</td>\n",
              "      <td>29798888064</td>\n",
              "      <td>353</td>\n",
              "    </tr>\n",
              "    <tr>\n",
              "      <th>503</th>\n",
              "      <td>ZION</td>\n",
              "      <td>51.03</td>\n",
              "      <td>8349335170</td>\n",
              "      <td>3880</td>\n",
              "    </tr>\n",
              "    <tr>\n",
              "      <th>504</th>\n",
              "      <td>ZTS</td>\n",
              "      <td>204.76</td>\n",
              "      <td>97471994405</td>\n",
              "      <td>N/A</td>\n",
              "    </tr>\n",
              "  </tbody>\n",
              "</table>\n",
              "<p>505 rows × 4 columns</p>\n",
              "</div>"
            ],
            "text/plain": [
              "    Ticker   Price Market Capitalization Number Of Shares to Buy\n",
              "0        A  154.30           46101197381                    1283\n",
              "1      AAL   21.32           13629922108                    9287\n",
              "2      AAP  212.12           13873152076                     933\n",
              "3     AAPL  147.10         2554247154884                    1346\n",
              "4     ABBV  120.32          211590439759                    1645\n",
              "..     ...     ...                   ...                     ...\n",
              "500    YUM  121.61           36624533358                    1628\n",
              "501    ZBH  163.82           34069886395                    1208\n",
              "502   ZBRA  560.47           29798888064                     353\n",
              "503   ZION   51.03            8349335170                    3880\n",
              "504    ZTS  204.76           97471994405                     N/A\n",
              "\n",
              "[505 rows x 4 columns]"
            ]
          },
          "metadata": {
            "tags": []
          },
          "execution_count": 69
        }
      ]
    },
    {
      "cell_type": "code",
      "metadata": {
        "id": "DjWqpPfIEnkY"
      },
      "source": [
        "writer = pd.ExcelWriter('recommended_trades.xlsx', engine='xlsxwriter')\n",
        "final_dataframe.to_excel(writer, sheet_name='Recommended Trades', index = False)"
      ],
      "execution_count": 70,
      "outputs": []
    },
    {
      "cell_type": "code",
      "metadata": {
        "id": "aZyzz_W6Es04"
      },
      "source": [
        "\n",
        "background_color = '#0a0a27'\n",
        "font_color = '#ffffff'\n",
        "\n",
        "string_format = writer.book.add_format(\n",
        "        {\n",
        "            'font_color': font_color,\n",
        "            'bg_color': background_color,\n",
        "            'border': 1\n",
        "        }\n",
        "    )\n",
        "\n",
        "dollar_format = writer.book.add_format(\n",
        "        {\n",
        "            'num_format':'$0.00',\n",
        "            'font_color': font_color,\n",
        "            'bg_color': background_color,\n",
        "            'border': 1\n",
        "        }\n",
        "    )\n",
        "\n",
        "integer_format = writer.book.add_format(\n",
        "        {\n",
        "            'num_format':'0',\n",
        "            'font_color': font_color,\n",
        "            'bg_color': background_color,\n",
        "            'border': 1\n",
        "        }\n",
        "    )"
      ],
      "execution_count": 72,
      "outputs": []
    },
    {
      "cell_type": "code",
      "metadata": {
        "colab": {
          "base_uri": "https://localhost:8080/"
        },
        "id": "21yaIkHfE65O",
        "outputId": "73258669-f40e-4fdc-c853-37b3a5517075"
      },
      "source": [
        "writer.sheets['Recommended Trades'].set_column('B:B', #This tells the method to apply the format to column B\n",
        "                     18, #This tells the method to apply a column width of 18 pixels\n",
        "                     string_format #This applies the format 'string_format' to the column\n",
        "                    )"
      ],
      "execution_count": 73,
      "outputs": [
        {
          "output_type": "execute_result",
          "data": {
            "text/plain": [
              "0"
            ]
          },
          "metadata": {
            "tags": []
          },
          "execution_count": 73
        }
      ]
    },
    {
      "cell_type": "code",
      "metadata": {
        "id": "DjTg5fhzE69a"
      },
      "source": [
        "column_formats = { \n",
        "                    'A': ['Ticker', string_format],\n",
        "                    'B': ['Price', dollar_format],\n",
        "                    'C': ['Market Capitalization', dollar_format],\n",
        "                    'D': ['Number of Shares to Buy', integer_format]\n",
        "                    }\n",
        "\n",
        "for column in column_formats.keys():\n",
        "    writer.sheets['Recommended Trades'].set_column(f'{column}:{column}', 20, column_formats[column][1])\n",
        "    writer.sheets['Recommended Trades'].write(f'{column}1', column_formats[column][0], string_format)"
      ],
      "execution_count": 74,
      "outputs": []
    },
    {
      "cell_type": "code",
      "metadata": {
        "id": "zhyAxy_cFFyq"
      },
      "source": [
        "writer.save()"
      ],
      "execution_count": 75,
      "outputs": []
    }
  ]
}